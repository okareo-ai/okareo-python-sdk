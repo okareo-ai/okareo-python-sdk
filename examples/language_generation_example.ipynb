{
 "cells": [
  {
   "cell_type": "markdown",
   "metadata": {},
   "source": [
    "## From Zero Instructions:\n",
    "\n",
    "1. Install Okareo's Python SDK: &nbsp;&nbsp;  `pip install okareo`  &nbsp;&nbsp;  (just run the cell below)\n",
    "\n",
    "2. Get your API token from [https://app.okareo.com/](https://app.okareo.com/).  \n",
    "   (Note: You will need to register first.)\n",
    "\n",
    "3. Go directly to the **\"2. Create your API Token\"** link on the landing page. You can skip all other steps.\n",
    "\n",
    "4. Set the environment variable `OKAREO_API_KEY` to your generated API token.\n",
    "\n",
    "5. Add your OpenAI key.  OpenAI is only needed for example purposes.  If you have your own model, you can substitute those in it's place."
   ]
  },
  {
   "cell_type": "code",
   "execution_count": null,
   "metadata": {},
   "outputs": [],
   "source": [
    "%pip install okareo\n",
    "%pip install transformers"
   ]
  },
  {
   "cell_type": "code",
   "execution_count": null,
   "metadata": {},
   "outputs": [],
   "source": [
    "# We have a set of 15 food items that we would like the language model to explain\n",
    "# We upload these texts into a scenario set, so that they can be used in a test run in the next cell\n",
    "import os\n",
    "from okareo import Okareo\n",
    "\n",
    "OKAREO_API_KEY = os.environ[\"OKAREO_API_KEY\"]\n",
    "okareo = Okareo(OKAREO_API_KEY)\n",
    "\n",
    "scenario = okareo.upload_scenario_set(file_path='./text_generation_example.jsonl', scenario_name=\"Text generation\")\n",
    "print(scenario) # use scenario set id in output for the next step"
   ]
  },
  {
   "cell_type": "code",
   "execution_count": null,
   "metadata": {},
   "outputs": [],
   "source": [
    "# Evaluate the scenario and model combination and then get a link to the results on Okareo\n",
    "import random\n",
    "import string\n",
    "from transformers import pipeline\n",
    "\n",
    "from okareo import Okareo\n",
    "from okareo_api_client.models import ScenarioSetCreate, ScenarioSetResponse, SeedData\n",
    "from okareo.model_under_test import CustomModel\n",
    "from okareo_api_client.models.test_run_type import TestRunType\n",
    "\n",
    "random_string = ''.join(random.choices(string.ascii_letters, k=5))\n",
    "mut_name = f\"Text Generation Model - {random_string}\"\n",
    "eval_name = f\"Text Generation Run - {random_string}\"\n",
    "model_name = \"gpt2\" # Insert any model from huggingface you would like to use\n",
    "\n",
    "class LanguageGenerationModel(CustomModel):\n",
    "    initial_phrase = \"Hi, I am a fruit and vegetable expert.\"\n",
    "    generator = pipeline('text-generation', model=model_name, max_length=100)\n",
    "\n",
    "    # Since we are using this model locally, we create a custom model class to invoke GPT-2\n",
    "    def invoke(self, input_value):        \n",
    "        output_text = self.generator(f\"{self.initial_phrase} {input_value} are\")[0]['generated_text']\n",
    "        return output_text[len(self.initial_phrase) + 1:], \"Model response: success\"\n",
    "\n",
    "model_under_test = okareo.register_model(\n",
    "    name=mut_name,\n",
    "    model=LanguageGenerationModel(\n",
    "        name=model_name\n",
    "    ),\n",
    ")\n",
    "\n",
    "evaluation = model_under_test.run_test(\n",
    "    name=eval_name,\n",
    "    scenario=scenario,\n",
    "    test_run_type=TestRunType.NL_GENERATION,\n",
    "    calculate_metrics=True,\n",
    "    metrics_kwargs={\n",
    "        \"dimensions\": [\"conciseness\", \"uniqueness\", \"coherence\", \"fluency\"]\n",
    "    }\n",
    ")\n",
    "\n",
    "print(evaluation.app_link)"
   ]
  }
 ],
 "metadata": {
  "kernelspec": {
   "display_name": ".venv",
   "language": "python",
   "name": "python3"
  },
  "language_info": {
   "codemirror_mode": {
    "name": "ipython",
    "version": 3
   },
   "file_extension": ".py",
   "mimetype": "text/x-python",
   "name": "python",
   "nbconvert_exporter": "python",
   "pygments_lexer": "ipython3",
   "version": "3.11.2"
  }
 },
 "nbformat": 4,
 "nbformat_minor": 2
}
