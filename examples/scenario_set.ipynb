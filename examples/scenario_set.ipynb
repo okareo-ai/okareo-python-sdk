{
 "cells": [
  {
   "cell_type": "markdown",
   "metadata": {},
   "source": [
    "## Instructions:\n",
    "\n",
    "1. Install Okareo's Python SDK: &nbsp;&nbsp;  `pip install okareo`  &nbsp;&nbsp;  (just run the cell below)\n",
    "\n",
    "2. Get your API token from [https://app.okareo.com/](https://app.okareo.com/).  \n",
    "   (Note: You will need to register first.)\n",
    "\n",
    "3. Go directly to the **\"2. Create your API Token\"** link on the landing page. You can skip all other steps.\n",
    "\n",
    "4. Set the environment variable `OKAREO_API_KEY` to your generated API token.\n"
   ]
  },
  {
   "cell_type": "code",
   "execution_count": null,
   "metadata": {},
   "outputs": [],
   "source": [
    "%pip install okareo "
   ]
  },
  {
   "cell_type": "code",
   "execution_count": 3,
   "metadata": {},
   "outputs": [
    {
     "name": "stdout",
     "output_type": "stream",
     "text": [
      "scenario_id='99ea7101-3c27-4e40-b246-69e3197b952c' project_id=2 time_created='2023-10-16T19:42:16.880496' type='REPHRASE_INVARIANT' tags=['seed:9132caab-b2b7-4119-b820-68f892241202'] name='my test scenario set' seed_data=[SeedData(input='example question or statement', result='example result'), SeedData(input='tell me about your capability', result='example result'), SeedData(input='what are your limitations', result='example result')] scenario_input=['Sample query or declaration', \"Can you describe what you're capable of?\", 'Can you tell me your constraints?']\n"
     ]
    }
   ],
   "source": [
    "import os\n",
    "from okareo import Okareo\n",
    "from okareo_api_client.models import ScenarioSetCreate, ScenarioSetResponse, SeedData\n",
    "\n",
    "\n",
    "OKAREO_API_KEY = os.environ[\"OKAREO_API_KEY\"]\n",
    "okareo = Okareo(OKAREO_API_KEY)\n",
    "\n",
    "\n",
    "scenario_set_create = ScenarioSetCreate(name=\"my test scenario set\",\n",
    "                                        number_examples=1,\n",
    "                                        seed_data=[SeedData(input=\"example question or statement\", result=\"example result\"),\n",
    "                                                   SeedData(input=\"tell me about your capability\", result=\"example result\"),\n",
    "                                                   SeedData(input=\"what are your limitations\", result=\"example result\")])\n",
    "\n",
    "response = okareo.create_scenario_set(scenario_set_create)\n",
    "\n",
    "print(response)\n",
    "\n",
    "\n"
   ]
  }
 ],
 "metadata": {
  "kernelspec": {
   "display_name": "Python 3",
   "language": "python",
   "name": "python3"
  },
  "language_info": {
   "codemirror_mode": {
    "name": "ipython",
    "version": 3
   },
   "file_extension": ".py",
   "mimetype": "text/x-python",
   "name": "python",
   "nbconvert_exporter": "python",
   "pygments_lexer": "ipython3",
   "version": "3.11.2"
  }
 },
 "nbformat": 4,
 "nbformat_minor": 2
}
