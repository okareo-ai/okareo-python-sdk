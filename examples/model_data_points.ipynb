{
 "cells": [
  {
   "cell_type": "markdown",
   "metadata": {},
   "source": [
    "<a target=\"_blank\" href=\"https://colab.research.google.com/github/okareo-ai/okareo-python-sdk/blob/main/examples/summarization_eval.ipynb\">\n",
    "  <img src=\"https://colab.research.google.com/assets/colab-badge.svg\" alt=\"Open In Colab\"/>\n",
    "</a>\n",
    "\n",
    "## From Zero Instructions:\n",
    "\n",
    "1. Install Okareo's Python SDK: &nbsp;&nbsp;  `pip install okareo`  &nbsp;&nbsp;\n",
    "\n",
    "2. Get your API token from [https://app.okareo.com/](https://app.okareo.com/).  \n",
    "   (Note: You will need to register first.)\n",
    "\n",
    "3. Go directly to the **\"2. Create your API Token\"** link on the landing page in above app. You can skip all other steps.\n",
    "\n",
    "4. Set the environment variable `OKAREO_API_KEY` to your generated API token."
   ]
  },
  {
   "cell_type": "code",
   "execution_count": null,
   "metadata": {},
   "outputs": [],
   "source": [
    "OKAREO_API_KEY = \"<YOUR-API-KEY>\""
   ]
  },
  {
   "cell_type": "code",
   "execution_count": null,
   "metadata": {},
   "outputs": [],
   "source": [
    "%pip install okareo"
   ]
  },
  {
   "cell_type": "code",
   "execution_count": 3,
   "metadata": {},
   "outputs": [
    {
     "name": "stdout",
     "output_type": "stream",
     "text": [
      "invocation data point #1: True\n",
      "feedback data point #2: True\n",
      "https://app.okareo.com/project/394c2c12-be7a-47a6-911b-d6c673bc543b/model/75095956-1e88-49ea-8c2d-ae5575133962\n"
     ]
    }
   ],
   "source": [
    "import random\n",
    "import string\n",
    "from okareo import Okareo\n",
    "from datetime import datetime\n",
    "\n",
    "okareo = Okareo(OKAREO_API_KEY)\n",
    "\n",
    "# Register a model with a unique name - for example the UUID of custom tuned model, or vectordb index+namespace name\n",
    "# by convention, we call the \"model_under_test\" , the \"mut\"\n",
    "random_string = ''.join(random.choices(string.ascii_letters, k=5))\n",
    "model_under_test = okareo.register_model(name=\"notebook-datapoint-example-\"+random_string)\n",
    "\n",
    "\n",
    "# example of adding a model trace data point \n",
    "data_point = model_under_test.add_data_point_async(\n",
    "    input_obj = { \"input\": \"value\" },  # json structure of model input \n",
    "    input_datetime = str(datetime.now()), # start of model invocation time stamp\n",
    "    result_obj = { \"result\": \"value\" },  # json structure of model result\n",
    "    result_datetime = str(datetime.now()), # should be end of model invocation time stamp\n",
    "\n",
    "    # context_token is a unique identifier tying together multiple related model invocations \n",
    "    # for example, could be a single user interaction, a dialogue, or user session  \n",
    "    # in some cases there would be many data points, but a single data point with feedback value per single context_token/dialogue ID\n",
    "    context_token = \"<YOUR_CONTEXT_TOKEN>\",\n",
    ")\n",
    "print (\"invocation data point #1:\", data_point)\n",
    "\n",
    "# example of adding a model trace data point with feedback \n",
    "data_point = model_under_test.add_data_point_async(\n",
    "    # context_token connects this data point to previous ones in the same user interaction, dialogue, etc\n",
    "    context_token = \"<YOUR_CONTEXT_TOKEN>\",\n",
    "    feedback = 0.5, # user feedback on a 0 (negative) to 1 (positive) scale\n",
    "\n",
    "    tags = [\"intent_classification_v3\", \"env:test\"]  # tags are optional, they help identify scope of the data collection: use case, environment, etc.\n",
    ")\n",
    "print (\"feedback data point #2:\", data_point)\n",
    "\n",
    "print(model_under_test.app_link)"
   ]
  }
 ],
 "metadata": {
  "kernelspec": {
   "display_name": "Python 3",
   "language": "python",
   "name": "python3"
  },
  "language_info": {
   "codemirror_mode": {
    "name": "ipython",
    "version": 3
   },
   "file_extension": ".py",
   "mimetype": "text/x-python",
   "name": "python",
   "nbconvert_exporter": "python",
   "pygments_lexer": "ipython3",
   "version": "3.11.2"
  },
  "orig_nbformat": 4
 },
 "nbformat": 4,
 "nbformat_minor": 2
}
