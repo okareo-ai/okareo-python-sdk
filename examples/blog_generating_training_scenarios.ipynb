{
 "cells": [
  {
   "cell_type": "markdown",
   "metadata": {},
   "source": [
    "<a target=\"_blank\" href=\"https://colab.research.google.com/github/okareo-ai/okareo-python-sdk/blob/main/examples/generating_classification_scenarios.ipynb\">\n",
    "  <img src=\"https://colab.research.google.com/assets/colab-badge.svg\" alt=\"Open In Colab\"/>\n",
    "</a>\n",
    "\n",
    "## Generate synthetic data to use in classification\n",
    "\n",
    "1. Install Okareo's Python SDK: &nbsp;&nbsp;  `pip install okareo`  &nbsp;&nbsp; \n",
    "\n",
    "2. Get your API token from [https://app.okareo.com/](https://app.okareo.com/).  \n",
    "   (Note: You will need to register first.)\n",
    "\n",
    "3. Go directly to the API settings by clicking the button under **\"1. Create API Token\"**. You can skip all other steps.\n",
    "\n",
    "4. Add your generated API token to the cell below. 👇\n"
   ]
  },
  {
   "cell_type": "code",
   "execution_count": 1,
   "metadata": {},
   "outputs": [],
   "source": [
    "OKAREO_API_KEY = \"YOUR_API_KEY\""
   ]
  },
  {
   "cell_type": "code",
   "execution_count": null,
   "metadata": {},
   "outputs": [],
   "source": [
    "%pip install okareo "
   ]
  },
  {
   "cell_type": "markdown",
   "metadata": {},
   "source": [
    "This notebook generates the data that is used to train the model in this notebook:\n",
    "\n",
    "<a target=\"_blank\" href=\"https://colab.research.google.com/github/okareo-ai/okareo-python-sdk/blob/main/examples/classification_eval_training.ipynb\">\n",
    "  <img src=\"https://colab.research.google.com/assets/colab-badge.svg\" alt=\"Open In Colab\"/>\n",
    "</a>"
   ]
  },
  {
   "cell_type": "markdown",
   "metadata": {},
   "source": [
    "We start by manually creating a set of seed questions.\n",
    "\n",
    "Those seed questions are used to create a Scenario Set in Okareo."
   ]
  },
  {
   "cell_type": "code",
   "execution_count": 2,
   "metadata": {},
   "outputs": [
    {
     "name": "stdout",
     "output_type": "stream",
     "text": [
      "Warning: The name for a scenario must be unique.             The scenario name Blog Training Set is already in use,             and has been returned from this call.\n",
      "https://app.okareo.com/project/57101004-ed10-4301-bc64-5576f2aa3513/scenario/98f37d03-7e59-41fe-af3a-b9b0fda7513a\n"
     ]
    }
   ],
   "source": [
    "from okareo import Okareo\n",
    "import os\n",
    "import tempfile\n",
    "import json\n",
    "\n",
    "okareo = Okareo(OKAREO_API_KEY)\n",
    "\n",
    "# Start with sample data for complaints, returns, and pricing\n",
    "rows = [\n",
    "    {\"input\": \"How often do you update your prices based on market trends?\", \"result\": \"pricing\"},\n",
    "    {\"input\": \"Why is the price of Product X higher than that of your competitor?\", \"result\": \"pricing\"},\n",
    "    {\"input\": \"Can you explain the price difference between similar products from different brands?\", \"result\": \"pricing\"},\n",
    "    {\"input\": \"Do you offer price matching with other online retailers?\", \"result\": \"pricing\"},\n",
    "    {\"input\": \"Could you provide more details on the bulk pricing for office supplies?\", \"result\": \"pricing\"},\n",
    "    {\"input\": \"What factors influence the pricing changes for home appliances?\", \"result\": \"pricing\"},\n",
    "    {\"input\": \"How do I initiate a return for a recently purchased item?\", \"result\": \"returns\"},\n",
    "    {\"input\": \"What is the time frame within which I can return an unwanted product?\", \"result\": \"returns\"},\n",
    "    {\"input\": \"Is there a fee associated with returning an item?\", \"result\": \"returns\"},\n",
    "    {\"input\": \"What documentation do I need to provide for a return request?\", \"result\": \"returns\"},\n",
    "    {\"input\": \"Can I return an item if I've lost the original packaging?\", \"result\": \"returns\"},\n",
    "    {\"input\": \"Are there any exceptions to your return policy for clearance items?\", \"result\": \"returns\"},\n",
    "    {\"input\": \"How can I track the status of my return?\", \"result\": \"returns\"},\n",
    "    {\"input\": \"Can I return online purchases to a physical store location?\", \"result\": \"returns\"},\n",
    "    {\"input\": \"How do I file a formal complaint about a negative experience with customer service?\", \"result\": \"complaints\"},\n",
    "    {\"input\": \"Why haven't I received a resolution for my previous complaint?\", \"result\": \"complaints\"},\n",
    "    {\"input\": \"What steps are taken aftr I submit a complaint?\", \"result\": \"complaints\"},\n",
    "    {\"input\": \"How long does it take for the complaints team to respond?\", \"result\": \"complaints\"},\n",
    "    {\"input\": \"How can I provide detailed feedback about the service I received?\", \"result\": \"complaints\"},\n",
    "    {\"input\": \"I bought a shirt online, but it doesn't fit. How can I return it?\", \"result\": \"returns\"},\n",
    "    {\"input\": \"I want to return a gift I received. How can I do that without the receipt?\", \"result\": \"returns\"},\n",
    "    {\"input\": \"The product I ordered is not what I received. How can I return it?\", \"result\": \"returns\"},\n",
    "    {\"input\": \"I'm not satisfied with the quality of the product. Can I return it?\", \"result\": \"returns\"},\n",
    "    {\"input\": \"The item I bought is faulty. How do I return it?\", \"result\": \"returns\"},\n",
    "    {\"input\": \"I received my order late and no longer need it. Can I return it?\", \"result\": \"returns\"},\n",
    "    {\"input\": \"The product I ordered doesn't match the description. Can I return it?\", \"result\": \"returns\"},\n",
    "    {\"input\": \"The product is not working as expected, I'd like to return it?\", \"result\": \"returns\",},\n",
    "    {\"input\": \"I had a poor experience with your customer service. Who can I talk to about this?\", \"result\": \"complaints\"},\n",
    "    {\"input\": \"My product broke after just a week of use. How can this issue be resolved?\", \"result\": \"complaints\"},\n",
    "    {\"input\": \"I'm not happy with the service I received. Who can I complain to?\", \"result\": \"complaints\"},\n",
    "    {\"input\": \"I have a problem with the delivery of my order. Who can I speak to?\", \"result\": \"complaints\"},\n",
    "    {\"input\": \"I received a faulty product. Who can I complain to?\", \"result\": \"complaints\"},\n",
    "    {\"input\": \"I have a complaint about a staff member. Who should I contact?\", \"result\": \"complaints\"},\n",
    "    {\"input\": \"My order was missing an item. Who can I speak to about this?\", \"result\": \"complaints\"},\n",
    "    {\"input\": \"Why has the price of your product increased recently?\", \"result\": \"pricing\"},\n",
    "    {\"input\": \"I found a similar product cheaper elsewhere. Do you offer price matching?\", \"result\": \"pricing\"},\n",
    "    {\"input\": \"Why is there a difference in price between your online and in-store products?\", \"result\": \"pricing\"},\n",
    "    {\"input\": \"Can you explain the pricing of your subscription service?\", \"result\": \"pricing\"},\n",
    "    {\"input\": \"Do you offer a lower price for bulk purchases?\", \"result\": \"pricing\"},\n",
    "    {\"input\": \"Why is the price of the product different in my country?\", \"result\": \"pricing\"},\n",
    "    {\"input\": \"Do you have a price guarantee policy?\", \"result\": \"pricing\"},\n",
    "    {\"input\": \"Why did the price of the item in my cart change?\", \"result\": \"pricing\"},\n",
    "]\n",
    "\n",
    "temp_dir = tempfile.gettempdir()\n",
    "file_path = os.path.join(temp_dir, \"seed_data_sample.jsonl\")\n",
    "\n",
    "# Write to a .jsonl file\n",
    "with open(file_path, \"w+\") as file:\n",
    "    for row in rows:\n",
    "        file.write(json.dumps(row) + '\\n')\n",
    "    \n",
    "\n",
    "# Create scenario set with seed data file\n",
    "source_scenario = okareo.upload_scenario_set(file_path=file_path, scenario_name=\"Blog Training Set\")\n",
    "print(source_scenario.app_link)\n",
    "\n",
    "# make sure to clean up tmp file\n",
    "os.remove(file_path)"
   ]
  },
  {
   "cell_type": "markdown",
   "metadata": {},
   "source": [
    "From the seed Scenario Set, we create a new Scenario Set using Okareo's generator."
   ]
  },
  {
   "cell_type": "code",
   "execution_count": 3,
   "metadata": {},
   "outputs": [
    {
     "name": "stdout",
     "output_type": "stream",
     "text": [
      "https://app.okareo.com/project/57101004-ed10-4301-bc64-5576f2aa3513/scenario/53d63adc-1d52-45fa-841a-f5b418109bec\n"
     ]
    }
   ],
   "source": [
    "from okareo_api_client.models import ScenarioType\n",
    "# Use scenario set id or scenario set object from previous step as source for generation\n",
    "rephrased_scenario = okareo.generate_scenarios(\n",
    "    source_scenario=source_scenario,\n",
    "    name=\"Blog - train - rephrase\",\n",
    "    number_examples=3,\n",
    "    generation_type=ScenarioType.REPHRASE_INVARIANT\n",
    ")\n",
    "\n",
    "print(rephrased_scenario.app_link)"
   ]
  },
  {
   "cell_type": "code",
   "execution_count": 8,
   "metadata": {},
   "outputs": [],
   "source": [
    "import pandas as pd\n",
    "dps = okareo.get_scenario_data_points(\"53d63adc-1d52-45fa-841a-f5b418109bec\")\n",
    "formatted = [{\"input\": dp.input_, \"result\": dp.result} for dp in dps]\n",
    "pd.DataFrame(formatted).to_csv(\"blog_data/rephrased.csv\", index=False)"
   ]
  },
  {
   "cell_type": "code",
   "execution_count": 4,
   "metadata": {},
   "outputs": [
    {
     "name": "stdout",
     "output_type": "stream",
     "text": [
      "https://app.okareo.com/project/57101004-ed10-4301-bc64-5576f2aa3513/scenario/eb11b2ef-ea0e-492d-bfe2-6a6ccdf1bfbc\n"
     ]
    }
   ],
   "source": [
    "spelling_scenario = okareo.generate_scenarios(\n",
    "    source_scenario=source_scenario,\n",
    "    name=\"Blog - train - spelling\",\n",
    "    number_examples=3,\n",
    "    generation_type=ScenarioType.COMMON_MISSPELLINGS\n",
    ")\n",
    "\n",
    "print(spelling_scenario.app_link)"
   ]
  },
  {
   "cell_type": "code",
   "execution_count": 9,
   "metadata": {},
   "outputs": [],
   "source": [
    "dps = okareo.get_scenario_data_points(\"eb11b2ef-ea0e-492d-bfe2-6a6ccdf1bfbc\")\n",
    "formatted = [{\"input\": dp.input_, \"result\": dp.result} for dp in dps]\n",
    "pd.DataFrame(formatted).to_csv(\"blog_data/spelling.csv\", index=False)"
   ]
  },
  {
   "cell_type": "code",
   "execution_count": 5,
   "metadata": {},
   "outputs": [
    {
     "name": "stdout",
     "output_type": "stream",
     "text": [
      "https://app.okareo.com/project/57101004-ed10-4301-bc64-5576f2aa3513/scenario/f32ab75a-388c-4782-96d6-e8a43f6e02a8\n"
     ]
    }
   ],
   "source": [
    "contr_scenario = okareo.generate_scenarios(\n",
    "    source_scenario=source_scenario,\n",
    "    name=\"Blog - train - contractions\",\n",
    "    number_examples=3,\n",
    "    generation_type=ScenarioType.COMMON_CONTRACTIONS\n",
    ")\n",
    "\n",
    "print(contr_scenario.app_link)"
   ]
  },
  {
   "cell_type": "code",
   "execution_count": 10,
   "metadata": {},
   "outputs": [],
   "source": [
    "dps = okareo.get_scenario_data_points(\"f32ab75a-388c-4782-96d6-e8a43f6e02a8\")\n",
    "formatted = [{\"input\": dp.input_, \"result\": dp.result} for dp in dps]\n",
    "pd.DataFrame(formatted).to_csv(\"blog_data/contr.csv\", index=False)"
   ]
  },
  {
   "cell_type": "code",
   "execution_count": 6,
   "metadata": {},
   "outputs": [
    {
     "name": "stdout",
     "output_type": "stream",
     "text": [
      "https://app.okareo.com/project/57101004-ed10-4301-bc64-5576f2aa3513/scenario/6f756046-f5eb-4e56-b19e-2ebee0902b27\n"
     ]
    }
   ],
   "source": [
    "cond_scenario = okareo.generate_scenarios(\n",
    "    source_scenario=source_scenario,\n",
    "    name=\"Blog - train - conditional\",\n",
    "    number_examples=3,\n",
    "    generation_type=ScenarioType.CONDITIONAL\n",
    ")\n",
    "\n",
    "print(cond_scenario.app_link)"
   ]
  },
  {
   "cell_type": "code",
   "execution_count": 11,
   "metadata": {},
   "outputs": [],
   "source": [
    "dps = okareo.get_scenario_data_points(\"6f756046-f5eb-4e56-b19e-2ebee0902b27\")\n",
    "formatted = [{\"input\": dp.input_, \"result\": dp.result} for dp in dps]\n",
    "pd.DataFrame(formatted).to_csv(\"blog_data/cond.csv\", index=False)"
   ]
  },
  {
   "cell_type": "code",
   "execution_count": null,
   "metadata": {},
   "outputs": [],
   "source": []
  }
 ],
 "metadata": {
  "kernelspec": {
   "display_name": "Python 3",
   "language": "python",
   "name": "python3"
  },
  "language_info": {
   "codemirror_mode": {
    "name": "ipython",
    "version": 3
   },
   "file_extension": ".py",
   "mimetype": "text/x-python",
   "name": "python",
   "nbconvert_exporter": "python",
   "pygments_lexer": "ipython3",
   "version": "3.12.4"
  }
 },
 "nbformat": 4,
 "nbformat_minor": 2
}
