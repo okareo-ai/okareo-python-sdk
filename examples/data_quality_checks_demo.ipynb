{
 "cells": [
  {
   "cell_type": "markdown",
   "metadata": {},
   "source": [
    "# Data Quality Check Demo\n",
    "\n",
    "This notebook shows you how to improve the quality of your synthetic data with Data Quality Checks."
   ]
  },
  {
   "cell_type": "code",
   "execution_count": 1,
   "metadata": {},
   "outputs": [],
   "source": [
    "import os\n",
    "from okareo import Okareo\n",
    "\n",
    "OKAREO_API_KEY = os.environ['OKAREO_API_KEY']\n",
    "okareo = Okareo(api_key=OKAREO_API_KEY)"
   ]
  },
  {
   "cell_type": "markdown",
   "metadata": {},
   "source": [
    "First, upload a seed scenario."
   ]
  },
  {
   "cell_type": "code",
   "execution_count": 2,
   "metadata": {},
   "outputs": [],
   "source": [
    "# get seed scenario data points\n",
    "seed_scenario = okareo.upload_scenario_set(\n",
    "    scenario_name=\"WebBizz Articles\",\n",
    "    file_path=\"webbizz_10_articles.jsonl\", # name already exists\n",
    ")\n",
    "seed_sdp = okareo.get_scenario_data_points(seed_scenario.scenario_id)\n",
    "seed_sdp_by_id = {dp.id: {'input': dp.input_, 'label': dp.result} for dp in seed_sdp}"
   ]
  },
  {
   "cell_type": "markdown",
   "metadata": {},
   "source": [
    "Next, generate questions from the seed scenario using our reverse question generator."
   ]
  },
  {
   "cell_type": "code",
   "execution_count": 4,
   "metadata": {},
   "outputs": [],
   "source": [
    "from okareo_api_client.models.scenario_set_generate import ScenarioSetGenerate, ScenarioType\n",
    "\n",
    "vanilla_generate_request = ScenarioSetGenerate(\n",
    "    name=\"Webbizz Articles - REVERSE_QUESTION\",\n",
    "    source_scenario_id=seed_scenario.scenario_id,\n",
    "    number_examples=1,\n",
    "    generation_type=ScenarioType.TEXT_REVERSE_QUESTION,\n",
    ")\n",
    "\n",
    "vanilla_generated_scenario = okareo.generate_scenario_set(vanilla_generate_request)\n",
    "vanilla_generated_sdp = okareo.get_scenario_data_points(vanilla_generated_scenario.scenario_id)"
   ]
  },
  {
   "cell_type": "code",
   "execution_count": 6,
   "metadata": {},
   "outputs": [
    {
     "name": "stdout",
     "output_type": "stream",
     "text": [
      "How can I get personalized product recommendations and faster checkout processes when shopping?\n",
      "What measures does WebBizz use to ensure the security of customer data?\n",
      "What kind of benefits can members of a special program at a shopping service typically get?\n",
      "Can you explain how a Wishlist feature might benefit me when shopping online?\n",
      "How can I return a product I’m not satisfied with?\n",
      "Where can I find helpful guides to troubleshoot my technical issues?\n",
      "How can I sort products to find what I need quickly on WebBizz?\n",
      "Does WebBizz offer any exclusive deals or sales on their products?\n",
      "What's one of the perks of subscribing to a newsletter?\n",
      "What actions can I take to support a more environmentally-friendly lifestyle through my shopping choices?\n"
     ]
    }
   ],
   "source": [
    "for data in vanilla_generated_scenario.scenario_data:\n",
    "    print(data.input_)"
   ]
  },
  {
   "cell_type": "markdown",
   "metadata": {},
   "source": [
    "Some of these questions are not specific to WebBizz or its product offerings.\n",
    "\n",
    "Let's try to make more specific questions by defining a data quality check to filter our synthetic data."
   ]
  },
  {
   "cell_type": "code",
   "execution_count": 7,
   "metadata": {},
   "outputs": [],
   "source": [
    "from okareo.checks import CheckOutputType\n",
    "\n",
    "generate_request = ScenarioSetGenerate(\n",
    "    name=\"Webbizz Articles - REVERSE_QUESTION (specific)\",\n",
    "    source_scenario_id=seed_scenario.scenario_id,\n",
    "    number_examples=1,\n",
    "    generation_type=ScenarioType.TEXT_REVERSE_QUESTION,\n",
    "    checks=[\n",
    "        {\n",
    "            \"name\": \"reverse_qa_specific\",\n",
    "            \"description\": \"Check if the question is specific enough to the business described in the context.\",\n",
    "            \"check_config\": {\n",
    "                \"prompt_template\": \"Return True if the Question is specific to the business described in the given Context. Return False if the Question can be answered based on general information/common knowledge or doesn't relate to the specific business.\\n\\Context: {input}\\n\\nQuestion: {generation}\\n\\nAnswer: \",\n",
    "                \"type\": CheckOutputType.PASS_FAIL.value,\n",
    "            },\n",
    "        }\n",
    "    ]\n",
    ")\n",
    "generated_scenario = okareo.generate_scenario_set(generate_request)\n",
    "\n",
    "generated_sdp = okareo.get_scenario_data_points(generated_scenario.scenario_id)"
   ]
  },
  {
   "cell_type": "markdown",
   "metadata": {},
   "source": [
    "This generation took slightly longer for two reasons:\n",
    "- We user the results of the `PASS_FAIL` check to filter the generated data. So we generate extra data to get the desired number of data points post-filtering.\n",
    "- We apply the `checks` to each generated row. For `ModelBasedChecks`, this can be time consuming.\n",
    "\n",
    "Let's take a look at the generated data that was filtered by our `reverse_qa_specific` check."
   ]
  },
  {
   "cell_type": "code",
   "execution_count": 8,
   "metadata": {},
   "outputs": [
    {
     "name": "stdout",
     "output_type": "stream",
     "text": [
      "What measures does WebBizz use to ensure the security of customer data?\n",
      "How does WebBizz handle product delivery and inform customers about the status of their orders?\n",
      "What kind of membership acknowledges loyal customers at WebBizz and what benefits does it offer?\n",
      "Are there any pre-sale opportunities for members of any special program at WebBizz?\n",
      "How long do I have to return an item if I'm not happy with my purchase?\n",
      "What benefits do I get from joining the WebBizz Rewards program?\n",
      "Where can I find helpful guides to troubleshoot my technical issues?\n",
      "Is there a place that provides steps for resolving common user problems?\n",
      "How can I easily find products based on their ratings and popularity?\n",
      "What options do I have for sorting products to make my shopping experience smoother?\n",
      "What kind of special promotions can I find on WebBizz?\n",
      "How does WebBizz make sure to offer a variety of products?\n",
      "Do subscribers often receive special offers or discounts?\n",
      "What actions does WebBizz take to support sustainability?\n",
      "Where can I find more information about WebBizz's green initiatives?\n"
     ]
    }
   ],
   "source": [
    "for data in generated_scenario.scenario_data:\n",
    "    print(data.input_)"
   ]
  },
  {
   "cell_type": "markdown",
   "metadata": {},
   "source": [
    "More of these rows either mention \"WebBizz\" directly or ask a more specific questiona about WebBizz.\n",
    "\n",
    "We can also view the \"failed\" rows that were filtered out by the check we created."
   ]
  },
  {
   "cell_type": "code",
   "execution_count": 9,
   "metadata": {},
   "outputs": [
    {
     "name": "stdout",
     "output_type": "stream",
     "text": [
      "How can I get help if I have a question about my order at an online store?\n",
      "What are the benefits of logging into an online shopping account before making a purchase?\n",
      "Can you explain how a feature that lets you save products for later helps with shopping?\n",
      "What are the benefits of using a system that offers special promotions on items you've shown interest in?\n",
      "What are some benefits of subscribing to a newsletter?\n"
     ]
    }
   ],
   "source": [
    "for data in generated_scenario.failed_data:\n",
    "    print(data.input_)"
   ]
  },
  {
   "cell_type": "markdown",
   "metadata": {},
   "source": [
    "These rows contain vague language that is not specific to WebBizz or its offerings, so the check seems to be doing a good job of filtering our synthetic data."
   ]
  },
  {
   "cell_type": "markdown",
   "metadata": {},
   "source": [
    "## Combining Checks\n",
    "\n",
    "We can use more than one check to filter our data. Let's try generating data using the predefined `consistency` check with the custom check we created above."
   ]
  },
  {
   "cell_type": "code",
   "execution_count": 10,
   "metadata": {},
   "outputs": [],
   "source": [
    "consistency_request = ScenarioSetGenerate(\n",
    "    name=\"Webbizz Articles - REVERSE_QUESTION (two checks)\",\n",
    "    source_scenario_id=seed_scenario.scenario_id,\n",
    "    number_examples=1,\n",
    "    generation_type=ScenarioType.TEXT_REVERSE_QUESTION,\n",
    "    checks=[\n",
    "        \"consistency\", # predefined check\n",
    "        \"reverse_qa_specific\", # custom check from before\n",
    "    ]\n",
    ")\n",
    "consistency_scenario = okareo.generate_scenario_set(consistency_request)"
   ]
  },
  {
   "cell_type": "markdown",
   "metadata": {},
   "source": [
    "Let's look at the filtered data along with the corresponding check values. The filtered data should have:\n",
    "- Relatively high `consistency` (compared to the `failed_data`) AND\n",
    "- `reverse_qa_specific == True`"
   ]
  },
  {
   "cell_type": "code",
   "execution_count": 13,
   "metadata": {},
   "outputs": [
    {
     "name": "stdout",
     "output_type": "stream",
     "text": [
      "#0 - Is there a way to get faster checkout processes?\n",
      "#0 - {'consistency': 4.814105667168666, 'reverse_qa_specific': True}\n",
      "#1 - Are there any pre-sale opportunities for members of any special program at WebBizz?\n",
      "#1 - {'consistency': 4.403081052062947, 'reverse_qa_specific': True}\n",
      "#2 - Can you explain how the Wishlist feature helps in managing my shopping preferences over time?\n",
      "#2 - {'consistency': 3.4808619371200806, 'reverse_qa_specific': True}\n",
      "#3 - What benefits does the Wishlist offer when I'm ready to make a purchase?\n",
      "#3 - {'consistency': 3.6777785409306993, 'reverse_qa_specific': True}\n",
      "#4 - How long do I have to return an item if I'm not happy with my purchase?\n",
      "#4 - {'consistency': 4.888951533476209, 'reverse_qa_specific': True}\n",
      "#5 - Where can I find helpful guides to troubleshoot my technical issues?\n",
      "#5 - {'consistency': 4.9627813717214435, 'reverse_qa_specific': True}\n",
      "#6 - What kind of special promotions can I find on WebBizz?\n",
      "#6 - {'consistency': 4.739095341213009, 'reverse_qa_specific': True}\n",
      "#7 - What kind of packaging does WebBizz use for their products?\n",
      "#7 - {'consistency': 3.0053533315381404, 'reverse_qa_specific': True}\n"
     ]
    }
   ],
   "source": [
    "for i, data in enumerate(consistency_scenario.scenario_data):\n",
    "    print(f\"#{i} - {data.input_}\")\n",
    "    print(f\"#{i} - {data.meta_data.additional_properties['checks']}\")"
   ]
  },
  {
   "cell_type": "markdown",
   "metadata": {},
   "source": [
    "Conversely, the failed data should have:\n",
    "- Relatively low `consistency` (compared to the `scenario_data`) OR\n",
    "- `reverse_qa_specific == False`"
   ]
  },
  {
   "cell_type": "code",
   "execution_count": 14,
   "metadata": {},
   "outputs": [
    {
     "name": "stdout",
     "output_type": "stream",
     "text": [
      "#0 - How can I get help if I have questions about my order?\n",
      "#0 - {'consistency': 1.1178213432462065, 'reverse_qa_specific': True}\n",
      "#1 - What measures does WebBizz use to ensure the security of customer data?\n",
      "#1 - {'consistency': 2.6760806297729336, 'reverse_qa_specific': True}\n",
      "#2 - How does WebBizz handle product delivery and inform customers about the status of their orders?\n",
      "#2 - {'consistency': 1.8538589990873957, 'reverse_qa_specific': True}\n",
      "#3 - What kind of membership acknowledges loyal customers at WebBizz and what benefits does it offer?\n",
      "#3 - {'consistency': 2.5772645245427177, 'reverse_qa_specific': True}\n",
      "#4 - What benefits do I get from joining the WebBizz Rewards program?\n",
      "#4 - {'consistency': 2.7965437382454956, 'reverse_qa_specific': True}\n",
      "#5 - Is there a place that provides steps for resolving common user problems?\n",
      "#5 - {'consistency': 2.649361166317781, 'reverse_qa_specific': True}\n",
      "#6 - How can I sort products to find what I need quickly on an online shop?\n",
      "#6 - {'consistency': 2.9991617436970563, 'reverse_qa_specific': False}\n",
      "#7 - What options might I use to search through a website's product collections smoothly?\n",
      "#7 - {'consistency': 4.978138393689484, 'reverse_qa_specific': False}\n",
      "#8 - How does WebBizz make sure to offer a variety of products?\n",
      "#8 - {'consistency': 2.883850812353793, 'reverse_qa_specific': True}\n",
      "#9 - What kind of benefits can one expect from becoming a subscriber to your services?\n",
      "#9 - {'consistency': 2.070582115238654, 'reverse_qa_specific': True}\n",
      "#10 - Are there any perks for being part of your community, aside from regular updates?\n",
      "#10 - {'consistency': 2.47224844700276, 'reverse_qa_specific': True}\n",
      "#11 - How can I find out more about a company's efforts to be eco-friendly?\n",
      "#11 - {'consistency': 3.1826536294971213, 'reverse_qa_specific': False}\n"
     ]
    }
   ],
   "source": [
    "for i, data in enumerate(consistency_scenario.failed_data):\n",
    "    print(f\"#{i} - {data.input_}\")\n",
    "    print(f\"#{i} - {data.meta_data.additional_properties['checks']}\")"
   ]
  },
  {
   "cell_type": "markdown",
   "metadata": {},
   "source": [
    "We can see that either the `consistency` is low (in this case, less than 3) or the `reverse_qa_specific` field is `False`.\n",
    "\n",
    "You can use Okareo's predefined checks or your own custom checks to improve the quality of your synthetic data!"
   ]
  }
 ],
 "metadata": {
  "kernelspec": {
   "display_name": "dev",
   "language": "python",
   "name": "python3"
  },
  "language_info": {
   "codemirror_mode": {
    "name": "ipython",
    "version": 3
   },
   "file_extension": ".py",
   "mimetype": "text/x-python",
   "name": "python",
   "nbconvert_exporter": "python",
   "pygments_lexer": "ipython3",
   "version": "3.11.5"
  }
 },
 "nbformat": 4,
 "nbformat_minor": 2
}
