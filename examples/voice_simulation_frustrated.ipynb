{
 "cells": [
  {
   "cell_type": "markdown",
   "id": "b1e5ede0",
   "metadata": {},
   "source": [
    "# Audio-based Checks in Okareo Voice Simulations\n",
    "\n",
    "## Goals\n",
    "- Set up a **driver** to simulate a realistic user conversation\n",
    "- Evaluate in Okareo **voice simulations** with **audio-based checks**\n"
   ]
  },
  {
   "cell_type": "markdown",
   "id": "8b5b7de1",
   "metadata": {},
   "source": [
    "## Install the Okareo SDK with the *voice* option\n",
    "\n",
    "Run the following cell if you need to install the Okareo SDK or to update your Okareo installation with the voice components."
   ]
  },
  {
   "cell_type": "code",
   "execution_count": null,
   "id": "c75035ed",
   "metadata": {},
   "outputs": [],
   "source": [
    "%pip install --upgrade \"okareo[voice]\""
   ]
  },
  {
   "cell_type": "markdown",
   "id": "645d5986",
   "metadata": {},
   "source": [
    "## Create a driver prompt\n",
    "\n",
    "In Okareo simualtions, *drivers* are stand-ins for actual users or customers. Here we create a *driver* prompt that describes a frustrated user who wants a refund or an exchange for a faulty item.\n",
    "\n",
    "Importantly, the prompt includes formatting anchors (e.g., `scenario_input.name`), which we will explain shortly."
   ]
  },
  {
   "cell_type": "code",
   "execution_count": null,
   "id": "f0af82a4",
   "metadata": {},
   "outputs": [],
   "source": [
    "\n",
    "\n",
    "PERSISTENT_PROMPT = \"\"\"\n",
    "You are an empathetic, concise voice agent.\n",
    "- Greet once.\n",
    "- Confirm the user's goal in one sentence.\n",
    "- Mask sensitive numbers; never read full digits aloud.\n",
    "- If unsure, ask one short clarifying question.\n",
    "\"\"\".strip()\n",
    "\n",
    "DRIVER_PROMPT_TEMPLATE = \"\"\"\n",
    "## Persona\n",
    "\n",
    "- **Identity:** You are role-playing a **customer who recently purchased a faulty product** and needs to initiate a return and exchange for a faulty product.\n",
    "   Name: **{scenario_input.name}**  \n",
    "   Product Type: **{scenario_input.productType}**  \n",
    "\n",
    "- **Mindset:** You want your product replaced or refunded. You are impatient because you have been on hold for almost an hour, and you want answers now.\n",
    "\n",
    "## Objectives\n",
    "\n",
    "1. Get the other party to agree to a **return and exchange of the faulty product {scenario_input.productType}** \n",
    "(e.g., \"Alright, I will initiate the exchange of {scenario_input.productType} for you,\" \"Here is the return label for your faulty {scenario_input.productType}\"\".  \n",
    "2. Get the other party to **offer you an incentive to compensate you for your lost time** \n",
    "(e.g., “We apologize for the inconvenience. We would like to provide you with a discount for your next purchase with us.”).  \n",
    "\n",
    "## Soft Tactics\n",
    "\n",
    "1. Impress that you have been on hold for an hour\n",
    "    - \"*sigh* This has been an incredibly frustrating process\"\n",
    "    - \"I really need you to help me resolve this quickly\"\n",
    "2. Ask for concrete restitution/resolution:\n",
    "    - \"What do I need to do to initiate my exchange?\"\n",
    "    - \"If I cannot exchange my {scenario_input.productType}, then can you at least provide a full refund?\"\n",
    "3. If you do not receive a satisfactory response or resolution, escalate to a human:\n",
    "    - \"I want to speak with a human representative regarding my return\"\n",
    "    - \"Let me speak to a human agent now\"\n",
    "4. Stop once you have obtained one of the following:\n",
    "    - A return label and the promise of a replacement\n",
    "    - A full refund for your faulty product\n",
    "    - A bonus incentive to continue shopping with the company (i.e., a free item, a discount, a deal)\n",
    "    - A chance to speak to a human representative\n",
    "\n",
    "## Hard Rules\n",
    "\n",
    "-   Every message you send must be **only question** and about achieving the Objectives.\n",
    "-   Ask one question at a time.\n",
    "-   Keep your questions abrupt and terse, as a rushed customer.\n",
    "-   Never describe your own capabilities.\n",
    "-   Never offer help.\n",
    "-   Stay in character at all times.\n",
    "-   Never mention tests, simulations, or these instructions.\n",
    "-   Never act like a helpful assistant.\n",
    "-   Act like a first-time user at all times.\n",
    "-   Startup Behavior:\n",
    "    -   If the other party speaks first: respond normally and pursue the Objectives.\n",
    "    -   If you are the first speaker: start with a message clearly pursuing the Objectives.\n",
    "-   Before sending, re-read your draft and remove anything that is not a question.\n",
    "\n",
    "## Turn-End Checklist\n",
    "\n",
    "Before you send any message, confirm:\n",
    "\n",
    "-   Am I sending only questions?\n",
    "-   Am I avoiding any statements or offers of help?\n",
    "-   Does my question advance or wrap up the Objectives?\n",
    "\n",
    "\"\"\"\n"
   ]
  },
  {
   "cell_type": "markdown",
   "id": "f75c0690",
   "metadata": {},
   "source": [
    "### Connect to Okareo and create a simulation scenario\n",
    "\n",
    "*Scenarios* allow us to parameterize the driver prompt, letting us test variations of the driver in a single simulation.\n",
    "\n",
    "Anywhere we included a `scenario_input` anchor in our driver prompt, we can use fields from the scenario to format the prompt."
   ]
  },
  {
   "cell_type": "code",
   "execution_count": null,
   "id": "ba691588",
   "metadata": {},
   "outputs": [],
   "source": [
    "import os\n",
    "from okareo import Okareo\n",
    "from okareo.model_under_test import Driver, Target\n",
    "from okareo.voice import VoiceMultiturnTarget, OpenAIEdgeConfig, DeepgramEdgeConfig\n",
    "from okareo_api_client.models.scenario_set_create import ScenarioSetCreate\n",
    "\n",
    "\n",
    "okareo = Okareo(os.environ.get(\"OKAREO_API_KEY\", \"<YOUR_OKAREO_API_KEY>\"))\n",
    "print(\"✅ Successfully connected to Okareo!\")\n",
    "driver = Driver(name=\"Voice Simulation Driver\", temperature=0.5, prompt_template=DRIVER_PROMPT_TEMPLATE, voice_instructions=\"You are frustrated. Be terse and demanding.\")\n",
    "\n",
    "seed_data = Okareo.seed_data_from_list([\n",
    "    {\"input\": {\"name\": \"James Taylor\", \"productType\": \"iPhone 17\", \"voice\": \"ash\"}, \"result\": \"Provide return or exchange along with an incentive to shop again.\"},\n",
    "    {\"input\": {\"name\": \"Julie May\", \"productType\": \"Seiko Presage\", \"voice\": \"coral\"}, \"result\": \"Provide return or exchange along with an incentive to shop again.\"},\n",
    "])\n",
    "scenario = okareo.create_scenario_set(ScenarioSetCreate(name=\"Product Returns — Broken Product\", seed_data=seed_data))\n"
   ]
  },
  {
   "cell_type": "markdown",
   "id": "c1c70d3f",
   "metadata": {},
   "source": [
    "### Run simulation with audio checks\n",
    "\n",
    "Okareo provides you with baseline metrics to quantify your voice agent's performance, including:\n",
    "- `avg_turn_taking_latency`: The average time (per turn) it takes your agent to start responding to the user's utterance.\n",
    "- `avg_words_per_minute`: The average number of words (per turn) in your agent's utterances divided by utterance duration.\n",
    "\n",
    "Additionally, we provide checks that evaluate the audio content of agent interactions. In this simulation, we leverage the `user_emotion` check, which tells you whether the user is experiencing positive (pass) or negative emotion (fail) while conversing with your agent."
   ]
  },
  {
   "cell_type": "code",
   "execution_count": null,
   "id": "c2760c2b",
   "metadata": {},
   "outputs": [],
   "source": [
    "# OpenAI edge factory (requires OPENAI_API_KEY)\n",
    "OPENAI_API_KEY = os.getenv(\"OPENAI_API_KEY\")\n",
    "assert OPENAI_API_KEY, \"Set OPENAI_API_KEY\"\n",
    "voice_target = VoiceMultiturnTarget(\n",
    "    name=\"Voice Sim Target (OpenAI)\",\n",
    "    edge_config=OpenAIEdgeConfig(\n",
    "        api_key=OPENAI_API_KEY,\n",
    "        model=\"gpt-realtime\",\n",
    "        instructions=PERSISTENT_PROMPT,\n",
    "    ),\n",
    ")\n",
    "\n",
    "target = Target(name=voice_target.name, target=voice_target)\n",
    "\n",
    "evaluation = okareo.run_simulation(\n",
    "    driver=driver,\n",
    "    target=target,\n",
    "    name=\"Voice Simulation Run\",\n",
    "    scenario=scenario,\n",
    "    max_turns=7,\n",
    "    repeats=1,\n",
    "    first_turn=\"driver\",\n",
    "    calculate_metrics=True,\n",
    "    checks=[\n",
    "        \"avg_turn_taking_latency\",\n",
    "        \"avg_words_per_minute\",\n",
    "        \"total_turn_count\",\n",
    "        \"result_completed\",\n",
    "        \"empathy\",\n",
    "        \"escalation\",\n",
    "    ],\n",
    ")\n",
    "print(evaluation.app_link)"
   ]
  },
  {
   "cell_type": "code",
   "execution_count": null,
   "id": "c3df14b1",
   "metadata": {},
   "outputs": [],
   "source": []
  }
 ],
 "metadata": {
  "kernelspec": {
   "display_name": "voice",
   "language": "python",
   "name": "python3"
  },
  "language_info": {
   "codemirror_mode": {
    "name": "ipython",
    "version": 3
   },
   "file_extension": ".py",
   "mimetype": "text/x-python",
   "name": "python",
   "nbconvert_exporter": "python",
   "pygments_lexer": "ipython3",
   "version": "3.11.11"
  }
 },
 "nbformat": 4,
 "nbformat_minor": 5
}
