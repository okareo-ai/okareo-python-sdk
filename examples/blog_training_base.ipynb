{
 "cells": [
  {
   "cell_type": "code",
   "execution_count": 28,
   "metadata": {},
   "outputs": [],
   "source": [
    "# Import pandas for data processing\n",
    "import pandas as pd\n",
    "\n",
    "data = pd.read_csv(\"blog_data/training.csv\")\n",
    "\n",
    "# Convert the \"result\" column to numeric classes\n",
    "data[\"label\"] = data[\"result\"].map({\"complaints\": 2, \"returns\": 1, \"pricing\": 0})"
   ]
  },
  {
   "cell_type": "code",
   "execution_count": 29,
   "metadata": {},
   "outputs": [],
   "source": [
    "test_data = pd.read_csv(\"blog_data/testing.csv\")\n",
    "\n",
    "# Convert the \"result\" column to numeric classes\n",
    "test_data[\"label\"] = test_data[\"result\"].map({\"complaints\": 2, \"returns\": 1, \"pricing\": 0})"
   ]
  },
  {
   "cell_type": "code",
   "execution_count": 30,
   "metadata": {},
   "outputs": [
    {
     "data": {
      "text/plain": [
       "42"
      ]
     },
     "execution_count": 30,
     "metadata": {},
     "output_type": "execute_result"
    }
   ],
   "source": [
    "len(data)"
   ]
  },
  {
   "cell_type": "code",
   "execution_count": 31,
   "metadata": {},
   "outputs": [
    {
     "data": {
      "text/html": [
       "<div>\n",
       "<style scoped>\n",
       "    .dataframe tbody tr th:only-of-type {\n",
       "        vertical-align: middle;\n",
       "    }\n",
       "\n",
       "    .dataframe tbody tr th {\n",
       "        vertical-align: top;\n",
       "    }\n",
       "\n",
       "    .dataframe thead th {\n",
       "        text-align: right;\n",
       "    }\n",
       "</style>\n",
       "<table border=\"1\" class=\"dataframe\">\n",
       "  <thead>\n",
       "    <tr style=\"text-align: right;\">\n",
       "      <th></th>\n",
       "      <th>input</th>\n",
       "      <th>result</th>\n",
       "      <th>label</th>\n",
       "    </tr>\n",
       "  </thead>\n",
       "  <tbody>\n",
       "    <tr>\n",
       "      <th>0</th>\n",
       "      <td>How often do you update your prices based on m...</td>\n",
       "      <td>pricing</td>\n",
       "      <td>0</td>\n",
       "    </tr>\n",
       "    <tr>\n",
       "      <th>1</th>\n",
       "      <td>Why is the price of Product X higher than that...</td>\n",
       "      <td>pricing</td>\n",
       "      <td>0</td>\n",
       "    </tr>\n",
       "    <tr>\n",
       "      <th>2</th>\n",
       "      <td>Can you explain the price difference between s...</td>\n",
       "      <td>pricing</td>\n",
       "      <td>0</td>\n",
       "    </tr>\n",
       "    <tr>\n",
       "      <th>3</th>\n",
       "      <td>Do you offer price matching with other online ...</td>\n",
       "      <td>pricing</td>\n",
       "      <td>0</td>\n",
       "    </tr>\n",
       "    <tr>\n",
       "      <th>4</th>\n",
       "      <td>Could you provide more details on the bulk pri...</td>\n",
       "      <td>pricing</td>\n",
       "      <td>0</td>\n",
       "    </tr>\n",
       "  </tbody>\n",
       "</table>\n",
       "</div>"
      ],
      "text/plain": [
       "                                               input   result  label\n",
       "0  How often do you update your prices based on m...  pricing      0\n",
       "1  Why is the price of Product X higher than that...  pricing      0\n",
       "2  Can you explain the price difference between s...  pricing      0\n",
       "3  Do you offer price matching with other online ...  pricing      0\n",
       "4  Could you provide more details on the bulk pri...  pricing      0"
      ]
     },
     "execution_count": 31,
     "metadata": {},
     "output_type": "execute_result"
    }
   ],
   "source": [
    "data.head()"
   ]
  },
  {
   "cell_type": "code",
   "execution_count": 9,
   "metadata": {},
   "outputs": [
    {
     "name": "stderr",
     "output_type": "stream",
     "text": [
      "/Users/stefanbroecker/miniforge3/envs/nli/lib/python3.12/site-packages/tqdm/auto.py:21: TqdmWarning: IProgress not found. Please update jupyter and ipywidgets. See https://ipywidgets.readthedocs.io/en/stable/user_install.html\n",
      "  from .autonotebook import tqdm as notebook_tqdm\n",
      "Some weights of DistilBertForSequenceClassification were not initialized from the model checkpoint at distilbert-base-uncased and are newly initialized: ['classifier.bias', 'classifier.weight', 'pre_classifier.bias', 'pre_classifier.weight']\n",
      "You should probably TRAIN this model on a down-stream task to be able to use it for predictions and inference.\n"
     ]
    }
   ],
   "source": [
    "# Load a DistilBERT model and tokenizer\n",
    "from transformers import AutoTokenizer, DistilBertForSequenceClassification\n",
    "\n",
    "tokenizer = AutoTokenizer.from_pretrained(\"distilbert-base-uncased\")\n",
    "model = DistilBertForSequenceClassification.from_pretrained(\"distilbert-base-uncased\", problem_type=\"multi_label_classification\", num_labels=3)"
   ]
  },
  {
   "cell_type": "code",
   "execution_count": 10,
   "metadata": {},
   "outputs": [],
   "source": [
    "# Load libraries for PyTorch\n",
    "import torch\n",
    "from torch.utils.data import DataLoader\n",
    "\n",
    "# Split the data into training and validation sets\n",
    "train_data = data.sample(frac=0.8)\n",
    "val_data = data.drop(train_data.index)\n",
    "\n",
    "# Create a custom dataset class for the text data\n",
    "class TextDataset(torch.utils.data.Dataset):\n",
    "    def __init__(self, data, tokenizer):\n",
    "        self.data = data\n",
    "        self.tokenizer = tokenizer\n",
    "\n",
    "    def __len__(self):\n",
    "        return len(self.data)\n",
    "\n",
    "    def __getitem__(self, idx):\n",
    "        # Get the text and label for the given index\n",
    "        text = self.data.iloc[idx][\"input\"]\n",
    "        label = self.data.iloc[idx][\"label\"]\n",
    "\n",
    "        # Tokenize the text\n",
    "        encoding = self.tokenizer(text, return_tensors=\"pt\", padding=\"max_length\", truncation=True, max_length=512)\n",
    "\n",
    "        # Return the input IDs, attention mask, and label (reshape the input IDs and attention mask to remove an unneeded dimension)\n",
    "        return encoding.input_ids.squeeze(), encoding.attention_mask.squeeze(), label\n",
    "\n",
    "# Create Dataset objects for the training and validation sets\n",
    "train_dataset = TextDataset(train_data, tokenizer)\n",
    "val_dataset = TextDataset(val_data, tokenizer)\n",
    "test_dataset = TextDataset(test_data, tokenizer)\n",
    "\n",
    "# Create DataLoader objects for the training and validation sets\n",
    "train_loader = DataLoader(train_dataset, batch_size=8, shuffle=True, drop_last=True)\n",
    "val_loader = DataLoader(val_dataset, batch_size=8)\n",
    "test_loader = DataLoader(test_dataset, batch_size=8)"
   ]
  },
  {
   "cell_type": "code",
   "execution_count": 11,
   "metadata": {},
   "outputs": [],
   "source": [
    "# An optimizer for the model\n",
    "optimizer = torch.optim.AdamW(model.parameters(), lr=5e-5)\n",
    "\n",
    "# One epoch of training\n",
    "def train(loader, model, optimizer):\n",
    "    # Set the model to training mode\n",
    "    model.train()\n",
    "    print(\"Training...\")\n",
    "    losses = []\n",
    "    for input_ids, attention_mask, labels in loader:\n",
    "        optimizer.zero_grad()\n",
    "        # One-hot encode the labels\n",
    "        oh_labels = torch.nn.functional.one_hot(labels, num_classes=3).to(torch.float32)\n",
    "        # Pass the input IDs, attention mask, and one-hot labels to the model and get the loss\n",
    "        loss = model(input_ids=input_ids, attention_mask=attention_mask, labels=oh_labels).loss\n",
    "        # Backpropagate the loss\n",
    "        loss.backward()\n",
    "        # Update the model parameters\n",
    "        optimizer.step()\n",
    "        # Track losses\n",
    "        losses.append(loss.item())\n",
    "    return losses\n",
    "\n",
    "# One epoch of validation\n",
    "def validate(loader, model, epoch):\n",
    "    # Set the model to evaluation mode\n",
    "    model.eval()\n",
    "    print(\"Validating...\")\n",
    "    # Disable gradient calculations (not needed for validation)\n",
    "    with torch.no_grad():\n",
    "        correct = 0\n",
    "        total = 0\n",
    "        losses = []\n",
    "        for input_ids, attention_mask, labels in loader:\n",
    "            # One-hot encode the labels\n",
    "            oh_labels = torch.nn.functional.one_hot(labels, num_classes=3).to(torch.float32)\n",
    "            # Pass the input IDs and attention mask to the model and get the logits and loss\n",
    "            output = model(input_ids=input_ids, attention_mask=attention_mask, labels=oh_labels)\n",
    "            logits = output.logits\n",
    "            loss = output.loss\n",
    "            # Get the predicted labels\n",
    "            predictions = torch.argmax(logits, dim=1)\n",
    "            # Track accuracy\n",
    "            correct += (predictions == labels).sum().item()\n",
    "            total += len(labels)\n",
    "            # Track losses\n",
    "            losses.append(loss.item())\n",
    "        accuracy = correct / total\n",
    "        print(f\"Epoch {epoch}, Validation Accuracy: {accuracy}\")\n",
    "    \n",
    "    return losses"
   ]
  },
  {
   "cell_type": "code",
   "execution_count": 12,
   "metadata": {},
   "outputs": [
    {
     "name": "stdout",
     "output_type": "stream",
     "text": [
      "Training...\n",
      "Validating...\n",
      "Epoch 0, Validation Accuracy: 0.25\n",
      "Training...\n",
      "Validating...\n",
      "Epoch 1, Validation Accuracy: 0.375\n",
      "Training...\n",
      "Validating...\n",
      "Epoch 2, Validation Accuracy: 0.625\n",
      "Training...\n",
      "Validating...\n",
      "Epoch 3, Validation Accuracy: 0.75\n",
      "Training...\n",
      "Validating...\n",
      "Epoch 4, Validation Accuracy: 0.75\n",
      "Training...\n",
      "Validating...\n",
      "Epoch 5, Validation Accuracy: 0.75\n",
      "Training...\n",
      "Validating...\n",
      "Epoch 6, Validation Accuracy: 0.875\n",
      "Training...\n",
      "Validating...\n",
      "Epoch 7, Validation Accuracy: 1.0\n",
      "Training...\n",
      "Validating...\n",
      "Epoch 8, Validation Accuracy: 1.0\n",
      "Training...\n",
      "Validating...\n",
      "Epoch 9, Validation Accuracy: 1.0\n",
      "Training...\n",
      "Validating...\n",
      "Epoch 10, Validation Accuracy: 1.0\n",
      "Training...\n",
      "Validating...\n",
      "Epoch 11, Validation Accuracy: 0.875\n",
      "Training...\n",
      "Validating...\n",
      "Epoch 12, Validation Accuracy: 0.875\n",
      "Training...\n",
      "Validating...\n",
      "Epoch 13, Validation Accuracy: 1.0\n",
      "Training...\n",
      "Validating...\n",
      "Epoch 14, Validation Accuracy: 1.0\n"
     ]
    },
    {
     "data": {
      "image/png": "[encoded data removed]",
      "text/plain": [
       "<Figure size 640x480 with 1 Axes>"
      ]
     },
     "metadata": {},
     "output_type": "display_data"
    }
   ],
   "source": [
    "# Import matplotlib for plotting\n",
    "import matplotlib.pyplot as plt\n",
    "import numpy as np\n",
    "\n",
    "# Train the model for 3 epochs\n",
    "train_losses = []\n",
    "val_losses = []\n",
    "for epoch in range(15):\n",
    "    # Train the model for one epoch\n",
    "    train_loss = train(train_loader, model, optimizer)\n",
    "    train_loss = np.mean(train_loss)\n",
    "    train_losses.append(train_loss)\n",
    "    # Validate the model\n",
    "    val_loss = validate(val_loader, model, epoch)\n",
    "    val_loss = np.mean(val_loss)\n",
    "    val_losses.append(val_loss)\n",
    "\n",
    "# Plot the losses\n",
    "plt.plot(train_losses, label=\"Training Loss\")\n",
    "plt.plot(val_losses, label=\"Validation Loss\")\n",
    "plt.title(f\"Total Loss\")\n",
    "plt.show()"
   ]
  },
  {
   "cell_type": "code",
   "execution_count": 17,
   "metadata": {},
   "outputs": [
    {
     "data": {
      "image/png": "[encoded data removed]",
      "text/plain": [
       "<Figure size 640x480 with 1 Axes>"
      ]
     },
     "metadata": {},
     "output_type": "display_data"
    }
   ],
   "source": [
    "plt.plot(train_losses, label=\"Training Loss\")\n",
    "plt.plot(val_losses, label=\"Validation Loss\")\n",
    "plt.legend()\n",
    "plt.title(f\"Loss\")\n",
    "plt.xlabel(\"Epoch\")\n",
    "plt.show()"
   ]
  },
  {
   "cell_type": "code",
   "execution_count": 19,
   "metadata": {},
   "outputs": [],
   "source": [
    "# Save the model locally\n",
    "model.save_pretrained(\"blog_model_base\")"
   ]
  },
  {
   "cell_type": "code",
   "execution_count": null,
   "metadata": {},
   "outputs": [],
   "source": []
  }
 ],
 "metadata": {
  "kernelspec": {
   "display_name": "nli",
   "language": "python",
   "name": "python3"
  },
  "language_info": {
   "codemirror_mode": {
    "name": "ipython",
    "version": 3
   },
   "file_extension": ".py",
   "mimetype": "text/x-python",
   "name": "python",
   "nbconvert_exporter": "python",
   "pygments_lexer": "ipython3",
   "version": "3.12.4"
  }
 },
 "nbformat": 4,
 "nbformat_minor": 2
}
