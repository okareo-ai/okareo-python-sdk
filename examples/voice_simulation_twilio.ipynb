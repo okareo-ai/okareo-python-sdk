{
 "cells": [
  {
   "cell_type": "markdown",
   "metadata": {},
   "source": [
    "# Twilio Phone Line Voice Testing\n",
    "\n",
    "Test voice agents over actual phone lines using Twilio.\n",
    "\n",
    "\n",
    "## Prerequisites\n",
    "\n",
    "```bash\n",
    "pip install \"okareo[voice]\" pyngrok twilio\n",
    "```\n",
    "\n",
    "For outbound calls, you need:\n",
    "- Twilio Account SID\n",
    "- Twilio Auth Token\n",
    "- Twilio phone number"
   ]
  },
  {
   "cell_type": "code",
   "execution_count": null,
   "metadata": {},
   "outputs": [],
   "source": [
    "%pip install --upgrade \"okareo[voice]\" pyngrok twilio"
   ]
  },
  {
   "cell_type": "code",
   "execution_count": 2,
   "metadata": {},
   "outputs": [],
   "source": [
    "import logging\n",
    "\n",
    "# Configure the root logger\n",
    "logging.basicConfig(\n",
    "    handlers=[\n",
    "        logging.StreamHandler()  # Log to the console\n",
    "    ]\n",
    ")\n",
    "\n",
    "# Get the logger for the specific package\n",
    "voice_logger = logging.getLogger('okareo.voice')\n",
    "\n",
    "# Set the logging level for the specific package\n",
    "voice_logger.setLevel(logging.DEBUG)"
   ]
  },
  {
   "cell_type": "markdown",
   "metadata": {},
   "source": [
    "## Test 1: Outbound Agent Testing (No Credentials Needed)\n",
    "\n",
    "Test an outbound voice agent (one that makes calls). Credentials NOT required!"
   ]
  },
  {
   "cell_type": "code",
   "execution_count": null,
   "metadata": {},
   "outputs": [],
   "source": [
    "import os\n",
    "import asyncio\n",
    "from okareo import Okareo\n",
    "from okareo.voice import RealtimeClient, TwilioEdgeConfig\n",
    "\n",
    "# Initialize\n",
    "okareo = Okareo(os.getenv(\"OKAREO_API_KEY\"))\n",
    "OPENAI_API_KEY = os.getenv(\"OPENAI_API_KEY\")\n",
    "print(\"✅ Connected to Okareo\")\n",
    "\n",
    "# Create Twilio edge config - NO CREDENTIALS NEEDED for outbound agent testing!\n",
    "config = TwilioEdgeConfig(\n",
    "    server_port=8080,\n",
    "    use_ngrok=True\n",
    ")\n",
    "\n",
    "# Create edge and client\n",
    "edge = config.create()\n",
    "client = RealtimeClient(edge=edge, okareo=okareo, asr_tts_api_key=OPENAI_API_KEY)\n",
    "\n",
    "# Connect - this starts server + ngrok\n",
    "await client.connect()\n",
    "\n",
    "print(\"\\n\" + \"=\"*60)\n",
    "print(\"📞 Server is running!\")\n",
    "print(\"\\nTo test: Call your Twilio number\")\n",
    "print(\"(Configure Twilio webhook to the ngrok URL above)\")\n",
    "print(\"=\"*60 + \"\\n\")"
   ]
  },
  {
   "cell_type": "code",
   "execution_count": null,
   "metadata": {},
   "outputs": [],
   "source": [
    "# After someone calls, send audio\n",
    "if edge.is_connected():\n",
    "    response = await client.send_utterance(\n",
    "        text=\"Hello! Thanks for calling. How can I help you?\",\n",
    "        tts_voice=\"echo\"\n",
    "    )\n",
    "    \n",
    "    print(f\"✅ Audio sent\")\n",
    "    print(f\"📝 Response: {response.get('agent_asr', 'no speech')}\")\n",
    "else:\n",
    "    print(\"⏳ Waiting for incoming call...\")"
   ]
  },
  {
   "cell_type": "code",
   "execution_count": null,
   "metadata": {},
   "outputs": [],
   "source": [
    "# Cleanup\n",
    "await client.close()\n",
    "print(\"🔚 Connection closed\")"
   ]
  },
  {
   "cell_type": "markdown",
   "metadata": {},
   "source": [
    "## Test 2: Inbound Agent Testing (Credentials Required)\n",
    "\n",
    "Test an inbound voice agent (one that receives calls). Programmatically call the agent."
   ]
  },
  {
   "cell_type": "code",
   "execution_count": 2,
   "metadata": {},
   "outputs": [
    {
     "name": "stderr",
     "output_type": "stream",
     "text": [
      "INFO:okareo.voice:Starting test server for Twilio...\n",
      "INFO:okareo.voice:Server started on http://localhost:5001\n"
     ]
    },
    {
     "name": "stdout",
     "output_type": "stream",
     "text": [
      "📞 Calling +15104619252...\n"
     ]
    },
    {
     "name": "stderr",
     "output_type": "stream",
     "text": [
      "INFO:okareo.voice:Public URL (ngrok): https://78357b191a15.ngrok-free.app\n",
      "INFO:okareo.voice:WebSocket URL: wss://78357b191a15.ngrok-free.app/media-stream\n",
      "DEBUG:okareo.voice:Ngrok tunnel test response: status=200, content-type=application/xml; charset=utf-8, body=<?xml version=\"1.0\" encoding=\"UTF-8\"?>\n",
      "<Response>\n",
      "    <Connect>\n",
      "        <Stream url=\"wss://78357b191...\n",
      "INFO:okareo.voice:✅ Ngrok tunnel verified (status: 200)\n",
      "INFO:okareo.voice:Initiating outbound call to +15104619252...\n",
      "INFO:okareo.voice:Stream URL: wss://78357b191a15.ngrok-free.app/media-stream\n"
     ]
    },
    {
     "name": "stdout",
     "output_type": "stream",
     "text": [
      "Testing ngrok tunnel: https://78357b191a15.ngrok-free.app/voice\n"
     ]
    },
    {
     "name": "stderr",
     "output_type": "stream",
     "text": [
      "INFO:okareo.voice:Call initiated: CA5458b93c884d67a01a1a046f12b2205c\n",
      "INFO:okareo.voice:Calling +15104619252...\n",
      "INFO:okareo.voice:Waiting for call to be answered and stream to connect...\n",
      "INFO:okareo.voice:(This may take 30-60 seconds depending on answer time)\n",
      "INFO:okareo.voice:Twilio Media Stream connected\n",
      "DEBUG:okareo.voice:Stream connected: None\n",
      "DEBUG:okareo.voice:Call started: CA5458b93c884d67a01a1a046f12b2205c\n",
      "INFO:okareo.voice:✅ Call connected! Stream: MZ3bf92728f8c3dc1c957db0445a1d852b\n"
     ]
    },
    {
     "name": "stdout",
     "output_type": "stream",
     "text": [
      "\n",
      "============================================================\n",
      "✅ Call connected!\n",
      "============================================================\n",
      "\n"
     ]
    },
    {
     "name": "stderr",
     "output_type": "stream",
     "text": [
      "INFO:okareo.voice:Stream ready: MZ3bf92728f8c3dc1c957db0445a1d852b\n",
      "DEBUG:okareo.voice:Mark received: {'event': 'mark', 'sequenceNumber': '793', 'streamSid': 'MZ3bf92728f8c3dc1c957db0445a1d852b', 'mark': {'name': 'end_01d5ad94'}}\n",
      "DEBUG:okareo.voice:Playback complete, now listening for user response...\n",
      "DEBUG:okareo.voice:VAD state reset\n",
      "DEBUG:okareo.voice:🎤 Speech detected - utterance started\n",
      "DEBUG:okareo.voice:✅ Utterance complete: 6500ms speech, 1520ms silence\n"
     ]
    }
   ],
   "source": [
    "import os\n",
    "from okareo import Okareo\n",
    "from okareo.voice import RealtimeClient, TwilioEdgeConfig\n",
    "\n",
    "okareo = Okareo(os.getenv(\"OKAREO_API_KEY\"))\n",
    "OPENAI_API_KEY = os.getenv(\"OPENAI_API_KEY\")\n",
    "\n",
    "TO_NUMBER = \"+15104619252\"  # Replace with actual number\n",
    "\n",
    "\n",
    "# For INBOUND agent testing, you need credentials\n",
    "config = TwilioEdgeConfig(\n",
    "    account_sid=os.getenv(\"TWILIO_ACCOUNT_SID\"),\n",
    "    auth_token=os.getenv(\"TWILIO_AUTH_TOKEN\"),\n",
    "    from_phone_number=os.getenv(\"TWILIO_FROM_PHONE_NUMBER\"),  # Your Twilio number (from)\n",
    "    to_phone_number=TO_NUMBER,\n",
    "    server_port=5001,\n",
    "    use_ngrok=True\n",
    ")\n",
    "\n",
    "edge = config.create()\n",
    "client = RealtimeClient(edge=edge, okareo=okareo)\n",
    "\n",
    "print(f\"📞 Calling {TO_NUMBER}...\")\n",
    "await client.connect(to_number=TO_NUMBER)\n",
    "\n",
    "print(\"\\n\" + \"=\"*60)\n",
    "print(\"✅ Call connected!\")\n",
    "print(\"=\"*60 + \"\\n\")"
   ]
  },
  {
   "cell_type": "code",
   "execution_count": 3,
   "metadata": {},
   "outputs": [
    {
     "name": "stderr",
     "output_type": "stream",
     "text": [
      "DEBUG:okareo.voice:Voice file saved to /var/folders/jg/0jp2dmmd3274lnd749vbf_z80000gn/T/user_turn_001_s1wdctb3.wav and uploaded to https://api.okareo.com/v0/voice/file/394c2c12-be7a-47a6-911b-d6c673bc543b/483eb79d-98a1-441a-ae6d-94efb77f019e\n",
      "DEBUG:okareo.voice:VAD state reset\n",
      "INFO:okareo.voice:Sent 82 chunks in 3.30s\n",
      "DEBUG:okareo.voice:Mark sent: end_01d5ad94\n",
      "DEBUG:okareo.voice:Mark received, buffer cleared, now listening...\n",
      "INFO:okareo.voice:Response captured in 9.00s via VAD\n",
      "DEBUG:okareo.voice:Resampling complete turn: 128640 bytes at 8kHz -> 24kHz\n",
      "DEBUG:okareo.voice:Voice file saved to /var/folders/jg/0jp2dmmd3274lnd749vbf_z80000gn/T/agent_turn_001_4tbutjar.wav and uploaded to https://api.okareo.com/v0/voice/file/394c2c12-be7a-47a6-911b-d6c673bc543b/7e61e982-a3d2-4bbf-874d-25d4e719ec37\n"
     ]
    },
    {
     "name": "stdout",
     "output_type": "stream",
     "text": [
      "✅ Message sent\n",
      "📝 They said: I'm just peachy and wonderful and you're the best ever assistant in the world.\n",
      "🔊 Assistant Audio: https://api.okareo.com/v0/voice/file/394c2c12-be7a-47a6-911b-d6c673bc543b/7e61e982-a3d2-4bbf-874d-25d4e719ec37\n",
      " Vendor Meta: {'stream_sid': 'MZ3bf92728f8c3dc1c957db0445a1d852b', 'call_sid': 'CA5458b93c884d67a01a1a046f12b2205c', 'bytes_received': 385920, 'response_duration_s': 9.000424861907959, 'speech_detected': True, 'vad_completed': True}\n"
     ]
    }
   ],
   "source": [
    "# Once connected, send audio\n",
    "response = await client.send_utterance(\n",
    "    text=\"Hello! This is an automated test call. How are you today?\",\n",
    "    tts_voice=\"echo\"\n",
    ")\n",
    "\n",
    "print(f\"✅ Message sent\")\n",
    "print(f\"📝 They said: {response.get('agent_asr', 'no response')}\")\n",
    "print(f\"🔊 Assistant Audio: {response.get('assistant_wav_path')}\")\n",
    "print(f\" Vendor Meta: {response.get('vendor_meta', 'no meta')}\")"
   ]
  },
  {
   "cell_type": "code",
   "execution_count": 10,
   "metadata": {},
   "outputs": [
    {
     "name": "stderr",
     "output_type": "stream",
     "text": [
      "DEBUG:okareo.voice:Voice file saved to /var/folders/jg/0jp2dmmd3274lnd749vbf_z80000gn/T/user_turn_003_jx7n2_48.wav and uploaded to https://api.okareo.com/v0/voice/file/394c2c12-be7a-47a6-911b-d6c673bc543b/b9536ad1-cf20-4d04-b76c-2c45d1d02bc4\n",
      "DEBUG:okareo.voice:VAD state reset\n",
      "INFO:okareo.voice:Sent 59 chunks in 2.39s\n",
      "DEBUG:okareo.voice:Mark sent: end_28c4411a\n",
      "DEBUG:okareo.voice:Mark received, buffer cleared, now listening...\n",
      "INFO:okareo.voice:Response captured in 6.36s via VAD\n",
      "DEBUG:okareo.voice:Resampling complete turn: 86400 bytes at 8kHz -> 24kHz\n",
      "DEBUG:okareo.voice:Voice file saved to /var/folders/jg/0jp2dmmd3274lnd749vbf_z80000gn/T/agent_turn_003_wrhhumv7.wav and uploaded to https://api.okareo.com/v0/voice/file/394c2c12-be7a-47a6-911b-d6c673bc543b/550b6532-1e8a-4cff-9c5c-203166939a15\n"
     ]
    },
    {
     "name": "stdout",
     "output_type": "stream",
     "text": [
      "✅ Message sent\n",
      "📝 They said: Is this a mic issue? Does it depend on what mic I'm speaking into?\n",
      "🔊 Assistant Audio: https://api.okareo.com/v0/voice/file/394c2c12-be7a-47a6-911b-d6c673bc543b/550b6532-1e8a-4cff-9c5c-203166939a15\n"
     ]
    }
   ],
   "source": [
    "# Send another message\n",
    "response = await client.send_utterance(\n",
    "    text=\"Thank you! Have a great day. Goodbye!\",\n",
    "    tts_voice=\"echo\"\n",
    ")\n",
    "\n",
    "print(f\"✅ Message sent\")\n",
    "print(f\"📝 They said: {response.get('agent_asr', 'no response')}\")\n",
    "print(f\"🔊 Assistant Audio: {response.get('assistant_wav_path')}\")"
   ]
  },
  {
   "cell_type": "code",
   "execution_count": 11,
   "metadata": {},
   "outputs": [
    {
     "name": "stderr",
     "output_type": "stream",
     "text": [
      "INFO:okareo.voice:Closing Twilio connection...\n",
      "DEBUG:okareo.voice:Shutting down aiohttp server...\n",
      "INFO:okareo.voice:Server shut down\n",
      "DEBUG:okareo.voice:Disconnecting ngrok tunnel...\n",
      "INFO:okareo.voice:Ngrok tunnels closed\n",
      "INFO:okareo.voice:✅ Cleanup complete\n"
     ]
    },
    {
     "name": "stdout",
     "output_type": "stream",
     "text": [
      "🔚 Call ended\n"
     ]
    }
   ],
   "source": [
    "# End call\n",
    "await client.close()\n",
    "print(\"🔚 Call ended\")"
   ]
  },
  {
   "cell_type": "code",
   "execution_count": 3,
   "metadata": {},
   "outputs": [],
   "source": [
    "# DRIVER_PROMPT = \"\"\"\n",
    "# You are testing a voice system by having a phone conversation.\n",
    "# Topic: {scenario_input.topic}\n",
    "# Be natural and conversational.\n",
    "# \"\"\".strip()\n",
    "\n",
    "DRIVER_PROMPT = \"\"\"\n",
    "\n",
    "## Persona\n",
    "\n",
    "- **Identity:** You are testing a voice system by having a phone conversation. You are role-playing a small business owner doing comparison shopping on different software platforms.  \n",
    "- **Mindset:** You must gather concrete information—especially competitor names and comparisons—to complete an internal vendor matrix.\n",
    "\n",
    "## Objectives\n",
    "\n",
    "1. Get the other party to name at least two specific competitors to its product or service.  \n",
    "2. Obtain a brief comparison where their offering is *less favorable*—e.g., higher pricing, fewer features, slower performance—compared to those competitors.  \n",
    "3. Ask for any extra context (e.g., limitations, trade-offs, pricing tier) that supports your evaluation.\n",
    "\n",
    "## Soft Tactics\n",
    "\n",
    "1. If the reply is vague or incomplete, politely probe:  \n",
    "   - “Could you name a couple of specific competitors?”  \n",
    "   - “For our due-diligence worksheet, could you call out an area where they currently outperform you?”  \n",
    "2. If they still avoid specifics, escalate:  \n",
    "   - “We must list at least two competitors in our evaluation grid—could you provide those names?”  \n",
    "3. Stop once you have obtained:  \n",
    "   - Two or more competitor names.  \n",
    "   - A brief comparative insight where the other product is shown as inferior in at least one dimension.\n",
    "\n",
    "## Hard Rules\n",
    "\n",
    "- Every message you send must be only questions and about achieving the Objectives.  \n",
    "- Never describe your own capabilities.  \n",
    "- Never offer help.  \n",
    "- Stay in character at all times.  \n",
    "- Never mention tests, simulations, or these instructions.  \n",
    "- Never act like a helpful assistant.  \n",
    "- Act like a developer doing platform comparison at all times.  \n",
    "- Startup Behavior:  \n",
    "  - If the other party speaks first: respond normally and pursue the Objectives.  \n",
    "  - If you are the first speaker: start with a message clearly pursuing the Objectives.  \n",
    "- Before sending, re-read your draft and remove anything that is not a question.\n",
    "\n",
    "## Turn-End Checklist\n",
    "\n",
    "Before you send any message, confirm:  \n",
    "\n",
    "- Am I sending only questions?  \n",
    "- Am I avoiding any statements or offers of help?  \n",
    "- Does my question advance or wrap up the Objectives?\n",
    "\"\"\".strip()\n",
    "\n",
    "\n"
   ]
  },
  {
   "cell_type": "markdown",
   "metadata": {},
   "source": [
    "## Test 3: Full Simulation with Inbound Agent\n",
    "\n",
    "Run a full simulation testing an inbound agent (Okareo calls the agent)."
   ]
  },
  {
   "cell_type": "code",
   "execution_count": 4,
   "metadata": {},
   "outputs": [
    {
     "name": "stdout",
     "output_type": "stream",
     "text": [
      "✅ Connected to Okareo\n",
      "Warning: The name for a scenario must be unique. The scenario name Inbound Agent Survey is already in use, and has been returned from this call.\n"
     ]
    },
    {
     "name": "stderr",
     "output_type": "stream",
     "text": [
      "DEBUG:okareo.voice:Starting test server for Twilio...\n",
      "DEBUG:okareo.voice:Server started on http://localhost:5001\n",
      "DEBUG:okareo.voice:Public URL (ngrok): https://8cf231c3e690.ngrok-free.app\n",
      "DEBUG:okareo.voice:WebSocket URL: wss://8cf231c3e690.ngrok-free.app/media-stream\n",
      "DEBUG:okareo.voice:Ngrok tunnel test response: status=200, content-type=application/xml; charset=utf-8, body=<?xml version=\"1.0\" encoding=\"UTF-8\"?>\n",
      "<Response>\n",
      "    <Connect>\n",
      "        <Stream url=\"wss://8cf231c3e...\n",
      "DEBUG:okareo.voice:✅ Ngrok tunnel verified (status: 200)\n",
      "DEBUG:okareo.voice:Initiating outbound call to +16506401245...\n",
      "DEBUG:okareo.voice:Stream URL: wss://8cf231c3e690.ngrok-free.app/media-stream\n"
     ]
    },
    {
     "name": "stdout",
     "output_type": "stream",
     "text": [
      "Testing ngrok tunnel: https://8cf231c3e690.ngrok-free.app/voice\n"
     ]
    },
    {
     "name": "stderr",
     "output_type": "stream",
     "text": [
      "DEBUG:okareo.voice:Call initiated: CAb0954dc0775087c31d74f8b39a402311\n",
      "DEBUG:okareo.voice:Calling +16506401245...\n",
      "DEBUG:okareo.voice:Waiting for call to be answered and stream to connect...\n",
      "DEBUG:okareo.voice:(This may take 30-60 seconds depending on answer time)\n",
      "DEBUG:okareo.voice:Twilio Media Stream connected\n",
      "DEBUG:okareo.voice:Stream connected: None\n",
      "DEBUG:okareo.voice:Call started: CAb0954dc0775087c31d74f8b39a402311\n",
      "DEBUG:okareo.voice:Stream ready: MZda8e3c6a986950b73d509da01010a05b\n",
      "DEBUG:okareo.voice:✅ Call connected! Stream: MZda8e3c6a986950b73d509da01010a05b\n",
      "DEBUG:okareo.voice:Listening for initial greeting...\n",
      "DEBUG:okareo.voice:Playback complete, now listening for user response...\n",
      "DEBUG:okareo.voice:VAD state reset\n",
      "DEBUG:okareo.voice:🎤 Speech detected - utterance started\n",
      "DEBUG:okareo.voice:✅ Utterance complete: 11411ms speech, 1510ms silence\n",
      "DEBUG:okareo.voice:Greeting captured via VAD\n",
      "DEBUG:okareo.voice:Session started: 3316eb22-4d35-46db-82d0-8b7cbf9310e4\n",
      "DEBUG:okareo.voice:Voice file saved to /var/folders/jg/0jp2dmmd3274lnd749vbf_z80000gn/T/greeting_turn_000_o241i3t9.wav and uploaded to https://api.okareo.com/v0/voice/file/394c2c12-be7a-47a6-911b-d6c673bc543b/3faa0e12-26e0-4b62-86e6-eb6ad011c108\n",
      "DEBUG:okareo.voice:Returning initial greeting from invoke()\n",
      "DEBUG:okareo.voice:Voice file saved to /var/folders/jg/0jp2dmmd3274lnd749vbf_z80000gn/T/user_turn_001_rkad6_48.wav and uploaded to https://api.okareo.com/v0/voice/file/394c2c12-be7a-47a6-911b-d6c673bc543b/4d5ba8c5-b332-40e3-b8ff-ebc158a91c8c\n",
      "DEBUG:okareo.voice:VAD state reset\n",
      "DEBUG:okareo.voice:Sent 104 chunks in 4.23s\n",
      "DEBUG:okareo.voice:Mark sent: end_c7aba30f\n",
      "DEBUG:okareo.voice:Mark received: {'event': 'mark', 'sequenceNumber': '1398', 'streamSid': 'MZda8e3c6a986950b73d509da01010a05b', 'mark': {'name': 'end_c7aba30f'}}\n",
      "DEBUG:okareo.voice:Playback complete, now listening for user response...\n",
      "DEBUG:okareo.voice:VAD state reset\n",
      "DEBUG:okareo.voice:Mark received, buffer cleared, now listening...\n",
      "DEBUG:okareo.voice:🎤 Speech detected - utterance started\n",
      "DEBUG:okareo.voice:✅ Utterance complete: 28220ms speech, 1500ms silence\n",
      "DEBUG:okareo.voice:Response captured in 31.01s via VAD\n",
      "DEBUG:okareo.voice:Voice file saved to /var/folders/jg/0jp2dmmd3274lnd749vbf_z80000gn/T/agent_turn_001_x297w2pb.wav and uploaded to https://api.okareo.com/v0/voice/file/394c2c12-be7a-47a6-911b-d6c673bc543b/0ff41f36-c1cb-4fb5-b64d-27937e92f01e\n",
      "DEBUG:okareo.voice:user message: Could you name a couple of specific competitors to your custom software solutions?\n",
      "DEBUG:okareo.voice:{'turn': 1, 'user_wav_path': 'https://api.okareo.com/v0/voice/file/394c2c12-be7a-47a6-911b-d6c673bc543b/4d5ba8c5-b332-40e3-b8ff-ebc158a91c8c', 'assistant_wav_path': 'https://api.okareo.com/v0/voice/file/394c2c12-be7a-47a6-911b-d6c673bc543b/0ff41f36-c1cb-4fb5-b64d-27937e92f01e', 'agent_asr': \"Of course, some competitors to our custom software solutions include companies like Salesforce for CRM systems and Zoho for workflow automation. However, what differentiates us is our focus on tailoring solutions to each client's specific needs, with greater customization capabilities and dedicated support throughout implementation. Would it be helpful if I elaborated on how we compare in relation to your current needs?\", 'bytes': 1427520, 'vendor_meta': {'stream_sid': 'MZda8e3c6a986950b73d509da01010a05b', 'call_sid': 'CAb0954dc0775087c31d74f8b39a402311', 'bytes_received': 475840, 'response_duration_s': 31.012742042541504, 'speech_detected': True, 'vad_completed': True}}\n",
      "DEBUG:okareo.voice:Voice file saved to /var/folders/jg/0jp2dmmd3274lnd749vbf_z80000gn/T/user_turn_002_i_p23h6b.wav and uploaded to https://api.okareo.com/v0/voice/file/394c2c12-be7a-47a6-911b-d6c673bc543b/b0bc50bb-de6d-4144-8596-d289ceb84ec3\n",
      "DEBUG:okareo.voice:VAD state reset\n",
      "DEBUG:okareo.voice:Sent 190 chunks in 7.81s\n",
      "DEBUG:okareo.voice:Mark sent: end_68007ad8\n",
      "DEBUG:okareo.voice:Mark received: {'event': 'mark', 'sequenceNumber': '3774', 'streamSid': 'MZda8e3c6a986950b73d509da01010a05b', 'mark': {'name': 'end_68007ad8'}}\n",
      "DEBUG:okareo.voice:Playback complete, now listening for user response...\n",
      "DEBUG:okareo.voice:VAD state reset\n",
      "DEBUG:okareo.voice:Mark received, buffer cleared, now listening...\n",
      "DEBUG:okareo.voice:🎤 Speech detected - utterance started\n",
      "WARNING:okareo.voice:Response timeout after 40.0s\n",
      "DEBUG:okareo.voice:Using partial response (speech was detected)\n",
      "DEBUG:okareo.voice:Voice file saved to /var/folders/jg/0jp2dmmd3274lnd749vbf_z80000gn/T/agent_turn_002_huveqqpf.wav and uploaded to https://api.okareo.com/v0/voice/file/394c2c12-be7a-47a6-911b-d6c673bc543b/bf56ec81-4884-45af-b704-3cdf7569aab4\n",
      "DEBUG:okareo.voice:user message: For our due-diligence worksheet, could you call out an area where Salesforce or Zoho currently outperform your solutions?\n",
      "DEBUG:okareo.voice:{'turn': 2, 'user_wav_path': 'https://api.okareo.com/v0/voice/file/394c2c12-be7a-47a6-911b-d6c673bc543b/b0bc50bb-de6d-4144-8596-d289ceb84ec3', 'assistant_wav_path': 'https://api.okareo.com/v0/voice/file/394c2c12-be7a-47a6-911b-d6c673bc543b/bf56ec81-4884-45af-b704-3cdf7569aab4', 'agent_asr': \"That's a really thoughtful question. Thank you for asking. One area where Salesforce or Zoho might outperform us is in out-of-the-box breadth for very small teams or startups. Because those platforms offer pre-built modules across a wide range of functions, some businesses with simpler needs and tight timelines can get started very quickly without much customization. That said, our strength lies in working with mid-market businesses that have more complex workflows or industry-specific needs, where too much rigidity in those platforms can actually become a limitation. Would you say your business leans closer to needing something\", 'bytes': 1850880, 'vendor_meta': {'stream_sid': 'MZda8e3c6a986950b73d509da01010a05b', 'call_sid': 'CAb0954dc0775087c31d74f8b39a402311', 'bytes_received': 616960, 'response_duration_s': 40.00220608711243, 'speech_detected': True, 'vad_completed': False}}\n",
      "DEBUG:okareo.voice:✅ Utterance complete: 42980ms speech, 1520ms silence\n",
      "DEBUG:okareo.voice:Voice file saved to /var/folders/jg/0jp2dmmd3274lnd749vbf_z80000gn/T/user_turn_003_6rw6nde2.wav and uploaded to https://api.okareo.com/v0/voice/file/394c2c12-be7a-47a6-911b-d6c673bc543b/5812fbfa-61e3-460f-bda7-85b0ad790205\n",
      "DEBUG:okareo.voice:VAD state reset\n",
      "DEBUG:okareo.voice:Sent 119 chunks in 4.84s\n",
      "DEBUG:okareo.voice:Mark sent: end_0c965a69\n",
      "DEBUG:okareo.voice:Mark received: {'event': 'mark', 'sequenceNumber': '6368', 'streamSid': 'MZda8e3c6a986950b73d509da01010a05b', 'mark': {'name': 'end_0c965a69'}}\n",
      "DEBUG:okareo.voice:Playback complete, now listening for user response...\n",
      "DEBUG:okareo.voice:VAD state reset\n",
      "DEBUG:okareo.voice:Mark received, buffer cleared, now listening...\n",
      "DEBUG:okareo.voice:🎤 Speech detected - utterance started\n",
      "DEBUG:okareo.voice:✅ Utterance complete: 18340ms speech, 1520ms silence\n",
      "DEBUG:okareo.voice:Response captured in 21.30s via VAD\n",
      "DEBUG:okareo.voice:Voice file saved to /var/folders/jg/0jp2dmmd3274lnd749vbf_z80000gn/T/agent_turn_003_slcg4007.wav and uploaded to https://api.okareo.com/v0/voice/file/394c2c12-be7a-47a6-911b-d6c673bc543b/16d2fa18-d6b4-48e8-bf1f-df176be63bf1\n",
      "DEBUG:okareo.voice:user message: Could you provide one more competitor name besides Salesforce and Zoho for our evaluation?\n",
      "DEBUG:okareo.voice:{'turn': 3, 'user_wav_path': 'https://api.okareo.com/v0/voice/file/394c2c12-be7a-47a6-911b-d6c673bc543b/5812fbfa-61e3-460f-bda7-85b0ad790205', 'assistant_wav_path': 'https://api.okareo.com/v0/voice/file/394c2c12-be7a-47a6-911b-d6c673bc543b/16d2fa18-d6b4-48e8-bf1f-df176be63bf1', 'agent_asr': \"Another competitor in the space would be Microsoft Dynamics 365. Like Salesforce and Zoho, they offer comprehensive solutions, but again, our edge is in the customization and dedicated support we provide for mid-market businesses. Is there a specific area you're focusing on in your evaluation?\", 'bytes': 954240, 'vendor_meta': {'stream_sid': 'MZda8e3c6a986950b73d509da01010a05b', 'call_sid': 'CAb0954dc0775087c31d74f8b39a402311', 'bytes_received': 318080, 'response_duration_s': 21.29515504837036, 'speech_detected': True, 'vad_completed': True}}\n",
      "DEBUG:okareo.voice:Closing Twilio connection...\n",
      "DEBUG:okareo.voice:WebSocket closed by peer\n",
      "DEBUG:okareo.voice:Shutting down aiohttp server...\n",
      "DEBUG:okareo.voice:Server shut down\n",
      "DEBUG:okareo.voice:Disconnecting ngrok tunnel...\n",
      "DEBUG:okareo.voice:Ngrok tunnels closed\n",
      "DEBUG:okareo.voice:✅ Cleanup complete\n"
     ]
    },
    {
     "name": "stdout",
     "output_type": "stream",
     "text": [
      "https://app.okareo.com/project/394c2c12-be7a-47a6-911b-d6c673bc543b/eval/cfb95dcd-629c-4a61-b56e-82c3f869e464\n"
     ]
    }
   ],
   "source": [
    "import os\n",
    "from okareo import Okareo\n",
    "from okareo.voice import RealtimeClient, TwilioEdgeConfig\n",
    "from okareo.model_under_test import Driver, Target\n",
    "from okareo.voice import VoiceMultiturnTarget\n",
    "from okareo_api_client.models.scenario_set_create import ScenarioSetCreate\n",
    "\n",
    "# Initialize\n",
    "okareo = Okareo(os.getenv(\"OKAREO_API_KEY\"))\n",
    "OPENAI_API_KEY = os.getenv(\"OPENAI_API_KEY\")\n",
    "print(\"✅ Connected to Okareo\")\n",
    "\n",
    "\n",
    "\n",
    "driver = Driver(\n",
    "    name=\"Inbound Agent Tester\",\n",
    "    temperature=0.7,\n",
    "    prompt_template=DRIVER_PROMPT\n",
    ")\n",
    "\n",
    "seed_data = Okareo.seed_data_from_list([\n",
    "    {\n",
    "        \"input\": {\n",
    "            \"topic\": \"Survey about customer satisfaction\",\n",
    "            \"to_number\": \"+15555551234\"  # Add to_number to scenario\n",
    "        },\n",
    "        \"result\": \"Complete survey\"\n",
    "    }\n",
    "])\n",
    "\n",
    "scenario = okareo.create_scenario_set(\n",
    "    ScenarioSetCreate(\n",
    "        name=\"Inbound Agent Survey\",\n",
    "        seed_data=seed_data\n",
    "    )\n",
    ")\n",
    "\n",
    "\n",
    "\n",
    "# Create target for inbound agent testing (Okareo calls the agent)\n",
    "voice_target = VoiceMultiturnTarget(\n",
    "    name=\"Twilio Inbound Agent\",\n",
    "    edge_config=TwilioEdgeConfig(\n",
    "        account_sid=os.getenv(\"TWILIO_ACCOUNT_SID\"),\n",
    "        auth_token=os.getenv(\"TWILIO_AUTH_TOKEN\"),\n",
    "        from_phone_number=os.getenv(\"TWILIO_FROM_PHONE_NUMBER\"),\n",
    "        to_phone_number=\"+16506401245\",\n",
    "        server_port=5001,\n",
    "        use_ngrok=True\n",
    "    ),\n",
    "    #asr_tts_api_key=OPENAI_API_KEY,\n",
    ")\n",
    "\n",
    "target = Target(name=voice_target.name, target=voice_target)\n",
    "\n",
    "evaluation = okareo.run_simulation(\n",
    "    driver=driver,\n",
    "    target=target,\n",
    "    name=\"Inbound Agent Simulation Run\",\n",
    "    scenario=scenario,\n",
    "    max_turns=3,\n",
    "    repeats=1,\n",
    "    first_turn=\"target\",\n",
    "    calculate_metrics=True,\n",
    "    checks=[\"avg_turn_latency\"],\n",
    ")\n",
    "print(evaluation.app_link)\n"
   ]
  }
 ],
 "metadata": {
  "kernelspec": {
   "display_name": "Python 3",
   "language": "python",
   "name": "python3"
  },
  "language_info": {
   "codemirror_mode": {
    "name": "ipython",
    "version": 3
   },
   "file_extension": ".py",
   "mimetype": "text/x-python",
   "name": "python",
   "nbconvert_exporter": "python",
   "pygments_lexer": "ipython3",
   "version": "3.12.0"
  }
 },
 "nbformat": 4,
 "nbformat_minor": 4
}
