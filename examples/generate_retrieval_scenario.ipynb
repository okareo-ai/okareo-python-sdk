{
 "cells": [
  {
   "cell_type": "markdown",
   "metadata": {},
   "source": [
    "<a target=\"_blank\" href=\"https://colab.research.google.com/github/okareo-ai/okareo-python-sdk/blob/main/examples/retrieval_eval.ipynb\">\n",
    "  <img src=\"https://colab.research.google.com/assets/colab-badge.svg\" alt=\"Open In Colab\"/>\n",
    "</a>\n",
    "\n",
    "## Generate a retrieval-RAG evaluation scenario from your data!\n",
    "\n",
    "Get your API token from [https://app.okareo.com/](https://app.okareo.com/) and set it in the cell below. 👇\n",
    "   (Note: You will need to register first.)\n",
    "\n",
    "\n",
    "\n"
   ]
  },
  {
   "cell_type": "code",
   "execution_count": 7,
   "metadata": {},
   "outputs": [],
   "source": [
    "OKAREO_API_KEY = \"<YOUR-OKAREO-API-TOKEN>\""
   ]
  },
  {
   "cell_type": "code",
   "execution_count": null,
   "metadata": {},
   "outputs": [],
   "source": [
    "%pip install okareo"
   ]
  },
  {
   "cell_type": "markdown",
   "metadata": {},
   "source": [
    "**Load documents from your RAG database as Okareo scenario.**  \n",
    "- These documents will be used to generate synthetic user questions.\n",
    "- As an example we are using documents about a fictitious WebBizz web business. .jsonl file contains ```\"result\" : \"<ID of the document>\", \"input\" : \"<document text>\"```\n",
    "- Replace this with your own data in same .jsonl format."
   ]
  },
  {
   "cell_type": "code",
   "execution_count": null,
   "metadata": {},
   "outputs": [],
   "source": [
    "import os\n",
    "import tempfile\n",
    "import random\n",
    "import string\n",
    "from okareo import Okareo\n",
    "\n",
    "random_string = ''.join(random.choices(string.ascii_letters, k=5))\n",
    "\n",
    "okareo = Okareo(OKAREO_API_KEY)\n",
    "# Webbizz is an example web business. \n",
    "# We load short documents about different business aspects as source scenario.\n",
    "webbizz_documents = os.popen('curl https://raw.githubusercontent.com/okareo-ai/okareo-python-sdk/main/examples/webbizz_30_articles.jsonl').read()\n",
    "\n",
    "with tempfile.NamedTemporaryFile(suffix=\"webbizz_30_articles.jsonl\", mode=\"w+\", delete=True) as temp_file:\n",
    "    temp_file.write(webbizz_documents)\n",
    "    temp_file.seek(0) # Move the file pointer to the beginning\n",
    "\n",
    "    # Upload the questions to Okareo from the temporary file\n",
    "    document_scenario = okareo.upload_scenario_set(file_path=temp_file.name, scenario_name=f\"WebBizz Documents - {random_string}\")"
   ]
  },
  {
   "cell_type": "markdown",
   "metadata": {},
   "source": [
    "**Generate retrieval questions from documents using Okareo Text Reverse Question Generator**"
   ]
  },
  {
   "cell_type": "code",
   "execution_count": 18,
   "metadata": {},
   "outputs": [
    {
     "name": "stdout",
     "output_type": "stream",
     "text": [
      "See generated scenario in Okareo app: https://app.okareo.com/project/394c2c12-be7a-47a6-911b-d6c673bc543b/scenario/76bdab7c-ab96-4eb2-8a63-06e9bb33dfba\n"
     ]
    }
   ],
   "source": [
    "\n",
    "from okareo import Okareo\n",
    "from okareo_api_client.models.generation_tone import GenerationTone\n",
    "from okareo_api_client.models.scenario_set_generate import ScenarioSetGenerate\n",
    "from okareo_api_client.models.scenario_type import ScenarioType\n",
    "\n",
    "okareo = Okareo(OKAREO_API_KEY)\n",
    "random_string = ''.join(random.choices(string.ascii_letters, k=5))\n",
    "\n",
    "# Use the scenario set of documents to generate a scenario of questions\n",
    "generated_scenario = okareo.generate_scenario_set(\n",
    "    ScenarioSetGenerate(\n",
    "        name=f\"Retrieval - Generated Scenario - {random_string}\",\n",
    "        source_scenario_id=document_scenario.scenario_id,\n",
    "        number_examples=4, # Number of questions to generate for each document\n",
    "        generation_type=ScenarioType.TEXT_REVERSE_QUESTION, # This type is for questions from the text\n",
    "        generation_tone=GenerationTone.INFORMAL, # Specifying tone of the generated questions\n",
    "        post_template=\"\"\"{\"question\": \"{generation.input}\", \"document\": \"{input}\"}\"\"\",# for easy validation we are generating questions next to source documents \n",
    "    )\n",
    ")\n",
    "\n",
    "# Print a link back to Okareo app to see the generated scenario\n",
    "print(f\"See generated scenario in Okareo app: {generated_scenario.app_link}\")"
   ]
  }
 ],
 "metadata": {
  "kernelspec": {
   "display_name": "Python 3",
   "language": "python",
   "name": "python3"
  },
  "language_info": {
   "codemirror_mode": {
    "name": "ipython",
    "version": 3
   },
   "file_extension": ".py",
   "mimetype": "text/x-python",
   "name": "python",
   "nbconvert_exporter": "python",
   "pygments_lexer": "ipython3",
   "version": "3.11.2"
  }
 },
 "nbformat": 4,
 "nbformat_minor": 2
}
