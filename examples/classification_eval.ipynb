{
 "cells": [
  {
   "cell_type": "markdown",
   "metadata": {},
   "source": [
    "## From Zero Instructions:\n",
    "\n",
    "1. Install Okareo's Python SDK: &nbsp;&nbsp;  `pip install okareo`  &nbsp;&nbsp;  (just run the cell below)\n",
    "\n",
    "2. Get your API token from [https://app.okareo.com/](https://app.okareo.com/).  \n",
    "   (Note: You will need to register first.)\n",
    "\n",
    "3. Go directly to the **\"2. Create your API Token\"** link on the landing page. You can skip all other steps.\n",
    "\n",
    "4. Set the environment variable `OKAREO_API_KEY` to your generated API token.\n",
    "\n",
    "5. Add your OpenAI key.  OpenAI is only needed for example purposes.  If you have your own model, you can substitute those in it's place."
   ]
  },
  {
   "cell_type": "code",
   "execution_count": null,
   "metadata": {},
   "outputs": [],
   "source": [
    "%pip install okareo"
   ]
  },
  {
   "cell_type": "code",
   "execution_count": null,
   "metadata": {},
   "outputs": [],
   "source": [
    "%pip install openai"
   ]
  },
  {
   "cell_type": "code",
   "execution_count": 25,
   "metadata": {},
   "outputs": [],
   "source": [
    "# Setup the environment for your notebook\n",
    "import os\n",
    "\n",
    "OKAREO_API_KEY = os.environ[\"OKAREO_API_KEY\"]\n",
    "OPENAI_API_KEY = os.environ[\"OPENAI_API_KEY\"]"
   ]
  },
  {
   "cell_type": "code",
   "execution_count": 26,
   "metadata": {},
   "outputs": [],
   "source": [
    "# Simple adhoc classifier using OpenAI'a GPT 3.5 Turbo model\n",
    "import os\n",
    "from openai import OpenAI\n",
    "import json\n",
    "\n",
    "USER_PROMPT_TEMPLATE = \"{input}\"\n",
    "\n",
    "CLASSIFICATION_CONTEXT_TEMPLATE = \"\"\"\n",
    "You will be provided a question from a customer.\n",
    "Classify the question into a customer category and sub-category.\n",
    "Provide the output with only the category name.\n",
    "\n",
    "Categories: Technical Support, Billing, Account Management, General Inquiry, Unknown\n",
    "\n",
    "Sub-Categories for Technical Support:\n",
    "Troubleshooting\n",
    "Product features\n",
    "Product updates\n",
    "Integration options\n",
    "Found a problem\n",
    "\n",
    "Sub-Categories for Billing:\n",
    "Unsubscribe\n",
    "Upgrade\n",
    "Explain my bill\n",
    "Change payment\n",
    "Dispute a charge\n",
    "\n",
    "Sub-Categories for Account Management:\n",
    "Add a team member\n",
    "Change or Update details\n",
    "Password reset\n",
    "Close account\n",
    "Security\n",
    "\n",
    "Sub-Categories for General Inquiry:\n",
    "Contact sales\n",
    "Product information\n",
    "Pricing\n",
    "Feedback\n",
    "Speak to a human\n",
    "\"\"\"\n",
    "\n"
   ]
  },
  {
   "cell_type": "code",
   "execution_count": 27,
   "metadata": {},
   "outputs": [
    {
     "name": "stdout",
     "output_type": "stream",
     "text": [
      "Billing\n"
     ]
    }
   ],
   "source": [
    "# EXAMPLE calling the OpenAI classifier directly to play with how it responds to different inputs\n",
    "client = OpenAI(api_key=OPENAI_API_KEY)\n",
    "\n",
    "def get_turbo_classification(messages, model=\"gpt-3.5-turbo\", \n",
    "  temperature=0, max_tokens=500):\n",
    "  response = client.chat.completions.create(\n",
    "    model=model,\n",
    "    messages=messages,\n",
    "    temperature=temperature, \n",
    "    max_tokens=max_tokens,\n",
    "  )\n",
    "  return response.choices[0].message.content\n",
    "\n",
    "user_message = \"I can't connect my CRM\"\n",
    "user_message_unsub= \"Please unsubscribe me from your service\"\n",
    "user_message_crazy= \"My cat is on fire.\"\n",
    "messages =  [  \n",
    "    {'role':'system', 'content': CLASSIFICATION_CONTEXT_TEMPLATE},    \n",
    "    {'role':'user', 'content': user_message_unsub}\n",
    "]\n",
    "\n",
    "class_response = get_turbo_classification(messages)\n",
    "print(class_response)"
   ]
  },
  {
   "cell_type": "code",
   "execution_count": 28,
   "metadata": {},
   "outputs": [
    {
     "name": "stdout",
     "output_type": "stream",
     "text": [
      "ScenarioSetResponse(scenario_id='f09f9366-14f0-4883-993b-6b0a57505d21', project_id='f7bfcff0-2b8d-4fec-ab20-51669cd3e732', time_created=datetime.datetime(2024, 1, 9, 22, 32, 58, 183528), type='REPHRASE_INVARIANT', tags=['seed:9661a387-5a6f-4e2e-b7a7-07514b8971f3'], name='OpenAI AdHoc Category - EdMnF', seed_data=[SeedData(input_='Can I connect my CRM?', result='Technical Support', additional_properties={}), SeedData(input_='Do you have a way to send marketing emails?', result='Technical Support', additional_properties={}), SeedData(input_='Can I get invoiced instead of using a credit card?', result='Billing', additional_properties={}), SeedData(input_='My CRM integration is not working.', result='Technical Support', additional_properties={}), SeedData(input_='Do you have SOC II tpye 2 certification?', result='Account Management', additional_properties={}), SeedData(input_='I like the product.  Please connect me to your enterprise team.', result='General Inquiry', additional_properties={})], scenario_count=0, scenario_input=['Is it possible to link my CRM?', 'Is there a method for dispatching promotional emails?', 'Is it possible to receive an invoice rather than paying with a credit card?', 'The integration with my CRM system seems to be malfunctioning.', 'Is your organization SOC II type 2 certified?', \"I'm happy with the product. Could you link me with your business sector team?\"], additional_properties={})\n",
      "https://app.okareo.com/project/f7bfcff0-2b8d-4fec-ab20-51669cd3e732/scenario/f09f9366-14f0-4883-993b-6b0a57505d21\n"
     ]
    }
   ],
   "source": [
    "# Create a scenario to evaluate the model with and get a link to the Scenario in Okareo\n",
    "import os\n",
    "import random\n",
    "import string\n",
    "from okareo import Okareo\n",
    "from okareo_api_client.models import ScenarioSetCreate, ScenarioSetResponse, SeedData, ScenarioType\n",
    "\n",
    "okareo = Okareo(OKAREO_API_KEY)\n",
    "\n",
    "# Generate example scenario based on seed data and return results in one call\n",
    "random_string = ''.join(random.choices(string.ascii_letters, k=5))\n",
    "scenario_set_create = ScenarioSetCreate(\n",
    "    name=f\"OpenAI AdHoc Category - {random_string}\",\n",
    "    number_examples=1,\n",
    "    generation_type=ScenarioType.REPHRASE_INVARIANT,\n",
    "    seed_data=[\n",
    "        SeedData(\n",
    "            input_=\"Can I connect my CRM?\",  \n",
    "            result=\"Technical Support\"\n",
    "        ),\n",
    "        SeedData(\n",
    "            input_=\"Do you have a way to send marketing emails?\",  \n",
    "            result=\"Technical Support\"\n",
    "        ),\n",
    "        SeedData(\n",
    "            input_=\"Can I get invoiced instead of using a credit card?\", \n",
    "            result=\"Billing\"\n",
    "        ),\n",
    "        SeedData(\n",
    "            input_=\"My CRM integration is not working.\", \n",
    "            result=\"Technical Support\"\n",
    "        ),\n",
    "        SeedData(\n",
    "            input_=\"Do you have SOC II tpye 2 certification?\", \n",
    "            result=\"Account Management\"\n",
    "        ),\n",
    "        SeedData(\n",
    "            input_=\"I like the product.  Please connect me to your enterprise team.\", \n",
    "            result=\"General Inquiry\"\n",
    "        )\n",
    "    ],\n",
    ")\n",
    "scenario = okareo.create_scenario_set(scenario_set_create)\n",
    "SCENARIO_ID = scenario.scenario_id\n",
    "PROJECT_ID = scenario.project_id\n",
    "print(scenario)\n",
    "print(f\"https://app.okareo.com/project/{PROJECT_ID}/scenario/{SCENARIO_ID}\")"
   ]
  },
  {
   "cell_type": "code",
   "execution_count": 29,
   "metadata": {},
   "outputs": [
    {
     "name": "stdout",
     "output_type": "stream",
     "text": [
      "https://app.okareo.com/project/f7bfcff0-2b8d-4fec-ab20-51669cd3e732/eval/5a36f82a-e14d-4a5c-9baa-5f55804367be\n"
     ]
    }
   ],
   "source": [
    "# Run the evaluation on the model and get a link to the results in Okareo\n",
    "import os\n",
    "import random\n",
    "import string\n",
    "from okareo import Okareo\n",
    "from okareo.model_under_test import OpenAIModel\n",
    "from okareo_api_client.models.test_run_type import TestRunType\n",
    "\n",
    "okareo = Okareo(OKAREO_API_KEY)\n",
    "random_string = ''.join(random.choices(string.ascii_letters, k=5))\n",
    "\n",
    "# Establish the model that is being evaluated, at minimum this is a named model for future reference\n",
    "model_under_test = okareo.register_model(\n",
    "        # name=f\"AdHoc OpenAI Classifier - {random_string}\",\n",
    "        name=f\"AdHoc OpenAI Classifier - CHANGE TEST\",\n",
    "        model=OpenAIModel(\n",
    "            model_id=\"gpt-3.5-turbo\",\n",
    "            temperature=0,\n",
    "            system_prompt_template=CLASSIFICATION_CONTEXT_TEMPLATE,\n",
    "            user_prompt_template=USER_PROMPT_TEMPLATE,\n",
    "        ),\n",
    "    )\n",
    "\n",
    "# run the test and call the model for each item in the scenario set\n",
    "evaluation = model_under_test.run_test(\n",
    "        name=f\"adhoc-class-run-{random_string}\",\n",
    "        scenario=scenario,\n",
    "        api_key=OPENAI_API_KEY,\n",
    "        test_run_type=TestRunType.MULTI_CLASS_CLASSIFICATION,\n",
    "        calculate_metrics=True,\n",
    "    )\n",
    "\n",
    "EVAL_ID = evaluation.id\n",
    "PROJECT_ID = evaluation.project_id\n",
    "print(f\"https://app.okareo.com/project/{PROJECT_ID}/eval/{EVAL_ID}\")"
   ]
  },
  {
   "cell_type": "code",
   "execution_count": null,
   "metadata": {},
   "outputs": [],
   "source": []
  }
 ],
 "metadata": {
  "kernelspec": {
   "display_name": ".venv",
   "language": "python",
   "name": "python3"
  },
  "language_info": {
   "codemirror_mode": {
    "name": "ipython",
    "version": 3
   },
   "file_extension": ".py",
   "mimetype": "text/x-python",
   "name": "python",
   "nbconvert_exporter": "python",
   "pygments_lexer": "ipython3",
   "version": "3.11.2"
  }
 },
 "nbformat": 4,
 "nbformat_minor": 2
}
