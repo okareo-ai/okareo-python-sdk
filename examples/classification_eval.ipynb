{
 "cells": [
  {
   "cell_type": "markdown",
   "metadata": {},
   "source": [
    "<a target=\"_blank\" href=\"https://colab.research.google.com/github/okareo-ai/okareo-python-sdk/blob/main/examples/test_runs.ipynb\">\n",
    "  <img src=\"https://colab.research.google.com/assets/colab-badge.svg\" alt=\"Open In Colab\"/>\n",
    "</a>\n",
    "\n",
    "## Welcome to Okareo!\n",
    "\n",
    "Get your API token from [https://app.okareo.com/](https://app.okareo.com/) and set it in the cell below. 👇\n",
    "   (Note: You will need to register first.)\n",
    "\n"
   ]
  },
  {
   "cell_type": "code",
   "execution_count": null,
   "metadata": {},
   "outputs": [],
   "source": [
    "OKAREO_API_KEY = \"<YOUR-API-TOKEN>\"\n",
    "\n",
    "%pip install okareo"
   ]
  },
  {
   "cell_type": "code",
   "execution_count": null,
   "metadata": {},
   "outputs": [],
   "source": [
    "# perform a test run using a scenario set\n",
    "from okareo import Okareo\n",
    "from okareo_api_client.models import ScenarioSetCreate, SeedData, ScenarioType\n",
    "from okareo.model_under_test import CustomModel\n",
    "\n",
    "okareo = Okareo(OKAREO_API_KEY)\n",
    "\n",
    "class ClassificationModel(CustomModel):\n",
    "    # Callable to be applied to each scenario in the scenario set\n",
    "    def invoke(self, input: str):\n",
    "        # call your model being tested here using <input> from the scenario set\n",
    "        if \"how much\" in input:\n",
    "            actual = \"pricing\"\n",
    "        elif \"return\" in input:\n",
    "            actual = \"returns\"\n",
    "        else:\n",
    "            actual = \"complaints\"\n",
    "        return actual, {\"labels\": actual, \"confidence\": .99 }  # return a tuple of (actual, overall model response context)\n",
    "\n",
    "# this will return a model if it already exists or create a new one if it doesn't\n",
    "model_under_test = okareo.register_model(name=\"intent_classifier\", model=ClassificationModel(name=\"Classification model\"))\n",
    "\n",
    "# generate example scenario based on seed data and return results in one call\n",
    "scenario_set_create = ScenarioSetCreate(name=\"My Test Scenario Set\",\n",
    "                                        seed_data=[SeedData(input_=\"I want to send this product back\", result=\"returns\"),\n",
    "                                                   SeedData(input_=\"my product is not working\", result=\"complaints\"),\n",
    "                                                   SeedData(input_=\"how much is the warranty on the product\", result=\"pricing\"),\n",
    "                                                   SeedData(input_=\"this product is having issues\", result=\"complaints\"),\n",
    "                                                   SeedData(input_=\"I want to send this product back for a return\", result=\"returns\"),\n",
    "                                                   SeedData(input_=\"how much is this product\", result=\"pricing\")])\n",
    "\n",
    "scenario = okareo.create_scenario_set(scenario_set_create)\n",
    "scenario_id = scenario.scenario_id\n",
    "\n",
    "# use the scenario or scenario id to run the test\n",
    "test_run_item = model_under_test.run_test(scenario=scenario_id, name=\"Intent Classifier Run\", calculate_metrics=True)\n",
    "\n",
    "# link back to Okareo site for evaluation visualization\n",
    "model_results = test_run_item.model_metrics.to_dict()\n",
    "app_link = test_run_item.app_link\n",
    "print(f\"See results in Okareo: {app_link}\")\n",
    "\n"
   ]
  }
 ],
 "metadata": {
  "kernelspec": {
   "display_name": "Python 3",
   "language": "python",
   "name": "python3"
  },
  "language_info": {
   "codemirror_mode": {
    "name": "ipython",
    "version": 3
   },
   "file_extension": ".py",
   "mimetype": "text/x-python",
   "name": "python",
   "nbconvert_exporter": "python",
   "pygments_lexer": "ipython3",
   "version": "3.11.2"
  }
 },
 "nbformat": 4,
 "nbformat_minor": 2
}
