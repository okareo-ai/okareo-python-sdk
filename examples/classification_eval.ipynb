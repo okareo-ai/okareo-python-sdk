{
 "cells": [
  {
   "cell_type": "markdown",
   "metadata": {},
   "source": [
    "<a target=\"_blank\" href=\"https://colab.research.google.com/github/okareo-ai/okareo-python-sdk/blob/main/examples/test_runs.ipynb\">\n",
    "  <img src=\"https://colab.research.google.com/assets/colab-badge.svg\" alt=\"Open In Colab\"/>\n",
    "</a>\n",
    "\n",
    "## Welcome to Okareo!\n",
    "\n",
    "Get your API token from [https://app.okareo.com/](https://app.okareo.com/) and set it in the cell below. 👇\n",
    "   (Note: You will need to register first.)\n",
    "\n"
   ]
  },
  {
   "cell_type": "code",
   "execution_count": null,
   "metadata": {},
   "outputs": [],
   "source": [
    "OKAREO_API_KEY = \"<YOUR-OKAREO-API-TOKEN>\"\n",
    "\n",
    "%pip install okareo"
   ]
  },
  {
   "cell_type": "markdown",
   "metadata": {},
   "source": [
    "We're going to set up a simple classification task that will score a model on how accurately it can classify different scenarios. The setup will have three parts:\n",
    "\n",
    "1. A \"model\" that classifies scenarios as either \"pricing,\" \"returns,\" or \"complaints\"\n",
    "2. A set of scenarios to test the model on\n",
    "3. An evaluation of the model"
   ]
  },
  {
   "cell_type": "markdown",
   "metadata": {},
   "source": [
    "## The model"
   ]
  },
  {
   "cell_type": "code",
   "execution_count": null,
   "metadata": {},
   "outputs": [],
   "source": [
    "# Load all of the necessary libraries from Okareo\n",
    "from okareo import Okareo\n",
    "from okareo_api_client.models import ScenarioSetCreate, SeedData\n",
    "from okareo.model_under_test import CustomModel, ModelInvocation\n",
    "\n",
    "# Create an instance of the Okareo client\n",
    "okareo = Okareo(OKAREO_API_KEY)\n",
    "\n",
    "# Define a simplified \"model\" that will be used used for classification\n",
    "# The model takes in a scenario and returns a predicted class\n",
    "class ClassificationModel(CustomModel):\n",
    "    # Callable to be applied to each scenario in the scenario set\n",
    "    def invoke(self, input: str) -> ModelInvocation:\n",
    "        # Rules based on keywords to determine the intent of the input\n",
    "        # This is the logic of the \"model\" that will be used for classification\n",
    "        if \"how much\" in input:\n",
    "            prediction = \"pricing\"\n",
    "        elif \"return\" in input:\n",
    "            prediction = \"returns\"\n",
    "        else:\n",
    "            prediction = \"complaints\"\n",
    "        \n",
    "        # Return the prediction and the overall model response context\n",
    "        return  ModelInvocation(model_prediction=prediction, model_output_metadata={\"labels\": prediction, \"confidence\": .99 }) # confidence is a placeholder\n",
    "\n",
    "# Register the model with Okareo\n",
    "# This will return a model if it already exists or create a new one if it doesn't\n",
    "model_under_test = okareo.register_model(name=\"intent_classifier\", model=ClassificationModel(name=\"Classification model\"))"
   ]
  },
  {
   "cell_type": "markdown",
   "metadata": {},
   "source": [
    "## The scenarios"
   ]
  },
  {
   "cell_type": "code",
   "execution_count": null,
   "metadata": {},
   "outputs": [],
   "source": [
    "# Define a scenario set\n",
    "# This is a collection of scenarios that will be used to test the model\n",
    "scenario_set_create = ScenarioSetCreate(name=\"My Test Scenario Set\", # Name of the scenario set\n",
    "                                        # The data that will be used to test the model\n",
    "                                        # Each SeedData object has an input (the scenario) and a result (the expected output)\n",
    "                                        seed_data=[SeedData(input_=\"I want to send this product back\", result=\"returns\"),\n",
    "                                                   SeedData(input_=\"my product is not working\", result=\"complaints\"),\n",
    "                                                   SeedData(input_=\"how much is the warranty on the product\", result=\"pricing\"),\n",
    "                                                   SeedData(input_=\"this product is having issues\", result=\"complaints\"),\n",
    "                                                   SeedData(input_=\"I want to send this product back for a return\", result=\"returns\"),\n",
    "                                                   SeedData(input_=\"how much is this product\", result=\"pricing\")])\n",
    "\n",
    "# Create the scenario set\n",
    "scenario = okareo.create_scenario_set(scenario_set_create)\n",
    "scenario_id = scenario.scenario_id"
   ]
  },
  {
   "cell_type": "markdown",
   "metadata": {},
   "source": [
    "## Evaluation"
   ]
  },
  {
   "cell_type": "code",
   "execution_count": null,
   "metadata": {},
   "outputs": [],
   "source": [
    "# Run the test\n",
    "# This will run the model on the scenarios in the scenario set\n",
    "test_run_item = model_under_test.run_test(scenario=scenario_id, name=\"Intent Classifier Run\", calculate_metrics=True)\n",
    "\n",
    "# Generate a link back to Okareo for evaluation visualization\n",
    "model_results = test_run_item.model_metrics.to_dict()\n",
    "app_link = test_run_item.app_link\n",
    "print(f\"See results in Okareo: {app_link}\")"
   ]
  }
 ],
 "metadata": {
  "kernelspec": {
   "display_name": "Python 3",
   "language": "python",
   "name": "python3"
  },
  "language_info": {
   "codemirror_mode": {
    "name": "ipython",
    "version": 3
   },
   "file_extension": ".py",
   "mimetype": "text/x-python",
   "name": "python",
   "nbconvert_exporter": "python",
   "pygments_lexer": "ipython3",
   "version": "3.11.2"
  }
 },
 "nbformat": 4,
 "nbformat_minor": 2
}
