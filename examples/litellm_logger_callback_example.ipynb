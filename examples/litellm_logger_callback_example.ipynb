{
 "cells": [
  {
   "cell_type": "markdown",
   "metadata": {},
   "source": [
    "<a target=\"_blank\" href=\"https://colab.research.google.com/github/okareo-ai/okareo-python-sdk/blob/main/examples/classification_eval_with_OpenAI.ipynb\">\n",
    "  <img src=\"https://colab.research.google.com/assets/colab-badge.svg\" alt=\"Open In Colab\"/>\n",
    "</a>\n",
    "\n",
    "## Log Example With LiteLLM:\n",
    "\n",
    "1. Install Okareo's Python SDK: &nbsp;&nbsp;  `pip install okareo`  &nbsp;&nbsp;\n",
    "\n",
    "2. Get your API token from [https://app.okareo.com/](https://app.okareo.com/).  \n",
    "   (Note: You will need to register first.)\n",
    "\n",
    "3. Go directly to the API settings by clicking the button under **\"1. Create API Token\"**. You can skip all other steps.\n",
    "\n",
    "4. Add your generated API token to the cell below. 👇\n",
    "\n",
    "5. Add your OpenAI key.  OpenAI is only needed for example purposes.  If you have your own model, you can substitute those in it's place."
   ]
  },
  {
   "cell_type": "code",
   "execution_count": 1,
   "metadata": {},
   "outputs": [],
   "source": [
    "OKAREO_API_KEY = \"<YOUR-OKAREO-API-KEY>\"\n",
    "OPENAI_API_KEY = \"<YOUR-OPENAI-API-KEY>\""
   ]
  },
  {
   "cell_type": "code",
   "execution_count": null,
   "metadata": {},
   "outputs": [],
   "source": [
    "%pip install okareo\n",
    "%pip install openai\n",
    "%pip install litellm"
   ]
  },
  {
   "cell_type": "code",
   "execution_count": null,
   "metadata": {},
   "outputs": [],
   "source": [
    "from litellm import completion\n",
    "import litellm\n",
    "from okareo.litellm_logger import LiteLLMLogger, LiteLLMLoggerMessage \n",
    "import random\n",
    "import string\n",
    "from typing import Optional, List, Any\n",
    "\n",
    "random_string = ''.join(random.choices(string.ascii_letters, k=5))\n",
    "\n",
    "callobj_one = LiteLLMLogger(\n",
    "    api_key=OKAREO_API_KEY,\n",
    "    mut_name=\"LiteLLMLogger-Example-\"+random_string,\n",
    "    context_token=random_string,\n",
    "    tags=[\"litellm_logger\"]\n",
    ")\n",
    "callobj_two = LiteLLMLoggerMessage(\n",
    "    api_key=OKAREO_API_KEY,\n",
    "    mut_name=\"LiteLLMLoggerMessage-Example-\"+random_string,\n",
    "    context_token=random_string,\n",
    "    tags=[\"litellm_logger_message\"]\n",
    ")\n",
    "\n",
    "# Define your own parser\n",
    "class MyCustomLogParser(LiteLLMLogger):\n",
    "    def __init__(\n",
    "        self,\n",
    "        api_key: str,\n",
    "        mut_name: str,\n",
    "        context_token: str,\n",
    "        tags: Optional[List[str]] = None,\n",
    "        host_address: Optional[str] = None,\n",
    "    ) -> None:\n",
    "        super().__init__(\n",
    "            api_key=api_key,\n",
    "            mut_name=mut_name,\n",
    "            context_token=context_token,\n",
    "            tags=tags,\n",
    "            host_address=host_address,\n",
    "        )\n",
    "    \n",
    "    def parse_response_obj(self, response_obj: Any) -> Any:\n",
    "        # print(response_obj)\n",
    "        return response_obj.choices[0].message\n",
    "\n",
    "callobj_three = MyCustomLogParser(\n",
    "    api_key=OKAREO_API_KEY,\n",
    "    mut_name=\"MyCustomLogParser-Example-\"+random_string,\n",
    "    context_token=random_string,\n",
    "    tags=[\"my_custom_log_parser\"]\n",
    ")\n",
    "\n",
    "litellm.callbacks = [callobj_one, callobj_two, callobj_three]\n",
    "\n",
    "messages = [{ \"content\": \"who is obama?\",\"role\": \"user\"}]\n",
    "\n",
    "response_comp = completion(\n",
    "  model=\"gpt-3.5-turbo\", \n",
    "  messages=messages\n",
    ")\n",
    "\n",
    "async def async_completion():\n",
    "    response = await litellm.acompletion(\n",
    "        model=\"gpt-3.5-turbo\", \n",
    "        messages=messages\n",
    "    )\n",
    "    return response\n",
    "\n",
    "response_acomp = await async_completion()\n",
    "\n",
    "print(response_comp)\n",
    "print(response_acomp)\n",
    "print(\"Visit https://okareo.com/ to see your examples\")"
   ]
  }
 ],
 "metadata": {
  "kernelspec": {
   "display_name": ".venv",
   "language": "python",
   "name": "python3"
  },
  "language_info": {
   "codemirror_mode": {
    "name": "ipython",
    "version": 3
   },
   "file_extension": ".py",
   "mimetype": "text/x-python",
   "name": "python",
   "nbconvert_exporter": "python",
   "pygments_lexer": "ipython3",
   "version": "3.11.2"
  }
 },
 "nbformat": 4,
 "nbformat_minor": 2
}
