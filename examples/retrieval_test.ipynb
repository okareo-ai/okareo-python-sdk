{
 "cells": [
  {
   "cell_type": "markdown",
   "metadata": {},
   "source": [
    "## From Zero Instructions:\n",
    "\n",
    "1. Install Okareo's Python SDK: &nbsp;&nbsp;  `pip install okareo`  &nbsp;&nbsp;  (just run the cell below)\n",
    "\n",
    "2. Get your API token from [https://app.okareo.com/](https://app.okareo.com/).  \n",
    "   (Note: You will need to register first.)\n",
    "\n",
    "3. Go directly to the **\"2. Create your API Token\"** link on the landing page. You can skip all other steps.\n",
    "\n",
    "4. Set the environment variable `OKAREO_API_KEY` to your generated API token."
   ]
  },
  {
   "cell_type": "code",
   "execution_count": null,
   "metadata": {},
   "outputs": [],
   "source": [
    "%pip install okareo "
   ]
  },
  {
   "cell_type": "code",
   "execution_count": 2,
   "metadata": {},
   "outputs": [
    {
     "name": "stdout",
     "output_type": "stream",
     "text": [
      "ScenarioSetResponse(scenario_id='899eae33-1ba7-4294-8f53-e705921ddb66', project_id='f7bfcff0-2b8d-4fec-ab20-51669cd3e732', time_created=datetime.datetime(2023, 12, 22, 18, 16, 35, 82899), type='SEED', tags=None, name='Retrieval Articles Scenario', seed_data=[], scenario_count=0, scenario_input=[], additional_properties={})\n"
     ]
    }
   ],
   "source": [
    "import os\n",
    "from okareo import Okareo\n",
    "\n",
    "OKAREO_API_KEY = os.environ[\"OKAREO_API_KEY\"]\n",
    "okareo = Okareo(OKAREO_API_KEY)\n",
    "\n",
    "response = okareo.upload_scenario_set(file_path='./webbizz_10_articles.jsonl', scenario_name=\"Retrieval Articles Scenario\")\n",
    "print(response) # use scenario set id in output for the next step"
   ]
  },
  {
   "cell_type": "code",
   "execution_count": 3,
   "metadata": {},
   "outputs": [
    {
     "name": "stdout",
     "output_type": "stream",
     "text": [
      "ScenarioSetResponse(scenario_id='e669afd5-9e7c-4cff-b28e-665722cf2cd3', project_id='f7bfcff0-2b8d-4fec-ab20-51669cd3e732', time_created=datetime.datetime(2023, 12, 22, 18, 16, 57, 981675), type='TEXT_REVERSE_QUESTION', tags=['seed:899eae33-1ba7-4294-8f53-e705921ddb66'], name='questions from retrieval articles', seed_data=[], scenario_count=0, scenario_input=[], additional_properties={})\n"
     ]
    }
   ],
   "source": [
    "import os\n",
    "from okareo import Okareo\n",
    "from okareo_api_client.models import ScenarioSetGenerate, ScenarioSetResponse, ScenarioType\n",
    "\n",
    "OKAREO_API_KEY = os.environ[\"OKAREO_API_KEY\"]\n",
    "okareo = Okareo(OKAREO_API_KEY)\n",
    "\n",
    "# Use scenario set id from previous step as source for generation \n",
    "response = okareo.generate_scenarios(\n",
    "    source_scenario_id=\"899eae33-1ba7-4294-8f53-e705921ddb66\",\n",
    "    name=\"questions from retrieval articles\",\n",
    "    number_examples=2,\n",
    "    generation_type=ScenarioType.TEXT_REVERSE_QUESTION\n",
    ")\n",
    "\n",
    "print(response)"
   ]
  },
  {
   "cell_type": "code",
   "execution_count": 4,
   "metadata": {},
   "outputs": [
    {
     "name": "stdout",
     "output_type": "stream",
     "text": [
      "743059de-4477-4565-9b68-851820ede87c\n",
      "{'Accuracy@k': {'1': 0.1, '2': 0.2, '3': 0.2, '4': 0.2, '5': 0.4, '6': 0.4, '7': 0.4, '8': 0.4, '9': 0.4, '10': 0.4}, 'Precision@k': {'1': 0.1, '2': 0.1, '3': 0.06666666666666667, '4': 0.05, '5': 0.08, '6': 0.06666666666666667, '7': 0.05714285714285714, '8': 0.05, '9': 0.04444444444444444, '10': 0.04}, 'Recall@k': {'1': 0.0027777777777777775, '2': 0.005555555555555555, '3': 0.005555555555555555, '4': 0.005555555555555555, '5': 0.01111111111111111, '6': 0.01111111111111111, '7': 0.01111111111111111, '8': 0.01111111111111111, '9': 0.01111111111111111, '10': 0.01111111111111111}, 'NDCG@k': {'1': 0.1, '2': 0.1, '3': 0.07653606369886216, '4': 0.06366824387328317, '5': 0.08155566250328272, '6': 0.07276484659536751, '7': 0.066097735196299, '8': 0.06082349691628743, '9': 0.05651988412225921, '10': 0.05292404454548767}, 'MRR@k': {'1': 0.1, '2': 0.15, '3': 0.15, '4': 0.15, '5': 0.19, '6': 0.19, '7': 0.19, '8': 0.19, '9': 0.19, '10': 0.19}, 'MAP@k': {'1': 0.1, '2': 0.075, '3': 0.05, '4': 0.0375, '5': 0.038, '6': 0.03166666666666666, '7': 0.027142857142857146, '8': 0.02375, '9': 0.021111111111111112, '10': 0.019}}\n"
     ]
    }
   ],
   "source": [
    "# perform a test run using a scenario set loaded in the previous cell \n",
    "import os\n",
    "import random\n",
    "from datetime import datetime\n",
    "from okareo import Okareo\n",
    "from okareo_api_client.models import TestRunType\n",
    "\n",
    "OKAREO_API_KEY = os.environ[\"OKAREO_API_KEY\"]\n",
    "okareo = Okareo(OKAREO_API_KEY)\n",
    "\n",
    "# Callable to be applied to each scenario in the scenario set\n",
    "def call_model(input: str):\n",
    "    # call your embedding model and vector db retrieval being tested here using <input> from the scenario set\n",
    "    # we are using a random response here for demonstration purposes\n",
    "    article_ids = [\n",
    "        \"75eaa363-dfcc-499f-b2af-1407b43cb133\",\n",
    "        \"ac0d464c-f673-44b8-8195-60c965e47525\",\n",
    "        \"35a4fd5b-453e-4ca6-9536-f20db7303344\",\n",
    "        \"a8a97b0e-8d9a-4a1c-b93e-83d2bc9e5266\",\n",
    "        \"0b85c12f-6ea6-4d4a-85de-6c6e9a9f8c78\",\n",
    "        \"cda67f1d-19f2-4b45-9f3e-3b8d67f8c6c5\",\n",
    "        \"6e4f1c97-3f7a-4fcd-a4a3-69c9817c8fd1\",\n",
    "        \"f658c264-4a8a-4c93-a6d7-9a3d75f5a6f3\",\n",
    "        \"aacf7a34-9d3a-4e2a-9a5c-91f2a0e8a12d\",\n",
    "        \"f1a37b5e-58c4-4f5a-bc42-1b70253b8bf3\"\n",
    "    ]\n",
    "    selected_ids = random.sample(article_ids, 5)   \n",
    "    scores = [5, 4, 3, 2, 1]\n",
    "    # higher score value means more relevant\n",
    "    parsed_ids_with_scores = [(id, score) for id, score in zip(selected_ids, scores)]\n",
    "\n",
    "    model_response =  {'matches': 'additional context from the model'} \n",
    "\n",
    "    # return a tuple of (parsed_ids_with_scores, overall model response context)\n",
    "    return parsed_ids_with_scores, model_response\n",
    "\n",
    "# this will return a model if it already exists or create a new one if it doesn't\n",
    "model_under_test = okareo.register_model(name=\"vectordb_retrieval\")\n",
    "\n",
    "# use the scenario id from the scenario set uploaded in the previous step\n",
    "scenario_id='899eae33-1ba7-4294-8f53-e705921ddb66'\n",
    "today_with_time = datetime.now().strftime('%m-%d %H:%M:%S')\n",
    "test_run_name=f\"Retrieval Test Run {today_with_time}\"\n",
    "\n",
    "test_run_item = model_under_test.run_test(scenario=response, \n",
    "                                          model_invoker=call_model, \n",
    "                                          name=test_run_name,\n",
    "                                          test_run_type=TestRunType.INFORMATION_RETRIEVAL)\n",
    "\n",
    "# display model level metrics for the test run\n",
    "print(test_run_item.id)\n",
    "print(test_run_item.model_metrics.to_dict())"
   ]
  },
  {
   "cell_type": "code",
   "execution_count": 5,
   "metadata": {},
   "outputs": [
    {
     "name": "stdout",
     "output_type": "stream",
     "text": [
      "ScenarioSetResponse(scenario_id='4985a909-0c64-4c4b-8a21-4f9336088408', project_id='5314b96c-4b20-4088-94af-5b0b6fcd7f88', time_created=datetime.datetime(2023, 10, 31, 7, 0, 10, 542662), type='SEED', tags=None, name='Retrieval Test Scenario', seed_data=[], scenario_input=[], additional_properties={})\n"
     ]
    }
   ],
   "source": [
    "# you could also upload the scenario questions directly from jsonl vs. generating them from paragraphs of text\n",
    "import os\n",
    "from okareo import Okareo\n",
    "\n",
    "OKAREO_API_KEY = os.environ[\"OKAREO_API_KEY\"]\n",
    "okareo = Okareo(OKAREO_API_KEY)\n",
    "\n",
    "response = okareo.upload_scenario_set(file_path='./webbizz_10_questions.jsonl', scenario_name=\"Retrieval Test Scenario\")\n",
    "print(response) "
   ]
  }
 ],
 "metadata": {
  "kernelspec": {
   "display_name": "Python 3",
   "language": "python",
   "name": "python3"
  },
  "language_info": {
   "codemirror_mode": {
    "name": "ipython",
    "version": 3
   },
   "file_extension": ".py",
   "mimetype": "text/x-python",
   "name": "python",
   "nbconvert_exporter": "python",
   "pygments_lexer": "ipython3",
   "version": "3.11.2"
  }
 },
 "nbformat": 4,
 "nbformat_minor": 2
}
