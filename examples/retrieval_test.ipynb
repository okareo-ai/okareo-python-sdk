{
 "cells": [
  {
   "cell_type": "markdown",
   "metadata": {},
   "source": [
    "## From Zero Instructions:\n",
    "\n",
    "1. Install Okareo's Python SDK: &nbsp;&nbsp;  `pip install okareo`  &nbsp;&nbsp;  (just run the cell below)\n",
    "\n",
    "2. Get your API token from [https://app.okareo.com/](https://app.okareo.com/).  \n",
    "   (Note: You will need to register first.)\n",
    "\n",
    "3. Go directly to the **\"2. Create your API Token\"** link on the landing page. You can skip all other steps.\n",
    "\n",
    "4. Set the environment variable `OKAREO_API_KEY` to your generated API token."
   ]
  },
  {
   "cell_type": "code",
   "execution_count": null,
   "metadata": {},
   "outputs": [],
   "source": [
    "%pip install okareo "
   ]
  },
  {
   "cell_type": "code",
   "execution_count": 3,
   "metadata": {},
   "outputs": [
    {
     "name": "stdout",
     "output_type": "stream",
     "text": [
      "ScenarioSetResponse(scenario_id='10187e98-ddc8-4c29-83ea-82b958d96704', project_id='f7bfcff0-2b8d-4fec-ab20-51669cd3e732', time_created=datetime.datetime(2024, 1, 9, 22, 26, 23, 999797), type='SEED', tags=None, name='Retrieval Articles Scenario', seed_data=[], scenario_count=0, scenario_input=[], additional_properties={})\n"
     ]
    }
   ],
   "source": [
    "import os\n",
    "from okareo import Okareo\n",
    "\n",
    "OKAREO_API_KEY = os.environ[\"OKAREO_API_KEY\"]\n",
    "okareo = Okareo(OKAREO_API_KEY)\n",
    "\n",
    "response = okareo.upload_scenario_set(file_path='./webbizz_10_articles.jsonl', scenario_name=\"Retrieval Articles Scenario\")\n",
    "print(response) # use scenario set id in output for the next step"
   ]
  },
  {
   "cell_type": "code",
   "execution_count": 4,
   "metadata": {},
   "outputs": [
    {
     "name": "stdout",
     "output_type": "stream",
     "text": [
      "ScenarioSetResponse(scenario_id='c8180e83-6e99-431c-ac34-a89c81a5541b', project_id='f7bfcff0-2b8d-4fec-ab20-51669cd3e732', time_created=datetime.datetime(2024, 1, 9, 22, 26, 24, 68783), type='TEXT_REVERSE_QUESTION', tags=['seed:899eae33-1ba7-4294-8f53-e705921ddb66'], name='questions from retrieval articles', seed_data=[], scenario_count=0, scenario_input=[], additional_properties={})\n"
     ]
    }
   ],
   "source": [
    "import os\n",
    "from okareo import Okareo\n",
    "from okareo_api_client.models import ScenarioSetGenerate, ScenarioSetResponse, ScenarioType\n",
    "\n",
    "OKAREO_API_KEY = os.environ[\"OKAREO_API_KEY\"]\n",
    "okareo = Okareo(OKAREO_API_KEY)\n",
    "\n",
    "# Use scenario set id from previous step as source for generation \n",
    "response = okareo.generate_scenarios(\n",
    "    source_scenario_id=\"899eae33-1ba7-4294-8f53-e705921ddb66\",\n",
    "    name=\"questions from retrieval articles\",\n",
    "    number_examples=2,\n",
    "    generation_type=ScenarioType.TEXT_REVERSE_QUESTION\n",
    ")\n",
    "\n",
    "print(response)"
   ]
  },
  {
   "cell_type": "code",
   "execution_count": 5,
   "metadata": {},
   "outputs": [
    {
     "name": "stdout",
     "output_type": "stream",
     "text": [
      "f0ab8b5b-88ef-4e29-85e9-f960d69028fe\n",
      "{'Accuracy@k': {'1': 0.05, '2': 0.15, '3': 0.25, '4': 0.35, '5': 0.4, '6': 0.4, '7': 0.4, '8': 0.4, '9': 0.4, '10': 0.4}, 'Precision@k': {'1': 0.05, '2': 0.075, '3': 0.08333333333333333, '4': 0.0875, '5': 0.08, '6': 0.06666666666666667, '7': 0.05714285714285714, '8': 0.05, '9': 0.04444444444444444, '10': 0.04}, 'Recall@k': {'1': 0.05, '2': 0.15, '3': 0.25, '4': 0.35, '5': 0.4, '6': 0.4, '7': 0.4, '8': 0.4, '9': 0.4, '10': 0.4}, 'NDCG@k': {'1': 0.05, '2': 0.11309297535714576, '3': 0.1630929753571458, '4': 0.20616063116448508, '5': 0.22550327152621213, '6': 0.22550327152621213, '7': 0.22550327152621213, '8': 0.22550327152621213, '9': 0.22550327152621213, '10': 0.22550327152621213}, 'MRR@k': {'1': 0.05, '2': 0.1, '3': 0.13333333333333336, '4': 0.15833333333333335, '5': 0.16833333333333336, '6': 0.16833333333333336, '7': 0.16833333333333336, '8': 0.16833333333333336, '9': 0.16833333333333336, '10': 0.16833333333333336}, 'MAP@k': {'1': 0.05, '2': 0.1, '3': 0.13333333333333333, '4': 0.15833333333333333, '5': 0.1683333333333333, '6': 0.1683333333333333, '7': 0.1683333333333333, '8': 0.1683333333333333, '9': 0.1683333333333333, '10': 0.1683333333333333}}\n"
     ]
    }
   ],
   "source": [
    "# perform a test run using a scenario set loaded in the previous cell \n",
    "import os\n",
    "import random\n",
    "from datetime import datetime\n",
    "from okareo import Okareo\n",
    "from okareo_api_client.models import TestRunType\n",
    "from okareo.model_under_test import CustomModel\n",
    "\n",
    "OKAREO_API_KEY = os.environ[\"OKAREO_API_KEY\"]\n",
    "okareo = Okareo(OKAREO_API_KEY)\n",
    "\n",
    "# Callable to be applied to each scenario in the scenario set\n",
    "def call_model(input: str):\n",
    "    # call your embedding model and vector db retrieval being tested here using <input> from the scenario set\n",
    "    # we are using a random response here for demonstration purposes\n",
    "    article_ids = [\n",
    "        \"75eaa363-dfcc-499f-b2af-1407b43cb133\",\n",
    "        \"ac0d464c-f673-44b8-8195-60c965e47525\",\n",
    "        \"35a4fd5b-453e-4ca6-9536-f20db7303344\",\n",
    "        \"a8a97b0e-8d9a-4a1c-b93e-83d2bc9e5266\",\n",
    "        \"0b85c12f-6ea6-4d4a-85de-6c6e9a9f8c78\",\n",
    "        \"cda67f1d-19f2-4b45-9f3e-3b8d67f8c6c5\",\n",
    "        \"6e4f1c97-3f7a-4fcd-a4a3-69c9817c8fd1\",\n",
    "        \"f658c264-4a8a-4c93-a6d7-9a3d75f5a6f3\",\n",
    "        \"aacf7a34-9d3a-4e2a-9a5c-91f2a0e8a12d\",\n",
    "        \"f1a37b5e-58c4-4f5a-bc42-1b70253b8bf3\"\n",
    "    ]\n",
    "    selected_ids = random.sample(article_ids, 5)   \n",
    "    scores = [5, 4, 3, 2, 1]\n",
    "    # higher score value means more relevant\n",
    "    parsed_ids_with_scores = [(id, score) for id, score in zip(selected_ids, scores)]\n",
    "\n",
    "    model_response =  {'matches': 'additional context from the model'} \n",
    "\n",
    "    # return a tuple of (parsed_ids_with_scores, overall model response context)\n",
    "    return parsed_ids_with_scores, model_response\n",
    "\n",
    "# this will return a model if it already exists or create a new one if it doesn't\n",
    "model_under_test = okareo.register_model(name=\"vectordb_retrieval_test\", model=CustomModel(model_invoker=call_model, name=\"custom retrieval\"))\n",
    "\n",
    "\n",
    "today_with_time = datetime.now().strftime('%m-%d %H:%M:%S')\n",
    "test_run_name=f\"Retrieval Test Run {today_with_time}\"\n",
    "\n",
    "test_run_item = model_under_test.run_test(scenario=response, # use the scenario from the scenario set uploaded in the previous step\n",
    "                                          name=test_run_name,\n",
    "                                          test_run_type=TestRunType.INFORMATION_RETRIEVAL,\n",
    "                                          calculate_metrics=True)\n",
    "\n",
    "# display model level metrics for the test run\n",
    "print(test_run_item.id)\n",
    "print(test_run_item.model_metrics.to_dict())"
   ]
  },
  {
   "cell_type": "code",
   "execution_count": 6,
   "metadata": {},
   "outputs": [
    {
     "name": "stdout",
     "output_type": "stream",
     "text": [
      "ScenarioSetResponse(scenario_id='7cb5504b-2777-413a-8932-7fad4e0dd017', project_id='f7bfcff0-2b8d-4fec-ab20-51669cd3e732', time_created=datetime.datetime(2024, 1, 9, 22, 27, 6, 243612), type='SEED', tags=None, name='Retrieval Test Scenario', seed_data=[], scenario_count=0, scenario_input=[], additional_properties={})\n"
     ]
    }
   ],
   "source": [
    "# you could also upload the scenario questions directly from jsonl vs. generating them from paragraphs of text\n",
    "import os\n",
    "from okareo import Okareo\n",
    "\n",
    "OKAREO_API_KEY = os.environ[\"OKAREO_API_KEY\"]\n",
    "okareo = Okareo(OKAREO_API_KEY)\n",
    "\n",
    "response = okareo.upload_scenario_set(file_path='./webbizz_10_questions.jsonl', scenario_name=\"Retrieval Test Scenario\")\n",
    "print(response) "
   ]
  },
  {
   "cell_type": "code",
   "execution_count": null,
   "metadata": {},
   "outputs": [],
   "source": []
  }
 ],
 "metadata": {
  "kernelspec": {
   "display_name": "Python 3",
   "language": "python",
   "name": "python3"
  },
  "language_info": {
   "codemirror_mode": {
    "name": "ipython",
    "version": 3
   },
   "file_extension": ".py",
   "mimetype": "text/x-python",
   "name": "python",
   "nbconvert_exporter": "python",
   "pygments_lexer": "ipython3",
   "version": "3.11.2"
  }
 },
 "nbformat": 4,
 "nbformat_minor": 2
}
