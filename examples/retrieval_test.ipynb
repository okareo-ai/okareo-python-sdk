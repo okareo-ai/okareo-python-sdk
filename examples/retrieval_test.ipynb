{
 "cells": [
  {
   "cell_type": "markdown",
   "metadata": {},
   "source": [
    "## From Zero Instructions:\n",
    "\n",
    "1. Install Okareo's Python SDK: &nbsp;&nbsp;  `pip install okareo`  &nbsp;&nbsp;  (just run the cell below)\n",
    "\n",
    "2. Get your API token from [https://app.okareo.com/](https://app.okareo.com/).  \n",
    "   (Note: You will need to register first.)\n",
    "\n",
    "3. Go directly to the **\"2. Create your API Token\"** link on the landing page. You can skip all other steps.\n",
    "\n",
    "4. Set the environment variable `OKAREO_API_KEY` to your generated API token."
   ]
  },
  {
   "cell_type": "code",
   "execution_count": null,
   "metadata": {},
   "outputs": [],
   "source": [
    "%pip install okareo "
   ]
  },
  {
   "cell_type": "code",
   "execution_count": 2,
   "metadata": {},
   "outputs": [
    {
     "name": "stdout",
     "output_type": "stream",
     "text": [
      "ScenarioSetResponse(scenario_id='2524063b-2faf-4762-8cfd-b1d6e02666f5', project_id='f7bfcff0-2b8d-4fec-ab20-51669cd3e732', time_created=datetime.datetime(2024, 1, 11, 0, 10, 10, 921425), type='SEED', tags=None, name='Retrieval Articles Scenario', seed_data=[], scenario_count=0, scenario_input=[], additional_properties={})\n"
     ]
    }
   ],
   "source": [
    "import os\n",
    "from okareo import Okareo\n",
    "\n",
    "OKAREO_API_KEY = os.environ[\"OKAREO_API_KEY\"]\n",
    "okareo = Okareo(OKAREO_API_KEY)\n",
    "\n",
    "response = okareo.upload_scenario_set(file_path='./webbizz_10_articles.jsonl', scenario_name=\"Retrieval Articles Scenario\")\n",
    "print(response) # use scenario set id in output for the next step"
   ]
  },
  {
   "cell_type": "code",
   "execution_count": 3,
   "metadata": {},
   "outputs": [
    {
     "name": "stdout",
     "output_type": "stream",
     "text": [
      "ScenarioSetResponse(scenario_id='b1551494-7d58-49a2-a83d-47fdf049e9ba', project_id='f7bfcff0-2b8d-4fec-ab20-51669cd3e732', time_created=datetime.datetime(2024, 1, 11, 0, 10, 10, 982245), type='TEXT_REVERSE_QUESTION', tags=['seed:899eae33-1ba7-4294-8f53-e705921ddb66'], name='questions from retrieval articles', seed_data=[], scenario_count=0, scenario_input=[], additional_properties={})\n"
     ]
    }
   ],
   "source": [
    "import os\n",
    "from okareo import Okareo\n",
    "from okareo_api_client.models import ScenarioSetGenerate, ScenarioSetResponse, ScenarioType\n",
    "\n",
    "OKAREO_API_KEY = os.environ[\"OKAREO_API_KEY\"]\n",
    "okareo = Okareo(OKAREO_API_KEY)\n",
    "\n",
    "# Use scenario set id from previous step as source for generation \n",
    "response = okareo.generate_scenarios(\n",
    "    source_scenario_id=\"899eae33-1ba7-4294-8f53-e705921ddb66\",\n",
    "    name=\"questions from retrieval articles\",\n",
    "    number_examples=2,\n",
    "    generation_type=ScenarioType.TEXT_REVERSE_QUESTION\n",
    ")\n",
    "\n",
    "print(response)"
   ]
  },
  {
   "cell_type": "code",
   "execution_count": 4,
   "metadata": {},
   "outputs": [
    {
     "name": "stdout",
     "output_type": "stream",
     "text": [
      "08f3c168-38e7-4eaa-ba8d-64bbb970d725\n",
      "{'Accuracy@k': {'1': 0.15, '2': 0.25, '3': 0.4, '4': 0.55, '5': 0.55, '6': 0.55, '7': 0.55, '8': 0.55, '9': 0.55, '10': 0.55}, 'Precision@k': {'1': 0.15, '2': 0.125, '3': 0.13333333333333336, '4': 0.1375, '5': 0.11000000000000001, '6': 0.09166666666666667, '7': 0.07857142857142856, '8': 0.06875, '9': 0.061111111111111116, '10': 0.05500000000000001}, 'Recall@k': {'1': 0.15, '2': 0.25, '3': 0.4, '4': 0.55, '5': 0.55, '6': 0.55, '7': 0.55, '8': 0.55, '9': 0.55, '10': 0.55}, 'NDCG@k': {'1': 0.15, '2': 0.21309297535714578, '3': 0.2880929753571458, '4': 0.3526944590681547, '5': 0.3526944590681547, '6': 0.3526944590681547, '7': 0.3526944590681547, '8': 0.3526944590681547, '9': 0.3526944590681547, '10': 0.3526944590681547}, 'MRR@k': {'1': 0.15, '2': 0.2, '3': 0.25, '4': 0.2875, '5': 0.2875, '6': 0.2875, '7': 0.2875, '8': 0.2875, '9': 0.2875, '10': 0.2875}, 'MAP@k': {'1': 0.15, '2': 0.2, '3': 0.25, '4': 0.2875, '5': 0.2875, '6': 0.2875, '7': 0.2875, '8': 0.2875, '9': 0.2875, '10': 0.2875}}\n"
     ]
    }
   ],
   "source": [
    "# perform a test run using a scenario set loaded in the previous cell \n",
    "import os\n",
    "import random\n",
    "from datetime import datetime\n",
    "from okareo import Okareo\n",
    "from okareo_api_client.models import TestRunType\n",
    "from okareo.model_under_test import CustomModel\n",
    "\n",
    "OKAREO_API_KEY = os.environ[\"OKAREO_API_KEY\"]\n",
    "okareo = Okareo(OKAREO_API_KEY)\n",
    "\n",
    "# Callable to be applied to each scenario in the scenario set\n",
    "def call_model(input: str):\n",
    "    # call your embedding model and vector db retrieval being tested here using <input> from the scenario set\n",
    "    # we are using a random response here for demonstration purposes\n",
    "    article_ids = [\n",
    "        \"75eaa363-dfcc-499f-b2af-1407b43cb133\",\n",
    "        \"ac0d464c-f673-44b8-8195-60c965e47525\",\n",
    "        \"35a4fd5b-453e-4ca6-9536-f20db7303344\",\n",
    "        \"a8a97b0e-8d9a-4a1c-b93e-83d2bc9e5266\",\n",
    "        \"0b85c12f-6ea6-4d4a-85de-6c6e9a9f8c78\",\n",
    "        \"cda67f1d-19f2-4b45-9f3e-3b8d67f8c6c5\",\n",
    "        \"6e4f1c97-3f7a-4fcd-a4a3-69c9817c8fd1\",\n",
    "        \"f658c264-4a8a-4c93-a6d7-9a3d75f5a6f3\",\n",
    "        \"aacf7a34-9d3a-4e2a-9a5c-91f2a0e8a12d\",\n",
    "        \"f1a37b5e-58c4-4f5a-bc42-1b70253b8bf3\"\n",
    "    ]\n",
    "    selected_ids = random.sample(article_ids, 5)   \n",
    "    scores = [5, 4, 3, 2, 1]\n",
    "    # higher score value means more relevant\n",
    "    parsed_ids_with_scores = [(id, score) for id, score in zip(selected_ids, scores)]\n",
    "\n",
    "    model_response =  {'matches': 'additional context from the model'} \n",
    "\n",
    "    # return a tuple of (parsed_ids_with_scores, overall model response context)\n",
    "    return parsed_ids_with_scores, model_response\n",
    "\n",
    "class RetrievalModel(CustomModel):\n",
    "    def invoke(self, input: str):\n",
    "        return call_model(input)\n",
    "\n",
    "# this will return a model if it already exists or create a new one if it doesn't\n",
    "model_under_test = okareo.register_model(name=\"vectordb_retrieval_test\", model=RetrievalModel(name=\"custom retrieval\"))\n",
    "\n",
    "\n",
    "today_with_time = datetime.now().strftime('%m-%d %H:%M:%S')\n",
    "test_run_name=f\"Retrieval Test Run {today_with_time}\"\n",
    "\n",
    "test_run_item = model_under_test.run_test(scenario=response, # use the scenario from the scenario set uploaded in the previous step\n",
    "                                          name=test_run_name,\n",
    "                                          test_run_type=TestRunType.INFORMATION_RETRIEVAL,\n",
    "                                          calculate_metrics=True)\n",
    "\n",
    "# display model level metrics for the test run\n",
    "print(test_run_item.id)\n",
    "print(test_run_item.model_metrics.to_dict())"
   ]
  }
 ],
 "metadata": {
  "kernelspec": {
   "display_name": "Python 3",
   "language": "python",
   "name": "python3"
  },
  "language_info": {
   "codemirror_mode": {
    "name": "ipython",
    "version": 3
   },
   "file_extension": ".py",
   "mimetype": "text/x-python",
   "name": "python",
   "nbconvert_exporter": "python",
   "pygments_lexer": "ipython3",
   "version": "3.11.2"
  }
 },
 "nbformat": 4,
 "nbformat_minor": 2
}
