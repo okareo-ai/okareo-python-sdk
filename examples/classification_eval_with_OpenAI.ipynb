{
 "cells": [
  {
   "cell_type": "markdown",
   "metadata": {},
   "source": [
    "## From Zero Instructions:\n",
    "\n",
    "1. Install Okareo's Python SDK: &nbsp;&nbsp;  `pip install okareo`  &nbsp;&nbsp;  (just run the cell below)\n",
    "\n",
    "2. Get your API token from [https://app.okareo.com/](https://app.okareo.com/).  \n",
    "   (Note: You will need to register first.)\n",
    "\n",
    "3. Go directly to the **\"2. Create your API Token\"** link on the landing page. You can skip all other steps.\n",
    "\n",
    "4. Set the environment variable `OKAREO_API_KEY` to your generated API token.\n",
    "\n",
    "5. Add your OpenAI key.  OpenAI is only needed for example purposes.  If you have your own model, you can substitute those in it's place."
   ]
  },
  {
   "cell_type": "code",
   "execution_count": null,
   "metadata": {},
   "outputs": [],
   "source": [
    "%pip install okareo\n",
    "%pip install openai"
   ]
  },
  {
   "cell_type": "code",
   "execution_count": 2,
   "metadata": {},
   "outputs": [],
   "source": [
    "# Setup the environment for your notebook\n",
    "import os\n",
    "\n",
    "OKAREO_API_KEY = os.environ[\"OKAREO_API_KEY\"]\n",
    "OPENAI_API_KEY = os.environ[\"OPENAI_API_KEY\"]"
   ]
  },
  {
   "cell_type": "code",
   "execution_count": 3,
   "metadata": {},
   "outputs": [],
   "source": [
    "# Simple adhoc classifier using OpenAI'a GPT 3.5 Turbo model\n",
    "\n",
    "USER_PROMPT_TEMPLATE = \"{input}\"\n",
    "\n",
    "CLASSIFICATION_CONTEXT_TEMPLATE = \"\"\"\n",
    "You will be provided a question from a customer.\n",
    "Classify the question into a customer category and sub-category.\n",
    "Provide the output with only the category name.\n",
    "\n",
    "Categories: Technical Support, Billing, Account Management, General Inquiry, Unknown\n",
    "\n",
    "Sub-Categories for Technical Support:\n",
    "Troubleshooting\n",
    "Product features\n",
    "Product updates\n",
    "Integration options\n",
    "Found a problem\n",
    "\n",
    "Sub-Categories for Billing:\n",
    "Unsubscribe\n",
    "Upgrade\n",
    "Explain my bill\n",
    "Change payment\n",
    "Dispute a charge\n",
    "\n",
    "Sub-Categories for Account Management:\n",
    "Add a team member\n",
    "Change or Update details\n",
    "Password reset\n",
    "Close account\n",
    "Security\n",
    "\n",
    "Sub-Categories for General Inquiry:\n",
    "Contact sales\n",
    "Product information\n",
    "Pricing\n",
    "Feedback\n",
    "Speak to a human\n",
    "\"\"\"\n",
    "\n"
   ]
  },
  {
   "cell_type": "code",
   "execution_count": 4,
   "metadata": {},
   "outputs": [
    {
     "name": "stdout",
     "output_type": "stream",
     "text": [
      "Billing\n"
     ]
    }
   ],
   "source": [
    "from openai import OpenAI\n",
    "# EXAMPLE calling the OpenAI classifier directly to play with how it responds to different inputs\n",
    "client = OpenAI(api_key=OPENAI_API_KEY)\n",
    "\n",
    "def get_turbo_classification(messages, model=\"gpt-3.5-turbo\", \n",
    "  temperature=0, max_tokens=500):\n",
    "  response = client.chat.completions.create(\n",
    "    model=model,\n",
    "    messages=messages,\n",
    "    temperature=temperature, \n",
    "    max_tokens=max_tokens,\n",
    "  )\n",
    "  return response.choices[0].message.content\n",
    "\n",
    "user_message = \"I can't connect my CRM\"\n",
    "user_message_unsub= \"Please unsubscribe me from your service\"\n",
    "user_message_crazy= \"My cat is on fire.\"\n",
    "messages =  [  \n",
    "    {'role':'system', 'content': CLASSIFICATION_CONTEXT_TEMPLATE},    \n",
    "    {'role':'user', 'content': user_message_unsub}\n",
    "]\n",
    "\n",
    "class_response = get_turbo_classification(messages)\n",
    "print(class_response)"
   ]
  },
  {
   "cell_type": "code",
   "execution_count": 5,
   "metadata": {},
   "outputs": [
    {
     "name": "stdout",
     "output_type": "stream",
     "text": [
      "ScenarioSetResponse(scenario_id='2ff4de83-a842-4812-b44b-d47e075feefb', project_id='394c2c12-be7a-47a6-911b-d6c673bc543b', time_created=datetime.datetime(2024, 1, 18, 21, 13, 46, 24199), type='SEED', tags=None, name='OpenAI AdHoc Category - kSwaD', seed_data=[SeedData(input_='Can I connect my CRM?', result='Technical Support', additional_properties={}), SeedData(input_='Do you have a way to send marketing emails?', result='Technical Support', additional_properties={}), SeedData(input_='Can I get invoiced instead of using a credit card?', result='Billing', additional_properties={}), SeedData(input_='My CRM integration is not working.', result='Technical Support', additional_properties={}), SeedData(input_='Do you have SOC II tpye 2 certification?', result='Account Management', additional_properties={}), SeedData(input_='I like the product.  Please connect me to your enterprise team.', result='General Inquiry', additional_properties={})], scenario_count=0, scenario_input=[], additional_properties={})\n",
      "https://app.okareo.com/project/394c2c12-be7a-47a6-911b-d6c673bc543b/scenario/2ff4de83-a842-4812-b44b-d47e075feefb\n"
     ]
    }
   ],
   "source": [
    "# Create a scenario to evaluate the model with and get a link to the Scenario in Okareo\n",
    "import random\n",
    "import string\n",
    "from okareo import Okareo\n",
    "from okareo_api_client.models import ScenarioSetCreate, ScenarioSetResponse, SeedData, ScenarioType\n",
    "\n",
    "okareo = Okareo(OKAREO_API_KEY)\n",
    "\n",
    "# Generate example scenario based on seed data and return results in one call\n",
    "random_string = ''.join(random.choices(string.ascii_letters, k=5))\n",
    "scenario_set_create = ScenarioSetCreate(\n",
    "    name=f\"OpenAI AdHoc Category - {random_string}\",\n",
    "    number_examples=1,\n",
    "    generation_type=ScenarioType.SEED,\n",
    "    seed_data=[\n",
    "        SeedData(\n",
    "            input_=\"Can I connect my CRM?\",  \n",
    "            result=\"Technical Support\"\n",
    "        ),\n",
    "        SeedData(\n",
    "            input_=\"Do you have a way to send marketing emails?\",  \n",
    "            result=\"Technical Support\"\n",
    "        ),\n",
    "        SeedData(\n",
    "            input_=\"Can I get invoiced instead of using a credit card?\", \n",
    "            result=\"Billing\"\n",
    "        ),\n",
    "        SeedData(\n",
    "            input_=\"My CRM integration is not working.\", \n",
    "            result=\"Technical Support\"\n",
    "        ),\n",
    "        SeedData(\n",
    "            input_=\"Do you have SOC II tpye 2 certification?\", \n",
    "            result=\"Account Management\"\n",
    "        ),\n",
    "        SeedData(\n",
    "            input_=\"I like the product.  Please connect me to your enterprise team.\", \n",
    "            result=\"General Inquiry\"\n",
    "        )\n",
    "    ],\n",
    ")\n",
    "scenario = okareo.create_scenario_set(scenario_set_create)\n",
    "print(scenario)\n",
    "print(scenario.app_link)"
   ]
  },
  {
   "cell_type": "code",
   "execution_count": 6,
   "metadata": {},
   "outputs": [
    {
     "name": "stdout",
     "output_type": "stream",
     "text": [
      "https://app.okareo.com/project/394c2c12-be7a-47a6-911b-d6c673bc543b/eval/34df0a35-28cb-49cf-ad4f-482d02207096\n"
     ]
    }
   ],
   "source": [
    "# Run the evaluation on the model and get a link to the results in Okareo\n",
    "import random\n",
    "import string\n",
    "from okareo import Okareo\n",
    "from okareo.model_under_test import OpenAIModel\n",
    "from okareo_api_client.models.test_run_type import TestRunType\n",
    "\n",
    "okareo = Okareo(OKAREO_API_KEY)\n",
    "random_string = ''.join(random.choices(string.ascii_letters, k=5))\n",
    "\n",
    "# Establish the model that is being evaluated, at minimum this is a named model for future reference\n",
    "model_under_test = okareo.register_model(\n",
    "        # name=f\"AdHoc OpenAI Classifier - {random_string}\",\n",
    "        name=f\"AdHoc OpenAI Classifier - CHANGE TEST\",\n",
    "        model=OpenAIModel(\n",
    "            model_id=\"gpt-3.5-turbo\",\n",
    "            temperature=0,\n",
    "            system_prompt_template=CLASSIFICATION_CONTEXT_TEMPLATE,\n",
    "            user_prompt_template=USER_PROMPT_TEMPLATE,\n",
    "        ),\n",
    "    )\n",
    "\n",
    "# run the test and call the model for each item in the scenario set\n",
    "evaluation = model_under_test.run_test(\n",
    "        name=f\"adhoc-class-run-{random_string}\",\n",
    "        scenario=scenario,\n",
    "        api_key=OPENAI_API_KEY,\n",
    "        test_run_type=TestRunType.MULTI_CLASS_CLASSIFICATION,\n",
    "        calculate_metrics=True,\n",
    "    )\n",
    "\n",
    "print(evaluation.app_link)"
   ]
  }
 ],
 "metadata": {
  "kernelspec": {
   "display_name": ".venv",
   "language": "python",
   "name": "python3"
  },
  "language_info": {
   "codemirror_mode": {
    "name": "ipython",
    "version": 3
   },
   "file_extension": ".py",
   "mimetype": "text/x-python",
   "name": "python",
   "nbconvert_exporter": "python",
   "pygments_lexer": "ipython3",
   "version": "3.11.2"
  }
 },
 "nbformat": 4,
 "nbformat_minor": 2
}
