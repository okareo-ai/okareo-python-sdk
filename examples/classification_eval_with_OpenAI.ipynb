{
 "cells": [
  {
   "cell_type": "markdown",
   "metadata": {},
   "source": [
    "<a target=\"_blank\" href=\"https://colab.research.google.com/github/okareo-ai/okareo-python-sdk/blob/main/examples/classification_eval_with_OpenAI.ipynb\">\n",
    "  <img src=\"https://colab.research.google.com/assets/colab-badge.svg\" alt=\"Open In Colab\"/>\n",
    "</a>\n",
    "\n",
    "## Evaluate classification with OpenAI:\n",
    "\n",
    "1. Install Okareo's Python SDK: &nbsp;&nbsp;  `pip install okareo`  &nbsp;&nbsp;\n",
    "\n",
    "2. Get your API token from [https://app.okareo.com/](https://app.okareo.com/).  \n",
    "   (Note: You will need to register first.)\n",
    "\n",
    "3. Go directly to the API settings by clicking the button under **\"1. Create API Token\"**. You can skip all other steps.\n",
    "\n",
    "4. Add your generated API token to the cell below. 👇\n",
    "\n",
    "5. Add your OpenAI key.  OpenAI is only needed for example purposes.  If you have your own model, you can substitute those in it's place."
   ]
  },
  {
   "cell_type": "code",
   "execution_count": 1,
   "metadata": {},
   "outputs": [],
   "source": [
    "OKAREO_API_KEY = \"<YOUR-OKAREO-API-KEY>\"\n",
    "OPENAI_API_KEY = \"<YOUR-OPENAI-API-KEY>\""
   ]
  },
  {
   "cell_type": "code",
   "execution_count": null,
   "metadata": {},
   "outputs": [],
   "source": [
    "%pip install okareo\n",
    "%pip install openai"
   ]
  },
  {
   "cell_type": "code",
   "execution_count": 2,
   "metadata": {},
   "outputs": [],
   "source": [
    "# Simple adhoc classifier using OpenAI'a GPT 3.5 Turbo model\n",
    "\n",
    "USER_PROMPT_TEMPLATE = \"{input}\"\n",
    "\n",
    "CLASSIFICATION_CONTEXT_TEMPLATE = \"\"\"\n",
    "You will be provided a question from a customer.\n",
    "Classify the question into a customer category and sub-category.\n",
    "Provide the output with only the category name.\n",
    "\n",
    "Categories: Technical Support, Billing, Account Management, General Inquiry, Unknown\n",
    "\n",
    "Sub-Categories for Technical Support:\n",
    "Troubleshooting\n",
    "Product features\n",
    "Product updates\n",
    "Integration options\n",
    "Found a problem\n",
    "\n",
    "Sub-Categories for Billing:\n",
    "Unsubscribe\n",
    "Upgrade\n",
    "Explain my bill\n",
    "Change payment\n",
    "Dispute a charge\n",
    "\n",
    "Sub-Categories for Account Management:\n",
    "Add a team member\n",
    "Change or Update details\n",
    "Password reset\n",
    "Close account\n",
    "Security\n",
    "\n",
    "Sub-Categories for General Inquiry:\n",
    "Contact sales\n",
    "Product information\n",
    "Pricing\n",
    "Feedback\n",
    "Speak to a human\n",
    "\"\"\""
   ]
  },
  {
   "cell_type": "code",
   "execution_count": 3,
   "metadata": {},
   "outputs": [
    {
     "name": "stdout",
     "output_type": "stream",
     "text": [
      "Billing\n"
     ]
    }
   ],
   "source": [
    "# EXAMPLE calling the OpenAI classifier directly to play with how it responds to different inputs\n",
    "\n",
    "from openai import OpenAI\n",
    "client = OpenAI(api_key=OPENAI_API_KEY)\n",
    "\n",
    "def get_turbo_classification(messages, model=\"gpt-3.5-turbo\", \n",
    "  temperature=0, max_tokens=500):\n",
    "  response = client.chat.completions.create(\n",
    "    model=model,\n",
    "    messages=messages,\n",
    "    temperature=temperature, \n",
    "    max_tokens=max_tokens,\n",
    "  )\n",
    "  return response.choices[0].message.content\n",
    "\n",
    "user_message = \"I can't connect my CRM\"\n",
    "user_message_unsub= \"Please unsubscribe me from your service\"\n",
    "user_message_crazy= \"My cat is on fire.\"\n",
    "messages =  [  \n",
    "    {'role':'system', 'content': CLASSIFICATION_CONTEXT_TEMPLATE},    \n",
    "    {'role':'user', 'content': user_message_unsub}\n",
    "]\n",
    "\n",
    "class_response = get_turbo_classification(messages)\n",
    "print(class_response)"
   ]
  },
  {
   "cell_type": "code",
   "execution_count": 5,
   "metadata": {},
   "outputs": [
    {
     "name": "stdout",
     "output_type": "stream",
     "text": [
      "https://app.okareo.com/project/9255bce6-8704-42f7-8e8d-867f13cd9328/eval/30568c66-faf4-4ceb-902a-9ab04912a790\n"
     ]
    }
   ],
   "source": [
    "# Run the evaluation on the model and get a link to the results in Okareo\n",
    "import random\n",
    "import string\n",
    "from okareo import Okareo\n",
    "from okareo.model_under_test import OpenAIModel\n",
    "from okareo_api_client.models.test_run_type import TestRunType\n",
    "from okareo_api_client.models import ScenarioSetCreate, SeedData, ScenarioType\n",
    "\n",
    "okareo = Okareo(OKAREO_API_KEY)\n",
    "random_string = ''.join(random.choices(string.ascii_letters, k=5))\n",
    "\n",
    "# Establish the model that is being evaluated, at minimum this is a named model for future reference\n",
    "model_under_test = okareo.register_model(\n",
    "        # name=f\"AdHoc OpenAI Classifier - {random_string}\",\n",
    "        name=f\"AdHoc OpenAI Classifier - CHANGE TEST\",\n",
    "        model=OpenAIModel(\n",
    "            model_id=\"gpt-3.5-turbo\",\n",
    "            temperature=0,\n",
    "            system_prompt_template=CLASSIFICATION_CONTEXT_TEMPLATE,\n",
    "            user_prompt_template=USER_PROMPT_TEMPLATE,\n",
    "        ),\n",
    "    )\n",
    "\n",
    "# Generate example scenario based on seed data\n",
    "random_string = ''.join(random.choices(string.ascii_letters, k=5))\n",
    "scenario_set_create = ScenarioSetCreate(\n",
    "    name=f\"OpenAI AdHoc Category - {random_string}\",\n",
    "    seed_data=[\n",
    "        SeedData(\n",
    "            input_=\"Can I connect my CRM?\",  \n",
    "            result=\"Technical Support\"\n",
    "        ),\n",
    "        SeedData(\n",
    "            input_=\"Do you have a way to send marketing emails?\",  \n",
    "            result=\"Technical Support\"\n",
    "        ),\n",
    "        SeedData(\n",
    "            input_=\"Can I get invoiced instead of using a credit card?\", \n",
    "            result=\"Billing\"\n",
    "        ),\n",
    "        SeedData(\n",
    "            input_=\"My CRM integration is not working.\", \n",
    "            result=\"Technical Support\"\n",
    "        ),\n",
    "        SeedData(\n",
    "            input_=\"Do you have SOC II tpye 2 certification?\", \n",
    "            result=\"Account Management\"\n",
    "        ),\n",
    "        SeedData(\n",
    "            input_=\"I like the product.  Please connect me to your enterprise team.\", \n",
    "            result=\"General Inquiry\"\n",
    "        )\n",
    "    ],\n",
    ")\n",
    "scenario = okareo.create_scenario_set(scenario_set_create)\n",
    "\n",
    "# run the test and call the model for each item in the scenario set\n",
    "evaluation = model_under_test.run_test(\n",
    "        name=f\"adhoc-class-run-{random_string}\",\n",
    "        scenario=scenario,\n",
    "        api_key=OPENAI_API_KEY,\n",
    "        test_run_type=TestRunType.MULTI_CLASS_CLASSIFICATION,\n",
    "        calculate_metrics=True,\n",
    "    )\n",
    "\n",
    "print(evaluation.app_link)"
   ]
  }
 ],
 "metadata": {
  "kernelspec": {
   "display_name": ".venv",
   "language": "python",
   "name": "python3"
  },
  "language_info": {
   "codemirror_mode": {
    "name": "ipython",
    "version": 3
   },
   "file_extension": ".py",
   "mimetype": "text/x-python",
   "name": "python",
   "nbconvert_exporter": "python",
   "pygments_lexer": "ipython3",
   "version": "3.11.2"
  }
 },
 "nbformat": 4,
 "nbformat_minor": 2
}
