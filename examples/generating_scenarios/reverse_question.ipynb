{
 "cells": [
  {
   "cell_type": "markdown",
   "metadata": {},
   "source": [
    "# Reverse Question Generator\n",
    "\n",
    "This is a demo of the Okareo reverse question generator. The reverse question generator is useful when you would like to automatically create test cases for retrieval models.\n",
    "\n",
    "The generator can take documents as inputs and generate questions where the answers are in said documents.\n",
    "\n",
    "For example, suppose that we have the following `document`:\n",
    "\n",
    "```The quick brown fox jumps over the lazy dog.```\n",
    "\n",
    "Then the reverse question generator might produce questions like the following:\n",
    "\n",
    "```What type of fox jumps over the dog?```\n",
    "\n",
    "```What does the fox do?```\n",
    "\n",
    "```How would you describe the dog?```"
   ]
  },
  {
   "cell_type": "markdown",
   "metadata": {},
   "source": [
    "To showcase the reverse question generator, we load a subset of the [Game Recommendations on Steam dataset (Kaggle)](https://www.kaggle.com/datasets/antonkozyriev/game-recommendations-on-steam) and pick a few representative samples."
   ]
  },
  {
   "cell_type": "code",
   "execution_count": 1,
   "metadata": {},
   "outputs": [
    {
     "data": {
      "text/plain": [
       "0    Enter the dark underworld of Prince of Persia ...\n",
       "1    Monaco: What's Yours Is Mine is a single playe...\n",
       "2    Escape Dead Island is a Survival-Mystery adven...\n",
       "3    Dungeon of the Endless is a Rogue-Like Dungeon...\n",
       "4    “METAL SLUG 3”, the masterpiece in SNK’s emble...\n",
       "Name: description, dtype: object"
      ]
     },
     "execution_count": 1,
     "metadata": {},
     "output_type": "execute_result"
    }
   ],
   "source": [
    "import pandas as pd\n",
    "\n",
    "filename = 'data/games_desc.csv'\n",
    "df = pd.read_csv(filename)\n",
    "\n",
    "N_data = 10\n",
    "data_desc = df['description'].iloc[:N_data].reset_index(drop=True)\n",
    "data_desc.head()"
   ]
  },
  {
   "cell_type": "markdown",
   "metadata": {},
   "source": [
    "Set up Okareo object by loading .env file with API key."
   ]
  },
  {
   "cell_type": "code",
   "execution_count": 7,
   "metadata": {},
   "outputs": [],
   "source": [
    "import os\n",
    "from okareo import Okareo\n",
    "from okareo_api_client.models import ScenarioSetCreate, ScenarioSetGenerate, SeedData, ScenarioType\n",
    "\n",
    "OKAREO_API_KEY = os.environ[\"OKAREO_API_KEY\"]\n",
    "okareo = Okareo(OKAREO_API_KEY)"
   ]
  },
  {
   "cell_type": "markdown",
   "metadata": {},
   "source": [
    "Add the seed scenario using product descriptions as inputs, return results, and show link to UI."
   ]
  },
  {
   "cell_type": "code",
   "execution_count": 8,
   "metadata": {},
   "outputs": [
    {
     "name": "stdout",
     "output_type": "stream",
     "text": [
      "https://app.okareo.com/project/21b8a05b-f5b6-4578-a36a-fc264036d9d3/scenario/ed04ae35-34ae-41c9-a316-e8046498568b\n"
     ]
    }
   ],
   "source": [
    "scenario_set_create = ScenarioSetCreate(name=\"Reverse Question Generator: Seed Scenario\",\n",
    "                                        generation_type=ScenarioType.SEED,\n",
    "                                        number_examples=N_data,\n",
    "                                        seed_data=[SeedData(input_=data_desc.iloc[i], result=\"example result\") for i in range(N_data)]\n",
    "                                        )\n",
    "\n",
    "source_scenario = okareo.create_scenario_set(scenario_set_create)\n",
    "\n",
    "print(source_scenario.app_link)"
   ]
  },
  {
   "cell_type": "markdown",
   "metadata": {},
   "source": [
    "Use the reverse question seed scenario to generate two examples per each point in the seed scenario, and show link to UI."
   ]
  },
  {
   "cell_type": "code",
   "execution_count": 10,
   "metadata": {},
   "outputs": [
    {
     "data": {
      "text/plain": [
       "'https://app.okareo.com/project/21b8a05b-f5b6-4578-a36a-fc264036d9d3/scenario/5df6612b-18f9-433c-a442-76a2c2023ae4'"
      ]
     },
     "execution_count": 10,
     "metadata": {},
     "output_type": "execute_result"
    }
   ],
   "source": [
    "number_examples = 2 # number of examples to generate for each example in the seed scenario\n",
    "\n",
    "generated_scenario = okareo.generate_scenario_set(\n",
    "    ScenarioSetGenerate(\n",
    "        source_scenario_id=source_scenario.scenario_id,\n",
    "        name=\"Reverse Question Example: Generated Scenario\",\n",
    "        number_examples=number_examples,\n",
    "        generation_type=ScenarioType.TEXT_REVERSE_QUESTION\n",
    "    )\n",
    ")\n",
    "print(generated_scenario.app_link)"
   ]
  },
  {
   "cell_type": "markdown",
   "metadata": {},
   "source": [
    "Compare each generated question to the corresponding source description. "
   ]
  },
  {
   "cell_type": "code",
   "execution_count": 11,
   "metadata": {},
   "outputs": [
    {
     "name": "stdout",
     "output_type": "stream",
     "text": [
      "--------Example 0--------\n",
      "Source: Enter the dark underworld of Prince of Persia Warrior Within, the sword-slashing sequel to the critically acclaimed Prince of Persia: The Sands of Time™. Hunted by Dahaka, an immortal incarnation of Fate seeking divine retribution, the Prince embarks upon a path of both carnage and mystery to defy his preordained death.\n",
      "Generated #0: Can you tell me which game is the sequel to the Prince of Persia: The Sands of Time™?\n",
      "Generated #1: Who is the Prince pursued by in Prince of Persia Warrior Within?\n",
      "--------Example 1--------\n",
      "Source: Monaco: What's Yours Is Mine is a single player or co-op heist game. Assemble a crack team of thieves, case the joint, and pull off the perfect heist.\n",
      "Generated #0: Could you tell me the type of game that Monaco: What's Yours Is Mine is renowned for?\n",
      "Generated #1: In the video game Monaco: What's Yours Is Mine, what is the core objective?\n",
      "--------Example 2--------\n",
      "Source: Escape Dead Island is a Survival-Mystery adventure that lets players delve into the Dead Island universe and unravel the origins of the zombie outbreak.\n",
      "Generated #0: Could you tell me more about what the Survival-Mystery game Escape Dead Island revolves around?\n",
      "Generated #1: Where can you investigate the beginnings of a zombie outbreak in the context of a video game setting?\n",
      "--------Example 3--------\n",
      "Source: Dungeon of the Endless is a Rogue-Like Dungeon-Defense game, in which the player and their team of heroes must protect the generator of their crashed ship while exploring an ever-expanding dungeon, all while facing waves of monsters and special events as they try to find their way out...\n",
      "Generated #0: Can you name a game where you have to play as a team of heroes defending the generator of their crashed spaceship?\n",
      "Generated #1: What genre of game would you classify 'Dungeon of the Endless' as, which involves battling monsters and exploring an expanding dungeon?\n",
      "--------Example 4--------\n",
      "Source: “METAL SLUG 3”, the masterpiece in SNK’s emblematic 2D run & gun action shooting game series, still continues to fascinate millions of fans worldwide to this day for its intricate dot-pixel graphics, and simple and intuitive game controls!\n",
      "Generated #0: Can you name a prominent game in SNK's 2D run & gun action shooting series?\n",
      "Generated #1: What reasons might be attributed to the ongoing popularity of 'METAL SLUG 3' among its global fan base?\n",
      "--------Example 5--------\n",
      "Source: Experience incredibly atmospheric and intense medieval combat action! Go ahead and enter a new world, the award-winning world of ENCLAVE!The people of Light and Darkness are divided by a bottomless rift that split the earth many millennia ago.\n",
      "Generated #0: What type of combat is featured in the world of ENCLAVE?\n",
      "Generated #1: What significant event caused a divide between the people of Light and Darkness in ENCLAVE?\n",
      "--------Example 6--------\n",
      "Source: Packed with fast-paced, turn-based RPG action, fourth-wall-breaking, trope-demolishing dialogue, and more item, weapon, and costume customization than you can shake a Lvl. 1 Stick at, Gamindustri is a world set on turning the concept of the JRPG on its head!\n",
      "Generated #0: What type of video game play does 'Gamindustri' utilize according to the text?\n",
      "Generated #1: What elements in 'Gamindustri' suggest that it's trying to change traditional JRPG tropes?\n",
      "--------Example 7--------\n",
      "Source: Lead a team of domestic counter-terrorism experts through 11 dangerous missions that span the globe. Formed from the elite of the F.B.I.'s HRT, you have been tapped to perform covert ops in the most dangerous circumstances imaginable.\n",
      "Generated #0: What type of missions is the team of domestic counter-terrorism experts expected to undertake? \n",
      "Generated #1: From which part of the F.B.I. was the team formed and what is their expected role in covert ops?\n",
      "--------Example 8--------\n",
      "Source: In a ferocious Arctic storm, distress signals are sent from a mysterious Russian whaler. As leading Coast Guard veteran Tom Hansen, you board to investigate  and discover unthinkable horrors lurking beneath the ship's bloodstained decks.\n",
      "Generated #0: Can you name a type of storm that could occur in the Arctic region?\n",
      "Generated #1: What profession might require someone to board a mysterious ship?\n",
      "--------Example 9--------\n",
      "Source: Build the adventure from Privet Drive to the Triwizard Tournament and experience the magic of the first four Harry Potter stories – LEGO style! Explore Hogwarts™ School of Witchcraft and Wizardry, learn spells, brew potions and relive the adventures like never before with tongue-in-cheek humor and creative customization that is unique to...\n",
      "Generated #0: What kind of adventure can you build following the Harry Potter stories in LEGO style?\n",
      "Generated #1: What unique features are offered while exploring Hogwarts in Harry Potter-themed LEGO?\n"
     ]
    }
   ],
   "source": [
    "# compare the descriptions\n",
    "generated_points = okareo.get_scenario_data_points(generated_scenario.scenario_id)\n",
    "\n",
    "for i in range(N_data):\n",
    "    print(\"-\"*8 + f\"Example {i}\" + \"-\"*8)\n",
    "    print(f\"Source: {data_desc[i]}\")\n",
    "    for j in range(number_examples):\n",
    "        print(f\"Generated #{j}: {generated_points[number_examples*i+j].input_}\")\n",
    "    "
   ]
  },
  {
   "cell_type": "code",
   "execution_count": null,
   "metadata": {},
   "outputs": [],
   "source": []
  }
 ],
 "metadata": {
  "kernelspec": {
   "display_name": "dev",
   "language": "python",
   "name": "python3"
  },
  "language_info": {
   "codemirror_mode": {
    "name": "ipython",
    "version": 3
   },
   "file_extension": ".py",
   "mimetype": "text/x-python",
   "name": "python",
   "nbconvert_exporter": "python",
   "pygments_lexer": "ipython3",
   "version": "3.11.5"
  }
 },
 "nbformat": 4,
 "nbformat_minor": 2
}
