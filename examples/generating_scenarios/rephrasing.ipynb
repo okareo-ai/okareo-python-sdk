{
 "cells": [
  {
   "cell_type": "markdown",
   "metadata": {},
   "source": [
    "# Rephrasing Generator\n",
    "\n",
    "This is a demo of the Okareo rephrasing generator. The rephrasing generator is useful when you would like to automatically create test cases with semantically identical content but different wording. This generator can be used to ensure that slightly different inputs to your LLM/RAG system do not substantially change the results.\n",
    "\n",
    "This generator takes the inputs of a scenario and rephrases them at a clause level, i.e. the generator will the respect punctuation of the source.\n",
    "\n",
    "For example, suppose that `[A, ..., E]` are strings. If a given input is structured as follows:\n",
    "\n",
    "```A, B. C; D -- E!```\n",
    "\n",
    "Then the rephrase generator will produce the following:\n",
    "\n",
    "```rephrase(A), rephrase(B). rephrase(C); rephrase(D) -- rephrase(E)!```"
   ]
  },
  {
   "cell_type": "markdown",
   "metadata": {},
   "source": [
    "To showcase the rephrase generator, we load a subset of the [Game Recommendations on Steam dataset (Kaggle)](https://www.kaggle.com/datasets/antonkozyriev/game-recommendations-on-steam) and pick a few representative samples."
   ]
  },
  {
   "cell_type": "code",
   "execution_count": 1,
   "metadata": {},
   "outputs": [
    {
     "data": {
      "text/plain": [
       "0    Enter the dark underworld of Prince of Persia ...\n",
       "1    Monaco: What's Yours Is Mine is a single playe...\n",
       "2    Escape Dead Island is a Survival-Mystery adven...\n",
       "Name: description, dtype: object"
      ]
     },
     "execution_count": 1,
     "metadata": {},
     "output_type": "execute_result"
    }
   ],
   "source": [
    "import pandas as pd\n",
    "\n",
    "filename = 'data/games_desc.csv'\n",
    "df = pd.read_csv(filename)\n",
    "\n",
    "N_data = 3\n",
    "data_desc = df['description'].iloc[:N_data].reset_index(drop=True)\n",
    "data_desc.head()"
   ]
  },
  {
   "cell_type": "markdown",
   "metadata": {},
   "source": [
    "Set up Okareo object by loading .env file with API key."
   ]
  },
  {
   "cell_type": "code",
   "execution_count": 3,
   "metadata": {},
   "outputs": [],
   "source": [
    "import os\n",
    "from okareo import Okareo\n",
    "from okareo_api_client.models import ScenarioSetCreate, ScenarioSetGenerate, SeedData, ScenarioType\n",
    "\n",
    "OKAREO_API_KEY = os.environ[\"OKAREO_API_KEY\"]\n",
    "okareo = Okareo(OKAREO_API_KEY)"
   ]
  },
  {
   "cell_type": "markdown",
   "metadata": {},
   "source": [
    "Add the seed scenario using product descriptions as inputs, return results, and show link to UI."
   ]
  },
  {
   "cell_type": "code",
   "execution_count": 4,
   "metadata": {},
   "outputs": [
    {
     "name": "stdout",
     "output_type": "stream",
     "text": [
      "https://app.okareo.com/project/21b8a05b-f5b6-4578-a36a-fc264036d9d3/scenario/f44c20cf-ecce-41fd-8fe9-c9208df9038b\n"
     ]
    }
   ],
   "source": [
    "scenario_set_create = ScenarioSetCreate(name=\"Rephrasing Generator: Seed Scenario\",\n",
    "                                        generation_type=ScenarioType.SEED,\n",
    "                                        number_examples=N_data,\n",
    "                                        seed_data=[SeedData(input_=data_desc.iloc[i], result=\"example result\") for i in range(N_data)]\n",
    "                                        )\n",
    "\n",
    "source_scenario = okareo.create_scenario_set(scenario_set_create)\n",
    "\n",
    "print(source_scenario.app_link)"
   ]
  },
  {
   "cell_type": "markdown",
   "metadata": {},
   "source": [
    "Use the rephrase seed scenario to generate two examples per each point in the seed scenario, and show link to UI."
   ]
  },
  {
   "cell_type": "code",
   "execution_count": 5,
   "metadata": {},
   "outputs": [
    {
     "data": {
      "text/plain": [
       "'https://app.okareo.com/project/21b8a05b-f5b6-4578-a36a-fc264036d9d3/scenario/efe18377-658e-494d-b7d1-eb0cb6fafe7a'"
      ]
     },
     "execution_count": 5,
     "metadata": {},
     "output_type": "execute_result"
    }
   ],
   "source": [
    "number_examples = 2 # number of examples to generate for each example in the seed scenario\n",
    "\n",
    "generated_scenario = okareo.generate_scenario_set(\n",
    "    ScenarioSetGenerate(\n",
    "        source_scenario_id=source_scenario.scenario_id,\n",
    "        name=\"Term Relevance Example: Generated Scenario\",\n",
    "        number_examples=number_examples,\n",
    "        generation_type=ScenarioType.REPHRASE_INVARIANT\n",
    "    )\n",
    ")\n",
    "print(generated_scenario.app_link)"
   ]
  },
  {
   "cell_type": "markdown",
   "metadata": {},
   "source": [
    "Compare each generated description to the corresponding source description. "
   ]
  },
  {
   "cell_type": "code",
   "execution_count": 8,
   "metadata": {},
   "outputs": [
    {
     "name": "stdout",
     "output_type": "stream",
     "text": [
      "--------Example 0--------\n",
      "Source: Enter the dark underworld of Prince of Persia Warrior Within, the sword-slashing sequel to the critically acclaimed Prince of Persia: The Sands of Time™. Hunted by Dahaka, an immortal incarnation of Fate seeking divine retribution, the Prince embarks upon a path of both carnage and mystery to defy his preordained death.\n",
      "Generated #0: Immerse yourself in the shadowy world of Prince of Persia Warrior Within, the epic follow-up to the well-reviewed Prince of Persia: The Sands of Time™. Pursued relentlessly by Dahaka, a deathless embodiment of Destiny seeking heavenly punishment, the Prince sets out on a journey filled with violence and enigma to resist his foreseen demise.\n",
      "Generated #1: Step into the sinister realm of Prince of Persia Warrior Within, the action-packed second part to the highly praised Prince of Persia: The Sands of Time™. Chased by Dahaka, an undying manifestation of Destiny demanding divine vengeance, the Prince commences a campaign of destruction and secrecy in an attempt to escape his prophesied end.\n",
      "--------Example 1--------\n",
      "Source: Monaco: What's Yours Is Mine is a single player or co-op heist game. Assemble a crack team of thieves, case the joint, and pull off the perfect heist.\n",
      "Generated #0: Monaco: What's Yours Is Mine allows you to put together a team of expert thieves, plan every detail, and execute a flawless robbery in solo or co-op mode.\n",
      "Generated #1: In Monaco: What's Yours Is Mine game, form a top-notch group of burglars, survey the location, and carry out an impeccable theft either alone or with friends.\n",
      "--------Example 2--------\n",
      "Source: Escape Dead Island is a Survival-Mystery adventure that lets players delve into the Dead Island universe and unravel the origins of the zombie outbreak.\n",
      "Generated #0: Delve into the Dead Island universe and discover the origins of the zombie outbreak in the Survival-Mystery adventure game, Escape Dead Island.\n",
      "Generated #1: The game Escape Dead Island offers players the chance to explore the Dead Island universe and study where the zombie outbreak started in its Survival-Mystery adventure.\n"
     ]
    }
   ],
   "source": [
    "# compare the descriptions\n",
    "generated_points = okareo.get_scenario_data_points(generated_scenario.scenario_id)\n",
    "\n",
    "for i in range(N_data):\n",
    "    print(\"-\"*8 + f\"Example {i}\" + \"-\"*8)\n",
    "    print(f\"Source: {data_desc[i]}\")\n",
    "    for j in range(number_examples):\n",
    "        print(f\"Generated #{j}: {generated_points[number_examples*i+j].input_}\")\n",
    "    "
   ]
  }
 ],
 "metadata": {
  "kernelspec": {
   "display_name": "dev",
   "language": "python",
   "name": "python3"
  },
  "language_info": {
   "codemirror_mode": {
    "name": "ipython",
    "version": 3
   },
   "file_extension": ".py",
   "mimetype": "text/x-python",
   "name": "python",
   "nbconvert_exporter": "python",
   "pygments_lexer": "ipython3",
   "version": "3.11.5"
  }
 },
 "nbformat": 4,
 "nbformat_minor": 2
}
