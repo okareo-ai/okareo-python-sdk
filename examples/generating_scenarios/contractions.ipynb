{
 "cells": [
  {
   "cell_type": "markdown",
   "metadata": {},
   "source": [
    "# Contraction Generator\n",
    "\n",
    "This is a demo of the Okareo contraction generator. The contraction generator attempts to abbreviate words while maintaining their legibility.\n",
    "\n",
    "The contraction generator can be useful when trying to create test cases with informal, human-like shorthand.\n",
    "\n",
    "As an example, the contraction generator might attempt to turn the following strings\n",
    "\n",
    "```south, north, west```\n",
    "\n",
    "into the following:\n",
    "\n",
    "```sth, nrth, wst```"
   ]
  },
  {
   "cell_type": "markdown",
   "metadata": {},
   "source": [
    "Set up a few phrases to use in our source scenario for the generator."
   ]
  },
  {
   "cell_type": "code",
   "execution_count": 6,
   "metadata": {},
   "outputs": [],
   "source": [
    "data_contractions = [\n",
    "    \"Take the wheel!\",\n",
    "    \"Do not run near the pool!\",\n",
    "    \"What is going on?\"\n",
    "]\n",
    "N_data = len(data_contractions)"
   ]
  },
  {
   "cell_type": "markdown",
   "metadata": {},
   "source": [
    "Set up Okareo object with your [API key](https://docs.okareo.com/docs/guides/environment#setting-up-your-okareo-environment)."
   ]
  },
  {
   "cell_type": "code",
   "execution_count": 12,
   "metadata": {},
   "outputs": [],
   "source": [
    "import os\n",
    "from okareo import Okareo\n",
    "from okareo_api_client.models import ScenarioSetCreate, ScenarioSetGenerate, SeedData, ScenarioType\n",
    "\n",
    "OKAREO_API_KEY = os.environ[\"OKAREO_API_KEY\"]\n",
    "okareo = Okareo(OKAREO_API_KEY)"
   ]
  },
  {
   "cell_type": "markdown",
   "metadata": {},
   "source": [
    "Add the seed scenario using questions as inputs, return results, and show link to UI."
   ]
  },
  {
   "cell_type": "code",
   "execution_count": 13,
   "metadata": {},
   "outputs": [
    {
     "name": "stdout",
     "output_type": "stream",
     "text": [
      "https://app.okareo.com/project/6b474dfa-2e18-4ed7-bd37-ff26475d1da4/scenario/3727921d-419d-485c-8871-67926df71344\n"
     ]
    }
   ],
   "source": [
    "scenario_set_create = ScenarioSetCreate(name=\"Contractions Generator: Seed Scenario\",\n",
    "                                        generation_type=ScenarioType.SEED,\n",
    "                                        number_examples=N_data,\n",
    "                                        seed_data=[SeedData(input_=data_contractions[i], result=\"example result\") for i in range(N_data)]\n",
    "                                        )\n",
    "\n",
    "source_scenario = okareo.create_scenario_set(scenario_set_create)\n",
    "\n",
    "print(source_scenario.app_link)"
   ]
  },
  {
   "cell_type": "markdown",
   "metadata": {},
   "source": [
    "Use the conditional seed scenario to generate two examples per each point in the seed scenario, and show link to UI."
   ]
  },
  {
   "cell_type": "code",
   "execution_count": 18,
   "metadata": {},
   "outputs": [
    {
     "name": "stdout",
     "output_type": "stream",
     "text": [
      "https://app.okareo.com/project/6b474dfa-2e18-4ed7-bd37-ff26475d1da4/scenario/57a6eec3-3c95-484a-929e-503e7f17f68b\n"
     ]
    }
   ],
   "source": [
    "number_examples = 1 # number of examples to generate for each example in the seed scenario\n",
    "\n",
    "generated_scenario = okareo.generate_scenario_set(\n",
    "    ScenarioSetGenerate(\n",
    "        source_scenario_id=source_scenario.scenario_id,\n",
    "        name=\"Contractions Example: Generated Scenario\",\n",
    "        number_examples=number_examples,\n",
    "        generation_type=ScenarioType.COMMON_CONTRACTIONS\n",
    "    )\n",
    ")\n",
    "print(generated_scenario.app_link)"
   ]
  },
  {
   "cell_type": "markdown",
   "metadata": {},
   "source": [
    "Compare each generated mispelling to the corresponding point in the source. "
   ]
  },
  {
   "cell_type": "code",
   "execution_count": 19,
   "metadata": {},
   "outputs": [
    {
     "name": "stdout",
     "output_type": "stream",
     "text": [
      "--------Example 0--------\n",
      "Source: Take the wheel!\n",
      "Generated #0: Take the whel!\n",
      "--------Example 1--------\n",
      "Source: Do not run near the pool!\n",
      "Generated #0: Do not run near the pool!\n",
      "--------Example 2--------\n",
      "Source: What is going on?\n",
      "Generated #0: What is ging on?\n"
     ]
    }
   ],
   "source": [
    "generated_points = okareo.get_scenario_data_points(generated_scenario.scenario_id)\n",
    "\n",
    "for i in range(N_data):\n",
    "    print(\"-\"*8 + f\"Example {i}\" + \"-\"*8)\n",
    "    print(f\"Source: {data_contractions[i]}\")\n",
    "    for j in range(number_examples):\n",
    "        print(f\"Generated #{j}: {generated_points[number_examples*i+j].input_}\")"
   ]
  }
 ],
 "metadata": {
  "kernelspec": {
   "display_name": "dev",
   "language": "python",
   "name": "python3"
  },
  "language_info": {
   "codemirror_mode": {
    "name": "ipython",
    "version": 3
   },
   "file_extension": ".py",
   "mimetype": "text/x-python",
   "name": "python",
   "nbconvert_exporter": "python",
   "pygments_lexer": "ipython3",
   "version": "3.11.5"
  }
 },
 "nbformat": 4,
 "nbformat_minor": 2
}
