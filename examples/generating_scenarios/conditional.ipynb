{
 "cells": [
  {
   "cell_type": "markdown",
   "metadata": {},
   "source": [
    "# Conditional Generator\n",
    "\n",
    "This is a demo of the Okareo conditional generator. The conditional generator is useful when you would like to automatically reword questions to emphasize specific conditions of the question. This generator can be used to ensure that minor changes to questions do not adversely affect your LLM/RAG system's retrieval capabilities.\n",
    "\n",
    "For example, suppose that the following `question` is provided as an input to the generator:\n",
    "\n",
    "```How can I improve my credit score with no credit history?```\n",
    "\n",
    "Then the rephrase generator might produce the following:\n",
    "\n",
    "```Given that I have no credit history, what can I do to improve my credit score?```\n",
    "\n",
    "```Considering that I do not have any credit history, what steps can I take to improve my credit score?```"
   ]
  },
  {
   "cell_type": "markdown",
   "metadata": {},
   "source": [
    "Set up a few questions to use in our source scenario for the generator."
   ]
  },
  {
   "cell_type": "code",
   "execution_count": 4,
   "metadata": {},
   "outputs": [],
   "source": [
    "data_questions = [\n",
    "    \"What is the name of the file in the current directory?\",\n",
    "    \"How do I filter the column of a dataframe based on string length?\",\n",
    "    \"Where is the documentation for the Okareo library?\"\n",
    "]\n",
    "N_data = len(data_questions)"
   ]
  },
  {
   "cell_type": "markdown",
   "metadata": {},
   "source": [
    "Set up Okareo object with your [API key](https://docs.okareo.com/docs/guides/environment#setting-up-your-okareo-environment)."
   ]
  },
  {
   "cell_type": "code",
   "execution_count": 5,
   "metadata": {},
   "outputs": [],
   "source": [
    "import os\n",
    "from okareo import Okareo\n",
    "from okareo_api_client.models import ScenarioSetCreate, ScenarioSetGenerate, SeedData, ScenarioType\n",
    "\n",
    "OKAREO_API_KEY = os.environ[\"OKAREO_API_KEY\"]\n",
    "okareo = Okareo(OKAREO_API_KEY)"
   ]
  },
  {
   "cell_type": "markdown",
   "metadata": {},
   "source": [
    "Add the seed scenario using questions as inputs, return results, and show link to UI."
   ]
  },
  {
   "cell_type": "code",
   "execution_count": 7,
   "metadata": {},
   "outputs": [
    {
     "name": "stdout",
     "output_type": "stream",
     "text": [
      "https://app.okareo.com/project/21b8a05b-f5b6-4578-a36a-fc264036d9d3/scenario/a42d7082-ce56-4996-8d93-7469cc911f55\n"
     ]
    }
   ],
   "source": [
    "scenario_set_create = ScenarioSetCreate(name=\"Conditional Generator: Seed Scenario\",\n",
    "                                        generation_type=ScenarioType.SEED,\n",
    "                                        number_examples=N_data,\n",
    "                                        seed_data=[SeedData(input_=data_questions[i], result=\"example result\") for i in range(N_data)]\n",
    "                                        )\n",
    "\n",
    "source_scenario = okareo.create_scenario_set(scenario_set_create)\n",
    "\n",
    "print(source_scenario.app_link)"
   ]
  },
  {
   "cell_type": "markdown",
   "metadata": {},
   "source": [
    "Use the conditional seed scenario to generate two examples per each point in the seed scenario, and show link to UI."
   ]
  },
  {
   "cell_type": "code",
   "execution_count": 8,
   "metadata": {},
   "outputs": [
    {
     "name": "stdout",
     "output_type": "stream",
     "text": [
      "https://app.okareo.com/project/21b8a05b-f5b6-4578-a36a-fc264036d9d3/scenario/007846de-63fe-4d8c-b0c9-c3cf95f93e85\n"
     ]
    }
   ],
   "source": [
    "number_examples = 2 # number of examples to generate for each example in the seed scenario\n",
    "\n",
    "generated_scenario = okareo.generate_scenario_set(\n",
    "    ScenarioSetGenerate(\n",
    "        source_scenario_id=source_scenario.scenario_id,\n",
    "        name=\"Conditional Example: Generated Scenario\",\n",
    "        number_examples=number_examples,\n",
    "        generation_type=ScenarioType.CONDITIONAL\n",
    "    )\n",
    ")\n",
    "print(generated_scenario.app_link)"
   ]
  },
  {
   "cell_type": "markdown",
   "metadata": {},
   "source": [
    "Compare each generated question to the corresponding source question. "
   ]
  },
  {
   "cell_type": "code",
   "execution_count": 9,
   "metadata": {},
   "outputs": [
    {
     "name": "stdout",
     "output_type": "stream",
     "text": [
      "--------Example 0--------\n",
      "Source: What is the name of the file in the current directory?\n",
      "Generated #0: Considering the current directory, what would be the name of the file within?\n",
      "Generated #1: Should you be working in the current directory, what is the name of the file you're dealing with?\n",
      "--------Example 1--------\n",
      "Source: How do I filter the column of a dataframe based on string length?\n",
      "Generated #0: Considering this dataframe, how can one filter the column based on string length?\n",
      "Generated #1: When dealing with a dataframe, how can I filter a column depending on the length of the string?\n",
      "--------Example 2--------\n",
      "Source: Where is the documentation for the Okareo library?\n",
      "Generated #0: Should you be seeking the documentation for the Okareo library, where might you find it?\n",
      "Generated #1: In the event that you need the documentation for the Okareo library, where would it be located?\n"
     ]
    }
   ],
   "source": [
    "# compare the descriptions\n",
    "generated_points = okareo.get_scenario_data_points(generated_scenario.scenario_id)\n",
    "\n",
    "for i in range(N_data):\n",
    "    print(\"-\"*8 + f\"Example {i}\" + \"-\"*8)\n",
    "    print(f\"Source: {data_questions[i]}\")\n",
    "    for j in range(number_examples):\n",
    "        print(f\"Generated #{j}: {generated_points[number_examples*i+j].input_}\")\n",
    "    "
   ]
  }
 ],
 "metadata": {
  "kernelspec": {
   "display_name": "dev",
   "language": "python",
   "name": "python3"
  },
  "language_info": {
   "codemirror_mode": {
    "name": "ipython",
    "version": 3
   },
   "file_extension": ".py",
   "mimetype": "text/x-python",
   "name": "python",
   "nbconvert_exporter": "python",
   "pygments_lexer": "ipython3",
   "version": "3.11.5"
  }
 },
 "nbformat": 4,
 "nbformat_minor": 2
}
