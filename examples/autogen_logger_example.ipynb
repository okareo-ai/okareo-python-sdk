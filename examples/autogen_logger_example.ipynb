{
 "cells": [
  {
   "cell_type": "markdown",
   "metadata": {},
   "source": [
    "# Autogen Logging in Okareo"
   ]
  },
  {
   "cell_type": "code",
   "execution_count": null,
   "metadata": {},
   "outputs": [],
   "source": [
    "import os\n",
    "import autogen\n",
    "\n",
    "# Put your api key in the environment variable OPENAI_API_KEY\n",
    "config_list = [\n",
    "    {\n",
    "        \"model\": \"gpt-4-0125-preview\",\n",
    "        \"api_key\": os.environ[\"OPENAI_API_KEY\"],\n",
    "    }\n",
    "]\n",
    "\n",
    "gpt4_config = {\n",
    "    \"cache_seed\": 42,  # change the cache_seed for different trials\n",
    "    \"temperature\": 0,\n",
    "    \"config_list\": config_list,\n",
    "    \"timeout\": 120,\n",
    "}\n"
   ]
  },
  {
   "cell_type": "markdown",
   "metadata": {},
   "source": [
    "Set up a team of agents that answer user queries about stocks."
   ]
  },
  {
   "cell_type": "code",
   "execution_count": null,
   "metadata": {},
   "outputs": [],
   "source": [
    "import string, random\n",
    "from okareo.autogen_logger import AutogenLogger\n",
    "\n",
    "\n",
    "logger_config = {\n",
    "    \"api_key\": os.environ[\"OKAREO_API_KEY\"],\n",
    "    \"tags\": [\"autogen-groupchat\"],\n",
    "    # \"group_name\": \"my-autogen-groupchat\", # add this to log to a specific group\n",
    "}\n",
    "\n",
    "autogen_logger = AutogenLogger(logger_config)\n",
    "\n",
    "with autogen_logger:\n",
    "    representative = autogen.UserProxyAgent(\n",
    "        name=\"customer\",\n",
    "    )\n",
    "\n",
    "    coder = autogen.AssistantAgent(\n",
    "        name=\"coder\",\n",
    "        llm_config=gpt4_config,\n",
    "        system_message=\"\"\"You are the Coder. Given a user query, write code to retrieve related stock ticker information. Use whatever API necessary to acquire the relevant stock data.\n",
    "    You write python/shell code to solve tasks. Wrap the code in a code block that specifies the script type. The user can't modify your code. So do not suggest incomplete code which requires others to modify. Don't use a code block if it's not intended to be executed by the executor.\n",
    "    Don't include multiple code blocks in one response. Do not ask others to copy and paste the result. Check the execution result returned by the executor.\n",
    "    If the result indicates there is an error, fix the error and output the code again. Suggest the full code instead of partial code or code changes. If the error can't be fixed or if the task is not solved even after the code is executed successfully, analyze the problem, revisit your assumption, collect additional info you need, and think of a different approach to try.\n",
    "    \"\"\",\n",
    "        description=\"Writes code that helps acquire stock data.\"\n",
    "    )\n",
    "    executor = autogen.UserProxyAgent(\n",
    "        name=\"executor\",\n",
    "        system_message=\"Executor. Execute the code written by the Coder and report the result.\",\n",
    "        human_input_mode=\"NEVER\",\n",
    "        code_execution_config={\n",
    "            \"last_n_messages\": 3,\n",
    "            \"work_dir\": \"stock\",\n",
    "            \"use_docker\": False,\n",
    "        },  # Please set use_docker=True if docker is available to run the generated code. Using docker is safer than running the generated code directly.\n",
    "        description=\"Executes code to acquire stock data.\"\n",
    "    )\n",
    "    analyst = autogen.AssistantAgent(\n",
    "        name=\"analyst\",\n",
    "        llm_config=gpt4_config,\n",
    "        system_message=\"\"\"You are the Analyst. Please read the stock ticker data and answer the user's question accordingly.\"\"\",\n",
    "        description=\"Summarizes stock data to answer stock-related queries.\"\n",
    "    )\n",
    "\n",
    "    groupchat = autogen.GroupChat(\n",
    "        agents=[representative, coder, executor, analyst],\n",
    "        messages=[],\n",
    "        max_round=10,\n",
    "        send_introductions=True,\n",
    "    )\n",
    "    groupchat_manager = autogen.GroupChatManager(groupchat=groupchat, llm_config=gpt4_config)\n",
    "\n",
    "    request = \"What is a good time of the month to buy USFR?\" # initial user message to groupchat \n",
    "\n",
    "    chat_result_logged = representative.initiate_chat(\n",
    "        groupchat_manager,\n",
    "        message=request,\n",
    "        summary_method=\"reflection_with_llm\",\n",
    "    )"
   ]
  },
  {
   "cell_type": "code",
   "execution_count": null,
   "metadata": {},
   "outputs": [],
   "source": [
    "# alternatively, you can use the autogen logger outside of a context manager as follows \n",
    "\n",
    "# from okareo.autogen_logger import OkareoLogger\n",
    "# okareo_logger = OkareoLogger(logger_config)\n",
    "# autogen.runtime_logging.start(logger=okareo_logger)\n",
    "# your autogen code goes here...\n",
    "# autogen.runtime_logging.end()"
   ]
  }
 ],
 "metadata": {
  "kernelspec": {
   "display_name": "autogen",
   "language": "python",
   "name": "python3"
  },
  "language_info": {
   "codemirror_mode": {
    "name": "ipython",
    "version": 3
   },
   "file_extension": ".py",
   "mimetype": "text/x-python",
   "name": "python",
   "nbconvert_exporter": "python",
   "pygments_lexer": "ipython3",
   "version": "3.10.15"
  }
 },
 "nbformat": 4,
 "nbformat_minor": 2
}
