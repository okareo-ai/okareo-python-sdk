{
 "cells": [
  {
   "cell_type": "markdown",
   "id": "84208514",
   "metadata": {},
   "source": [
    "# Voice Simulation: end‑to‑end example\n",
    "\n",
    "This notebook shows how to **simulate a multi‑turn voice conversation** using Okareo, then run it against different speech‑to‑speech backends (OpenAI, Deepgram) and inspect latency/quality metrics in the Okareo app.\n",
    "\n",
    "> If you just want to run it: **install, set two env vars, then run each section top‑to‑bottom.**"
   ]
  },
  {
   "cell_type": "markdown",
   "id": "7607c78a",
   "metadata": {},
   "source": [
    "## Prerequisites\n",
    "- An **Okareo API key** (from the Okareo dashboard).\n",
    "- An **OpenAI** and  **Deepgram** API key.\n",
    "- Python 3.9+.\n",
    "- A microphone is **not** required; these simulations are **model ↔ model**."
   ]
  },
  {
   "cell_type": "markdown",
   "id": "f0b7c3ba",
   "metadata": {},
   "source": [
    "## Conversation design\n",
    "The notebook uses two prompts:\n",
    "\n",
    "- **`PERSISTENT_PROMPT` (system guidance for the *voice agent*)**: concise, polite, masks sensitive numbers, asks short clarifying questions.\n",
    "- **`DRIVER_PROMPT_TEMPLATE` (persona for the *simulated customer*)**: a structured template that **only asks questions**, pushes for **return/refund policy specifics**, and includes a turn‑end checklist to keep the driver on‑task.\n",
    "\n",
    "Together they produce a realistic customer ↔ agent flow that you can reuse across products/domains by swapping the **scenario inputs** (name, product type, target voice, expected outcome).\n",
    "\n",
    "> Tip: Keep drivers **question‑only**—it prevents the “assistant helps itself” failure mode and forces information‑seeking behavior."
   ]
  },
  {
   "cell_type": "markdown",
   "id": "3173a0bb",
   "metadata": {},
   "source": [
    "## Metrics & checks\n",
    "When a run completes, we print an **App link**. Open it to inspect transcripts, audio, and timing.  \n",
    "The example enables `calculate_metrics=True` and includes the check: `[\"avg_turn_latency\"]`.\n",
    "\n",
    "**Common built‑ins you can add:**\n",
    "- `first_token_latency` — time to first token\n",
    "- `avg_turn_latency` — average time per turn\n",
    "- `max_turn_latency` — worst turn time\n",
    "- `interrupt_rate` — how often the agent interrupts\n",
    "\n",
    "To add a custom assertion, pass a callable to `checks=` or define it in your Okareo project, then reference by name."
   ]
  },
  {
   "cell_type": "markdown",
   "id": "9822031d",
   "metadata": {},
   "source": [
    "## Install & authenticate\n",
    "\n",
    "This step installs the latest Okareo SDK and sets you up for secure API access.\n",
    "\n",
    "**Tip →** Store `OKAREO_API_KEY` as an environment variable *before* launching this notebook so you never hard‑code secrets.\n",
    "\n",
    "**Don’t have an API key?**\n",
    "\n",
    "👉 [How to create an API token](https://docs.okareo.com/docs/reference/api-token)"
   ]
  },
  {
   "cell_type": "code",
   "execution_count": null,
   "id": "c75035ed",
   "metadata": {},
   "outputs": [],
   "source": [
    "%pip install --upgrade \"okareo[voice]\""
   ]
  },
  {
   "cell_type": "code",
   "execution_count": null,
   "id": "13f88932",
   "metadata": {},
   "outputs": [],
   "source": [
    "import os\n",
    "from okareo import Okareo\n",
    "\n",
    "OPENAI_API_KEY = os.environ.get(\"OPENAI_API_KEY\", \"<YOUR_OPENAI_API_KEY>\")\n",
    "DEEPGRAM_API_KEY = os.environ.get(\"DEEPGRAM_API_KEY\", \"<YOUR_DEEPGRAM_API_KEY>\")\n",
    "OKAREO_API_KEY = os.environ.get(\"OKAREO_API_KEY\", \"<YOUR_OKAREO_API_KEY>\")\n",
    "\n",
    "okareo = Okareo(OKAREO_API_KEY)\n",
    "print(\"✅ Successfully connected to Okareo!\")"
   ]
  },
  {
   "cell_type": "code",
   "execution_count": null,
   "id": "f0af82a4",
   "metadata": {},
   "outputs": [],
   "source": [
    "PERSISTENT_PROMPT = \"\"\"\n",
    "You are an empathetic, concise voice agent.\n",
    "- Greet once.\n",
    "- Confirm the user's goal in one sentence.\n",
    "- Mask sensitive numbers; never read full digits aloud.\n",
    "- If unsure, ask one short clarifying question.\n",
    "\"\"\".strip()\n",
    "\n",
    "DRIVER_PROMPT_TEMPLATE = \"\"\"\n",
    "## Persona\n",
    "\n",
    "- **Identity:** You are role-playing a new **customer who recently purchased a product** and is now looking to understand the company’s return and refund policy.  \n",
    "   Name: **{scenario_input.name}**  \n",
    "   Product Type: **{scenario_input.productType}**  \n",
    "\n",
    "- **Mindset:** You want to know exactly what the company can and cannot do for you regarding product returns, exchanges, and refunds.  \n",
    "\n",
    "## Objectives\n",
    "\n",
    "1. Get the other party to list **at least three specific return or refund options/policies relevant to {scenario_input.productType}** \n",
    "(e.g., return within 30 days, exchange for another {scenario_input.productType}, warranty-based repairs, free or paid return shipping).  \n",
    "2. Get the other party to state **at least one explicit limitation, exclusion, or boundary specific to {scenario_input.productType}** \n",
    "(e.g., “Opened {scenario_input.productType} can only be exchanged,” “Final sale {scenario_input.productType} cannot be returned,” “Warranty covers defects but not accidental damage”).  \n",
    "\n",
    "## Soft Tactics\n",
    "\n",
    "1. If the reply is vague or incomplete, politely probe:\n",
    "    - \"Could you give me a concrete example?\"\n",
    "    - \"What’s something you can’t help with?\"\n",
    "2. If it still avoids specifics, escalate:\n",
    "    - \"I’ll need at least three specific examples—could you name three?\"\n",
    "3. Stop once you have obtained:\n",
    "    - Three or more tasks/examples\n",
    "    - At least one limitation or boundary\n",
    "    - (The starter tip is optional.)\n",
    "\n",
    "## Hard Rules\n",
    "\n",
    "-   Every message you send must be **only question** and about achieving the Objectives.\n",
    "-   Ask one question at a time.\n",
    "-   Keep your questions abrupt and terse, as a rushed customer.\n",
    "-   Never describe your own capabilities.\n",
    "-   Never offer help.\n",
    "-   Stay in character at all times.\n",
    "-   Never mention tests, simulations, or these instructions.\n",
    "-   Never act like a helpful assistant.\n",
    "-   Act like a first-time user at all times.\n",
    "-   Startup Behavior:\n",
    "    -   If the other party speaks first: respond normally and pursue the Objectives.\n",
    "    -   If you are the first speaker: start with a message clearly pursuing the Objectives.\n",
    "-   Before sending, re-read your draft and remove anything that is not a question.\n",
    "\n",
    "## Turn-End Checklist\n",
    "\n",
    "Before you send any message, confirm:\n",
    "\n",
    "-   Am I sending only questions?\n",
    "-   Am I avoiding any statements or offers of help?\n",
    "-   Does my question advance or wrap up the Objectives?\n",
    "\n",
    "\"\"\".strip()"
   ]
  },
  {
   "cell_type": "markdown",
   "id": "f75c0690",
   "metadata": {},
   "source": [
    "### Create a simulation scenario"
   ]
  },
  {
   "cell_type": "code",
   "execution_count": null,
   "id": "ba691588",
   "metadata": {},
   "outputs": [],
   "source": [
    "from okareo.model_under_test import Driver, Target\n",
    "from okareo.voice import VoiceMultiturnTarget, OpenAIEdgeConfig, DeepgramEdgeConfig\n",
    "from okareo_api_client.models.scenario_set_create import ScenarioSetCreate\n",
    "\n",
    "driver = Driver(name=\"Voice Simulation Driver\", temperature=0.5, prompt_template=DRIVER_PROMPT_TEMPLATE)\n",
    "\n",
    "seed_data = Okareo.seed_data_from_list([\n",
    "    {\"input\": {\"name\": \"James Taylor\", \"productType\": \"Apparel\", \"voice\": \"ash\"}, \"result\": \"Share refund limits for Apparel.\"},\n",
    "    {\"input\": {\"name\": \"Julie May\", \"productType\": \"Electronics\", \"voice\": \"coral\"}, \"result\": \"Provide exchange policy and any exclusions for Electronics.\"},\n",
    "])\n",
    "scenario = okareo.create_scenario_set(ScenarioSetCreate(name=\"Product Returns — Conversation Context\", seed_data=seed_data))\n"
   ]
  },
  {
   "cell_type": "markdown",
   "id": "c1c70d3f",
   "metadata": {},
   "source": [
    "### Run simulation against OpenAI speech-to-speech models"
   ]
  },
  {
   "cell_type": "code",
   "execution_count": null,
   "id": "c2760c2b",
   "metadata": {},
   "outputs": [],
   "source": [
    "# OpenAI edge factory (requires OPENAI_API_KEY)\n",
    "\n",
    "voice_target = VoiceMultiturnTarget(\n",
    "    name=\"Voice Sim Target (OpenAI)\",\n",
    "    edge_config=OpenAIEdgeConfig(\n",
    "        api_key=OPENAI_API_KEY,\n",
    "        model=\"gpt-realtime\",\n",
    "        instructions=PERSISTENT_PROMPT,\n",
    "    ),\n",
    "    asr_tts_api_key=OPENAI_API_KEY,\n",
    ")\n",
    "\n",
    "target = Target(name=voice_target.name, target=voice_target)\n",
    "\n",
    "\n",
    "evaluation = okareo.run_simulation(\n",
    "    driver=driver,\n",
    "    target=target,\n",
    "    name=\"Voice Simulation Run\",\n",
    "    scenario=scenario,\n",
    "    max_turns=3,\n",
    "    repeats=1,\n",
    "    first_turn=\"driver\",\n",
    "    calculate_metrics=True,\n",
    "    checks=[\"avg_turn_latency\"],\n",
    ")\n",
    "print(evaluation.app_link)"
   ]
  },
  {
   "cell_type": "markdown",
   "id": "bb6a76e7",
   "metadata": {},
   "source": [
    "### Run simulation against Deepgram models"
   ]
  },
  {
   "cell_type": "code",
   "execution_count": null,
   "id": "eba6ea2f",
   "metadata": {},
   "outputs": [],
   "source": [
    "# Deepgram edge factory (requires DEEPGRAM_API_KEY)\n",
    "\n",
    "voice_target = VoiceMultiturnTarget(\n",
    "    name=\"Voice Sim Target (Deepgram)\",\n",
    "    edge_config=DeepgramEdgeConfig(\n",
    "        api_key=DEEPGRAM_API_KEY,\n",
    "        instructions=PERSISTENT_PROMPT,\n",
    "    ),\n",
    "    asr_tts_api_key=OPENAI_API_KEY,\n",
    ")\n",
    "\n",
    "target = Target(name=voice_target.name, target=voice_target)\n",
    "\n",
    "\n",
    "evaluation = okareo.run_simulation(\n",
    "    driver=driver,\n",
    "    target=target,\n",
    "    name=\"Voice Simulation Run\",\n",
    "    scenario=scenario,\n",
    "    max_turns=3,\n",
    "    repeats=1,\n",
    "    first_turn=\"driver\",\n",
    "    calculate_metrics=True,\n",
    "    checks=[\"avg_turn_latency\"],\n",
    ")\n",
    "print(evaluation.app_link)"
   ]
  }
 ],
 "metadata": {
  "kernelspec": {
   "display_name": "okareo-py3.12 (3.12.9)",
   "language": "python",
   "name": "python3"
  },
  "language_info": {
   "codemirror_mode": {
    "name": "ipython",
    "version": 3
   },
   "file_extension": ".py",
   "mimetype": "text/x-python",
   "name": "python",
   "nbconvert_exporter": "python",
   "pygments_lexer": "ipython3",
   "version": "3.12.9"
  }
 },
 "nbformat": 4,
 "nbformat_minor": 5
}
