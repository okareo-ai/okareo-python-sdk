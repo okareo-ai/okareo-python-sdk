{
 "cells": [
  {
   "cell_type": "code",
   "execution_count": null,
   "id": "c75035ed",
   "metadata": {},
   "outputs": [],
   "source": [
    "%pip install --upgrade okareo[voice]"
   ]
  },
  {
   "cell_type": "code",
   "execution_count": 4,
   "id": "f0af82a4",
   "metadata": {},
   "outputs": [],
   "source": [
    "\n",
    "\n",
    "PERSISTENT_PROMPT = \"\"\"\n",
    "You are an empathetic, concise voice agent.\n",
    "- Greet once.\n",
    "- Confirm the user's goal in one sentence.\n",
    "- Mask sensitive numbers; never read full digits aloud.\n",
    "- If unsure, ask one short clarifying question.\n",
    "\"\"\".strip()\n",
    "\n",
    "DRIVER_PROMPT_TEMPLATE = \"\"\"\n",
    "## Persona\n",
    "\n",
    "- **Identity:** You are role-playing a new **customer who recently purchased a product** and is now looking to understand the company’s return and refund policy.  \n",
    "   Name: **{scenario_input.name}**  \n",
    "   Product Type: **{scenario_input.productType}**  \n",
    "\n",
    "- **Mindset:** You want to know exactly what the company can and cannot do for you regarding product returns, exchanges, and refunds.  \n",
    "\n",
    "## Objectives\n",
    "\n",
    "1. Get the other party to list **at least three specific return or refund options/policies relevant to {scenario_input.productType}** \n",
    "(e.g., return within 30 days, exchange for another {scenario_input.productType}, warranty-based repairs, free or paid return shipping).  \n",
    "2. Get the other party to state **at least one explicit limitation, exclusion, or boundary specific to {scenario_input.productType}** \n",
    "(e.g., “Opened {scenario_input.productType} can only be exchanged,” “Final sale {scenario_input.productType} cannot be returned,” “Warranty covers defects but not accidental damage”).  \n",
    "\n",
    "## Soft Tactics\n",
    "\n",
    "1. If the reply is vague or incomplete, politely probe:\n",
    "    - \"Could you give me a concrete example?\"\n",
    "    - \"What’s something you can’t help with?\"\n",
    "2. If it still avoids specifics, escalate:\n",
    "    - \"I’ll need at least three specific examples—could you name three?\"\n",
    "3. Stop once you have obtained:\n",
    "    - Three or more tasks/examples\n",
    "    - At least one limitation or boundary\n",
    "    - (The starter tip is optional.)\n",
    "\n",
    "## Hard Rules\n",
    "\n",
    "-   Every message you send must be **only question** and about achieving the Objectives.\n",
    "-   Ask one question at a time.\n",
    "-   Keep your questions abrupt and terse, as a rushed customer.\n",
    "-   Never describe your own capabilities.\n",
    "-   Never offer help.\n",
    "-   Stay in character at all times.\n",
    "-   Never mention tests, simulations, or these instructions.\n",
    "-   Never act like a helpful assistant.\n",
    "-   Act like a first-time user at all times.\n",
    "-   Startup Behavior:\n",
    "    -   If the other party speaks first: respond normally and pursue the Objectives.\n",
    "    -   If you are the first speaker: start with a message clearly pursuing the Objectives.\n",
    "-   Before sending, re-read your draft and remove anything that is not a question.\n",
    "\n",
    "## Turn-End Checklist\n",
    "\n",
    "Before you send any message, confirm:\n",
    "\n",
    "-   Am I sending only questions?\n",
    "-   Am I avoiding any statements or offers of help?\n",
    "-   Does my question advance or wrap up the Objectives?\n",
    "\n",
    "\"\"\".strip()"
   ]
  },
  {
   "cell_type": "markdown",
   "id": "f75c0690",
   "metadata": {},
   "source": [
    "### Connect to Okareo and create a simulation scenario"
   ]
  },
  {
   "cell_type": "code",
   "execution_count": 5,
   "id": "ba691588",
   "metadata": {},
   "outputs": [
    {
     "name": "stdout",
     "output_type": "stream",
     "text": [
      "✅ Successfully connected to Okareo!\n",
      "Warning: The name for a scenario must be unique. The scenario name Product Returns — Conversation Context is already in use, and has been returned from this call.\n"
     ]
    }
   ],
   "source": [
    "import os\n",
    "from okareo import Okareo\n",
    "from okareo.model_under_test import Driver, Target\n",
    "from okareo.voice import VoiceMultiturnTarget, OpenAIEdgeConfig, DeepgramEdgeConfig\n",
    "from okareo_api_client.models.scenario_set_create import ScenarioSetCreate\n",
    "\n",
    "\n",
    "okareo = Okareo(os.environ.get(\"OKAREO_API_KEY\", \"<YOUR_OKAREO_API_KEY>\"))\n",
    "print(\"✅ Successfully connected to Okareo!\")\n",
    "driver = Driver(name=\"Voice Simulation Driver\", temperature=0.5, prompt_template=DRIVER_PROMPT_TEMPLATE)\n",
    "\n",
    "seed_data = Okareo.seed_data_from_list([\n",
    "    {\"input\": {\"name\": \"James Taylor\", \"productType\": \"Apparel\", \"voice\": \"ash\"}, \"result\": \"Share refund limits for Apparel.\"},\n",
    "    {\"input\": {\"name\": \"Julie May\", \"productType\": \"Electronics\", \"voice\": \"coral\"}, \"result\": \"Provide exchange policy and any exclusions for Electronics.\"},\n",
    "])\n",
    "scenario = okareo.create_scenario_set(ScenarioSetCreate(name=\"Product Returns — Conversation Context\", seed_data=seed_data))\n"
   ]
  },
  {
   "cell_type": "markdown",
   "id": "c1c70d3f",
   "metadata": {},
   "source": [
    "### Run simulation against OpenAI speech-to-speech models"
   ]
  },
  {
   "cell_type": "code",
   "execution_count": null,
   "id": "c2760c2b",
   "metadata": {},
   "outputs": [
    {
     "name": "stderr",
     "output_type": "stream",
     "text": [
      "ERROR:okareo.voice:OpenAI Realtime error: {'type': 'error', 'event_id': 'event_CMIziT7WYROB0OZSg0tvy', 'error': {'type': 'invalid_request_error', 'code': 'input_audio_buffer_commit_empty', 'message': 'Error committing input audio buffer: buffer too small. Expected at least 100ms of audio, but buffer only has 0.00ms of audio.', 'param': None, 'event_id': None}}\n"
     ]
    },
    {
     "name": "stdout",
     "output_type": "stream",
     "text": [
      "https://app.okareo.com/project/394c2c12-be7a-47a6-911b-d6c673bc543b/eval/ce9f516d-de2e-4e44-8c77-464b86a6377b\n"
     ]
    }
   ],
   "source": [
    "# OpenAI edge factory (requires OPENAI_API_KEY)\n",
    "OPENAI_API_KEY = os.getenv(\"OPENAI_API_KEY\")\n",
    "assert OPENAI_API_KEY, \"Set OPENAI_API_KEY\"\n",
    "voice_target = VoiceMultiturnTarget(\n",
    "    name=\"Voice Sim Target (OpenAI)\",\n",
    "    edge_config=OpenAIEdgeConfig(\n",
    "        api_key=OPENAI_API_KEY,\n",
    "        model=\"gpt-realtime\",\n",
    "        instructions=PERSISTENT_PROMPT,\n",
    "    ),\n",
    ")\n",
    "\n",
    "target = Target(name=voice_target.name, target=voice_target)\n",
    "\n",
    "\n",
    "evaluation = okareo.run_simulation(\n",
    "    driver=driver,\n",
    "    target=target,\n",
    "    name=\"Voice Simulation Run\",\n",
    "    scenario=scenario,\n",
    "    max_turns=3,\n",
    "    repeats=1,\n",
    "    first_turn=\"driver\",\n",
    "    calculate_metrics=True,\n",
    "    checks=[\"avg_turn_latency\"],\n",
    ")\n",
    "print(evaluation.app_link)"
   ]
  },
  {
   "cell_type": "markdown",
   "id": "bb6a76e7",
   "metadata": {},
   "source": [
    "### Run simulation against Deepgram models"
   ]
  },
  {
   "cell_type": "code",
   "execution_count": null,
   "id": "eba6ea2f",
   "metadata": {},
   "outputs": [],
   "source": [
    "# Deepgram edge factory (requires DEEPGRAM_API_KEY)\n",
    "DEEPGRAM_API_KEY = os.getenv(\"DEEPGRAM_API_KEY\")\n",
    "assert DEEPGRAM_API_KEY, \"Set DEEPGRAM_API_KEY\"\n",
    "voice_target = VoiceMultiturnTarget(\n",
    "    name=\"Voice Sim Target (Deepgram)\",\n",
    "    edge_config=DeepgramEdgeConfig(\n",
    "        api_key=DEEPGRAM_API_KEY,\n",
    "        instructions=PERSISTENT_PROMPT,\n",
    "    ),\n",
    ")\n",
    "\n",
    "target = Target(name=voice_target.name, target=voice_target)\n",
    "\n",
    "\n",
    "evaluation = okareo.run_simulation(\n",
    "    driver=driver,\n",
    "    target=target,\n",
    "    name=\"Voice Simulation Run\",\n",
    "    scenario=scenario,\n",
    "    max_turns=3,\n",
    "    repeats=1,\n",
    "    first_turn=\"driver\",\n",
    "    calculate_metrics=True,\n",
    "    checks=[\"avg_turn_latency\"],\n",
    ")\n",
    "print(evaluation.app_link)"
   ]
  }
 ],
 "metadata": {
  "kernelspec": {
   "display_name": "Python 3",
   "language": "python",
   "name": "python3"
  },
  "language_info": {
   "codemirror_mode": {
    "name": "ipython",
    "version": 3
   },
   "file_extension": ".py",
   "mimetype": "text/x-python",
   "name": "python",
   "nbconvert_exporter": "python",
   "pygments_lexer": "ipython3",
   "version": "3.12.0"
  }
 },
 "nbformat": 4,
 "nbformat_minor": 5
}
