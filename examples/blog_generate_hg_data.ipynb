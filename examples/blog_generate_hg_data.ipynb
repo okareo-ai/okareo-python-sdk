{
 "cells": [
  {
   "cell_type": "code",
   "execution_count": 4,
   "metadata": {},
   "outputs": [],
   "source": [
    "from openai import OpenAI\n",
    "\n",
    "client = OpenAI(\n",
    "    api_key=\"<key>\"\n",
    ")"
   ]
  },
  {
   "cell_type": "code",
   "execution_count": 17,
   "metadata": {},
   "outputs": [],
   "source": [
    "question = \"\"\"\n",
    "WebBizz is an online e-commerce platform. WebBizz describes itself as:\n",
    "\n",
    "WebBizz is dedicated to providing our customers with a seamless online shopping experience. Our platform is designed with user-friendly interfaces to help you browse and select the best products suitable for your needs. We offer a wide range of products from top brands and new entrants, ensuring diversity and quality in our offerings. Our 24/7 customer support is ready to assist you with any queries, from product details, shipping timelines, to payment methods. We also have a dedicated FAQ section addressing common concerns.\n",
    "\n",
    "They have a customer service center that handles questions related to pricing, returns, and complaints.\n",
    "\n",
    "Please write a short paragraph description for each of the three departments.\n",
    "\"\"\"\n",
    "\n",
    "response = client.chat.completions.create(\n",
    "    model=\"gpt-4o\",\n",
    "    messages=[\n",
    "        {\"role\": \"system\", \"content\": \"You work for a marketing agency and help write copy for online e-commerce businesses.\"},\n",
    "        {\"role\": \"user\", \"content\": question},\n",
    "    ]\n",
    ")"
   ]
  },
  {
   "cell_type": "code",
   "execution_count": 20,
   "metadata": {},
   "outputs": [],
   "source": [
    "departments = response.choices[0].message.content"
   ]
  },
  {
   "cell_type": "code",
   "execution_count": 21,
   "metadata": {},
   "outputs": [
    {
     "name": "stdout",
     "output_type": "stream",
     "text": [
      "**Pricing Department:**\n",
      "Our Pricing Department at WebBizz works tirelessly to ensure that you receive the best value for your money. By continuously researching market trends and competitor rates, our team expertly balances affordability with quality. Whether you're looking for deals on top-brand products or exploring new entrants to the market, our transparent pricing structure intends to provide you with maximum savings. For any specific queries or detailed information regarding our prices, our dedicated team is always ready to assist you.\n",
      "\n",
      "**Returns Department:**\n",
      "At WebBizz, we understand that sometimes purchases don't go as planned, which is why our Returns Department is here to make the return process as smooth and hassle-free as possible. Our knowledgeable team is committed to addressing your return requests promptly, ensuring that you feel confident and satisfied with your shopping experience. Whether you need assistance navigating our return policies or initiating a return, our professionals are here to guide you every step of the way.\n",
      "\n",
      "**Complaints Department:**\n",
      "Customer satisfaction is paramount at WebBizz, and our Complaints Department is dedicated to resolving any issues you may encounter. Our team of empathetic and proactive professionals is trained to handle your grievances meticulously and swiftly, ensuring you receive the highest level of support and care. From product-related concerns to service dissatisfaction, we are committed to turning your experience around and maintaining the trust you've placed in us.\n"
     ]
    }
   ],
   "source": [
    "print(departments)"
   ]
  },
  {
   "cell_type": "code",
   "execution_count": 24,
   "metadata": {},
   "outputs": [],
   "source": [
    "hg_question_2 = f\"\"\"\n",
    "The customer service center for an online e-commerce platform has three departments: pricing, returns, and complaints.\n",
    "A short description of each department is as follows:\n",
    "{departments}\n",
    "\n",
    "Please provide a list of 10 customer questions that would be handled by each department.\n",
    "Only provide questions, not the answers to the questions.\n",
    "\n",
    "Ensure that at least half of the questions don't use the name of the department.\n",
    "\n",
    "Include both general and specific questions.\n",
    "\"\"\"\n",
    "\n",
    "response = client.chat.completions.create(\n",
    "    model=\"gpt-4o\",\n",
    "    messages=[\n",
    "        {\"role\": \"user\", \"content\": hg_question_2},\n",
    "    ]\n",
    ")"
   ]
  },
  {
   "cell_type": "code",
   "execution_count": 25,
   "metadata": {},
   "outputs": [
    {
     "name": "stdout",
     "output_type": "stream",
     "text": [
      "**Pricing Department:**\n",
      "1. What are the current discounts available on electronic gadgets?\n",
      "2. How often do you update your prices based on market trends?\n",
      "3. Why is the price of Product X higher than that of your competitor?\n",
      "4. Are there any seasonal sales or upcoming promotions I should be aware of?\n",
      "5. Can you explain the price difference between similar products from different brands?\n",
      "6. Do you offer price matching with other online retailers?\n",
      "7. How can I apply a discount code to my purchase?\n",
      "8. Is there a loyalty program that provides additional savings on purchases?\n",
      "9. Could you provide more details on the bulk pricing for office supplies?\n",
      "10. What factors influence the pricing changes for home appliances?\n",
      "\n",
      "**Returns Department:**\n",
      "1. How do I initiate a return for a recently purchased item?\n",
      "2. What is the time frame within which I can return an unwanted product?\n",
      "3. Is there a fee associated with returning an item?\n",
      "4. I received a damaged item; how do I go about getting a replacement?\n",
      "5. What documentation do I need to provide for a return request?\n",
      "6. Can I return an item if I’ve lost the original packaging?\n",
      "7. Are there any exceptions to your return policy for clearance items?\n",
      "8. How can I track the status of my return?\n",
      "9. Will I be refunded in full, or will there be deductions for restocking fees?\n",
      "10. Can I return online purchases to a physical store location?\n",
      "\n",
      "**Complaints Department:**\n",
      "1. I have an issue with the quality of Product Y; whom do I contact?\n",
      "2. How do I file a formal complaint about a negative experience with customer service?\n",
      "3. Why haven’t I received a resolution for my previous complaint?\n",
      "4. What steps are taken after I submit a complaint?\n",
      "5. Where can I send feedback about a particular problematic order?\n",
      "6. How long does it take for the complaints team to respond?\n",
      "7. My product arrived late, and this has caused inconvenience; what can be done about this?\n",
      "8. What is the escalation process for unresolved issues?\n",
      "9. Can I speak directly to a manager about my ongoing issue?\n",
      "10. How can I provide detailed feedback about the service I received?\n"
     ]
    }
   ],
   "source": [
    "print(response.choices[0].message.content)"
   ]
  },
  {
   "cell_type": "code",
   "execution_count": null,
   "metadata": {},
   "outputs": [],
   "source": []
  }
 ],
 "metadata": {
  "kernelspec": {
   "display_name": "Python 3",
   "language": "python",
   "name": "python3"
  },
  "language_info": {
   "codemirror_mode": {
    "name": "ipython",
    "version": 3
   },
   "file_extension": ".py",
   "mimetype": "text/x-python",
   "name": "python",
   "nbconvert_exporter": "python",
   "pygments_lexer": "ipython3",
   "version": "3.12.4"
  }
 },
 "nbformat": 4,
 "nbformat_minor": 2
}
