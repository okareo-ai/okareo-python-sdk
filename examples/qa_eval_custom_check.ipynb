{
 "cells": [
  {
   "cell_type": "markdown",
   "metadata": {},
   "source": [
    "<a target=\"_blank\" href=\"https://colab.research.google.com/github/okareo-ai/okareo-python-sdk/blob/main/examples/generation_eval.ipynb\">\n",
    "  <img src=\"https://colab.research.google.com/assets/colab-badge.svg\" alt=\"Open In Colab\"/>\n",
    "</a>\n",
    "\n",
    "## Welcome to Okareo!\n",
    "\n",
    "Get your API token from [https://app.okareo.com/](https://app.okareo.com/) and set it in the cell below. 👇\n",
    "   (Note: You will also need an OpenAI key.)\n",
    "\n"
   ]
  },
  {
   "cell_type": "code",
   "execution_count": null,
   "metadata": {},
   "outputs": [],
   "source": [
    "OKAREO_API_KEY = \"<YOUR-OKAREO-API-TOKEN>\"\n",
    "OPENAI_API_KEY = \"<YOUR-OPENAI-API-TOKEN>\""
   ]
  },
  {
   "cell_type": "code",
   "execution_count": null,
   "metadata": {},
   "outputs": [],
   "source": [
    "%pip install okareo\n",
    "%pip install openai"
   ]
  },
  {
   "cell_type": "code",
   "execution_count": null,
   "metadata": {},
   "outputs": [],
   "source": [
    "# Import libraries\n",
    "import os\n",
    "import tempfile\n",
    "from io import StringIO  \n",
    "import pandas as pd\n",
    "\n",
    "# Import Okareo libraries\n",
    "from okareo import Okareo\n",
    "from okareo_api_client.models.test_run_type import TestRunType\n",
    "from okareo_api_client.models import ScenarioSetCreate, SeedData\n",
    "\n",
    "# Create an instance of the Okareo client\n",
    "okareo = Okareo(OKAREO_API_KEY)\n",
    "\n",
    "# Load documents from Okareo's GitHub repository\n",
    "webbizz_articles = os.popen('curl https://raw.githubusercontent.com/okareo-ai/okareo-python-sdk/main/examples/webbizz_10_articles.jsonl').read()\n",
    "\n",
    "# Convert the JSONL string to a pandas DataFrame\n",
    "articlesJson = pd.read_json(path_or_buf=StringIO(webbizz_articles), lines=True)\n",
    "\n",
    "# Load documents from Okareo's GitHub repository\n",
    "webbizz_questions = os.popen('curl https://raw.githubusercontent.com/okareo-ai/okareo-python-sdk/main/examples/webbizz_retrieval_questions.jsonl').read()\n",
    "\n",
    "# Convert the JSONL string to a pandas DataFrame\n",
    "questionsJson = pd.read_json(path_or_buf=StringIO(webbizz_questions), lines=True)\n",
    "\n",
    "seed_inputs = questionsJson['input'].tolist()\n",
    "seed_contexts = []\n",
    "for i in range(len(seed_inputs)):\n",
    "    context = \"\"\n",
    "    for article_id in questionsJson['result'].tolist()[i]:\n",
    "        context += articlesJson[articlesJson['result'] == article_id]['input'].values[0] + \"\\n\"\n",
    "    seed_contexts.append(context)\n",
    "\n",
    "seed_data = []\n",
    "for i in range(len(seed_inputs)):\n",
    "    seed_data.append(SeedData(input_={'question': seed_inputs[i], 'context': seed_contexts[i]}, result='N/A'))\n",
    "scenario_set_create = ScenarioSetCreate(\n",
    "    name=f\"QA Scenario w/ Context- Webbizz\",\n",
    "    seed_data=seed_data\n",
    ")\n",
    "scenario = okareo.create_scenario_set(scenario_set_create)\n",
    "\n"
   ]
  },
  {
   "cell_type": "markdown",
   "metadata": {},
   "source": [
    "## Question Answer Model"
   ]
  },
  {
   "cell_type": "code",
   "execution_count": null,
   "metadata": {},
   "outputs": [],
   "source": [
    "# Import libraries\n",
    "from openai import OpenAI\n",
    "from datetime import datetime\n",
    "\n",
    "# Import Okareo's handler for OpenAI models\n",
    "from okareo.model_under_test import OpenAIModel\n",
    "\n",
    "# Create an instance of the OpenAI client\n",
    "client = OpenAI(api_key=OPENAI_API_KEY)\n",
    "\n",
    "# Define a function to call the OpenAI API\n",
    "# This function will be used to query the specified OpenAI model\n",
    "def get_turbo_summary(messages, model=\"gpt-3.5-turbo\", temperature=0, max_tokens=500):\n",
    "  response = client.chat.completions.create(\n",
    "    model=model,\n",
    "    messages=messages,\n",
    "    temperature=temperature, \n",
    "    max_tokens=max_tokens,\n",
    "  )\n",
    "  return response.choices[0].message.content\n",
    "\n",
    "# Define a template for the user prompt\n",
    "USER_PROMPT_TEMPLATE = \"Question: {input.question} Context: {input.context}\"\n",
    "\n",
    "# Define a template to prompt the model to provide a summary\n",
    "ANSWER_CONTEXT_TEMPLATE = \"\"\"\n",
    "You will be provided with context and a question.\n",
    "Answer the question based on the context.\n",
    "\"\"\"\n",
    "\n",
    "# Create an instance of the OpenAIModel class\n",
    "# This class is used to interact with the OpenAI model using user and system prompts\n",
    "openai_model = OpenAIModel(\n",
    "        model_id=\"gpt-4o\",\n",
    "        temperature=0,\n",
    "        system_prompt_template=ANSWER_CONTEXT_TEMPLATE,\n",
    "        user_prompt_template=USER_PROMPT_TEMPLATE,\n",
    "    )\n",
    "\n",
    "# Define the name of the model with the current timestamp\n",
    "mut_name=f\"OpenAI Answering Model - {datetime.now().strftime('%m-%d %H:%M:%S')}\"\n",
    "\n",
    "# Register the model to use in a test run\n",
    "model_under_test = okareo.register_model(\n",
    "    name=mut_name,\n",
    "    model=openai_model,\n",
    "    update=True\n",
    ")"
   ]
  },
  {
   "cell_type": "code",
   "execution_count": null,
   "metadata": {},
   "outputs": [],
   "source": [
    "from okareo.checks import ModelBasedCheck, CheckType\n",
    "check = okareo.create_or_update_check(\n",
    "    name=\"Relevance Check\",\n",
    "    description=\"Relevance check for QA with context\",\n",
    "    check=ModelBasedCheck(\n",
    "        prompt_template=\"\"\"Rate the relevance of the answer on a scale of 1 to 5. The output should be only 1 number.\n",
    "        Context: {input.context}\n",
    "        Question: {input.question}\n",
    "        Answer: {model_output}\n",
    "        Evaluation Form (scores only):\n",
    "            -Relevance:\n",
    "        \"\"\",\n",
    "        check_type=CheckType.SCORE\n",
    "    ),\n",
    ")"
   ]
  },
  {
   "cell_type": "markdown",
   "metadata": {},
   "source": [
    "## Evaluation"
   ]
  },
  {
   "cell_type": "code",
   "execution_count": null,
   "metadata": {},
   "outputs": [],
   "source": [
    "# Create a name for the evaluation with the current timestamp\n",
    "eval_name = f\"Summarization Run - {datetime.now().strftime('%m-%d %H:%M:%S')}\"\n",
    "\n",
    "# Perform a test run using the scenario set\n",
    "evaluation = model_under_test.run_test(\n",
    "    name=eval_name,\n",
    "    scenario=scenario,\n",
    "    api_key=OPENAI_API_KEY,\n",
    "    test_run_type=TestRunType.NL_GENERATION, # specify that we are testing a natural language generation model\n",
    "    calculate_metrics=True,\n",
    "    # define the metrics to calculate\n",
    "    checks=[check.name]\n",
    ")\n",
    "\n",
    "# Generate a link back to Okareo for evaluation visualization\n",
    "print(f\"See results in Okareo: {evaluation.app_link}\")"
   ]
  },
  {
   "cell_type": "code",
   "execution_count": null,
   "metadata": {},
   "outputs": [],
   "source": []
  }
 ],
 "metadata": {
  "kernelspec": {
   "display_name": ".venv",
   "language": "python",
   "name": "python3"
  },
  "language_info": {
   "codemirror_mode": {
    "name": "ipython",
    "version": 3
   },
   "file_extension": ".py",
   "mimetype": "text/x-python",
   "name": "python",
   "nbconvert_exporter": "python",
   "pygments_lexer": "ipython3",
   "version": "3.11.2"
  }
 },
 "nbformat": 4,
 "nbformat_minor": 2
}
