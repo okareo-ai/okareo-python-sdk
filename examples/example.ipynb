{
 "cells": [
  {
   "cell_type": "markdown",
   "metadata": {},
   "source": [
    "## Instructions:\n",
    "\n",
    "1. Install Okareo's Python SDK: &nbsp;&nbsp;  `pip install okareo`  &nbsp;&nbsp;  (just run the cell below)\n",
    "\n",
    "2. Get your API token from [https://app.okareo.com/](https://app.okareo.com/).  \n",
    "   (Note: You will need to register first.)\n",
    "\n",
    "3. Go directly to the **\"2. Create your API Token\"** link on the landing page in above app. You can skip all other steps.\n",
    "\n",
    "4. Set the environment variable `OKAREO_API_KEY` to your generated API token."
   ]
  },
  {
   "cell_type": "code",
   "execution_count": null,
   "metadata": {},
   "outputs": [],
   "source": [
    "%pip install okareo "
   ]
  },
  {
   "cell_type": "code",
   "execution_count": 4,
   "metadata": {},
   "outputs": [
    {
     "ename": "ImportError",
     "evalue": "cannot import name 'API_CONFIG' from 'okareo.common' (/Library/Frameworks/Python.framework/Versions/3.11/lib/python3.11/site-packages/okareo/common.py)",
     "output_type": "error",
     "traceback": [
      "\u001b[0;31m---------------------------------------------------------------------------\u001b[0m",
      "\u001b[0;31mImportError\u001b[0m                               Traceback (most recent call last)",
      "\u001b[1;32m/Users/mrpositive/Lazy Labs/okareo-python-sdk/examples/example.ipynb Cell 3\u001b[0m line \u001b[0;36m4\n\u001b[1;32m      <a href='vscode-notebook-cell:/Users/mrpositive/Lazy%20Labs/okareo-python-sdk/examples/example.ipynb#X14sZmlsZQ%3D%3D?line=1'>2</a>\u001b[0m \u001b[39mfrom\u001b[39;00m \u001b[39mokareo\u001b[39;00m \u001b[39mimport\u001b[39;00m Okareo\n\u001b[1;32m      <a href='vscode-notebook-cell:/Users/mrpositive/Lazy%20Labs/okareo-python-sdk/examples/example.ipynb#X14sZmlsZQ%3D%3D?line=2'>3</a>\u001b[0m \u001b[39mfrom\u001b[39;00m \u001b[39mdatetime\u001b[39;00m \u001b[39mimport\u001b[39;00m datetime\n\u001b[0;32m----> <a href='vscode-notebook-cell:/Users/mrpositive/Lazy%20Labs/okareo-python-sdk/examples/example.ipynb#X14sZmlsZQ%3D%3D?line=3'>4</a>\u001b[0m \u001b[39mfrom\u001b[39;00m \u001b[39mokareo\u001b[39;00m\u001b[39m.\u001b[39;00m\u001b[39mcommon\u001b[39;00m \u001b[39mimport\u001b[39;00m API_CONFIG\n\u001b[1;32m      <a href='vscode-notebook-cell:/Users/mrpositive/Lazy%20Labs/okareo-python-sdk/examples/example.ipynb#X14sZmlsZQ%3D%3D?line=5'>6</a>\u001b[0m OKAREO_API_KEY \u001b[39m=\u001b[39m os\u001b[39m.\u001b[39menviron[\u001b[39m\"\u001b[39m\u001b[39mOKAREO_API_KEY\u001b[39m\u001b[39m\"\u001b[39m]\n\u001b[1;32m      <a href='vscode-notebook-cell:/Users/mrpositive/Lazy%20Labs/okareo-python-sdk/examples/example.ipynb#X14sZmlsZQ%3D%3D?line=6'>7</a>\u001b[0m okareo \u001b[39m=\u001b[39m Okareo(OKAREO_API_KEY)\n",
      "\u001b[0;31mImportError\u001b[0m: cannot import name 'API_CONFIG' from 'okareo.common' (/Library/Frameworks/Python.framework/Versions/3.11/lib/python3.11/site-packages/okareo/common.py)"
     ]
    }
   ],
   "source": [
    "import os\n",
    "from okareo import Okareo\n",
    "from datetime import datetime\n",
    "\n",
    "\n",
    "OKAREO_API_KEY = os.environ[\"OKAREO_API_KEY\"]\n",
    "okareo = Okareo(OKAREO_API_KEY)\n",
    "\n",
    "# Register a model with a unique name - for example the UUID of custom tuned model, or vectordb index+namespace name\n",
    "# by convention, we call the \"model_under_test\" , the \"mut\"\n",
    "model_under_test = okareo.register_model(name=\"unique_model_name\")\n",
    "\n",
    "data_point = model_under_test.add_data_point(\n",
    "    # following 4 fields are MANDATORY\n",
    "    input_obj = { \"input\": \"value\" },  # json.dumps() the input objects from the model\n",
    "    input_datetime = str(datetime.now()), # start of model invocation\n",
    "    result_obj = { \"result\": \"value\" },  # json.dumps() the result objects from the model\n",
    "    result_datetime = str(datetime.now()), # end of model invocation\n",
    "\n",
    "    # the remaining fields are OPTIONAL\n",
    "    feedback = 0, # user feedback as 0 (negative), 1 (positive), or more complex scale\n",
    "    # context_token is a unique identifier tying together multiple model invocations for a single user interaction, a transactionID for example\n",
    "    # in many cases there would a single feedback value per single context_token/transactionID, therefore feedback is optional\n",
    "    context_token = \"SOME_CONTEXT_TOKEN\",\n",
    "    tags = [\"nextgen\", \"test\"]  # tags are optional, they help identify scope of the data collection: use case, environment, etc.\n",
    ")\n",
    "print (\"stored data point:\", data_point)"
   ]
  }
 ],
 "metadata": {
  "kernelspec": {
   "display_name": "Python 3",
   "language": "python",
   "name": "python3"
  },
  "language_info": {
   "codemirror_mode": {
    "name": "ipython",
    "version": 3
   },
   "file_extension": ".py",
   "mimetype": "text/x-python",
   "name": "python",
   "nbconvert_exporter": "python",
   "pygments_lexer": "ipython3",
   "version": "3.11.2"
  },
  "orig_nbformat": 4
 },
 "nbformat": 4,
 "nbformat_minor": 2
}
