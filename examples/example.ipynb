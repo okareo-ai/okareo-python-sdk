{
 "cells": [
  {
   "cell_type": "code",
   "execution_count": null,
   "metadata": {},
   "outputs": [],
   "source": [
    "%pip install okareo "
   ]
  },
  {
   "cell_type": "code",
   "execution_count": null,
   "metadata": {},
   "outputs": [],
   "source": [
    "import os\n",
    "from okareo import Okareo\n",
    "from datetime import datetime\n",
    "\n",
    "# Get your API token from https://app.okareo.com/   (you will need to register first)\n",
    "# Go directly to Step \"2. Create your API Token\" link on the landing page, you can skip all other steps\n",
    "# set the environment variable OKAREO_API_KEY to your generated API token\n",
    "\n",
    "OKAREO_API_KEY = os.environ[\"OKAREO_API_KEY\"]\n",
    "okareo = Okareo(OKAREO_API_KEY)\n",
    "\n",
    "# Register a model with a unique name - for example the UUID of custom tuned model, or vectordb index+namespace name\n",
    "# by convention, we call the \"model_under_test\" , the \"mut\"\n",
    "model_under_test = okareo.register_model(name=\"unique_model_name\")\n",
    "\n",
    "data_point = model_under_test.add_data_point(\n",
    "    # json.dumps() the input and result objects from the model\n",
    "    input_obj = { \"input\": \"value\" },\n",
    "    result_obj = { \"result\": \"value\" },\n",
    "    # user feedback as 0 (negative), 1 (positive), or more complex scale\n",
    "    feedback = 0,\n",
    "    # unique identifier tying together multiple model invocations for a single user interaction, a transactionID for example\n",
    "    # in many cases there would a single feedback value per single context_token/transactionID, therefore feedback is optional\n",
    "    input_datetime = str(datetime.now()),\n",
    "    result_datetime = str(datetime.now()),\n",
    "    # tags are optional, they help identify scope of the data collection: use case, environment, etc.\n",
    "    tags = [\"nextgen\", \"test\"]\n",
    ")\n",
    "print (\"stored data point:\", data_point)"
   ]
  },
  {
   "cell_type": "code",
   "execution_count": null,
   "metadata": {},
   "outputs": [],
   "source": []
  }
 ],
 "metadata": {
  "kernelspec": {
   "display_name": "Python 3",
   "language": "python",
   "name": "python3"
  },
  "language_info": {
   "codemirror_mode": {
    "name": "ipython",
    "version": 3
   },
   "file_extension": ".py",
   "mimetype": "text/x-python",
   "name": "python",
   "nbconvert_exporter": "python",
   "pygments_lexer": "ipython3",
   "version": "3.11.5"
  },
  "orig_nbformat": 4
 },
 "nbformat": 4,
 "nbformat_minor": 2
}
