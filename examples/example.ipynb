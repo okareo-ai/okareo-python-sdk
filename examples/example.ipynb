{
 "cells": [
  {
   "cell_type": "code",
   "execution_count": 2,
   "metadata": {},
   "outputs": [
    {
     "name": "stdout",
     "output_type": "stream",
     "text": [
      "Requirement already satisfied: okareo in /Library/Frameworks/Python.framework/Versions/3.11/lib/python3.11/site-packages (0.0.9)\n",
      "Requirement already satisfied: httpx<0.26.0,>=0.25.0 in /Library/Frameworks/Python.framework/Versions/3.11/lib/python3.11/site-packages (from okareo) (0.25.0)\n",
      "Requirement already satisfied: pydantic<3.0.0,>=2.4.2 in /Library/Frameworks/Python.framework/Versions/3.11/lib/python3.11/site-packages (from okareo) (2.4.2)\n",
      "Requirement already satisfied: pytest-httpx<0.27.0,>=0.26.0 in /Library/Frameworks/Python.framework/Versions/3.11/lib/python3.11/site-packages (from okareo) (0.26.0)\n",
      "Requirement already satisfied: types-python-dateutil<3.0.0.0,>=2.8.19.14 in /Library/Frameworks/Python.framework/Versions/3.11/lib/python3.11/site-packages (from okareo) (2.8.19.14)\n",
      "Requirement already satisfied: certifi in /Library/Frameworks/Python.framework/Versions/3.11/lib/python3.11/site-packages (from httpx<0.26.0,>=0.25.0->okareo) (2023.7.22)\n",
      "Requirement already satisfied: httpcore<0.19.0,>=0.18.0 in /Library/Frameworks/Python.framework/Versions/3.11/lib/python3.11/site-packages (from httpx<0.26.0,>=0.25.0->okareo) (0.18.0)\n",
      "Requirement already satisfied: idna in /Library/Frameworks/Python.framework/Versions/3.11/lib/python3.11/site-packages (from httpx<0.26.0,>=0.25.0->okareo) (3.4)\n",
      "Requirement already satisfied: sniffio in /Library/Frameworks/Python.framework/Versions/3.11/lib/python3.11/site-packages (from httpx<0.26.0,>=0.25.0->okareo) (1.3.0)\n",
      "Requirement already satisfied: annotated-types>=0.4.0 in /Library/Frameworks/Python.framework/Versions/3.11/lib/python3.11/site-packages (from pydantic<3.0.0,>=2.4.2->okareo) (0.5.0)\n",
      "Requirement already satisfied: pydantic-core==2.10.1 in /Library/Frameworks/Python.framework/Versions/3.11/lib/python3.11/site-packages (from pydantic<3.0.0,>=2.4.2->okareo) (2.10.1)\n",
      "Requirement already satisfied: typing-extensions>=4.6.1 in /Library/Frameworks/Python.framework/Versions/3.11/lib/python3.11/site-packages (from pydantic<3.0.0,>=2.4.2->okareo) (4.8.0)\n",
      "Requirement already satisfied: pytest==7.* in /Library/Frameworks/Python.framework/Versions/3.11/lib/python3.11/site-packages (from pytest-httpx<0.27.0,>=0.26.0->okareo) (7.4.2)\n",
      "Requirement already satisfied: iniconfig in /Library/Frameworks/Python.framework/Versions/3.11/lib/python3.11/site-packages (from pytest==7.*->pytest-httpx<0.27.0,>=0.26.0->okareo) (2.0.0)\n",
      "Requirement already satisfied: packaging in /Library/Frameworks/Python.framework/Versions/3.11/lib/python3.11/site-packages (from pytest==7.*->pytest-httpx<0.27.0,>=0.26.0->okareo) (23.2)\n",
      "Requirement already satisfied: pluggy<2.0,>=0.12 in /Library/Frameworks/Python.framework/Versions/3.11/lib/python3.11/site-packages (from pytest==7.*->pytest-httpx<0.27.0,>=0.26.0->okareo) (1.3.0)\n",
      "Requirement already satisfied: anyio<5.0,>=3.0 in /Library/Frameworks/Python.framework/Versions/3.11/lib/python3.11/site-packages (from httpcore<0.19.0,>=0.18.0->httpx<0.26.0,>=0.25.0->okareo) (4.0.0)\n",
      "Requirement already satisfied: h11<0.15,>=0.13 in /Library/Frameworks/Python.framework/Versions/3.11/lib/python3.11/site-packages (from httpcore<0.19.0,>=0.18.0->httpx<0.26.0,>=0.25.0->okareo) (0.14.0)\n",
      "Note: you may need to restart the kernel to use updated packages.\n"
     ]
    }
   ],
   "source": [
    "%pip install okareo"
   ]
  },
  {
   "cell_type": "code",
   "execution_count": 2,
   "metadata": {},
   "outputs": [
    {
     "name": "stdout",
     "output_type": "stream",
     "text": [
      "stored data point: id=53 project_id=2 mut_id=8\n"
     ]
    }
   ],
   "source": [
    "import os\n",
    "from okareo import Okareo\n",
    "from datetime import datetime\n",
    "\n",
    "# Get your API token from https://app.okareo.com/ \n",
    "# Go directly to Step \"2. Create your API Token\" link on the landing page, you can skip all other steps\n",
    "# set the environment variable OKAREO_API_KEY to your generated API token\n",
    "\n",
    "OKAREO_API_KEY = os.environ[\"OKAREO_API_KEY\"]\n",
    "okareo = Okareo(OKAREO_API_KEY)\n",
    "\n",
    "mut = okareo.register_model(name=\"unique_model_name8\")\n",
    "\n",
    "data_point = okareo.add_data_point(\n",
    "    mut_id = mut.id,\n",
    "    input_obj = { \"input\": \"value\" },\n",
    "    result_obj = { \"result\": \"value\" },\n",
    "    feedback = 0,\n",
    "    context_token = \"SOME_CONTEXT_TOKEN\",\n",
    "    input_datetime = str(datetime.now()),\n",
    "    result_datetime = str(datetime.now()),\n",
    "    tags = [\"datapoint\", \"test\"]\n",
    ")\n",
    "print (\"stored data point:\", data_point)"
   ]
  }
 ],
 "metadata": {
  "kernelspec": {
   "display_name": "Python 3",
   "language": "python",
   "name": "python3"
  },
  "language_info": {
   "codemirror_mode": {
    "name": "ipython",
    "version": 3
   },
   "file_extension": ".py",
   "mimetype": "text/x-python",
   "name": "python",
   "nbconvert_exporter": "python",
   "pygments_lexer": "ipython3",
   "version": "3.11.2"
  },
  "orig_nbformat": 4
 },
 "nbformat": 4,
 "nbformat_minor": 2
}
