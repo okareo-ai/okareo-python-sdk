{
 "cells": [
  {
   "cell_type": "markdown",
   "metadata": {},
   "source": [
    "## From Zero Instructions:\n",
    "\n",
    "1. Install Okareo's Python SDK: &nbsp;&nbsp;  `pip install okareo`  &nbsp;&nbsp;  (just run the cell below)\n",
    "\n",
    "2. Get your API token from [https://app.okareo.com/](https://app.okareo.com/).  \n",
    "   (Note: You will need to register first.)\n",
    "\n",
    "3. Go directly to the **\"2. Create your API Token\"** link on the landing page. You can skip all other steps.\n",
    "\n",
    "4. Set the environment variable `OKAREO_API_KEY` to your generated API token.\n"
   ]
  },
  {
   "cell_type": "code",
   "execution_count": null,
   "metadata": {},
   "outputs": [],
   "source": [
    "%pip install okareo "
   ]
  },
  {
   "cell_type": "markdown",
   "metadata": {},
   "source": [
    "**Example 1: Create Scenario based on seed data passed as arguments**"
   ]
  },
  {
   "cell_type": "code",
   "execution_count": 1,
   "metadata": {},
   "outputs": [
    {
     "name": "stdout",
     "output_type": "stream",
     "text": [
      "https://app.okareo.com/project/f7bfcff0-2b8d-4fec-ab20-51669cd3e732/scenario/3335fbac-7f52-4fb5-935b-1e942fcce166\n"
     ]
    }
   ],
   "source": [
    "import os\n",
    "from okareo import Okareo\n",
    "from okareo_api_client.models import ScenarioSetCreate, ScenarioSetResponse, SeedData, ScenarioType\n",
    "\n",
    "\n",
    "OKAREO_API_KEY = os.environ[\"OKAREO_API_KEY\"]\n",
    "okareo = Okareo(OKAREO_API_KEY)\n",
    "\n",
    "# Generate example scenario based on seed data and return results in one call\n",
    "scenario_set_create = ScenarioSetCreate(name=\"My Test Scenario Set \",\n",
    "                                        generation_type=ScenarioType.SEED,\n",
    "                                        number_examples=1,\n",
    "                                        seed_data=[SeedData(input_=\"example question or statement\", result=\"example result\"),\n",
    "                                                   SeedData(input_=\"tell me about your capability\", result=\"example result\"),\n",
    "                                                   SeedData(input_=\"what are your limitations\", result=\"example result\")])\n",
    "\n",
    "source_scenario = okareo.create_scenario_set(scenario_set_create)\n",
    "\n",
    "print(source_scenario.app_link)"
   ]
  },
  {
   "cell_type": "markdown",
   "metadata": {},
   "source": [
    "**Example 2: Create scenario set from a jsonl file upload with defined input and result fields**"
   ]
  },
  {
   "cell_type": "code",
   "execution_count": 9,
   "metadata": {},
   "outputs": [
    {
     "name": "stdout",
     "output_type": "stream",
     "text": [
      "ScenarioSetResponse(scenario_id='12d9c263-508f-41c2-affd-5a7d273d063e', project_id='394c2c12-be7a-47a6-911b-d6c673bc543b', time_created=datetime.datetime(2024, 1, 18, 21, 7, 15, 661626), type='SEED', tags=None, name='Sample Scenario Upload', seed_data=[], scenario_count=0, scenario_input=[], additional_properties={})\n",
      "https://app.okareo.com/project/394c2c12-be7a-47a6-911b-d6c673bc543b/scenario/12d9c263-508f-41c2-affd-5a7d273d063e\n"
     ]
    }
   ],
   "source": [
    "import os\n",
    "import tempfile\n",
    "import json\n",
    "from okareo import Okareo\n",
    "\n",
    "\n",
    "# Step A - Create quick sample seed data file \n",
    "# Sample seed data jsonl file for classification model, need input and result fields at minimum\n",
    "rows = [\n",
    "    {\n",
    "        \"input\": \"I have some quality concerns with your product, who can I talk to?\",\n",
    "        \"result\": \"complaints\"\n",
    "    },\n",
    "    {\n",
    "        \"input\": \"The product is not working as expected, I'd like to return it?\",\n",
    "        \"result\": \"returns\",\n",
    "\n",
    "    },\n",
    "    {\n",
    "        \"input\": \"I'd like to purchase additional filters for my model, how much are they?\",\n",
    "        \"result\": \"pricing\",\n",
    "    }\n",
    "]\n",
    "\n",
    "temp_dir = tempfile.gettempdir()\n",
    "file_path = os.path.join(temp_dir, \"seed_data_sample.jsonl\")\n",
    "\n",
    "# Write to a .jsonl file\n",
    "with open(file_path, \"w+\") as file:\n",
    "    for row in rows:\n",
    "        file.write(json.dumps(row) + '\\n')\n",
    "    \n",
    "\n",
    "# Step B - Create scenario set with seed data file\n",
    "OKAREO_API_KEY = os.environ[\"OKAREO_API_KEY\"]\n",
    "okareo = Okareo(OKAREO_API_KEY)\n",
    "\n",
    "source_scenario = okareo.upload_scenario_set(file_path=file_path, scenario_name=\"Sample Scenario Upload\")\n",
    "print(source_scenario) # use scenario set id in output for the next step\n",
    "\n",
    "print(source_scenario.app_link)\n",
    "\n",
    "# make sure to clean up tmp file\n",
    "os.remove(file_path)"
   ]
  },
  {
   "cell_type": "markdown",
   "metadata": {},
   "source": [
    "**Example 3: Generate a new Scenario Set by referring to another scenario set as seed data**"
   ]
  },
  {
   "cell_type": "code",
   "execution_count": 10,
   "metadata": {},
   "outputs": [
    {
     "name": "stdout",
     "output_type": "stream",
     "text": [
      "https://app.okareo.com/project/394c2c12-be7a-47a6-911b-d6c673bc543b/scenario/b7f19b1f-3740-4d55-8dae-4541f060bd31\n"
     ]
    }
   ],
   "source": [
    "import os\n",
    "from okareo import Okareo\n",
    "\n",
    "\n",
    "OKAREO_API_KEY = os.environ[\"OKAREO_API_KEY\"]\n",
    "okareo = Okareo(OKAREO_API_KEY)\n",
    "\n",
    "# Use scenario set id from previous step as source for generation\n",
    "generated_scenario = okareo.generate_scenarios(source_scenario=source_scenario,\n",
    "                                     name=\"Generated Scenario Set\",\n",
    "                                     number_examples=2\n",
    "                                     )\n",
    "\n",
    "print(generated_scenario.app_link)"
   ]
  },
  {
   "cell_type": "markdown",
   "metadata": {},
   "source": [
    "**Example 4: Generate a new Scenario Set using the Text Reverse Question generator. This will generate a new scenario with questions where the original input is the answer to the question generated.**"
   ]
  },
  {
   "cell_type": "code",
   "execution_count": 11,
   "metadata": {},
   "outputs": [
    {
     "name": "stdout",
     "output_type": "stream",
     "text": [
      "ScenarioSetResponse(scenario_id='5ac4fa72-1fcf-4327-92cd-d5bea529ca83', project_id='394c2c12-be7a-47a6-911b-d6c673bc543b', time_created=datetime.datetime(2024, 1, 18, 21, 7, 47, 208386), type='TEXT_REVERSE_QUESTION', tags=['seed:dc7ebac1-1f19-45e1-ac3b-3dfb768e21d1'], name='Questions from retrieval articles', seed_data=[], scenario_count=0, scenario_input=[], additional_properties={})\n",
      "https://app.okareo.com/project/394c2c12-be7a-47a6-911b-d6c673bc543b/scenario/5ac4fa72-1fcf-4327-92cd-d5bea529ca83\n"
     ]
    }
   ],
   "source": [
    "import os\n",
    "from okareo import Okareo\n",
    "from okareo_api_client.models import ScenarioType\n",
    "\n",
    "OKAREO_API_KEY = os.environ[\"OKAREO_API_KEY\"]\n",
    "okareo = Okareo(OKAREO_API_KEY)\n",
    "\n",
    "source_scenario = okareo.upload_scenario_set(file_path='./webbizz_10_articles.jsonl', scenario_name=\"Retrieval Articles Scenario\")\n",
    "generated_scenario_response = okareo.generate_scenarios(\n",
    "    source_scenario=source_scenario,\n",
    "    name=\"Questions from retrieval articles\",\n",
    "    number_examples=2,\n",
    "    generation_type=ScenarioType.TEXT_REVERSE_QUESTION\n",
    ")\n",
    "\n",
    "print(generated_scenario_response)\n",
    "print(generated_scenario_response.app_link)"
   ]
  }
 ],
 "metadata": {
  "kernelspec": {
   "display_name": "Python 3",
   "language": "python",
   "name": "python3"
  },
  "language_info": {
   "codemirror_mode": {
    "name": "ipython",
    "version": 3
   },
   "file_extension": ".py",
   "mimetype": "text/x-python",
   "name": "python",
   "nbconvert_exporter": "python",
   "pygments_lexer": "ipython3",
   "version": "3.11.2"
  }
 },
 "nbformat": 4,
 "nbformat_minor": 2
}
