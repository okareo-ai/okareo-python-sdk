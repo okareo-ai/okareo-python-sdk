{
 "cells": [
  {
   "cell_type": "markdown",
   "metadata": {},
   "source": [
    "<a target=\"_blank\" href=\"https://colab.research.google.com/github/okareo-ai/okareo-python-sdk/blob/main/examples/generating_scenarios.ipynb\">\n",
    "  <img src=\"https://colab.research.google.com/assets/colab-badge.svg\" alt=\"Open In Colab\"/>\n",
    "</a>\n",
    "\n",
    "## Generate synthetic data to use in evaluations\n",
    "\n",
    "1. Install Okareo's Python SDK: &nbsp;&nbsp;  `pip install okareo`  &nbsp;&nbsp; \n",
    "\n",
    "2. Get your API token from [https://app.okareo.com/](https://app.okareo.com/).  \n",
    "   (Note: You will need to register first.)\n",
    "\n",
    "3. Go directly to the API settings by clicking the button under **\"1. Create API Token\"**. You can skip all other steps.\n",
    "\n",
    "4. Add your generated API token to the cell below. 👇\n"
   ]
  },
  {
   "cell_type": "code",
   "execution_count": null,
   "metadata": {},
   "outputs": [],
   "source": [
    "OKAREO_API_KEY = \"<YOUR-API-KEY>\""
   ]
  },
  {
   "cell_type": "code",
   "execution_count": null,
   "metadata": {},
   "outputs": [],
   "source": [
    "%pip install okareo "
   ]
  },
  {
   "cell_type": "markdown",
   "metadata": {},
   "source": [
    "**Example 1: Create Scenario based on seed data passed as arguments**"
   ]
  },
  {
   "cell_type": "code",
   "execution_count": null,
   "metadata": {},
   "outputs": [],
   "source": [
    "from okareo import Okareo\n",
    "from okareo_api_client.models import ScenarioSetCreate, SeedData, ScenarioType\n",
    "\n",
    "okareo = Okareo(OKAREO_API_KEY)\n",
    "\n",
    "# Generate example scenario based on seed data and return results in one call\n",
    "scenario_set_create = ScenarioSetCreate(name=\"My Test Scenario Set \",\n",
    "                                        number_examples=2,\n",
    "                                        seed_data=[SeedData(input_=\"example question or statement\", result=\"example result\"),\n",
    "                                                   SeedData(input_=\"tell me about your capability\", result=\"example result\"),\n",
    "                                                   SeedData(input_=\"what are your limitations\", result=\"example result\")])\n",
    "\n",
    "source_scenario = okareo.create_scenario_set(scenario_set_create)\n",
    "\n",
    "print(source_scenario.app_link)"
   ]
  },
  {
   "cell_type": "markdown",
   "metadata": {},
   "source": [
    "**Example 2: Create scenario set from a jsonl file upload with defined input and result fields**"
   ]
  },
  {
   "cell_type": "code",
   "execution_count": null,
   "metadata": {},
   "outputs": [],
   "source": [
    "import os\n",
    "import tempfile\n",
    "import json\n",
    "\n",
    "\n",
    "# Step A - Create quick sample seed data file \n",
    "# Sample seed data jsonl file for classification model, need input and result fields at minimum\n",
    "rows = [\n",
    "    {\n",
    "        \"input\": \"I have some quality concerns with your product, who can I talk to?\",\n",
    "        \"result\": \"complaints\"\n",
    "    },\n",
    "    {\n",
    "        \"input\": \"The product is not working as expected, I'd like to return it?\",\n",
    "        \"result\": \"returns\",\n",
    "\n",
    "    },\n",
    "    {\n",
    "        \"input\": \"I'd like to purchase additional filters for my model, how much are they?\",\n",
    "        \"result\": \"pricing\",\n",
    "    }\n",
    "]\n",
    "\n",
    "temp_dir = tempfile.gettempdir()\n",
    "file_path = os.path.join(temp_dir, \"seed_data_sample.jsonl\")\n",
    "\n",
    "# Write to a .jsonl file\n",
    "with open(file_path, \"w+\") as file:\n",
    "    for row in rows:\n",
    "        file.write(json.dumps(row) + '\\n')\n",
    "    \n",
    "\n",
    "# Create scenario set with seed data file\n",
    "source_scenario = okareo.upload_scenario_set(file_path=file_path, scenario_name=\"Sample Scenario Upload\")\n",
    "print(source_scenario.app_link)\n",
    "\n",
    "# make sure to clean up tmp file\n",
    "os.remove(file_path)"
   ]
  },
  {
   "cell_type": "markdown",
   "metadata": {},
   "source": [
    "**Example 3: Generate a new Scenario Set by referring to another scenario set as seed data**"
   ]
  },
  {
   "cell_type": "code",
   "execution_count": null,
   "metadata": {},
   "outputs": [],
   "source": [
    "# Use scenario set id or scenario set object from previous step as source for generation\n",
    "generated_scenario = okareo.generate_scenarios(\n",
    "    source_scenario=source_scenario,\n",
    "    name=\"Generated Scenario Set\",\n",
    "    number_examples=2,\n",
    ")\n",
    "\n",
    "print(generated_scenario.app_link)"
   ]
  },
  {
   "cell_type": "markdown",
   "metadata": {},
   "source": [
    "**Example 4: Generate a new Scenario Set using the Text Reverse Question generator. This will generate a new scenario with questions where the original input is the answer to the question generated.**"
   ]
  },
  {
   "cell_type": "code",
   "execution_count": null,
   "metadata": {},
   "outputs": [],
   "source": [
    "webbizz_articles = os.popen('curl https://raw.githubusercontent.com/okareo-ai/okareo-python-sdk/main/examples/webbizz_10_articles.jsonl').read()\n",
    "temp_dir = tempfile.gettempdir()\n",
    "file_path = os.path.join(temp_dir, \"webbizz_10_articles.jsonl\")\n",
    "with open(file_path, \"w+\") as file:\n",
    "    file.write(webbizz_articles)\n",
    "\n",
    "source_scenario = okareo.upload_scenario_set(file_path=file_path, scenario_name=\"Retrieval Articles Scenario\")\n",
    "generated_scenario_response = okareo.generate_scenarios(\n",
    "    source_scenario=source_scenario,\n",
    "    name=\"Questions from retrieval articles\",\n",
    "    number_examples=2,\n",
    "    generation_type=ScenarioType.TEXT_REVERSE_QUESTION\n",
    ")\n",
    "\n",
    "print(generated_scenario_response.app_link)\n",
    "\n",
    "# make sure to clean up tmp file\n",
    "os.remove(file_path)"
   ]
  }
 ],
 "metadata": {
  "kernelspec": {
   "display_name": "Python 3",
   "language": "python",
   "name": "python3"
  },
  "language_info": {
   "codemirror_mode": {
    "name": "ipython",
    "version": 3
   },
   "file_extension": ".py",
   "mimetype": "text/x-python",
   "name": "python",
   "nbconvert_exporter": "python",
   "pygments_lexer": "ipython3",
   "version": "3.9.6"
  }
 },
 "nbformat": 4,
 "nbformat_minor": 2
}
