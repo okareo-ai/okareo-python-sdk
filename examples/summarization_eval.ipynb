{
 "cells": [
  {
   "cell_type": "markdown",
   "metadata": {},
   "source": [
    "## From Zero Instructions:\n",
    "\n",
    "1. Install Okareo's Python SDK: &nbsp;&nbsp;  `pip install okareo`  &nbsp;&nbsp;  (just run the cell below)\n",
    "\n",
    "2. Get your API token from [https://app.okareo.com/](https://app.okareo.com/).  \n",
    "   (Note: You will need to register first.)\n",
    "\n",
    "3. Go directly to the **\"2. Create your API Token\"** link on the landing page. You can skip all other steps.\n",
    "\n",
    "4. Set the environment variable `OKAREO_API_KEY` to your generated API token.\n",
    "\n",
    "5. Add your OpenAI key.  OpenAI is only needed for example purposes.  If you have your own model, you can substitute those in it's place."
   ]
  },
  {
   "cell_type": "code",
   "execution_count": null,
   "metadata": {},
   "outputs": [],
   "source": [
    "%pip install okareo\n",
    "%pip install openai"
   ]
  },
  {
   "cell_type": "code",
   "execution_count": 2,
   "metadata": {},
   "outputs": [],
   "source": [
    "# Setup the environment for your notebook\n",
    "import os\n",
    "\n",
    "OKAREO_API_KEY = os.environ[\"OKAREO_API_KEY\"]\n",
    "OPENAI_API_KEY = os.environ[\"OPENAI_API_KEY\"]"
   ]
  },
  {
   "cell_type": "code",
   "execution_count": 3,
   "metadata": {},
   "outputs": [],
   "source": [
    "# Simple summarization prompt using OpenAI'a GPT 3.5 Turbo model\n",
    "\n",
    "from openai import OpenAI\n",
    "import json\n",
    "\n",
    "client = OpenAI(api_key=OPENAI_API_KEY)\n",
    "\n",
    "def get_turbo_summary(messages, model=\"gpt-3.5-turbo\", \n",
    "  temperature=0, max_tokens=500):\n",
    "  response = client.chat.completions.create(\n",
    "    model=model,\n",
    "    messages=messages,\n",
    "    temperature=temperature, \n",
    "    max_tokens=max_tokens,\n",
    "  )\n",
    "  return response.choices[0].message.content\n",
    "\n",
    "USER_PROMPT_TEMPLATE = \"{input}\"\n",
    "\n",
    "SUMMARIZATION_CONTEXT_TEMPLATE = \"\"\"\n",
    "You will be provided with text.\n",
    "Summarize the text in 1-3 simple sentences.\n",
    "If the text's title and the author's name are available, refer to both in the summary.\n",
    "Your goal is to make the summary clear to a middle school student.\n",
    "\"\"\"\n"
   ]
  },
  {
   "cell_type": "code",
   "execution_count": 4,
   "metadata": {},
   "outputs": [],
   "source": [
    "# Text for the summarization model to process\n",
    "text_1 = \"\"\"\n",
    "I Wandered Lonely as a Cloud\n",
    "\n",
    "I wandered lonely as a cloud\n",
    "That floats on high o'er vales and hills,\n",
    "When all at once I saw a crowd,\n",
    "A host, of golden daffodils;\n",
    "Beside the lake, beneath the trees,\n",
    "Fluttering and dancing in the breeze.\n",
    "\n",
    "Continuous as the stars that shine\n",
    "And twinkle on the milky way,\n",
    "They stretched in never-ending line\n",
    "Along the margin of a bay:\n",
    "Ten thousand saw I at a glance,\n",
    "Tossing their heads in sprightly dance.\n",
    "\n",
    "The waves beside them danced; but they\n",
    "Out-did the sparkling waves in glee:\n",
    "A poet could not but be gay,\n",
    "In such a jocund company:\n",
    "I gazed-and gazed-but little thought\n",
    "What wealth the show to me had brought:\n",
    "\n",
    "For oft, when on my couch I lie\n",
    "In vacant or in pensive mood,\n",
    "They flash upon that inward eye\n",
    "Which is the bliss of solitude;\n",
    "And then my heart with pleasure fills,\n",
    "And dances with the daffodils.\n",
    "\n",
    "-- by William Wordsworth\n",
    "\"\"\"\n",
    "\n",
    "text_2 = \"\"\"\n",
    "All Things Are Current Found\n",
    "\n",
    "ALL things are current found\n",
    "On earthly ground,\n",
    "Spirits and elements\n",
    "Have their descents.\n",
    "\n",
    "Night and day, year on year,\n",
    "High and low, far and near,\n",
    "These are our own aspects,\n",
    "These are our own regrets.\n",
    "\n",
    "Ye gods of the shore,\n",
    "Who abide evermore,\n",
    "I see you far headland,\n",
    "Stretching on either hand;\n",
    "\n",
    "I hear the sweet evening sounds\n",
    "From your undecaying grounds;\n",
    "Cheat me no more with time,\n",
    "Take me to your clime.\n",
    "\n",
    "-- by Henry D. Thoreau\n",
    "\"\"\"\n",
    "\n",
    "text_3 = \"\"\"\n",
    "Hope Is the Thing with Feathers\n",
    "\n",
    "\"Hope\" is the thing with feathers-\n",
    "That perches in the soul-\n",
    "And sings the tune without the words-\n",
    "And never stops-at all-\n",
    "\n",
    "And sweetest-in the Gale-is heard-\n",
    "And sore must be the storm-\n",
    "That could abash the little Bird\n",
    "That kept so many warm-\n",
    "\n",
    "I've heard it in the chillest land-\n",
    "And on the strangest Sea-\n",
    "Yet, never, in Extremity,\n",
    "It asked a crumb-of Me.\n",
    "\n",
    "-- by Emily Dickinson\n",
    "\"\"\""
   ]
  },
  {
   "cell_type": "code",
   "execution_count": 5,
   "metadata": {},
   "outputs": [
    {
     "name": "stdout",
     "output_type": "stream",
     "text": [
      "The poem \"Hope Is the Thing with Feathers\" by Emily Dickinson describes hope as a bird that lives in our souls and sings a beautiful song. It never goes away, even in the toughest times, and doesn't ask for anything in return.\n"
     ]
    }
   ],
   "source": [
    "# Example gpt call summarizing text (a poem :) \n",
    "\n",
    "messages =  [  \n",
    "    {'role':'system', 'content': SUMMARIZATION_CONTEXT_TEMPLATE},    \n",
    "    {'role':'user', 'content': text_3}\n",
    "] \n",
    "\n",
    "response = get_turbo_summary(messages)\n",
    "print(response)"
   ]
  },
  {
   "cell_type": "code",
   "execution_count": 8,
   "metadata": {},
   "outputs": [
    {
     "name": "stdout",
     "output_type": "stream",
     "text": [
      "ScenarioSetResponse(scenario_id='0d861414-22b4-4a43-a614-733df0ba2e1b', project_id='394c2c12-be7a-47a6-911b-d6c673bc543b', time_created=datetime.datetime(2024, 1, 18, 22, 3, 2, 597323), type='SEED', tags=None, name='Summarization - NCnNA', seed_data=[SeedData(input_=\"\\nI Wandered Lonely as a Cloud\\n\\nI wandered lonely as a cloud\\nThat floats on high o'er vales and hills,\\nWhen all at once I saw a crowd,\\nA host, of golden daffodils;\\nBeside the lake, beneath the trees,\\nFluttering and dancing in the breeze.\\n\\nContinuous as the stars that shine\\nAnd twinkle on the milky way,\\nThey stretched in never-ending line\\nAlong the margin of a bay:\\nTen thousand saw I at a glance,\\nTossing their heads in sprightly dance.\\n\\nThe waves beside them danced; but they\\nOut-did the sparkling waves in glee:\\nA poet could not but be gay,\\nIn such a jocund company:\\nI gazed-and gazed-but little thought\\nWhat wealth the show to me had brought:\\n\\nFor oft, when on my couch I lie\\nIn vacant or in pensive mood,\\nThey flash upon that inward eye\\nWhich is the bliss of solitude;\\nAnd then my heart with pleasure fills,\\nAnd dances with the daffodils.\\n\\n-- by William Wordsworth\\n\", result='f8352b2c-9a59-475a-b63b-ec9f694091c2', additional_properties={}), SeedData(input_='\\nAll Things Are Current Found\\n\\nALL things are current found\\nOn earthly ground,\\nSpirits and elements\\nHave their descents.\\n\\nNight and day, year on year,\\nHigh and low, far and near,\\nThese are our own aspects,\\nThese are our own regrets.\\n\\nYe gods of the shore,\\nWho abide evermore,\\nI see you far headland,\\nStretching on either hand;\\n\\nI hear the sweet evening sounds\\nFrom your undecaying grounds;\\nCheat me no more with time,\\nTake me to your clime.\\n\\n-- by Henry D. Thoreau\\n', result='9db763a2-8d3c-442c-abc1-695f62482bb1', additional_properties={}), SeedData(input_='\\nHope Is the Thing with Feathers\\n\\n\"Hope\" is the thing with feathers-\\nThat perches in the soul-\\nAnd sings the tune without the words-\\nAnd never stops-at all-\\n\\nAnd sweetest-in the Gale-is heard-\\nAnd sore must be the storm-\\nThat could abash the little Bird\\nThat kept so many warm-\\n\\nI\\'ve heard it in the chillest land-\\nAnd on the strangest Sea-\\nYet, never, in Extremity,\\nIt asked a crumb-of Me.\\n\\n-- by Emily Dickinson\\n', result='5f029e28-0924-4330-a472-de4ee6f17c53', additional_properties={})], scenario_count=0, scenario_input=[], additional_properties={})\n",
      "https://app.okareo.com/project/394c2c12-be7a-47a6-911b-d6c673bc543b/scenario/0d861414-22b4-4a43-a614-733df0ba2e1b\n"
     ]
    }
   ],
   "source": [
    "# Create a scenario to evaluate the model with\n",
    "import uuid\n",
    "import random\n",
    "import string\n",
    "from okareo import Okareo\n",
    "from okareo_api_client.models import ScenarioSetCreate, ScenarioSetResponse, SeedData, ScenarioType\n",
    "\n",
    "random_string = ''.join(random.choices(string.ascii_letters, k=5))\n",
    "okareo = Okareo(OKAREO_API_KEY)\n",
    "\n",
    "scenario_set_create = ScenarioSetCreate(\n",
    "    name=f\"Summarization - {random_string}\",\n",
    "    number_examples=1,\n",
    "    generation_type=ScenarioType.SEED,\n",
    "    seed_data=[\n",
    "        SeedData(\n",
    "            input_=text_1,  \n",
    "            result=str(uuid.uuid4())\n",
    "        ),\n",
    "        SeedData(\n",
    "            input_=text_2,  \n",
    "            result=str(uuid.uuid4())\n",
    "        ),\n",
    "        SeedData(\n",
    "            input_=text_3, \n",
    "            result=str(uuid.uuid4())\n",
    "        )\n",
    "    ],\n",
    ")\n",
    "scenario = okareo.create_scenario_set(scenario_set_create)\n",
    "\n",
    "\n",
    "SCENARIO_ID = scenario.scenario_id\n",
    "PROJECT_ID = scenario.project_id\n",
    "print(scenario)\n",
    "print(f\"https://app.okareo.com/project/{PROJECT_ID}/scenario/{SCENARIO_ID}\")"
   ]
  },
  {
   "cell_type": "code",
   "execution_count": 9,
   "metadata": {},
   "outputs": [
    {
     "name": "stdout",
     "output_type": "stream",
     "text": [
      "https://app.okareo.com/project/394c2c12-be7a-47a6-911b-d6c673bc543b/eval/feed244f-e1b5-46d0-8e34-078df0c27667\n"
     ]
    }
   ],
   "source": [
    "# Evaluate the scenario and model combination and then get a link to the results on Okareo\n",
    "\n",
    "import random\n",
    "import string\n",
    "from okareo import Okareo\n",
    "from okareo_api_client.models import ScenarioSetCreate, ScenarioSetResponse, SeedData\n",
    "from okareo.model_under_test import OpenAIModel\n",
    "from okareo_api_client.models.test_run_type import TestRunType\n",
    "\n",
    "okareo = Okareo(OKAREO_API_KEY)\n",
    "random_string = ''.join(random.choices(string.ascii_letters, k=5))\n",
    "mut_name = f\"OpenAI Summarization Model - {random_string}\"\n",
    "eval_name = f\"Summarization Run - {random_string}\"\n",
    "\n",
    "model_under_test = okareo.register_model(\n",
    "    name=mut_name,\n",
    "    model=OpenAIModel(\n",
    "        model_id=\"gpt-3.5-turbo\",\n",
    "        temperature=0,\n",
    "        system_prompt_template=SUMMARIZATION_CONTEXT_TEMPLATE,\n",
    "        user_prompt_template=USER_PROMPT_TEMPLATE,\n",
    "    ),\n",
    ")\n",
    "\n",
    "evaluation = model_under_test.run_test(\n",
    "    name=eval_name,\n",
    "    scenario=scenario,\n",
    "    api_key=OPENAI_API_KEY,\n",
    "    test_run_type=TestRunType.NL_GENERATION,\n",
    "    calculate_metrics=True,\n",
    ")\n",
    "\n",
    "\n",
    "EVAL_ID = evaluation.id\n",
    "PROJECT_ID = evaluation.project_id\n",
    "print(f\"https://app.okareo.com/project/{PROJECT_ID}/eval/{EVAL_ID}\")"
   ]
  }
 ],
 "metadata": {
  "kernelspec": {
   "display_name": ".venv",
   "language": "python",
   "name": "python3"
  },
  "language_info": {
   "codemirror_mode": {
    "name": "ipython",
    "version": 3
   },
   "file_extension": ".py",
   "mimetype": "text/x-python",
   "name": "python",
   "nbconvert_exporter": "python",
   "pygments_lexer": "ipython3",
   "version": "3.11.2"
  }
 },
 "nbformat": 4,
 "nbformat_minor": 2
}
