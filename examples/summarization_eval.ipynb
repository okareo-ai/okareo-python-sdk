{
 "cells": [
  {
   "cell_type": "markdown",
   "metadata": {},
   "source": [
    "## From Zero Instructions:\n",
    "\n",
    "1. Install Okareo's Python SDK: &nbsp;&nbsp;  `pip install okareo`  &nbsp;&nbsp;  (just run the cell below)\n",
    "\n",
    "2. Get your API token from [https://app.okareo.com/](https://app.okareo.com/).  \n",
    "   (Note: You will need to register first.)\n",
    "\n",
    "3. Go directly to the **\"2. Create your API Token\"** link on the landing page. You can skip all other steps.\n",
    "\n",
    "4. Set the environment variable `OKAREO_API_KEY` to your generated API token.\n",
    "\n",
    "5. Add your OpenAI key.  OpenAI is only needed for example purposes.  If you have your own model, you can substitute those in it's place."
   ]
  },
  {
   "cell_type": "code",
   "execution_count": null,
   "metadata": {},
   "outputs": [],
   "source": [
    "%pip install okareo"
   ]
  },
  {
   "cell_type": "code",
   "execution_count": null,
   "metadata": {},
   "outputs": [],
   "source": [
    "%pip install openai"
   ]
  },
  {
   "cell_type": "code",
   "execution_count": 3,
   "metadata": {},
   "outputs": [],
   "source": [
    "# Setup the environment for your notebook\n",
    "import os\n",
    "\n",
    "OKAREO_API_KEY = os.environ[\"OKAREO_API_KEY\"]\n",
    "OPENAI_API_KEY = os.environ[\"OPENAI_API_KEY\"]"
   ]
  },
  {
   "cell_type": "code",
   "execution_count": 4,
   "metadata": {},
   "outputs": [],
   "source": [
    "# Simple adhoc classifier using OpenAI'a GPT 3.5 Turbo model\n",
    "import os\n",
    "from openai import OpenAI\n",
    "import json\n",
    "\n",
    "client = OpenAI(api_key=OPENAI_API_KEY)\n",
    "\n",
    "def get_turbo_classification(messages, model=\"gpt-3.5-turbo\", \n",
    "  temperature=0, max_tokens=500):\n",
    "  response = client.chat.completions.create(\n",
    "    model=model,\n",
    "    messages=messages,\n",
    "    temperature=temperature, \n",
    "    max_tokens=max_tokens,\n",
    "  )\n",
    "  return response\n",
    "\n",
    "USER_PROMPT_TEMPLATE = \"{input}\"\n",
    "\n",
    "SUMMARIZATION_CONTEXT_TEMPLATE = \"\"\"\n",
    "You will be provided with text.\n",
    "Summarize the text in 1-3 simple sentences.\n",
    "If the text's title and the author's name are available, refer to both in the summary.\n",
    "Your goal is to make the summary clear to a middle school student.\n",
    "\"\"\"\n"
   ]
  },
  {
   "cell_type": "code",
   "execution_count": 5,
   "metadata": {},
   "outputs": [],
   "source": [
    "# Text for the summarization model to process\n",
    "text_1 = \"\"\"\n",
    "I Wandered Lonely as a Cloud\n",
    "\n",
    "I wandered lonely as a cloud\n",
    "That floats on high o'er vales and hills,\n",
    "When all at once I saw a crowd,\n",
    "A host, of golden daffodils;\n",
    "Beside the lake, beneath the trees,\n",
    "Fluttering and dancing in the breeze.\n",
    "\n",
    "Continuous as the stars that shine\n",
    "And twinkle on the milky way,\n",
    "They stretched in never-ending line\n",
    "Along the margin of a bay:\n",
    "Ten thousand saw I at a glance,\n",
    "Tossing their heads in sprightly dance.\n",
    "\n",
    "The waves beside them danced; but they\n",
    "Out-did the sparkling waves in glee:\n",
    "A poet could not but be gay,\n",
    "In such a jocund company:\n",
    "I gazed-and gazed-but little thought\n",
    "What wealth the show to me had brought:\n",
    "\n",
    "For oft, when on my couch I lie\n",
    "In vacant or in pensive mood,\n",
    "They flash upon that inward eye\n",
    "Which is the bliss of solitude;\n",
    "And then my heart with pleasure fills,\n",
    "And dances with the daffodils.\n",
    "\n",
    "-- by William Wordsworth\n",
    "\"\"\"\n",
    "\n",
    "text_2 = \"\"\"\n",
    "All Things Are Current Found\n",
    "\n",
    "ALL things are current found\n",
    "On earthly ground,\n",
    "Spirits and elements\n",
    "Have their descents.\n",
    "\n",
    "Night and day, year on year,\n",
    "High and low, far and near,\n",
    "These are our own aspects,\n",
    "These are our own regrets.\n",
    "\n",
    "Ye gods of the shore,\n",
    "Who abide evermore,\n",
    "I see you far headland,\n",
    "Stretching on either hand;\n",
    "\n",
    "I hear the sweet evening sounds\n",
    "From your undecaying grounds;\n",
    "Cheat me no more with time,\n",
    "Take me to your clime.\n",
    "\n",
    "-- by Henry D. Thoreau\n",
    "\"\"\"\n",
    "\n",
    "text_3 = \"\"\"\n",
    "Hope Is the Thing with Feathers\n",
    "\n",
    "\"Hope\" is the thing with feathers-\n",
    "That perches in the soul-\n",
    "And sings the tune without the words-\n",
    "And never stops-at all-\n",
    "\n",
    "And sweetest-in the Gale-is heard-\n",
    "And sore must be the storm-\n",
    "That could abash the little Bird\n",
    "That kept so many warm-\n",
    "\n",
    "I've heard it in the chillest land-\n",
    "And on the strangest Sea-\n",
    "Yet, never, in Extremity,\n",
    "It asked a crumb-of Me.\n",
    "\n",
    "-- by Emily Dickinson\n",
    "\"\"\""
   ]
  },
  {
   "cell_type": "code",
   "execution_count": 6,
   "metadata": {},
   "outputs": [
    {
     "name": "stdout",
     "output_type": "stream",
     "text": [
      "ChatCompletion(id='chatcmpl-8fcxfzQsL3ATaWgfhotNpDV9j89Op', choices=[Choice(finish_reason='stop', index=0, logprobs=None, message=ChatCompletionMessage(content='The poem \"Hope Is the Thing with Feathers\" by Emily Dickinson describes hope as a bird that lives in our souls and sings even when things are tough. It is always there for us, no matter what.', role='assistant', function_call=None, tool_calls=None))], created=1704931907, model='gpt-3.5-turbo-0613', object='chat.completion', system_fingerprint=None, usage=CompletionUsage(completion_tokens=43, prompt_tokens=176, total_tokens=219))\n"
     ]
    }
   ],
   "source": [
    "# Example calling to the classifier to play with how it responds to different inputs\n",
    "\n",
    "messages =  [  \n",
    "    {'role':'system', 'content': SUMMARIZATION_CONTEXT_TEMPLATE},    \n",
    "    {'role':'user', 'content': text_3}\n",
    "] \n",
    "\n",
    "response = get_turbo_classification(messages)\n",
    "print(response)"
   ]
  },
  {
   "cell_type": "code",
   "execution_count": 7,
   "metadata": {},
   "outputs": [
    {
     "name": "stdout",
     "output_type": "stream",
     "text": [
      "ScenarioSetResponse(scenario_id='d0004aba-9429-45dd-92a5-ade68338a3bd', project_id='f7bfcff0-2b8d-4fec-ab20-51669cd3e732', time_created=datetime.datetime(2024, 1, 11, 0, 11, 48, 745419), type='SEED', tags=None, name='Summarization - QSwHn', seed_data=[], scenario_count=0, scenario_input=[], additional_properties={})\n",
      "https://app.okareo.com/project/f7bfcff0-2b8d-4fec-ab20-51669cd3e732/scenario/d0004aba-9429-45dd-92a5-ade68338a3bd\n"
     ]
    }
   ],
   "source": [
    "# Create a scenario to evaluate the model with\n",
    "import os\n",
    "import random\n",
    "import string\n",
    "import tempfile\n",
    "from okareo import Okareo\n",
    "from okareo_api_client.models import ScenarioSetCreate, ScenarioSetResponse, SeedData, ScenarioType\n",
    "\n",
    "okareo = Okareo(OKAREO_API_KEY)\n",
    "\n",
    "# Step A - Create seed data and save in templ jsonl file\n",
    "poems = [\n",
    "    {\n",
    "        \"input\":text_1,\n",
    "        \"result\":''.join(random.choices(string.ascii_letters, k=32))\n",
    "    },\n",
    "    {\n",
    "        \"input\":text_2,\n",
    "        \"result\":''.join(random.choices(string.ascii_letters, k=32))\n",
    "    },\n",
    "    {\n",
    "        \"input\":text_3, \n",
    "        \"result\":''.join(random.choices(string.ascii_letters, k=32))\n",
    "    },\n",
    "]\n",
    "\n",
    "temp_dir = tempfile.gettempdir()\n",
    "file_path = os.path.join(temp_dir, \"seed_data_summarization.jsonl\")\n",
    "\n",
    "# Write to a .jsonl file\n",
    "with open(file_path, \"w+\") as file:\n",
    "    for row in poems:\n",
    "        file.write(json.dumps(row) + '\\n')\n",
    "    \n",
    "\n",
    "# Step B - Create scenario set from seed data file\n",
    "random_string = ''.join(random.choices(string.ascii_letters, k=5))\n",
    "okareo = Okareo(OKAREO_API_KEY)\n",
    "\n",
    "scenario = okareo.upload_scenario_set(file_path=file_path, scenario_name=f\"Summarization - {random_string}\")\n",
    "\n",
    "# make sure to clean up tmp file\n",
    "os.remove(file_path)\n",
    "\n",
    "SCENARIO_ID = scenario.scenario_id\n",
    "PROJECT_ID = scenario.project_id\n",
    "print(scenario)\n",
    "print(f\"https://app.okareo.com/project/{PROJECT_ID}/scenario/{SCENARIO_ID}\")"
   ]
  },
  {
   "cell_type": "code",
   "execution_count": 8,
   "metadata": {},
   "outputs": [
    {
     "name": "stdout",
     "output_type": "stream",
     "text": [
      "https://app.okareo.com/project/f7bfcff0-2b8d-4fec-ab20-51669cd3e732/eval/e63eea12-ec76-4c4f-9e0d-1816379f4c39\n"
     ]
    }
   ],
   "source": [
    "# Evaluate the scenario and model combination and then get a link to the results on Okareo\n",
    "import os\n",
    "import random\n",
    "import string\n",
    "from okareo import Okareo\n",
    "from okareo_api_client.models import ScenarioSetCreate, ScenarioSetResponse, SeedData\n",
    "from okareo.model_under_test import OpenAIModel\n",
    "from okareo_api_client.models.test_run_type import TestRunType\n",
    "\n",
    "okareo = Okareo(OKAREO_API_KEY)\n",
    "random_string = ''.join(random.choices(string.ascii_letters, k=5))\n",
    "mut_name = f\"OpenAI Summarization Model - {random_string}\"\n",
    "eval_name = f\"Summarization Run - {random_string}\"\n",
    "\n",
    "model_under_test = okareo.register_model(\n",
    "    name=mut_name,\n",
    "    model=OpenAIModel(\n",
    "        model_id=\"gpt-3.5-turbo\",\n",
    "        temperature=0,\n",
    "        system_prompt_template=SUMMARIZATION_CONTEXT_TEMPLATE,\n",
    "        user_prompt_template=USER_PROMPT_TEMPLATE,\n",
    "    ),\n",
    ")\n",
    "\n",
    "evaluation = model_under_test.run_test(\n",
    "    name=eval_name,\n",
    "    scenario=scenario,\n",
    "    api_key=OPENAI_API_KEY,\n",
    "    test_run_type=TestRunType.NL_GENERATION,\n",
    "    calculate_metrics=True,\n",
    ")\n",
    "\n",
    "\n",
    "EVAL_ID = evaluation.id\n",
    "PROJECT_ID = evaluation.project_id\n",
    "print(f\"https://app.okareo.com/project/{PROJECT_ID}/eval/{EVAL_ID}\")"
   ]
  }
 ],
 "metadata": {
  "kernelspec": {
   "display_name": ".venv",
   "language": "python",
   "name": "python3"
  },
  "language_info": {
   "codemirror_mode": {
    "name": "ipython",
    "version": 3
   },
   "file_extension": ".py",
   "mimetype": "text/x-python",
   "name": "python",
   "nbconvert_exporter": "python",
   "pygments_lexer": "ipython3",
   "version": "3.11.2"
  }
 },
 "nbformat": 4,
 "nbformat_minor": 2
}
