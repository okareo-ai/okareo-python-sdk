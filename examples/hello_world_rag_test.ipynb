{
 "cells": [
  {
   "cell_type": "code",
   "execution_count": null,
   "metadata": {},
   "outputs": [],
   "source": [
    "%pip install okareo attrs dateutils"
   ]
  },
  {
   "cell_type": "code",
   "execution_count": 2,
   "metadata": {},
   "outputs": [
    {
     "name": "stdout",
     "output_type": "stream",
     "text": [
      "Metrics with OpenAI model: {'Accuracy@k': {'1': 0.6, '2': 0.9, '3': 0.9, '4': 1.0, '5': 1.0, '6': 1.0, '7': 1.0, '8': 1.0, '9': 1.0, '10': 1.0}, 'Precision@k': {'1': 0.6, '2': 0.65, '3': 0.5333333333333333, '4': 0.575, '5': 0.64, '6': 0.5333333333333333, '7': 0.45714285714285713, '8': 0.4, '9': 0.3555555555555555, '10': 0.32}, 'Recall@k': {'1': 0.12, '2': 0.26000000000000006, '3': 0.32, '4': 0.4600000000000001, '5': 0.64, '6': 0.64, '7': 0.64, '8': 0.64, '9': 0.64, '10': 0.64}, 'NDCG@k': {'1': 0.6, '2': 0.6386852807234542, '3': 0.559216382193173, '4': 0.5828859850023694, '5': 0.6244929539203834, '6': 0.6244929539203834, '7': 0.6244929539203834, '8': 0.6244929539203834, '9': 0.6244929539203834, '10': 0.6244929539203834}, 'MRR@k': {'1': 0.6, '2': 0.75, '3': 0.75, '4': 0.775, '5': 0.775, '6': 0.775, '7': 0.775, '8': 0.775, '9': 0.775, '10': 0.775}, 'MAP@k': {'1': 0.6, '2': 0.575, '3': 0.4611111111111111, '4': 0.4520833333333333, '5': 0.48166666666666674, '6': 0.48166666666666674, '7': 0.48166666666666674, '8': 0.48166666666666674, '9': 0.48166666666666674, '10': 0.48166666666666674}}\n",
      "Metrics with Cohere model: {'Accuracy@k': {'1': 0.5, '2': 0.5, '3': 0.5, '4': 0.8, '5': 1.0, '6': 1.0, '7': 1.0, '8': 1.0, '9': 1.0, '10': 1.0}, 'Precision@k': {'1': 0.5, '2': 0.45, '3': 0.36666666666666664, '4': 0.425, '5': 0.52, '6': 0.4333333333333333, '7': 0.37142857142857133, '8': 0.325, '9': 0.2888888888888889, '10': 0.26}, 'Recall@k': {'1': 0.1, '2': 0.18, '3': 0.22000000000000003, '4': 0.33999999999999997, '5': 0.52, '6': 0.52, '7': 0.52, '8': 0.52, '9': 0.52, '10': 0.52}, 'NDCG@k': {'1': 0.5, '2': 0.4613147192765458, '3': 0.4, '4': 0.4336255072542235, '5': 0.4948162087247122, '6': 0.4948162087247122, '7': 0.4948162087247122, '8': 0.4948162087247122, '9': 0.4948162087247122, '10': 0.4948162087247122}, 'MRR@k': {'1': 0.5, '2': 0.5, '3': 0.5, '4': 0.575, '5': 0.615, '6': 0.615, '7': 0.615, '8': 0.615, '9': 0.615, '10': 0.615}, 'MAP@k': {'1': 0.5, '2': 0.45, '3': 0.36666666666666664, '4': 0.35, '5': 0.376, '6': 0.376, '7': 0.376, '8': 0.376, '9': 0.376, '10': 0.376}}\n"
     ]
    }
   ],
   "source": [
    "\n",
    "# perform a test run using a scenario set loaded in the previous cell \n",
    "import os\n",
    "import random\n",
    "import string\n",
    "from okareo import Okareo\n",
    "from okareo.model_under_test import ChromaDb, CohereModel, OpenAIModel\n",
    "from okareo_api_client.models import TestRunType\n",
    "\n",
    "# generate a random string to use in the test run name\n",
    "rnd = \"\".join(random.choices(string.ascii_lowercase, k=5))\n",
    "\n",
    "# API Key for Okareo runs\n",
    "OKAREO_API_KEY = os.environ[\"OKAREO_API_KEY\"]\n",
    "COHERE_API_KEY = os.environ[\"COHERE_API_KEY\"]\n",
    "\n",
    "okareo = Okareo(OKAREO_API_KEY)\n",
    "scenario = okareo.upload_scenario_set(file_path='./webbizz_10_questions.jsonl',\n",
    "                                      scenario_name=\"RAG with Webbizz articles\")\n",
    "\n",
    "# register both models\n",
    "model_under_test_cohere = okareo.register_model(\n",
    "    name=f\"rag_cohere_chromadb\",\n",
    "    model=[\n",
    "        ChromaDb(collection_name=\"test-collection-cohere\"),\n",
    "        CohereModel(\n",
    "            model_id=\"embed-english-v2.0\",\n",
    "            model_type=\"embed\",\n",
    "            input_type=\"search_query\",\n",
    "        ),\n",
    "    ],\n",
    ")\n",
    "\n",
    "model_under_test_openai = okareo.register_model(\n",
    "    name=f\"rag_openai_chromadb\",\n",
    "    model=[\n",
    "        ChromaDb(collection_name=\"test-collection-openai\"),\n",
    "        OpenAIModel(\n",
    "            model_id=\"text-embedding-ada-002\",\n",
    "            model_type=\"embed\",\n",
    "            system_prompt_template=\"This is a question answering engine\",\n",
    "            temperature=0.0,\n",
    "        ),\n",
    "    ],\n",
    ")\n",
    "\n",
    "# fetch metrics for both the models\n",
    "result_cohere = model_under_test_cohere.run_test_v2(\n",
    "    name=f\"rag-cohere-chromadb-{rnd}\",\n",
    "    scenario=scenario,\n",
    "    calculate_metrics=True,\n",
    "    test_run_type=TestRunType.INFORMATION_RETRIEVAL,\n",
    "    api_keys={\n",
    "        \"chromadb\": \"\",\n",
    "        \"cohere\": os.getenv(\"COHERE_API_KEY\"),\n",
    "    },\n",
    ")\n",
    "\n",
    "result_openai = model_under_test_openai.run_test_v2(\n",
    "    name=f\"rag-openai-chromadb-{rnd}\",\n",
    "    scenario=scenario,\n",
    "    calculate_metrics=True,\n",
    "    test_run_type=TestRunType.INFORMATION_RETRIEVAL,\n",
    "    api_keys={\n",
    "        \"chromadb\": \"\",\n",
    "        \"openai\": os.getenv(\"OPENAI_API_KEY\"),\n",
    "    },\n",
    ")\n",
    "\n",
    "# display model level metrics for the test run\n",
    "print(f\"Metrics with OpenAI model: {result_openai.model_metrics.to_dict()}\")\n",
    "print(f\"Metrics with Cohere model: {result_cohere.model_metrics.to_dict()}\")"
   ]
  }
 ],
 "metadata": {
  "kernelspec": {
   "display_name": ".venv",
   "language": "python",
   "name": "python3"
  },
  "language_info": {
   "codemirror_mode": {
    "name": "ipython",
    "version": 3
   },
   "file_extension": ".py",
   "mimetype": "text/x-python",
   "name": "python",
   "nbconvert_exporter": "python",
   "pygments_lexer": "ipython3",
   "version": "3.11.6"
  }
 },
 "nbformat": 4,
 "nbformat_minor": 2
}
