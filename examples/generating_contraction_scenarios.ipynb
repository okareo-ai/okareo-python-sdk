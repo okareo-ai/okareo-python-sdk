{
 "cells": [
  {
   "cell_type": "markdown",
   "metadata": {},
   "source": [
    "<a target=\"_blank\" href=\"https://colab.research.google.com/github/okareo-ai/okareo-python-sdk/blob/main/examples/generating_scenarios.ipynb\">\n",
    "  <img src=\"https://colab.research.google.com/assets/colab-badge.svg\" alt=\"Open In Colab\"/>\n",
    "</a>\n",
    "\n",
    "## Generate synthetic data to use in evaluations\n",
    "\n",
    "1. Install Okareo's Python SDK: &nbsp;&nbsp;  `pip install okareo`  &nbsp;&nbsp; \n",
    "\n",
    "2. Get your API token from [https://app.okareo.com/](https://app.okareo.com/).  \n",
    "   (Note: You will need to register first.)\n",
    "\n",
    "3. Go directly to the API settings by clicking the button under **\"1. Create API Token\"**. You can skip all other steps.\n",
    "\n",
    "4. Add your generated API token to the cell below. 👇\n"
   ]
  },
  {
   "cell_type": "code",
   "execution_count": null,
   "metadata": {},
   "outputs": [],
   "source": [
    "OKAREO_API_KEY = \"<YOUR-API-KEY>\""
   ]
  },
  {
   "cell_type": "code",
   "execution_count": null,
   "metadata": {},
   "outputs": [],
   "source": [
    "%pip install okareo "
   ]
  },
  {
   "cell_type": "markdown",
   "metadata": {},
   "source": [
    "**Example 1: Create Scenario based on seed data passed as arguments**"
   ]
  },
  {
   "cell_type": "code",
   "execution_count": null,
   "metadata": {},
   "outputs": [],
   "source": [
    "from okareo import Okareo\n",
    "from okareo_api_client.models import ScenarioSetCreate, SeedData, ScenarioType\n",
    "import random\n",
    "import string\n",
    "\n",
    "okareo = Okareo(OKAREO_API_KEY)\n",
    "\n",
    "random_string = ''.join(random.choices(string.ascii_letters, k=5))\n",
    "\n",
    "# Generate example scenario based on seed data and return results in one call\n",
    "scenario_set_create = ScenarioSetCreate(\n",
    "    name=\"Misspelling Scenario Categories \" + random_string\n",
    "    number_examples=5,\n",
    "    generation_type=ScenarioType.COMMON_CONTRACTIONS,\n",
    "    seed_data=[\n",
    "        SeedData(\n",
    "            input_=\"Can I connect my CRM?\",  \n",
    "            result=\"Technical Support\"\n",
    "        ),\n",
    "        SeedData(\n",
    "            input_=\"Do you have a way to send marketing emails?\",  \n",
    "            result=\"Marketing Emails\"\n",
    "        ),\n",
    "        SeedData(\n",
    "            input_=\"Can I get invoiced instead of using a credit card?\", \n",
    "            result=\"Billing\"\n",
    "        ),\n",
    "    ]\n",
    ")\n",
    "scenario = okareo.create_scenario_set(scenario_set_create)\n",
    "\n",
    "print(scenario.app_link)"
   ]
  }
 ],
 "metadata": {
  "kernelspec": {
   "display_name": "Python 3",
   "language": "python",
   "name": "python3"
  },
  "language_info": {
   "codemirror_mode": {
    "name": "ipython",
    "version": 3
   },
   "file_extension": ".py",
   "mimetype": "text/x-python",
   "name": "python",
   "nbconvert_exporter": "python",
   "pygments_lexer": "ipython3",
   "version": "3.9.6"
  }
 },
 "nbformat": 4,
 "nbformat_minor": 2
}
