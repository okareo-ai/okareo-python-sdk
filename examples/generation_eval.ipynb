{
 "cells": [
  {
   "cell_type": "markdown",
   "metadata": {},
   "source": [
    "<a target=\"_blank\" href=\"https://colab.research.google.com/github/okareo-ai/okareo-python-sdk/blob/main/examples/generation_eval.ipynb\">\n",
    "  <img src=\"https://colab.research.google.com/assets/colab-badge.svg\" alt=\"Open In Colab\"/>\n",
    "</a>\n",
    "\n",
    "## Welcome to Okareo!\n",
    "\n",
    "Get your API token from [https://app.okareo.com/](https://app.okareo.com/) and set it in the cell below. 👇\n",
    "   (Note: You will also need an OpenAI key.)\n",
    "\n"
   ]
  },
  {
   "cell_type": "code",
   "execution_count": null,
   "metadata": {},
   "outputs": [],
   "source": [
    "OKAREO_API_KEY = \"<YOUR-OKAREO-API-TOKEN>\"\n",
    "OPENAI_API_KEY = \"<YOUR-OPENAI-API-TOKEN>\""
   ]
  },
  {
   "cell_type": "code",
   "execution_count": null,
   "metadata": {},
   "outputs": [],
   "source": [
    "%pip install okareo\n",
    "%pip install openai"
   ]
  },
  {
   "cell_type": "markdown",
   "metadata": {},
   "source": [
    "For the final step in a RAG pipeline, generation, we're going to set up a summarization task for OpenAI's GPT 3.5 Turbo model. The goal of the task is for the model to summarize 10 documents about different aspects of our example web business, WebBizz. The model will be evaluated on the coherence, consistency, fluency, and relevance of its summarizations.\n",
    "\n",
    "The task will have three parts:\n",
    "\n",
    "1. A database of documents\n",
    "2. A method for prompting the model for summarizations\n",
    "3. An evaluation of the summarizations"
   ]
  },
  {
   "cell_type": "markdown",
   "metadata": {},
   "source": [
    "## Document database"
   ]
  },
  {
   "cell_type": "code",
   "execution_count": null,
   "metadata": {},
   "outputs": [],
   "source": [
    "# Import libraries\n",
    "import os\n",
    "import tempfile\n",
    "\n",
    "# Import Okareo libraries\n",
    "from okareo import Okareo\n",
    "from okareo_api_client.models.test_run_type import TestRunType\n",
    "\n",
    "# Create an instance of the Okareo client\n",
    "okareo = Okareo(OKAREO_API_KEY)\n",
    "\n",
    "# Load documents from Okareo's GitHub repository\n",
    "webbizz_articles = os.popen('curl https://raw.githubusercontent.com/okareo-ai/okareo-python-sdk/main/examples/webbizz_10_articles.jsonl').read()\n",
    "\n",
    "# Save the documents to a temporary file\n",
    "temp_dir = tempfile.gettempdir()\n",
    "file_path = os.path.join(temp_dir, \"webbizz_10_articles.jsonl\")\n",
    "with open(file_path, \"w+\") as file:\n",
    "    lines = webbizz_articles.split('\\n')\n",
    "    # Limit the number of documents to 3\n",
    "    for i in range(3):\n",
    "        file.write(f\"{lines[i]}\\n\")\n",
    "\n",
    "# Upload a scenario set to Okareo with the documents\n",
    "scenario = okareo.upload_scenario_set(file_path=file_path, scenario_name=\"Webbizz Articles Scenario\")\n",
    "\n",
    "# Clean up tmp file\n",
    "os.remove(file_path)"
   ]
  },
  {
   "cell_type": "markdown",
   "metadata": {},
   "source": [
    "## Summarization Model"
   ]
  },
  {
   "cell_type": "code",
   "execution_count": null,
   "metadata": {},
   "outputs": [],
   "source": [
    "# Import libraries\n",
    "from openai import OpenAI\n",
    "from datetime import datetime\n",
    "\n",
    "# Import Okareo's handler for OpenAI models\n",
    "from okareo.model_under_test import OpenAIModel\n",
    "\n",
    "# Create an instance of the OpenAI client\n",
    "client = OpenAI(api_key=OPENAI_API_KEY)\n",
    "\n",
    "# Define a function to call the OpenAI API\n",
    "# This function will be used to query the specified OpenAI model\n",
    "def get_turbo_summary(messages, model=\"gpt-3.5-turbo\", temperature=0, max_tokens=500):\n",
    "  response = client.chat.completions.create(\n",
    "    model=model,\n",
    "    messages=messages,\n",
    "    temperature=temperature, \n",
    "    max_tokens=max_tokens,\n",
    "  )\n",
    "  return response.choices[0].message.content\n",
    "\n",
    "# Define a template for the user prompt\n",
    "USER_PROMPT_TEMPLATE = \"{scenario_input}\"\n",
    "\n",
    "# Define a template to prompt the model to provide a summary\n",
    "SUMMARIZATION_CONTEXT_TEMPLATE = \"\"\"\n",
    "You will be provided with text.\n",
    "Summarize the text in 1 simple sentence.\n",
    "\"\"\"\n",
    "\n",
    "# Create an instance of the OpenAIModel class\n",
    "# This class is used to interact with the OpenAI model using user and system prompts\n",
    "openai_model = OpenAIModel(\n",
    "        model_id=\"gpt-3.5-turbo\",\n",
    "        temperature=0,\n",
    "        system_prompt_template=SUMMARIZATION_CONTEXT_TEMPLATE,\n",
    "        user_prompt_template=USER_PROMPT_TEMPLATE,\n",
    "    )\n",
    "\n",
    "# Define the name of the model with the current timestamp\n",
    "mut_name=f\"OpenAI Summarization Model - {datetime.now().strftime('%m-%d %H:%M:%S')}\"\n",
    "\n",
    "# Register the model to use in a test run\n",
    "model_under_test = okareo.register_model(\n",
    "    name=mut_name,\n",
    "    model=openai_model,\n",
    ")"
   ]
  },
  {
   "cell_type": "markdown",
   "metadata": {},
   "source": [
    "## Evaluation"
   ]
  },
  {
   "cell_type": "code",
   "execution_count": null,
   "metadata": {},
   "outputs": [],
   "source": [
    "# Create a name for the evaluation with the current timestamp\n",
    "eval_name = f\"Summarization Run - {datetime.now().strftime('%m-%d %H:%M:%S')}\"\n",
    "\n",
    "# Perform a test run using the scenario set and the summarization model\n",
    "evaluation = model_under_test.run_test(\n",
    "    name=eval_name,\n",
    "    scenario=scenario,\n",
    "    api_key=OPENAI_API_KEY,\n",
    "    test_run_type=TestRunType.NL_GENERATION, # specify that we are testing a natural language generation model\n",
    "    calculate_metrics=True,\n",
    "    # define the metrics to calculate\n",
    "    checks=['coherence_summary', 'consistency_summary', 'fluency_summary', 'relevance_summary']\n",
    ")\n",
    "\n",
    "# Generate a link back to Okareo for evaluation visualization\n",
    "print(f\"See results in Okareo: {evaluation.app_link}\")"
   ]
  }
 ],
 "metadata": {
  "kernelspec": {
   "display_name": ".venv",
   "language": "python",
   "name": "python3"
  },
  "language_info": {
   "codemirror_mode": {
    "name": "ipython",
    "version": 3
   },
   "file_extension": ".py",
   "mimetype": "text/x-python",
   "name": "python",
   "nbconvert_exporter": "python",
   "pygments_lexer": "ipython3",
   "version": "3.11.2"
  }
 },
 "nbformat": 4,
 "nbformat_minor": 2
}
