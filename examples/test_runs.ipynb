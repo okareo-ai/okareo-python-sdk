{
 "cells": [
  {
   "cell_type": "markdown",
   "metadata": {},
   "source": [
    "## From Zero Instructions:\n",
    "\n",
    "1. Install Okareo's Python SDK: &nbsp;&nbsp;  `pip install okareo`  &nbsp;&nbsp;  (just run the cell below)\n",
    "\n",
    "2. Get your API token from [https://app.okareo.com/](https://app.okareo.com/).  \n",
    "   (Note: You will need to register first.)\n",
    "\n",
    "3. Go directly to the **\"2. Create your API Token\"** link on the landing page in above app. You can skip all other steps.\n",
    "\n",
    "4. Set the environment variable `OKAREO_API_KEY` to your generated API token."
   ]
  },
  {
   "cell_type": "code",
   "execution_count": null,
   "metadata": {},
   "outputs": [],
   "source": [
    "%pip install okareo "
   ]
  },
  {
   "cell_type": "code",
   "execution_count": 3,
   "metadata": {},
   "outputs": [
    {
     "name": "stdout",
     "output_type": "stream",
     "text": [
      "772331a0-dad8-4874-b5a7-9ecfbbea051a\n",
      "{'weighted_average': {'precision': 0.3333333333333333, 'recall': 0.3333333333333333, 'f1': 0.3333333333333333, 'accuracy': 0.3333333333333333}, 'scores_by_label': {'complains': {'precision': 0.0, 'recall': 0.0, 'f1': 0.0}, 'complaints': {'precision': 0.0, 'recall': 0.0, 'f1': 0.0}, 'pricing': {'precision': 1.0, 'recall': 1.0, 'f1': 1.0}, 'returns': {'precision': 0.0, 'recall': 0.0, 'f1': 0.0}}}\n"
     ]
    }
   ],
   "source": [
    "# perform a test run using a scenario set from one of the scenario_set notebook examples\n",
    "import os\n",
    "from okareo import Okareo\n",
    "\n",
    "OKAREO_API_KEY = os.environ[\"OKAREO_API_KEY\"]\n",
    "okareo = Okareo(OKAREO_API_KEY)\n",
    "\n",
    "# Callable to be applied to each scenario in the scenario set\n",
    "def call_model(input: str):\n",
    "    # call your model being tested here using <input> from the scenario set\n",
    "\n",
    "    # mock code returnign a random label\n",
    "    labels = [\"returns\", \"complains\", \"pricing\"]\n",
    "    import random\n",
    "    actual = random.choice(labels)\n",
    "\n",
    "    return actual, {\"labels\": actual, \"confidence\": 0.8 }  # return a tuple of (actual, overall model response context)\n",
    "\n",
    "# this will return a model if it already exists or create a new one if it doesn't\n",
    "model_under_test = okareo.register_model(name=\"intent_classifier\")\n",
    "\n",
    "# use the scenario id from one of the scenario set notebook examples\n",
    "scenario_id='ed12729e-25bc-4adc-9a27-c574a460feb7'\n",
    "test_run_item = model_under_test.run_test(scenario_id=scenario_id, model_invoker=call_model, test_run_name=\"Intent Classifier Run 3\")\n",
    "\n",
    "# display model level metrics for the test run\n",
    "print(test_run_item.id)\n",
    "print(test_run_item.model_metrics.to_dict())"
   ]
  },
  {
   "cell_type": "code",
   "execution_count": 3,
   "metadata": {},
   "outputs": [
    {
     "name": "stdout",
     "output_type": "stream",
     "text": [
      "{'weighted_average': {'precision': 0.3333333333333333, 'recall': 0.3333333333333333, 'f1': 0.3333333333333333, 'accuracy': 0.3333333333333333}, 'scores_by_label': {'complains': {'precision': 0.0, 'recall': 0.0, 'f1': 0.0}, 'complaints': {'precision': 0.0, 'recall': 0.0, 'f1': 0.0}, 'pricing': {'precision': 1.0, 'recall': 1.0, 'f1': 1.0}, 'returns': {'precision': 0.0, 'recall': 0.0, 'f1': 0.0}}}\n"
     ]
    }
   ],
   "source": [
    "# Retrieve metrics from an earlier test run\n",
    "import os\n",
    "from okareo import Okareo\n",
    "\n",
    "OKAREO_API_KEY = os.environ[\"OKAREO_API_KEY\"]\n",
    "okareo = Okareo(OKAREO_API_KEY)\n",
    "\n",
    "# this will return a model if it already exists or create a new one if it doesn't\n",
    "model_under_test = okareo.register_model(name=\"intent_classifier\")\n",
    "#test run id from the previous cell output\n",
    "test_run_item = model_under_test.get_test_run(test_run_id=\"772331a0-dad8-4874-b5a7-9ecfbbea051a\")\n",
    "\n",
    "# display model level metrics for the test run\n",
    "print(test_run_item.model_metrics.to_dict())"
   ]
  }
 ],
 "metadata": {
  "kernelspec": {
   "display_name": "Python 3",
   "language": "python",
   "name": "python3"
  },
  "language_info": {
   "codemirror_mode": {
    "name": "ipython",
    "version": 3
   },
   "file_extension": ".py",
   "mimetype": "text/x-python",
   "name": "python",
   "nbconvert_exporter": "python",
   "pygments_lexer": "ipython3",
   "version": "3.11.2"
  }
 },
 "nbformat": 4,
 "nbformat_minor": 2
}
