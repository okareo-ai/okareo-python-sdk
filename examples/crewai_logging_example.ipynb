{
 "cells": [
  {
   "cell_type": "markdown",
   "metadata": {},
   "source": [
    "# CrewAI Logging in Okareo\n",
    "\n",
    "To run this you will need `OPENAI_API_KEY` and `OKAREO_API_KEY`   \n",
    "\n",
    "Get your `OKAREO_API_KEY` from [https://app.okareo.com/](https://app.okareo.com/) and set it as environment variable `OKAREO_API_KEY=..` or directly in the cell below. 👇"
   ]
  },
  {
   "cell_type": "code",
   "execution_count": null,
   "metadata": {},
   "outputs": [],
   "source": [
    "%pip install numpy==1.25.2\n",
    "%pip install crewai==0.67.1\n",
    "%pip install okareo"
   ]
  },
  {
   "cell_type": "code",
   "execution_count": null,
   "metadata": {},
   "outputs": [],
   "source": [
    "import os\n",
    "\n",
    "os.environ[\"OKAREO_API_KEY\"] = os.environ.get(\"OKAREO_API_KEY\", \"<YOUR-OKAREO-API-KEY>\")  # 👈 Put in your Okareo API Key\n",
    "\n",
    "os.environ[\"OPENAI_API_KEY\"] = os.environ.get(\"OPENAI_API_KEY\", \"<YOUR-OPENAI-API-KEY>\")  # 👈 Put in your OpenAI API Key\n",
    "\n",
    "logger_config = {\n",
    "    \"api_key\": os.environ[\"OKAREO_API_KEY\"],\n",
    "}"
   ]
  },
  {
   "cell_type": "code",
   "execution_count": null,
   "metadata": {},
   "outputs": [],
   "source": [
    "from crewai import Agent, Task, Crew\n",
    "from okareo.crewai_logger import CrewAILogger\n",
    "\n",
    "# Define agents\n",
    "with CrewAILogger(logger_config):\n",
    "    researcher = Agent(\n",
    "        role='Senior Research Analyst',\n",
    "        goal='Uncover quantitative strategies for stock market trading',\n",
    "        backstory=(\n",
    "            \"You are a Senior Research Analyst at a leading hedge fund. The market is extremely efficient due to the proliferation of quant funds. \"\n",
    "            \"You need to think extremely out of the box to get an edge. Your expertise lies in identifying innovative quantitative strategies.\"\n",
    "        ),\n",
    "        verbose=True,\n",
    "        allow_delegation=True,\n",
    "    )\n",
    "\n",
    "    quantitative_developer = Agent(\n",
    "        role='Quantitative Developer',\n",
    "        goal='Implement and validate analyst ideas through code',\n",
    "        backstory=\"You are a renowned quantitative developer and machine learning engineer, on par with Jim Simons of Renaissance Technologies.\",\n",
    "        verbose=True,\n",
    "        allow_delegation=True,\n",
    "        cache=False,\n",
    "    )\n",
    "\n",
    "    software_developer = Agent(\n",
    "        role='Software Developer',\n",
    "        goal='Debug, optimize, and execute code from the quantitative developer',\n",
    "        backstory=\"You are a renowned software engineer specializing in debugging and running complex quantitative models.\",\n",
    "        verbose=True,\n",
    "        allow_delegation=True,\n",
    "        cache=False,\n",
    "    )\n",
    "\n",
    "    # Create tasks\n",
    "    research_task = Task(\n",
    "        description=\"Develop innovative quantitative strategies to outperform the stock market and other hedge funds. Think outside the box, but ensure ideas are grounded in feasibility.\",\n",
    "        expected_output='A list of innovative, yet potentially viable quantitative strategies for beating the stock market',\n",
    "        agent=researcher,\n",
    "    )\n",
    "\n",
    "    development_task = Task(\n",
    "        description=\"Implement the researcher's strategies in code, focusing on viability and potential effectiveness. Use mock data instead of relying on external APIs.\",\n",
    "        expected_output='Python code blocks for each viable strategy, including explanations of functionality and potential effectiveness',\n",
    "        agent=quantitative_developer,\n",
    "    )\n",
    "\n",
    "    execution_task = Task(\n",
    "        description=\"Execute the quantitative developer's code, debug if necessary, and analyze the results\",\n",
    "        expected_output='Execution results, debug information if applicable, and analysis of each strategy\\'s performance',\n",
    "        agent=software_developer,\n",
    "    )\n",
    "\n",
    "    # Instantiate the crew\n",
    "    crew = Crew(\n",
    "        agents=[researcher, quantitative_developer, software_developer],\n",
    "        tasks=[research_task, development_task, execution_task],\n",
    "        memory=True,\n",
    "        verbose=True,\n",
    "        share_crew=True,\n",
    "        planning=True,\n",
    "    )\n",
    "\n",
    "    # Execute the crew's tasks\n",
    "    result = crew.kickoff()"
   ]
  },
  {
   "cell_type": "code",
   "execution_count": null,
   "metadata": {},
   "outputs": [],
   "source": [
    "# alternatively, you can use the crewai logger outside of a context manager as follows \n",
    "\n",
    "# crewai_logger = CrewAILogger(logger_config)\n",
    "# crewai_logger.start()\n",
    "\n",
    "# your crewai code goes here...\n",
    "\n",
    "# crewai_logger.stop()"
   ]
  }
 ],
 "metadata": {
  "kernelspec": {
   "display_name": ".venv",
   "language": "python",
   "name": "python3"
  },
  "language_info": {
   "codemirror_mode": {
    "name": "ipython",
    "version": 3
   },
   "file_extension": ".py",
   "mimetype": "text/x-python",
   "name": "python",
   "nbconvert_exporter": "python",
   "pygments_lexer": "ipython3",
   "version": "3.11.2"
  }
 },
 "nbformat": 4,
 "nbformat_minor": 2
}
