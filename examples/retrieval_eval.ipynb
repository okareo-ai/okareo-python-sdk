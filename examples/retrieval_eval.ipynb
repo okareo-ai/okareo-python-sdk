{
 "cells": [
  {
   "cell_type": "markdown",
   "metadata": {},
   "source": [
    "## From Zero Instructions:\n",
    "\n",
    "1. Install Okareo's Python SDK: &nbsp;&nbsp;  `pip install okareo`  &nbsp;&nbsp;  (just run the cell below)\n",
    "\n",
    "2. Get your API token from [https://app.okareo.com/](https://app.okareo.com/).  \n",
    "   (Note: You will need to register first.)\n",
    "\n",
    "3. Go directly to the **\"2. Create your API Token\"** link on the landing page. You can skip all other steps.\n",
    "\n",
    "4. Set the environment variable `OKAREO_API_KEY` to your generated API token."
   ]
  },
  {
   "cell_type": "code",
   "execution_count": null,
   "metadata": {},
   "outputs": [],
   "source": [
    "%pip install okareo\n",
    "%pip install chromadb\n",
    "%pip install pandas"
   ]
  },
  {
   "cell_type": "code",
   "execution_count": null,
   "metadata": {},
   "outputs": [],
   "source": [
    "# Webbizz is an example web business. \n",
    "# We load 10 short summaries about different business aspects to the vector database.\n",
    "import chromadb\n",
    "import pandas as pd    \n",
    "\n",
    "chroma_client = chromadb.Client()\n",
    "\n",
    "collection = chroma_client.create_collection(name=\"retrieval_test\", metadata={\"hnsw:space\": \"cosine\"})\n",
    "jsonObj = pd.read_json(path_or_buf='./webbizz_10_articles.jsonl', lines=True)\n",
    "\n",
    "collection.add(\n",
    "    documents=list(jsonObj.input),\n",
    "    ids=list(jsonObj.result)\n",
    ")   "
   ]
  },
  {
   "cell_type": "code",
   "execution_count": 3,
   "metadata": {},
   "outputs": [
    {
     "name": "stdout",
     "output_type": "stream",
     "text": [
      "ScenarioSetResponse(scenario_id='33d44f39-b929-43d8-8972-1ca5cfc1c0e1', project_id='4d3d47fb-1836-409f-af1f-3dc5182208fe', time_created=datetime.datetime(2024, 1, 18, 2, 31, 52, 564472), type='SEED', tags=None, name='Retrieval Articles Scenario', seed_data=[], scenario_count=0, scenario_input=[], additional_properties={})\n"
     ]
    }
   ],
   "source": [
    "# We have a set of 20 questions, each asking about different business aspects. \n",
    "# There is a specific summary that is the target answer for the question, which is linked by UUID.\n",
    "# We upload these questions into a scenario set, so that they can be used in a test run in the next cell\n",
    "import os\n",
    "from okareo import Okareo\n",
    "\n",
    "OKAREO_API_KEY = os.environ[\"OKAREO_API_KEY\"]\n",
    "okareo = Okareo(OKAREO_API_KEY)\n",
    "\n",
    "scenario = okareo.upload_scenario_set(file_path='./webbizz_retrieval_questions.jsonl', scenario_name=\"Retrieval Articles Scenario\")\n",
    "print(scenario) # use scenario set id in output for the next step"
   ]
  },
  {
   "cell_type": "code",
   "execution_count": 6,
   "metadata": {},
   "outputs": [
    {
     "name": "stdout",
     "output_type": "stream",
     "text": [
      "See test run results: https://app.okareo.com/project/4d3d47fb-1836-409f-af1f-3dc5182208fe/eval/815c5309-e984-4f49-bf21-750353451425\n"
     ]
    }
   ],
   "source": [
    "# Perform a test run using a scenario set loaded in the previous cell \n",
    "from datetime import datetime\n",
    "from okareo_api_client.models import TestRunType\n",
    "from okareo.model_under_test import CustomModel\n",
    "\n",
    "def query_results_to_score(results):\n",
    "    parsed_ids_with_scores = []\n",
    "    for i in range(0, len(results['distances'][0])):\n",
    "        score = (2 - results['distances'][0][i]) / 2 # chromadb specific handling, this turns cosine distance into a 0 to 1 cosine similarity score\n",
    "        parsed_ids_with_scores.append((results['ids'][0][i], score))\n",
    "    return parsed_ids_with_scores\n",
    "     \n",
    "\n",
    "class RetrievalModel(CustomModel):\n",
    "    def invoke(self, input: str):\n",
    "        results = collection.query(\n",
    "            query_texts=[input],\n",
    "            n_results=5\n",
    "        )\n",
    "        # return a tuple of (parsed_ids_with_scores, overall model response context)\n",
    "        return query_results_to_score(results), {'model_data': input}\n",
    "\n",
    "# this will return a model if it already exists or create a new one if it doesn't\n",
    "model_under_test = okareo.register_model(name=\"vectordb_retrieval_test\", model=RetrievalModel(name=\"custom retrieval\"))\n",
    "\n",
    "test_run_item = model_under_test.run_test(scenario=scenario, # use the scenario from the scenario set uploaded in the previous step\n",
    "                                          name=f\"Retrieval Test Run {datetime.now().strftime('%m-%d %H:%M:%S')}\", # name for test run\n",
    "                                          test_run_type=TestRunType.INFORMATION_RETRIEVAL,\n",
    "                                          calculate_metrics=True)\n",
    "\n",
    "# display model level metrics for the test run\n",
    "print(f\"See test run results: https://app.okareo.com/project/{test_run_item.project_id}/eval/{test_run_item.id}\")"
   ]
  }
 ],
 "metadata": {
  "kernelspec": {
   "display_name": "Python 3",
   "language": "python",
   "name": "python3"
  },
  "language_info": {
   "codemirror_mode": {
    "name": "ipython",
    "version": 3
   },
   "file_extension": ".py",
   "mimetype": "text/x-python",
   "name": "python",
   "nbconvert_exporter": "python",
   "pygments_lexer": "ipython3",
   "version": "3.11.2"
  }
 },
 "nbformat": 4,
 "nbformat_minor": 2
}
