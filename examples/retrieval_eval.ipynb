{
 "cells": [
  {
   "cell_type": "markdown",
   "metadata": {},
   "source": [
    "<a target=\"_blank\" href=\"https://colab.research.google.com/github/okareo-ai/okareo-python-sdk/blob/main/examples/retrieval_eval.ipynb\">\n",
    "  <img src=\"https://colab.research.google.com/assets/colab-badge.svg\" alt=\"Open In Colab\"/>\n",
    "</a>\n",
    "\n",
    "## Welcome to Okareo!\n",
    "\n",
    "Get your API token from [https://app.okareo.com/](https://app.okareo.com/) and set it in the cell below. 👇\n",
    "   (Note: You will need to register first.)\n",
    "\n"
   ]
  },
  {
   "cell_type": "code",
   "execution_count": 2,
   "metadata": {},
   "outputs": [],
   "source": [
    "OKAREO_API_KEY = \"<YOUR-OKAREO-API-TOKEN>\""
   ]
  },
  {
   "cell_type": "code",
   "execution_count": null,
   "metadata": {},
   "outputs": [],
   "source": [
    "%pip install okareo\n",
    "%pip install chromadb\n",
    "%pip install pandas"
   ]
  },
  {
   "cell_type": "markdown",
   "metadata": {},
   "source": [
    "We're going to set up a retrieval task for WebBizz, an example web business. WebBizz has 10 documents about different aspects of their business. We have 20 questions about WebBizz that ask about different areas of their business. The goal of the retrieval task is to identify the document that contains the answer to the question.\n",
    "\n",
    "The task has three parts:\n",
    "\n",
    "1. A database of documents\n",
    "2. A set of questions\n",
    "3. A model to match questions to documents\n",
    "4. An evaluation of the model"
   ]
  },
  {
   "cell_type": "markdown",
   "metadata": {},
   "source": [
    "## Document database"
   ]
  },
  {
   "cell_type": "code",
   "execution_count": null,
   "metadata": {},
   "outputs": [],
   "source": [
    "# Import the necessary libraries\n",
    "import os\n",
    "from io import StringIO  \n",
    "import pandas as pd\n",
    "\n",
    "# Load documents from Okareo's GitHub repository\n",
    "webbizz_articles = os.popen('curl https://raw.githubusercontent.com/okareo-ai/okareo-python-sdk/main/examples/webbizz_10_articles.jsonl').read()\n",
    "\n",
    "# Convert the JSONL string to a pandas DataFrame\n",
    "jsonObj = pd.read_json(path_or_buf=StringIO(webbizz_articles), lines=True)\n",
    "\n",
    "# Create rough categories for each document based on the content\n",
    "# Store the categories in metadata_list\n",
    "metadata_list = []\n",
    "input_list = list(jsonObj.input)\n",
    "for i in range(len(input_list)):\n",
    "    if \"sustainability\" in input_list[i] or \"security\" in list(input_list[i]):\n",
    "        metadata_list.append({\"article_type\": \"Safety and sustainability\"})\n",
    "    elif \"support\" in input_list[i] or \"help\" in list(input_list[i]):\n",
    "        metadata_list.append({\"article_type\": \"Support\"})\n",
    "    elif \"return\" in input_list[i]:\n",
    "        metadata_list.append({\"article_type\": \"Return and exchange\"})\n",
    "    else:\n",
    "        metadata_list.append({\"article_type\": \"Miscellaneous\"})"
   ]
  },
  {
   "cell_type": "markdown",
   "metadata": {},
   "source": [
    "## Question database"
   ]
  },
  {
   "cell_type": "code",
   "execution_count": null,
   "metadata": {},
   "outputs": [],
   "source": [
    "# Import libraries\n",
    "import tempfile\n",
    "from okareo import Okareo\n",
    "from okareo_api_client.models import TestRunType\n",
    "from okareo.model_under_test import CustomModel\n",
    "\n",
    "# Create an instance of the Okareo client\n",
    "okareo = Okareo(OKAREO_API_KEY)\n",
    "\n",
    "# Download questions from Okareo's GitHub repository\n",
    "webbizz_retrieval_questions = os.popen('curl https://raw.githubusercontent.com/okareo-ai/okareo-python-sdk/main/examples/webbizz_retrieval_questions.jsonl').read()\n",
    "\n",
    "# Save the questions to a temporary file\n",
    "temp_dir = tempfile.gettempdir()\n",
    "file_path = os.path.join(temp_dir, \"webbizz_retrieval_questions.jsonl\")\n",
    "with open(file_path, \"w+\") as file:\n",
    "    file.write(webbizz_retrieval_questions)\n",
    "\n",
    "# Upload the questions to Okareo from the temporary file\n",
    "scenario = okareo.upload_scenario_set(file_path=file_path, scenario_name=\"Retrieval Articles Scenario\")\n",
    "\n",
    "# Clean up the temporary file\n",
    "os.remove(file_path)"
   ]
  },
  {
   "cell_type": "markdown",
   "metadata": {},
   "source": [
    "## A model for matching questions to documents\n",
    "\n",
    "The model is based on ChromaDB, a vector database for embedding text.\n",
    "\n",
    "The goal of the model is to find the best document to answer a question. It does this by finding the document with highest similarity to the question as measured by cosine distance in the embedding space. More details about how ChromaDB calculates embeddings can be found [here](https://docs.trychroma.com/guides/embeddings)."
   ]
  },
  {
   "cell_type": "code",
   "execution_count": null,
   "metadata": {},
   "outputs": [],
   "source": [
    "# Import ChromaDB\n",
    "import chromadb\n",
    "\n",
    "# Create a ChromaDB client\n",
    "chroma_client = chromadb.Client()\n",
    "\n",
    "# Create a ChromaDB collection\n",
    "# The collection will be used to store the documents as vector embeddings\n",
    "# We want to measure the similarity between questions and documents using cosine similarity\n",
    "collection = chroma_client.create_collection(name=\"retrieval_test\", metadata={\"hnsw:space\": \"cosine\"})\n",
    "\n",
    "# Add the documents to the collection with the corresponding metadata\n",
    "collection.add(\n",
    "    documents=list(jsonObj.input),\n",
    "    ids=list(jsonObj.result),\n",
    "    metadatas=metadata_list\n",
    ")\n",
    "\n",
    "# A funtion to convert the query results from our ChromaDB collection into a list of dictionaries with the document ID, score, metadata, and label\n",
    "def query_results_to_score(results):\n",
    "    parsed_ids_with_scores = []\n",
    "    for i in range(0, len(results['distances'][0])):\n",
    "        # Create a score based on cosine similarity\n",
    "        score = (2 - results['distances'][0][i]) / 2\n",
    "        parsed_ids_with_scores.append(\n",
    "            {\n",
    "                \"id\": results['ids'][0][i],\n",
    "                \"score\": score,\n",
    "                \"metadata\": results['metadatas'][0][i],\n",
    "                \"label\": f\"{results['metadatas'][0][i]['article_type']} WebBizz Article w/ ID: {results['ids'][0][i]}\"\n",
    "            }\n",
    "        )\n",
    "    return parsed_ids_with_scores\n",
    "\n",
    "# Define a custom retrieval model that uses the ChromaDB collection to retrieve documents\n",
    "# The model will return the top 5 most relevant documents based on the input query\n",
    "class RetrievalModel(CustomModel):\n",
    "    def invoke(self, input: str):\n",
    "        # Query the collection with the input text\n",
    "        results = collection.query(\n",
    "            query_texts=[input],\n",
    "            n_results=5\n",
    "        )\n",
    "        # Return formatted query results and the model response context\n",
    "        return query_results_to_score(results), {'model_data': input}\n",
    "\n",
    "# Register the model with Okareo\n",
    "# This will return a model if it already exists or create a new one if it doesn't\n",
    "model_under_test = okareo.register_model(name=\"vectordb_retrieval_test\", model=RetrievalModel(name=\"custom retrieval\"))"
   ]
  },
  {
   "cell_type": "markdown",
   "metadata": {},
   "source": [
    "## Evaluation"
   ]
  },
  {
   "cell_type": "code",
   "execution_count": null,
   "metadata": {},
   "outputs": [],
   "source": [
    "# Import the datetime module for timestamping\n",
    "from datetime import datetime\n",
    "\n",
    "# Define intervals for the evaluation metrics\n",
    "at_k_intervals = [1, 2, 3, 4, 5] \n",
    "\n",
    "# Perform a test run using the uploaded scenario set\n",
    "test_run_item = model_under_test.run_test(\n",
    "    scenario=scenario, # use the scenario from the scenario set uploaded earlier\n",
    "    name=f\"Retrieval Test Run {datetime.now().strftime('%m-%d %H:%M:%S')}\", # add a timestamp to the test run name\n",
    "    test_run_type=TestRunType.INFORMATION_RETRIEVAL, # specify that we are running an information retrieval test\n",
    "    calculate_metrics=True,\n",
    "    # Define the evaluation metrics to calculate\n",
    "    metrics_kwargs={\n",
    "        \"accuracy_at_k\": at_k_intervals ,\n",
    "        \"precision_recall_at_k\": at_k_intervals ,\n",
    "        \"ndcg_at_k\": at_k_intervals,\n",
    "        \"mrr_at_k\": at_k_intervals,\n",
    "        \"map_at_k\": at_k_intervals,\n",
    "    }\n",
    ")\n",
    "\n",
    "# Generate a link back to Okareo for evaluation visualization\n",
    "model_results = test_run_item.model_metrics.to_dict()\n",
    "app_link = test_run_item.app_link\n",
    "print(f\"See results in Okareo: {app_link}\")"
   ]
  },
  {
   "cell_type": "code",
   "execution_count": null,
   "metadata": {},
   "outputs": [],
   "source": []
  }
 ],
 "metadata": {
  "kernelspec": {
   "display_name": "Python 3",
   "language": "python",
   "name": "python3"
  },
  "language_info": {
   "codemirror_mode": {
    "name": "ipython",
    "version": 3
   },
   "file_extension": ".py",
   "mimetype": "text/x-python",
   "name": "python",
   "nbconvert_exporter": "python",
   "pygments_lexer": "ipython3",
   "version": "3.11.9"
  }
 },
 "nbformat": 4,
 "nbformat_minor": 2
}
