{
 "cells": [
  {
   "cell_type": "markdown",
   "metadata": {},
   "source": [
    "<a target=\"_blank\" href=\"https://colab.research.google.com/github/okareo-ai/okareo-python-sdk/blob/main/examples/retrieval_eval.ipynb\">\n",
    "  <img src=\"https://colab.research.google.com/assets/colab-badge.svg\" alt=\"Open In Colab\"/>\n",
    "</a>\n",
    "\n",
    "## Welcome to Okareo!\n",
    "\n",
    "Get your API token from [https://app.okareo.com/](https://app.okareo.com/) and set it in the cell below. 👇\n",
    "   (Note: You will need to register first.)\n",
    "\n"
   ]
  },
  {
   "cell_type": "code",
   "execution_count": null,
   "metadata": {},
   "outputs": [],
   "source": [
    "OKAREO_API_KEY = \"<YOUR-API-KEY>\""
   ]
  },
  {
   "cell_type": "code",
   "execution_count": null,
   "metadata": {},
   "outputs": [],
   "source": [
    "%pip install okareo\n",
    "%pip install chromadb\n",
    "%pip install pandas"
   ]
  },
  {
   "cell_type": "code",
   "execution_count": null,
   "metadata": {},
   "outputs": [],
   "source": [
    "import os\n",
    "from io import StringIO  \n",
    "\n",
    "import chromadb\n",
    "import pandas as pd \n",
    "\n",
    "# Webbizz is an example web business. \n",
    "# We load 10 short summaries about different business aspects to the vector database.\n",
    "\n",
    "chroma_client = chromadb.Client()\n",
    "webbizz_articles = os.popen('curl https://raw.githubusercontent.com/okareo-ai/okareo-python-sdk/main/examples/webbizz_10_articles.jsonl').read()\n",
    "\n",
    "collection = chroma_client.create_collection(name=\"retrieval_test\", metadata={\"hnsw:space\": \"cosine\"})\n",
    "jsonObj = pd.read_json(path_or_buf=StringIO(webbizz_articles), lines=True)\n",
    "collection.add(\n",
    "    documents=list(jsonObj.input),\n",
    "    ids=list(jsonObj.result)\n",
    ")\n",
    "\n",
    "# chromadb specific handling\n",
    "def query_results_to_score(results):\n",
    "    parsed_ids_with_scores = []\n",
    "    for i in range(0, len(results['distances'][0])):\n",
    "        # this turns cosine distance into a cosine similarity score\n",
    "        score = (2 - results['distances'][0][i]) / 2\n",
    "        parsed_ids_with_scores.append((results['ids'][0][i], score))\n",
    "    return parsed_ids_with_scores"
   ]
  },
  {
   "cell_type": "code",
   "execution_count": null,
   "metadata": {},
   "outputs": [],
   "source": [
    "import tempfile\n",
    "from datetime import datetime\n",
    "\n",
    "from okareo import Okareo\n",
    "from okareo_api_client.models import TestRunType\n",
    "from okareo.model_under_test import CustomModel\n",
    "\n",
    "# We have a set of 20 questions, each asking about different areas in Webbizz. \n",
    "# Each question has a specific summary that is the target answer for the question, which is linked by UUID.\n",
    "# We upload these questions into a scenario set, so that they can be used in the retrieval evaluation\n",
    "\n",
    "okareo = Okareo(OKAREO_API_KEY)\n",
    "webbizz_retrieval_questions = os.popen('curl https://raw.githubusercontent.com/okareo-ai/okareo-python-sdk/main/examples/webbizz_retrieval_questions.jsonl').read()\n",
    "temp_dir = tempfile.gettempdir()\n",
    "file_path = os.path.join(temp_dir, \"webbizz_retrieval_questions.jsonl\")\n",
    "with open(file_path, \"w+\") as file:\n",
    "    file.write(webbizz_retrieval_questions)\n",
    "scenario = okareo.upload_scenario_set(file_path=file_path, scenario_name=\"Retrieval Articles Scenario\")\n",
    "\n",
    "# make sure to clean up tmp file\n",
    "os.remove(file_path)\n",
    "\n",
    "class RetrievalModel(CustomModel):\n",
    "    def invoke(self, input: str):\n",
    "        results = collection.query(\n",
    "            query_texts=[input],\n",
    "            n_results=5\n",
    "        )\n",
    "        # return a tuple of (parsed_ids_with_scores, overall model response context)\n",
    "        return query_results_to_score(results), {'model_data': input}\n",
    "\n",
    "# this will return a model if it already exists or create a new one if it doesn't\n",
    "model_under_test = okareo.register_model(name=\"vectordb_retrieval_test\", model=RetrievalModel(name=\"custom retrieval\"))\n",
    "\n",
    "# Perform a test run using the uploaded scenario set\n",
    "test_run_item = model_under_test.run_test(scenario=scenario, # use the scenario from the scenario set uploaded in the previous step\n",
    "                                          name=f\"Retrieval Test Run {datetime.now().strftime('%m-%d %H:%M:%S')}\", # name for test run\n",
    "                                          test_run_type=TestRunType.INFORMATION_RETRIEVAL,\n",
    "                                          calculate_metrics=True)\n",
    "\n",
    "# link back to Okareo site for evaluation visualization\n",
    "model_results = test_run_item.model_metrics.to_dict()\n",
    "app_link = test_run_item.app_link\n",
    "print(f\"See results in Okareo: {app_link}\")"
   ]
  }
 ],
 "metadata": {
  "kernelspec": {
   "display_name": "Python 3",
   "language": "python",
   "name": "python3"
  },
  "language_info": {
   "codemirror_mode": {
    "name": "ipython",
    "version": 3
   },
   "file_extension": ".py",
   "mimetype": "text/x-python",
   "name": "python",
   "nbconvert_exporter": "python",
   "pygments_lexer": "ipython3",
   "version": "3.11.2"
  }
 },
 "nbformat": 4,
 "nbformat_minor": 2
}
