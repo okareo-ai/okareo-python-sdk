{
 "cells": [
  {
   "cell_type": "markdown",
   "metadata": {},
   "source": [
    "<a target=\"_blank\" href=\"https://colab.research.google.com/github/okareo-ai/okareo-python-sdk/blob/main/examples/generating_classification_scenarios.ipynb\">\n",
    "  <img src=\"https://colab.research.google.com/assets/colab-badge.svg\" alt=\"Open In Colab\"/>\n",
    "</a>\n",
    "\n",
    "## Generate synthetic data to use in classification\n",
    "\n",
    "1. Install Okareo's Python SDK: &nbsp;&nbsp;  `pip install okareo`  &nbsp;&nbsp; \n",
    "\n",
    "2. Get your API token from [https://app.okareo.com/](https://app.okareo.com/).  \n",
    "   (Note: You will need to register first.)\n",
    "\n",
    "3. Go directly to the API settings by clicking the button under **\"1. Create API Token\"**. You can skip all other steps.\n",
    "\n",
    "4. Add your generated API token to the cell below. 👇\n"
   ]
  },
  {
   "cell_type": "code",
   "execution_count": null,
   "metadata": {},
   "outputs": [],
   "source": [
    "OKAREO_API_KEY = \"<YOUR-OKAREO-API-TOKEN>\""
   ]
  },
  {
   "cell_type": "code",
   "execution_count": null,
   "metadata": {},
   "outputs": [],
   "source": [
    "%pip install okareo "
   ]
  },
  {
   "cell_type": "markdown",
   "metadata": {},
   "source": [
    "This notebook generates the data that is used to train the model in this notebook:\n",
    "\n",
    "<a target=\"_blank\" href=\"https://colab.research.google.com/github/okareo-ai/okareo-python-sdk/blob/main/examples/classification_eval_training.ipynb\">\n",
    "  <img src=\"https://colab.research.google.com/assets/colab-badge.svg\" alt=\"Open In Colab\"/>\n",
    "</a>"
   ]
  },
  {
   "cell_type": "markdown",
   "metadata": {},
   "source": [
    "We start by manually creating a set of seed questions.\n",
    "\n",
    "Those seed questions are used to create a Scenario Set in Okareo."
   ]
  },
  {
   "cell_type": "code",
   "execution_count": null,
   "metadata": {},
   "outputs": [],
   "source": [
    "from okareo import Okareo\n",
    "import os\n",
    "import tempfile\n",
    "import json\n",
    "\n",
    "okareo = Okareo(OKAREO_API_KEY)\n",
    "\n",
    "# Start with sample data for complaints, returns, and pricing\n",
    "rows = [    \n",
    "    {\"input\": \"I bought a shirt online, but it doesn't fit. How can I return it?\", \"result\": \"returns\"},\n",
    "    {\"input\": \"I received a damaged item. What is the process for returning it?\", \"result\": \"returns\"},\n",
    "    {\"input\": \"I want to return a gift I received. How can I do that without the receipt?\", \"result\": \"returns\"},\n",
    "    {\"input\": \"The product I ordered is not what I received. How can I return it?\", \"result\": \"returns\"},\n",
    "    {\"input\": \"I accidentally ordered two of the same item. Can I return one?\", \"result\": \"returns\"},\n",
    "    {\"input\": \"I'm not satisfied with the quality of the product. Can I return it?\", \"result\": \"returns\"},\n",
    "    {\"input\": \"The item I bought is faulty. How do I return it?\", \"result\": \"returns\"},\n",
    "    {\"input\": \"I received my order late and no longer need it. Can I return it?\", \"result\": \"returns\"},\n",
    "    {\"input\": \"I want to exchange the product I bought for a different size. What's the process?\", \"result\": \"returns\"},\n",
    "    {\"input\": \"The product I ordered doesn't match the description. Can I return it?\", \"result\": \"returns\"},\n",
    "    {\"input\": \"The product is not working as expected, I'd like to return it?\", \"result\": \"returns\",},\n",
    "    \n",
    "    {\"input\": \"I have some quality concerns with your product, who can I talk to?\", \"result\": \"complaints\"},\n",
    "    {\"input\": \"I had a poor experience with your customer service. Who can I talk to about this?\", \"result\": \"complaints\"},\n",
    "    {\"input\": \"My product broke after just a week of use. How can this issue be resolved?\", \"result\": \"complaints\"},\n",
    "    {\"input\": \"I'm not happy with the service I received. Who can I complain to?\", \"result\": \"complaints\"},\n",
    "    {\"input\": \"The product I bought is not working as advertised. Who can I contact?\", \"result\": \"complaints\"},\n",
    "    {\"input\": \"I was overcharged for my purchase. Who can help me with this?\", \"result\": \"complaints\"},\n",
    "    {\"input\": \"I have a problem with the delivery of my order. Who can I speak to?\", \"result\": \"complaints\"},\n",
    "    {\"input\": \"I received a faulty product. Who can I complain to?\", \"result\": \"complaints\"},\n",
    "    {\"input\": \"The product I bought is of poor quality. Who can I report this to?\", \"result\": \"complaints\"},\n",
    "    {\"input\": \"I have a complaint about a staff member. Who should I contact?\", \"result\": \"complaints\"},\n",
    "    {\"input\": \"My order was missing an item. Who can I speak to about this?\", \"result\": \"complaints\"},\n",
    "\n",
    "    {\"input\": \"I'd like to purchase additional filters for my model, how much are they?\", \"result\": \"pricing\",},\n",
    "    {\"input\": \"Why has the price of your product increased recently?\", \"result\": \"pricing\"},\n",
    "    {\"input\": \"I found a similar product cheaper elsewhere. Do you offer price matching?\", \"result\": \"pricing\"},\n",
    "    {\"input\": \"Why is there a difference in price between your online and in-store products?\", \"result\": \"pricing\"},\n",
    "    {\"input\": \"Can you explain the pricing of your subscription service?\", \"result\": \"pricing\"},\n",
    "    {\"input\": \"Do you offer any discounts or promotions?\", \"result\": \"pricing\"},\n",
    "    {\"input\": \"Why was I charged more than the listed price at checkout?\", \"result\": \"pricing\"},\n",
    "    {\"input\": \"Do you offer a lower price for bulk purchases?\", \"result\": \"pricing\"},\n",
    "    {\"input\": \"Why is the price of the product different in my country?\", \"result\": \"pricing\"},\n",
    "    {\"input\": \"Do you have a price guarantee policy?\", \"result\": \"pricing\"},\n",
    "    {\"input\": \"Why did the price of the item in my cart change?\", \"result\": \"pricing\"},\n",
    "]\n",
    "\n",
    "temp_dir = tempfile.gettempdir()\n",
    "file_path = os.path.join(temp_dir, \"seed_data_sample.jsonl\")\n",
    "\n",
    "# Write to a .jsonl file\n",
    "with open(file_path, \"w+\") as file:\n",
    "    for row in rows:\n",
    "        file.write(json.dumps(row) + '\\n')\n",
    "    \n",
    "\n",
    "# Create scenario set with seed data file\n",
    "source_scenario = okareo.upload_scenario_set(file_path=file_path, scenario_name=\"Seed Scenario Set\")\n",
    "print(source_scenario.app_link)\n",
    "\n",
    "# make sure to clean up tmp file\n",
    "os.remove(file_path)"
   ]
  },
  {
   "cell_type": "markdown",
   "metadata": {},
   "source": [
    "From the seed Scenario Set, we create a new Scenario Set using Okareo's generator."
   ]
  },
  {
   "cell_type": "code",
   "execution_count": null,
   "metadata": {},
   "outputs": [],
   "source": [
    "# Use scenario set id or scenario set object from previous step as source for generation\n",
    "generated_scenario = okareo.generate_scenarios(\n",
    "    source_scenario=source_scenario,\n",
    "    name=\"Generated Question Scenario Set\",\n",
    "    number_examples=3,\n",
    ")\n",
    "\n",
    "print(generated_scenario.app_link)"
   ]
  }
 ],
 "metadata": {
  "kernelspec": {
   "display_name": "Python 3",
   "language": "python",
   "name": "python3"
  },
  "language_info": {
   "codemirror_mode": {
    "name": "ipython",
    "version": 3
   },
   "file_extension": ".py",
   "mimetype": "text/x-python",
   "name": "python",
   "nbconvert_exporter": "python",
   "pygments_lexer": "ipython3",
   "version": "3.11.9"
  }
 },
 "nbformat": 4,
 "nbformat_minor": 2
}
