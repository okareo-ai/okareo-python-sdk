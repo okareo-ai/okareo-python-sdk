{
 "cells": [
  {
   "cell_type": "markdown",
   "metadata": {},
   "source": [
    "# Scenarios in Okareo: An Introduction\n",
    "\n",
    "<a target=\"_blank\" href=\"https://colab.research.google.com/github/okareo-ai/okareo-python-sdk/blob/mason/add-unified-generator-example-notebooks/examples/generated_scenarios_walkthrough.ipynb\">\n",
    "  <img src=\"https://colab.research.google.com/assets/colab-badge.svg\" alt=\"Open In Colab\"/>\n",
    "</a>\n",
    "\n",
    "## 🎯 Goals\n",
    "\n",
    "After using this notebook, you will be able to:\n",
    "- Upload your test cases to Okareo as a Seed scenario by:\n",
    "    1. Uploading a file\n",
    "    2. Defining input data statically\n",
    "- Generate synthetic new test cases using Scenario generators\n",
    "- Chain generators together to make more complex test cases"
   ]
  },
  {
   "cell_type": "markdown",
   "metadata": {},
   "source": [
    "First, import the Okareo library and use your [API key](https://docs.okareo.com/docs/guides/environment#setting-up-your-okareo-environment) to authenticate."
   ]
  },
  {
   "cell_type": "code",
   "execution_count": 1,
   "metadata": {},
   "outputs": [],
   "source": [
    "import os\n",
    "from okareo import Okareo\n",
    "\n",
    "OKAREO_API_KEY = os.environ[\"OKAREO_API_KEY\"]\n",
    "okareo = Okareo(OKAREO_API_KEY)"
   ]
  },
  {
   "cell_type": "markdown",
   "metadata": {},
   "source": [
    "## Uploading a Seed Scenario\n",
    "\n",
    "Here we use an existing `.jsonl` file to create a seed scenario with the `upload_scenario_set` method. The data here includes short articles about a fictitious company called \"WebBizz.\""
   ]
  },
  {
   "cell_type": "code",
   "execution_count": null,
   "metadata": {},
   "outputs": [],
   "source": [
    "file_path = \"./webbizz_10_articles.jsonl\"\n",
    "scenario_name = \"Retrieval Articles Scenario\"\n",
    "try:\n",
    "    # load the file to okareo\n",
    "    source_scenario = okareo.upload_scenario_set(file_path=file_path, scenario_name=scenario_name)\n",
    "except:\n",
    "    print(f\"- Loading file {file_path} to Okareo failed. Temporarily download the file from GitHub...\")\n",
    "    import os\n",
    "    import requests\n",
    "\n",
    "    # if the file doesn't exist, download it\n",
    "    file_url = \"https://raw.githubusercontent.com/okareo-ai/okareo-python-sdk/main/examples/webbizz_10_articles.jsonl\"\n",
    "    response = requests.get(file_url)\n",
    "    with open(file_path, \"wb\") as f:\n",
    "        f.write(response.content)\n",
    "\n",
    "    # load the file to okareo\n",
    "    source_scenario = okareo.upload_scenario_set(file_path=file_path, scenario_name=scenario_name)\n",
    "\n",
    "    # delete the file\n",
    "    os.remove(file_path)\n",
    "print(source_scenario.app_link)"
   ]
  },
  {
   "cell_type": "markdown",
   "metadata": {},
   "source": [
    "With a seed scenario defined, let's use Okareo to generate some synthetic scenarios."
   ]
  },
  {
   "cell_type": "markdown",
   "metadata": {},
   "source": [
    "## Rephrasing generator\n",
    "\n",
    "Suppose we want to generate a scenario where the same `result`s should be retrieved under `input`s with minor changes to word order. We can achieve this using the Rephrasing generator, which attempts to change the wording of each sentence in a given `input`."
   ]
  },
  {
   "cell_type": "code",
   "execution_count": 5,
   "metadata": {},
   "outputs": [
    {
     "name": "stdout",
     "output_type": "stream",
     "text": [
      "ScenarioSetResponse(scenario_id='c7beefb0-126e-410f-9f4d-083280a04e72', project_id='21b8a05b-f5b6-4578-a36a-fc264036d9d3', time_created=datetime.datetime(2024, 3, 5, 21, 12, 43, 419312), type='REPHRASE_INVARIANT', tags=['seed:983e5d3f-d6bd-4d8d-a74e-c488fdeb0545'], name='Retrieval Articles Scenario: Rephrased', seed_data=[], scenario_count=0, scenario_input=[], app_link='https://app.okareo.com/project/21b8a05b-f5b6-4578-a36a-fc264036d9d3/scenario/c7beefb0-126e-410f-9f4d-083280a04e72', additional_properties={})\n",
      "https://app.okareo.com/project/21b8a05b-f5b6-4578-a36a-fc264036d9d3/scenario/c7beefb0-126e-410f-9f4d-083280a04e72\n"
     ]
    }
   ],
   "source": [
    "from okareo_api_client.models import ScenarioType\n",
    "\n",
    "generated_scenario = okareo.generate_scenarios(\n",
    "    source_scenario=source_scenario.scenario_id,\n",
    "    name=\"Retrieval Articles Scenario: Rephrased\",\n",
    "    number_examples=1, # number of examples to generate per row in seed scenario\n",
    "    generation_type=ScenarioType.REPHRASE_INVARIANT\n",
    ")\n",
    "\n",
    "print(generated_scenario)\n",
    "print(generated_scenario.app_link)"
   ]
  },
  {
   "cell_type": "markdown",
   "metadata": {},
   "source": [
    "Now let's compare the generated scenarios to their corresponding seed scenarios."
   ]
  },
  {
   "cell_type": "code",
   "execution_count": 43,
   "metadata": {},
   "outputs": [],
   "source": [
    "# helper methods to compare the seed/generated articles\n",
    "def make_points_to_dict(points):\n",
    "    \"\"\"\n",
    "    note: using the `result`s as keys will not generalize to any scenario,\n",
    "    but it works for the scenarios in this notebook.\n",
    "    \"\"\"\n",
    "    d = {}\n",
    "    for p in points:\n",
    "        res = p.result if type(p.result) == str else p.result[0]\n",
    "        if res not in d.keys():\n",
    "            d[res] = [p.input_]\n",
    "        else:\n",
    "            d[res].append(p.input_)\n",
    "    return d\n",
    "\n",
    "def compare_seed_and_generated(seed_scenario, generated_scenario, number_examples=1):\n",
    "    gen_points = okareo.get_scenario_data_points(generated_scenario.scenario_id)\n",
    "    seed_points = okareo.get_scenario_data_points(seed_scenario.scenario_id)\n",
    "    gen_d = make_points_to_dict(gen_points)\n",
    "    seed_d = make_points_to_dict(seed_points)\n",
    "    N = len(gen_d)\n",
    "    for i, key in enumerate(seed_d.keys()):\n",
    "        print(\"-\"*8 + f\"Example {i}\" + \"-\"*8)\n",
    "        print(f\"Source: {seed_d[key][0]}\")\n",
    "        for j in range(len(gen_d[key])):\n",
    "            print(\"-\"*26)\n",
    "            print(f\"Generated #{j}: {gen_d[key][j]}\")\n",
    "    "
   ]
  },
  {
   "cell_type": "code",
   "execution_count": 22,
   "metadata": {},
   "outputs": [
    {
     "name": "stdout",
     "output_type": "stream",
     "text": [
      "--------Example 0--------\n",
      "Source: WebBizz is dedicated to providing our customers with a seamless online shopping experience. Our platform is designed with user-friendly interfaces to help you browse and select the best products suitable for your needs. We offer a wide range of products from top brands and new entrants, ensuring diversity and quality in our offerings. Our 24/7 customer support is ready to assist you with any queries, from product details, shipping timelines, to payment methods. We also have a dedicated FAQ section addressing common concerns. Always ensure you are logged in to enjoy personalized product recommendations and faster checkout processes.\n",
      "--------------------------\n",
      "Generated #0: WebBizz prioritizes a smooth digital shopping journey for our customers. Our platform is tailored with straightforward interfaces for easier product browsing and selection. We present a variety of items from leading brands and emerging ones, guaranteeing an assortment and excellence in our selections. Round-the-clock customer support is available to help with inquiries, from product specifics, dispatch timeframes, right down to payment procedures. We also feature a comprehensive FAQ section that addresses frequent questions. Always log in to benefit from tailor-made product suggestions and expedited checkout procedures.\n",
      "--------Example 1--------\n",
      "Source: Safety and security of your data is our top priority at WebBizz. Our platform employs state-of-the-art encryption methods ensuring your personal and financial information remains confidential. Our two-factor authentication at checkout provides an added layer of security. We understand the importance of timely deliveries, hence we've partnered with reliable logistics partners ensuring your products reach you in pristine condition. In case of any delays or issues, our tracking tool can provide real-time updates on your product's location. We believe in transparency and guarantee no hidden fees or charges during your purchase journey.\n",
      "--------------------------\n",
      "Generated #0: At WebBizz, we prioritize the protection and confidentiality of your data. We use the latest encryption techniques to keep your personal and financial information safe. An extra layer of security is provided through the two-factor authentication at checkout. To ensure your products are delivered on time and in excellent condition, we collaborate with dependable logistics partners. If there are any hold-ups or problems, our tracking tool will give you real-time updates on the location of your product. We are committed to openness and promise there will be no unexpected costs or fees during your buying process.\n",
      "--------Example 2--------\n",
      "Source: WebBizz places immense value on its dedicated clientele, recognizing their loyalty through the exclusive 'Premium Club' membership. This special program is designed to enrich the shopping experience, providing a suite of benefits tailored to our valued members. Among the advantages, members enjoy complimentary shipping, granting them a seamless and cost-effective way to receive their purchases. Additionally, the 'Premium Club' offers early access to sales, allowing members to avail themselves of promotional offers before they are opened to the general public.\n",
      "--------------------------\n",
      "Generated #0: WebBizz deeply appreciates its loyal customers and expresses this through the 'Premium Club' membership. This unique program enhances the shopping journey, extending customized benefits for our cherished members. Perks include free delivery, ensuring a smooth and wallet-friendly acquisition of purchases. 'Premium Club' also provides priority access to sales, enabling members to capitalize on promotional deals prior to public availability.\n",
      "--------Example 3--------\n",
      "Source: At WebBizz, we recognize that your shopping preferences can change over time. That's why we've introduced the 'Wishlist' feature, allowing you to save products that catch your eye, for easy access whenever you're ready to make a purchase. This not only saves time but ensures that the items you're interested in don't get lost in the shuffle of our extensive inventory. The Wishlist goes beyond simple convenience. When the time comes to buy, your selected items are just a click away, streamlining the shopping process. Furthermore, we offer special promotions on wishlisted items, providing an opportunity for savings on products you've shown interest in.\n",
      "--------------------------\n",
      "Generated #0: With the evolving shopping needs at WebBizz, we offer the 'Wishlist' function, enabling customers to keep track of items they are interested in and purchase them when ready. It is a time-saving feature that helps manage the extensive range of our products efficiently. It's more than just easy access - your wishlisted items are readily available at the time of buying, facilitating a smoother shopping journey. Also, we run special deals on items in your wishlist, giving you a chance to save money on the products you have in your wishlist.\n",
      "--------Example 4--------\n",
      "Source: At WebBizz, we value our customer's feedback and are always striving to improve. Our product review section allows customers to share their experiences and helps others make informed decisions. If unsatisfied with a purchase, our easy return and refund policy ensures hassle-free returns within 30 days of purchase. We also offer a loyalty program, WebBizz Rewards, where customers can earn points with each purchase and avail exclusive discounts. For any further assistance, our 'Live Chat' feature connects you instantly with a customer support representative. We thank you for choosing WebBizz and look forward to serving you again!\n",
      "--------------------------\n",
      "Generated #0: At WebBizz, customer satisfaction is our top priority. We have put in place a product review section for customers to share their experiences and help others make well-informed choices. If a customer isn't happy with a purchase, they can take advantage of our straightforward return and refund policy for hassle-free returns within a 30-day period. We also run a loyalty program, WebBizz Rewards, that allows customers to collect points with every purchase and receive unique discounts. If there's anything else you need, our 'Live Chat' feature gives you immediate access to a customer support representative. Thanks for picking WebBizz, we can't wait to serve you again!\n",
      "--------Example 5--------\n",
      "Source: Are you facing hurdles with technical glitches? At WebBizz, we understand how frustrating technical problems can be, which is why our 'Help Center' is meticulously designed to assist you through any difficulties you might encounter. Our Help Center is a treasure trove of resources, offering detailed step-by-step guides aimed at resolving common issues that our users face. Whether you're struggling to reset your password, having trouble logging in, or looking to track your recent orders, our comprehensive guides are here to navigate you through the process smoothly.\n",
      "--------------------------\n",
      "Generated #0: Having trouble with technical issues? At WebBizz, we know how vexing these problems can be. That's why our 'Help Center' is carefully built to guide you through any challenges you may come across. It is a wellspring of useful resources, providing detailed walkthroughs to address the average problems that our users confront. Regardless of whether you're having difficulties resetting your password, facing problems signing in, or wanting to keep tabs on your recent purchases, our extensive guides are in place to steer you through the operations without a hitch.\n",
      "--------Example 6--------\n",
      "Source: Navigating WebBizz is a breeze with our advanced search functionalities. Whether you're looking for a specific product or exploring our latest collections, our dynamic filters and sorting options will guide you effortlessly. You can sort products based on popularity, price, and ratings to find the perfect fit for your needs.\n",
      "--------------------------\n",
      "Generated #0: You'll find it easy to navigate WebBizz thanks to our superior search features. Looking for a particular product or checking out our newest collections becomes seamless with our adaptable filtering and sorting mechanisms. Arrange items in terms of popularity, cost, or ratings to discover what's ideal for you.\n",
      "--------Example 7--------\n",
      "Source: We're proud of our diverse product catalog that caters to customers globally. From eco-friendly products to exclusive designer collaborations, WebBizz curates its collections with care. We also frequently feature limited-time offers and flash sales, so keep an eye out for these exclusive deals!\n",
      "--------------------------\n",
      "Generated #0: At WebBizz, we take pride in our wide-ranging product catalog which is designed to serve customers all over the world. We pay special attention to curating ecologically mindful items along with exclusive designer partnerships. You should not miss our occasional limited-availability deals and quick sales, these are the deals you may be interested in!\n",
      "--------Example 8--------\n",
      "Source: Subscribing to our newsletter gives you a front-row seat to all things WebBizz. Be the first to know about upcoming sales, new product launches, and exciting company updates. Plus, subscribers get an exclusive monthly discount code as a thank you for being part of our community.\n",
      "--------------------------\n",
      "Generated #0: By signing up for our newsletter you gain direct access to everything happening at WebBizz. Stay up to date with our latest sales, newly launched products, and notable news about our company. Moreover, as a token of our gratitude, we provide an exclusive monthly discount code to our subscribers.\n",
      "--------Example 9--------\n",
      "Source: WebBizz believes in sustainability. We've integrated eco-friendly packaging and support brands that follow ethical production practices. By shopping with us, you're making a choice to support a greener planet. To learn more, visit our 'Sustainability Initiatives' page.\n",
      "--------------------------\n",
      "Generated #0: WebBizz is committed to sustainability. We use environmentally friendly packaging and back companies that uphold ethical manufacturing. Choosing to shop with us implies you're aiding a more sustainable planet. For further details, check out our 'Sustainability Initiatives' page.\n"
     ]
    }
   ],
   "source": [
    "compare_seed_and_generated(source_scenario, generated_scenario)"
   ]
  },
  {
   "cell_type": "markdown",
   "metadata": {},
   "source": [
    "## Term Relevance generator\n",
    "\n",
    "Suppose we want to generate a scenario based on keywords from the same `input`s. We can generate such a scenario using the Term Relevance generator, which extracts the most relevant terms based on [term frequency-inverse document frequency (tf-idf)](https://en.wikipedia.org/wiki/Tf%E2%80%93idf)."
   ]
  },
  {
   "cell_type": "code",
   "execution_count": null,
   "metadata": {},
   "outputs": [
    {
     "name": "stdout",
     "output_type": "stream",
     "text": [
      "https://app.okareo.com/project/21b8a05b-f5b6-4578-a36a-fc264036d9d3/scenario/3cb9aebd-5e12-4563-ae1f-e1873e277e6e\n"
     ]
    }
   ],
   "source": [
    "generated_scenario_tr = okareo.generate_scenarios(\n",
    "    source_scenario=source_scenario.scenario_id,\n",
    "    name=\"Retrieval Articles Scenario: Term Relevance\",\n",
    "    number_examples=1, # number of examples to generate per seed data\n",
    "    generation_type=ScenarioType.TERM_RELEVANCE_INVARIANT\n",
    ")\n",
    "\n",
    "print(generated_scenario_tr.app_link)"
   ]
  },
  {
   "cell_type": "code",
   "execution_count": null,
   "metadata": {},
   "outputs": [
    {
     "name": "stdout",
     "output_type": "stream",
     "text": [
      "--------Example 0--------\n",
      "Source: Navigating WebBizz is a breeze with our advanced search functionalities. Whether you're looking for a specific product or exploring our latest collections, our dynamic filters and sorting options will guide you effortlessly. You can sort products based on popularity, price, and ratings to find the perfect fit for your needs.\n",
      "--------------------------\n",
      "Generated #0: advanced breeze filters\n",
      "--------------------------\n",
      "Generated #1: dynamic breeze filters\n",
      "--------Example 1--------\n",
      "Source: We're proud of our diverse product catalog that caters to customers globally. From eco-friendly products to exclusive designer collaborations, WebBizz curates its collections with care. We also frequently feature limited-time offers and flash sales, so keep an eye out for these exclusive deals!\n",
      "--------------------------\n",
      "Generated #0: care catalog caters\n",
      "--------------------------\n",
      "Generated #1: exclusive catalog caters\n",
      "--------Example 2--------\n",
      "Source: Subscribing to our newsletter gives you a front-row seat to all things WebBizz. Be the first to know about upcoming sales, new product launches, and exciting company updates. Plus, subscribers get an exclusive monthly discount code as a thank you for being part of our community.\n",
      "--------------------------\n",
      "Generated #0: gives code community\n",
      "--------------------------\n",
      "Generated #1: exciting code community\n",
      "--------Example 3--------\n",
      "Source: WebBizz believes in sustainability. We've integrated eco-friendly packaging and support brands that follow ethical production practices. By shopping with us, you're making a choice to support a greener planet. To learn more, visit our 'Sustainability Initiatives' page.\n",
      "--------------------------\n",
      "Generated #0: support sustainability choice\n",
      "--------------------------\n",
      "Generated #1: ethical sustainability choice\n",
      "--------Example 4--------\n",
      "Source: WebBizz is dedicated to providing our customers with a seamless online shopping experience. Our platform is designed with user-friendly interfaces to help you browse and select the best products suitable for your needs. We offer a wide range of products from top brands and new entrants, ensuring diversity and quality in our offerings. Our 24/7 customer support is ready to assist you with any queries, from product details, shipping timelines, to payment methods. We also have a dedicated FAQ section addressing common concerns. Always ensure you are logged in to enjoy personalized product recommendations and faster checkout processes.\n",
      "--------------------------\n",
      "Generated #0: dedicated products product\n",
      "--------Example 5--------\n",
      "Source: Safety and security of your data is our top priority at WebBizz. Our platform employs state-of-the-art encryption methods ensuring your personal and financial information remains confidential. Our two-factor authentication at checkout provides an added layer of security. We understand the importance of timely deliveries, hence we've partnered with reliable logistics partners ensuring your products reach you in pristine condition. In case of any delays or issues, our tracking tool can provide real-time updates on your product's location. We believe in transparency and guarantee no hidden fees or charges during your purchase journey.\n",
      "--------------------------\n",
      "Generated #0: ensuring security art\n",
      "--------------------------\n",
      "Generated #1: confidential security art\n",
      "--------Example 6--------\n",
      "Source: WebBizz places immense value on its dedicated clientele, recognizing their loyalty through the exclusive 'Premium Club' membership. This special program is designed to enrich the shopping experience, providing a suite of benefits tailored to our valued members. Among the advantages, members enjoy complimentary shipping, granting them a seamless and cost-effective way to receive their purchases. Additionally, the 'Premium Club' offers early access to sales, allowing members to avail themselves of promotional offers before they are opened to the general public.\n",
      "--------------------------\n",
      "Generated #0: offers members club\n",
      "--------------------------\n",
      "Generated #1: complimentary members club\n",
      "--------Example 7--------\n",
      "Source: At WebBizz, we recognize that your shopping preferences can change over time. That's why we've introduced the 'Wishlist' feature, allowing you to save products that catch your eye, for easy access whenever you're ready to make a purchase. This not only saves time but ensures that the items you're interested in don't get lost in the shuffle of our extensive inventory. The Wishlist goes beyond simple convenience. When the time comes to buy, your selected items are just a click away, streamlining the shopping process. Furthermore, we offer special promotions on wishlisted items, providing an opportunity for savings on products you've shown interest in.\n",
      "--------------------------\n",
      "Generated #0: ve items time\n",
      "--------Example 8--------\n",
      "Source: At WebBizz, we value our customer's feedback and are always striving to improve. Our product review section allows customers to share their experiences and helps others make informed decisions. If unsatisfied with a purchase, our easy return and refund policy ensures hassle-free returns within 30 days of purchase. We also offer a loyalty program, WebBizz Rewards, where customers can earn points with each purchase and avail exclusive discounts. For any further assistance, our 'Live Chat' feature connects you instantly with a customer support representative. We thank you for choosing WebBizz and look forward to serving you again!\n",
      "--------------------------\n",
      "Generated #0: purchase customer customers\n",
      "--------Example 9--------\n",
      "Source: Are you facing hurdles with technical glitches? At WebBizz, we understand how frustrating technical problems can be, which is why our 'Help Center' is meticulously designed to assist you through any difficulties you might encounter. Our Help Center is a treasure trove of resources, offering detailed step-by-step guides aimed at resolving common issues that our users face. Whether you're struggling to reset your password, having trouble logging in, or looking to track your recent orders, our comprehensive guides are here to navigate you through the process smoothly.\n",
      "--------------------------\n",
      "Generated #0: step center guides\n",
      "--------------------------\n",
      "Generated #1: technical center guides\n"
     ]
    }
   ],
   "source": [
    "compare_seed_and_generated(source_scenario, generated_scenario_tr)"
   ]
  },
  {
   "cell_type": "markdown",
   "metadata": {},
   "source": [
    "## Seed Scenario Creation via Static Definition \n",
    "\n",
    "In addition to uploading a list of json objects from a `.jsonl` file, we can also statically define a scenario by explicitly defining `SeedData` objects. The following cell shows you the required imports and arguments to do this."
   ]
  },
  {
   "cell_type": "code",
   "execution_count": 58,
   "metadata": {},
   "outputs": [
    {
     "name": "stdout",
     "output_type": "stream",
     "text": [
      "https://app.okareo.com/project/21b8a05b-f5b6-4578-a36a-fc264036d9d3/scenario/930457a0-1153-4049-a397-56aa25c84101\n"
     ]
    }
   ],
   "source": [
    "from okareo_api_client.models import ScenarioSetCreate, SeedData\n",
    "\n",
    "# list of statically defined seed data\n",
    "seed_data=[\n",
    "    SeedData(input_=\"The quick brown fox jumps over the lazy dog\", result=\"result1\"),\n",
    "    SeedData(input_=\"The rain in Spain falls mainly on the plain\", result=\"result2\"),\n",
    "    SeedData(input_=\"Lorem ipsum dolor sit amet, consectetur adipiscing elit\", result=\"result3\")\n",
    "]\n",
    "\n",
    "# request for scenario set creation \n",
    "scenario_set_create = ScenarioSetCreate(\n",
    "    name=\"Statically Defined Scenario: Seed\",\n",
    "    generation_type=ScenarioType.SEED,\n",
    "    number_examples=len(seed_data), # number of examples to generate per seed data\n",
    "    seed_data=seed_data\n",
    ")\n",
    "\n",
    "source_scenario_static = okareo.create_scenario_set(scenario_set_create)\n",
    "\n",
    "print(source_scenario_static.app_link)"
   ]
  },
  {
   "cell_type": "markdown",
   "metadata": {},
   "source": [
    "## Mispelling generator\n",
    "\n",
    "Using this statically defined scenario, suppose we want to introduce errors into the `input`s. The Misspelling generator does this by emulating human typing error, i.e. by editing random characters in the input to different, adjacent keys on a typical QWERTY keyboard."
   ]
  },
  {
   "cell_type": "code",
   "execution_count": 59,
   "metadata": {},
   "outputs": [
    {
     "name": "stdout",
     "output_type": "stream",
     "text": [
      "ScenarioSetResponse(scenario_id='bb18a587-a191-427a-bb7d-7a4eb1f91224', project_id='21b8a05b-f5b6-4578-a36a-fc264036d9d3', time_created=datetime.datetime(2024, 3, 5, 23, 42, 33, 971629), type='COMMON_MISSPELLINGS', tags=['seed:930457a0-1153-4049-a397-56aa25c84101'], name='Statically Defined Scenario: Misspelling', seed_data=[], scenario_count=0, scenario_input=[], app_link='https://app.okareo.com/project/21b8a05b-f5b6-4578-a36a-fc264036d9d3/scenario/bb18a587-a191-427a-bb7d-7a4eb1f91224', additional_properties={})\n",
      "https://app.okareo.com/project/21b8a05b-f5b6-4578-a36a-fc264036d9d3/scenario/bb18a587-a191-427a-bb7d-7a4eb1f91224\n"
     ]
    }
   ],
   "source": [
    "generated_scenario_mis = okareo.generate_scenarios(\n",
    "    source_scenario=source_scenario_static.scenario_id,\n",
    "    name=\"Statically Defined Scenario: Misspelling\",\n",
    "    number_examples=2, # number of examples to generate per seed data\n",
    "    generation_type=ScenarioType.COMMON_MISSPELLINGS\n",
    ")\n",
    "\n",
    "print(generated_scenario_mis)\n",
    "print(generated_scenario_mis.app_link)"
   ]
  },
  {
   "cell_type": "code",
   "execution_count": 60,
   "metadata": {},
   "outputs": [
    {
     "name": "stdout",
     "output_type": "stream",
     "text": [
      "--------Example 0--------\n",
      "Source: The quick brown fox jumps over the lazy dog\n",
      "--------------------------\n",
      "Generated #0: The quick brown fox jumpd over the lazy dog\n",
      "--------------------------\n",
      "Generated #1: The quick brown fox jumps over the lazy dpg\n",
      "--------Example 1--------\n",
      "Source: The rain in Spain falls mainly on the plain\n",
      "--------------------------\n",
      "Generated #0: The rain in Spain falld mainly on the plain\n",
      "--------------------------\n",
      "Generated #1: The rain in Spain fslls mainly on the plain\n",
      "--------Example 2--------\n",
      "Source: Lorem ipsum dolor sit amet, consectetur adipiscing elit\n",
      "--------------------------\n",
      "Generated #0: Lorem ipsum dolor sit amet, consectetue adipiscing elit\n",
      "--------------------------\n",
      "Generated #1: Lorwm ipsum dolor sit amet, consectetur adipiscing elit\n"
     ]
    }
   ],
   "source": [
    "compare_seed_and_generated(source_scenario_static, generated_scenario_mis)"
   ]
  },
  {
   "cell_type": "markdown",
   "metadata": {},
   "source": [
    "## Contraction generator\n",
    "\n",
    "Contractions and abbreviations can occur commonly in human-written documents. The Contraction generator lets you generate a scenario that tries to find common abbreviations of strings in the `input`s."
   ]
  },
  {
   "cell_type": "code",
   "execution_count": 63,
   "metadata": {},
   "outputs": [
    {
     "name": "stdout",
     "output_type": "stream",
     "text": [
      "https://app.okareo.com/project/21b8a05b-f5b6-4578-a36a-fc264036d9d3/scenario/03f9e05e-8c37-4f00-b73d-03ed8af1530d\n"
     ]
    }
   ],
   "source": [
    "generated_scenario_con = okareo.generate_scenarios(\n",
    "    source_scenario=source_scenario_static.scenario_id,\n",
    "    name=\"Statically Defined Scenario: Contractions\",\n",
    "    number_examples=1, # number of examples to generate per seed data\n",
    "    generation_type=ScenarioType.COMMON_CONTRACTIONS\n",
    ")\n",
    "\n",
    "print(generated_scenario_con.app_link)"
   ]
  },
  {
   "cell_type": "code",
   "execution_count": 64,
   "metadata": {},
   "outputs": [
    {
     "name": "stdout",
     "output_type": "stream",
     "text": [
      "--------Example 0--------\n",
      "Source: The quick brown fox jumps over the lazy dog\n",
      "--------------------------\n",
      "Generated #0: The quck brown fox jumps over the lazy dog\n",
      "--------Example 1--------\n",
      "Source: The rain in Spain falls mainly on the plain\n",
      "--------------------------\n",
      "Generated #0: The rain in Spain falls mainl on the plain\n",
      "--------Example 2--------\n",
      "Source: Lorem ipsum dolor sit amet, consectetur adipiscing elit\n",
      "--------------------------\n",
      "Generated #0: Lorem ipsum dolor sit amet, consecttur adipiscing elit\n"
     ]
    }
   ],
   "source": [
    "compare_seed_and_generated(source_scenario_static, generated_scenario_con)"
   ]
  },
  {
   "cell_type": "markdown",
   "metadata": {},
   "source": [
    "## Reverse Question generator\n",
    "\n",
    "Suppose we would like to generate some common user queries that are based on the original `input`s. The Reverse Question generator enables this by generating questions where the answer is contained in the original input."
   ]
  },
  {
   "cell_type": "code",
   "execution_count": 29,
   "metadata": {},
   "outputs": [
    {
     "name": "stdout",
     "output_type": "stream",
     "text": [
      "ScenarioSetResponse(scenario_id='964dd104-8a21-4d16-b00c-afc85577bb4d', project_id='21b8a05b-f5b6-4578-a36a-fc264036d9d3', time_created=datetime.datetime(2024, 3, 5, 22, 54, 56, 242334), type='TEXT_REVERSE_QUESTION', tags=['seed:983e5d3f-d6bd-4d8d-a74e-c488fdeb0545'], name='Retrieval Articles Scenario: Reverse Question', seed_data=[], scenario_count=0, scenario_input=[], app_link='https://app.okareo.com/project/21b8a05b-f5b6-4578-a36a-fc264036d9d3/scenario/964dd104-8a21-4d16-b00c-afc85577bb4d', additional_properties={})\n",
      "https://app.okareo.com/project/21b8a05b-f5b6-4578-a36a-fc264036d9d3/scenario/964dd104-8a21-4d16-b00c-afc85577bb4d\n"
     ]
    }
   ],
   "source": [
    "generated_scenario_question = okareo.generate_scenarios(\n",
    "    source_scenario=source_scenario.scenario_id,\n",
    "    name=\"Retrieval Articles Scenario: Reverse Question\",\n",
    "    number_examples=1, # number of examples to generate per seed data\n",
    "    generation_type=ScenarioType.TEXT_REVERSE_QUESTION\n",
    ")\n",
    "\n",
    "print(generated_scenario_question)\n",
    "print(generated_scenario_question.app_link)"
   ]
  },
  {
   "cell_type": "code",
   "execution_count": 44,
   "metadata": {},
   "outputs": [
    {
     "name": "stdout",
     "output_type": "stream",
     "text": [
      "--------Example 0--------\n",
      "Source: Navigating WebBizz is a breeze with our advanced search functionalities. Whether you're looking for a specific product or exploring our latest collections, our dynamic filters and sorting options will guide you effortlessly. You can sort products based on popularity, price, and ratings to find the perfect fit for your needs.\n",
      "--------------------------\n",
      "Generated #0: What features does WebBizz provide to enhance your browsing experience?\n",
      "--------Example 1--------\n",
      "Source: We're proud of our diverse product catalog that caters to customers globally. From eco-friendly products to exclusive designer collaborations, WebBizz curates its collections with care. We also frequently feature limited-time offers and flash sales, so keep an eye out for these exclusive deals!\n",
      "--------------------------\n",
      "Generated #0: Which types of products does WebBizz pride itself in offering to its global customers?\n",
      "--------Example 2--------\n",
      "Source: Subscribing to our newsletter gives you a front-row seat to all things WebBizz. Be the first to know about upcoming sales, new product launches, and exciting company updates. Plus, subscribers get an exclusive monthly discount code as a thank you for being part of our community.\n",
      "--------------------------\n",
      "Generated #0: What special perk do subscribers to the WebBizz newsletter enjoy every month?\n",
      "--------Example 3--------\n",
      "Source: WebBizz believes in sustainability. We've integrated eco-friendly packaging and support brands that follow ethical production practices. By shopping with us, you're making a choice to support a greener planet. To learn more, visit our 'Sustainability Initiatives' page.\n",
      "--------------------------\n",
      "Generated #0: What kind of packaging methods does WebBizz utilize to promote environmental sustainability?\n",
      "--------Example 4--------\n",
      "Source: WebBizz is dedicated to providing our customers with a seamless online shopping experience. Our platform is designed with user-friendly interfaces to help you browse and select the best products suitable for your needs. We offer a wide range of products from top brands and new entrants, ensuring diversity and quality in our offerings. Our 24/7 customer support is ready to assist you with any queries, from product details, shipping timelines, to payment methods. We also have a dedicated FAQ section addressing common concerns. Always ensure you are logged in to enjoy personalized product recommendations and faster checkout processes.\n",
      "--------------------------\n",
      "Generated #0: Can you tell me about a platform I could use for a user-friendly online shopping experience, that provides 24/7 customer support and personalized product recommendations?\n",
      "--------Example 5--------\n",
      "Source: Safety and security of your data is our top priority at WebBizz. Our platform employs state-of-the-art encryption methods ensuring your personal and financial information remains confidential. Our two-factor authentication at checkout provides an added layer of security. We understand the importance of timely deliveries, hence we've partnered with reliable logistics partners ensuring your products reach you in pristine condition. In case of any delays or issues, our tracking tool can provide real-time updates on your product's location. We believe in transparency and guarantee no hidden fees or charges during your purchase journey.\n",
      "--------------------------\n",
      "Generated #0: What measures does WebBizz take to ensure the security of personal and financial data?\n",
      "--------Example 6--------\n",
      "Source: WebBizz places immense value on its dedicated clientele, recognizing their loyalty through the exclusive 'Premium Club' membership. This special program is designed to enrich the shopping experience, providing a suite of benefits tailored to our valued members. Among the advantages, members enjoy complimentary shipping, granting them a seamless and cost-effective way to receive their purchases. Additionally, the 'Premium Club' offers early access to sales, allowing members to avail themselves of promotional offers before they are opened to the general public.\n",
      "--------------------------\n",
      "Generated #0: What are some exclusive benefits offered to the 'Premium Club' members by WebBizz?\n",
      "--------Example 7--------\n",
      "Source: At WebBizz, we recognize that your shopping preferences can change over time. That's why we've introduced the 'Wishlist' feature, allowing you to save products that catch your eye, for easy access whenever you're ready to make a purchase. This not only saves time but ensures that the items you're interested in don't get lost in the shuffle of our extensive inventory. The Wishlist goes beyond simple convenience. When the time comes to buy, your selected items are just a click away, streamlining the shopping process. Furthermore, we offer special promotions on wishlisted items, providing an opportunity for savings on products you've shown interest in.\n",
      "--------------------------\n",
      "Generated #0: How does the 'Wishlist' feature at WebBizz aid in enhancing the shopping experience?\n",
      "--------Example 8--------\n",
      "Source: At WebBizz, we value our customer's feedback and are always striving to improve. Our product review section allows customers to share their experiences and helps others make informed decisions. If unsatisfied with a purchase, our easy return and refund policy ensures hassle-free returns within 30 days of purchase. We also offer a loyalty program, WebBizz Rewards, where customers can earn points with each purchase and avail exclusive discounts. For any further assistance, our 'Live Chat' feature connects you instantly with a customer support representative. We thank you for choosing WebBizz and look forward to serving you again!\n",
      "--------------------------\n",
      "Generated #0: Can you name a company that allows returns within 30 days of purchase and also has a loyalty program called 'WebBizz Rewards'?\n",
      "--------Example 9--------\n",
      "Source: Are you facing hurdles with technical glitches? At WebBizz, we understand how frustrating technical problems can be, which is why our 'Help Center' is meticulously designed to assist you through any difficulties you might encounter. Our Help Center is a treasure trove of resources, offering detailed step-by-step guides aimed at resolving common issues that our users face. Whether you're struggling to reset your password, having trouble logging in, or looking to track your recent orders, our comprehensive guides are here to navigate you through the process smoothly.\n",
      "--------------------------\n",
      "Generated #0: What resources does WebBizz's Help Center offer to assist users with common issues?\n"
     ]
    }
   ],
   "source": [
    "compare_seed_and_generated(source_scenario, generated_scenario_question)"
   ]
  },
  {
   "cell_type": "markdown",
   "metadata": {},
   "source": [
    "## Conditional generator + Chaining generators\n",
    "\n",
    "Now suppose we would like to rephrase the questions we generated by the Reverse Question generator. The Conditional generator tries to do this by adding a qualifying phrase to the beginning of each question. \n",
    "\n",
    "Observe that the `source_scenario` argument below uses the output of the previous generation (`generated_scenario_question`) meaning the generated Reverse Question scenario is the input to the Conditional generator. This is one method for *chaining* generators together, which can let you layer different generators on one another and create composite generations."
   ]
  },
  {
   "cell_type": "code",
   "execution_count": 68,
   "metadata": {},
   "outputs": [
    {
     "name": "stdout",
     "output_type": "stream",
     "text": [
      "https://app.okareo.com/project/21b8a05b-f5b6-4578-a36a-fc264036d9d3/scenario/3e2463fc-898b-493a-b8f2-3f4951e1dc1e\n"
     ]
    }
   ],
   "source": [
    "# generate a Conditional scenario with the generated Reverse Question scenario as a source\n",
    "generated_scenario_conditional = okareo.generate_scenarios(\n",
    "    source_scenario=generated_scenario_question.scenario_id,\n",
    "    name=\"Retrieval Articles Scenario: Conditional\",\n",
    "    number_examples=1, # number of examples to generate per seed data\n",
    "    generation_type=ScenarioType.CONDITIONAL\n",
    ")\n",
    "\n",
    "print(generated_scenario_conditional.app_link)"
   ]
  },
  {
   "cell_type": "code",
   "execution_count": 69,
   "metadata": {},
   "outputs": [
    {
     "name": "stdout",
     "output_type": "stream",
     "text": [
      "--------Example 0--------\n",
      "Source: Can you tell me about a platform I could use for a user-friendly online shopping experience, that provides 24/7 customer support and personalized product recommendations?\n",
      "--------------------------\n",
      "Generated #0: When searching for a platform that provides a user-friendly shopping experience, along with 24/7 customer support and personalized product recommendations, could you recommend one?\n",
      "--------Example 1--------\n",
      "Source: What measures does WebBizz take to ensure the security of personal and financial data?\n",
      "--------------------------\n",
      "Generated #0: Given the measures that WebBizz employs, how is the security of personal and financial data ensured?\n",
      "--------Example 2--------\n",
      "Source: What are some exclusive benefits offered to the 'Premium Club' members by WebBizz?\n",
      "--------------------------\n",
      "Generated #0: Given the 'Premium Club' membership at WebBizz, what would be some exclusive benefits offered?\n",
      "--------Example 3--------\n",
      "Source: How does the 'Wishlist' feature at WebBizz aid in enhancing the shopping experience?\n",
      "--------------------------\n",
      "Generated #0: Considering the 'Wishlist' feature at WebBizz, how might it assist in improving the shopping experience?\n",
      "--------Example 4--------\n",
      "Source: Can you name a company that allows returns within 30 days of purchase and also has a loyalty program called 'WebBizz Rewards'?\n",
      "--------------------------\n",
      "Generated #0: If a company allows product returns within 30 days of purchase and operates a loyalty program named 'WebBizz Rewards', can you provide its name?\n",
      "--------Example 5--------\n",
      "Source: What resources does WebBizz's Help Center offer to assist users with common issues?\n",
      "--------------------------\n",
      "Generated #0: Given your need for assistance, what resources might you expect to find in WebBizz's Help Center to help with common issues?\n",
      "--------Example 6--------\n",
      "Source: What features does WebBizz provide to enhance your browsing experience?\n",
      "--------------------------\n",
      "Generated #0: Given your interest in enhancing your browsing experience, what features does WebBizz provide?\n",
      "--------Example 7--------\n",
      "Source: Which types of products does WebBizz pride itself in offering to its global customers?\n",
      "--------------------------\n",
      "Generated #0: Given your interest in WebBizz, what sort of products would you expect the company takes pride in offering to its worldwide customers?\n",
      "--------Example 8--------\n",
      "Source: What special perk do subscribers to the WebBizz newsletter enjoy every month?\n",
      "--------------------------\n",
      "Generated #0: Having a subscription to the WebBizz newsletter, what exclusive advantage could one expect to enjoy every month?\n",
      "--------Example 9--------\n",
      "Source: What kind of packaging methods does WebBizz utilize to promote environmental sustainability?\n",
      "--------------------------\n",
      "Generated #0: Dealing with sustainability goals, what packaging methods does WebBizz utilize to promote an eco-friendly environment?\n"
     ]
    }
   ],
   "source": [
    "compare_seed_and_generated(generated_scenario_question, generated_scenario_conditional)"
   ]
  }
 ],
 "metadata": {
  "kernelspec": {
   "display_name": "dev",
   "language": "python",
   "name": "python3"
  },
  "language_info": {
   "codemirror_mode": {
    "name": "ipython",
    "version": 3
   },
   "file_extension": ".py",
   "mimetype": "text/x-python",
   "name": "python",
   "nbconvert_exporter": "python",
   "pygments_lexer": "ipython3",
   "version": "3.11.5"
  }
 },
 "nbformat": 4,
 "nbformat_minor": 2
}
